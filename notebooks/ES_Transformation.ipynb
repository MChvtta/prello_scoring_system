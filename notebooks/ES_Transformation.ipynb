{
 "cells": [
  {
   "cell_type": "markdown",
   "metadata": {
    "id": "i0j9hJqlFaEc",
    "jp-MarkdownHeadingCollapsed": true
   },
   "source": [
    "# ⚙️ **CLEANED DATA IMPORT**"
   ]
  },
  {
   "cell_type": "code",
   "execution_count": null,
   "metadata": {},
   "outputs": [],
   "source": [
    "import pandas as pd\n",
    "import numpy as np\n",
    "import os\n",
    "\n",
    "DATA_PATH = '../data/cleaned'\n",
    "\n",
    "POI_FILENAME = 'poi_df_cleaned.csv'\n",
    "SITE_FILENAME = 'site_df_cleaned.csv'\n",
    "SALARY_FILENAME = 'salary_df_cleaned.csv'\n",
    "GEOREF_FILENAME = 'georef_df_cleaned.csv'\n",
    "STOCK_FILENAME = 'stock_df_cleaned.csv'\n",
    "SALES_FILENAME = 'sales_df_cleaned.csv'\n",
    "POPULATION_FILENAME = 'population_df_cleaned.csv'\n",
    "POVERTY_FILENAME = 'poverty_df_cleaned.csv'\n",
    "REAL_ESTATE_FILENAME = 'real_estate_df_cleaned.csv'\n",
    "\n",
    "poi_df = pd.read_csv(os.path.join(DATA_PATH, POI_FILENAME))\n",
    "site_df = pd.read_csv(os.path.join(DATA_PATH, SITE_FILENAME))\n",
    "salary_df = pd.read_csv(os.path.join(DATA_PATH, SALARY_FILENAME))\n",
    "georef_df = pd.read_csv(os.path.join(DATA_PATH, GEOREF_FILENAME))\n",
    "stock_df = pd.read_csv(os.path.join(DATA_PATH, STOCK_FILENAME))\n",
    "sales_df = pd.read_csv(os.path.join(DATA_PATH, SALES_FILENAME))\n",
    "population_df = pd.read_csv(os.path.join(DATA_PATH, POPULATION_FILENAME))\n",
    "poverty_df = pd.read_csv(os.path.join(DATA_PATH, POVERTY_FILENAME))\n",
    "real_estate_df = pd.read_csv(os.path.join(DATA_PATH, REAL_ESTATE_FILENAME))"
   ]
  },
  {
   "cell_type": "code",
   "execution_count": null,
   "metadata": {},
   "outputs": [],
   "source": [
    "# DF CLEANED CHECK\n",
    "poi_df.info()\n",
    "site_df.info()\n",
    "salary_df.info()\n",
    "georef_df.info() \n",
    "stock_df.info() \n",
    "sales_df.info()\n",
    "population_df.info() \n",
    "poverty_df.info()\n",
    "real_estate_df.info()"
   ]
  },
  {
   "cell_type": "markdown",
   "metadata": {
    "id": "FZ-ON4l9sVwu"
   },
   "source": [
    "### CLEANING"
   ]
  },
  {
   "cell_type": "markdown",
   "metadata": {
    "id": "FZ-ON4l9sVwu"
   },
   "source": [
    "##### DF_SALES CLEANING"
   ]
  },
  {
   "cell_type": "code",
   "execution_count": null,
   "metadata": {
    "id": "FclUrSzCGdSX"
   },
   "outputs": [],
   "source": [
    "# SALES_DF: Suppression des doublons > nous passons de 4,3M de lignes à 3,821M\n",
    "sales_df = sales_df.drop_duplicates()\n",
    "sales_df.shape"
   ]
  },
  {
   "cell_type": "code",
   "execution_count": null,
   "metadata": {},
   "outputs": [],
   "source": [
    "# SALES_DF: Check si les doublons on été enlevés : OK\n",
    "sales_df.duplicated().sum()"
   ]
  },
  {
   "cell_type": "code",
   "execution_count": null,
   "metadata": {},
   "outputs": [],
   "source": [
    "# SALES_DF: Suppression des prix au m2 supérieur à 30K€ et inférieur à 1K€ > nous passons à 3,3399M de lignes\n",
    "sales_df = sales_df[(sales_df['sales_price_m2'] <= 30000) & (sales_df['sales_price_m2'] >= 500)]\n",
    "sales_df.shape"
   ]
  },
  {
   "cell_type": "code",
   "execution_count": null,
   "metadata": {},
   "outputs": [],
   "source": [
    "# SALES_DF:\n",
    "s2 = (sales_df['sales_amount']\n",
    "             .value_counts()\n",
    "             .loc[sales_df['sales_amount'].value_counts() > 10])"
   ]
  },
  {
   "cell_type": "code",
   "execution_count": null,
   "metadata": {},
   "outputs": [],
   "source": [
    "# SALES_DF:\n",
    "sales_df = sales_df[sales_df['sales_amount'] > 1] # on enlève les 166 fois ou sales_amount = 1€\n",
    "sales_df.shape"
   ]
  },
  {
   "cell_type": "code",
   "execution_count": null,
   "metadata": {},
   "outputs": [],
   "source": [
    "# SALES_DF: changement du type sales_date en datetime\n",
    "sales_df['sales_date'] = pd.to_datetime(sales_df['sales_date'])\n",
    "sales_df.info()"
   ]
  },
  {
   "cell_type": "markdown",
   "metadata": {
    "id": "XYnKDVU0sb0S"
   },
   "source": [
    "##### DF_SALARY CLEANING"
   ]
  },
  {
   "cell_type": "code",
   "execution_count": null,
   "metadata": {},
   "outputs": [],
   "source": [
    "# DF_SALARY: ROUND avg_net_salary\n",
    "salary_df['avg_net_salary'] = salary_df['avg_net_salary'].round()\n",
    "salary_df.head()"
   ]
  },
  {
   "cell_type": "markdown",
   "metadata": {
    "id": "XYnKDVU0sb0S"
   },
   "source": [
    "##### DF_REAL_ESTATE CLEANING"
   ]
  },
  {
   "cell_type": "code",
   "execution_count": null,
   "metadata": {},
   "outputs": [],
   "source": [
    "# DF_REAL_ESTATE: suppression des nulls\n",
    "real_estate_df = real_estate_df.dropna(axis=1)\n",
    "real_estate_df.isnull().sum()"
   ]
  },
  {
   "cell_type": "markdown",
   "metadata": {
    "id": "XYnKDVU0sb0S"
   },
   "source": [
    "##### DF_SITE CLEANING"
   ]
  },
  {
   "cell_type": "code",
   "execution_count": null,
   "metadata": {},
   "outputs": [],
   "source": [
    "# SITE_DF: tri avec les données entre parenthèses de la colonne \"name\" inclues\n",
    "\n",
    "import re\n",
    "\n",
    "site_df['data_inside_parenthesis'] = site_df['name'].apply(lambda x: re.search(r'\\((.*?)\\)', x).group(1) if re.search(r'\\((.*?)\\)', x) else '')\n",
    "site_df\n",
    "\n",
    "#suppression de la colonne \"name\" dans un second temps\n",
    "\n",
    "site_df.drop(columns=[\"name\"])\n",
    "\n",
    "#check pour savoir les informations présentes dans la colonne \"poi\", et si elles correspondent aux valeurs présentes dans la colonne \"type\"\n",
    "print (site_df[\"poi\"].value_counts())\n",
    "print (site_df[\"data_inside_parenthesis\"].value_counts().head(50))\n",
    "\n",
    "#faire un mapping des colonnes poi, qui sont en fait plus pertinentes que celles de la colonne \"type\""
   ]
  },
  {
   "cell_type": "code",
   "execution_count": null,
   "metadata": {},
   "outputs": [],
   "source": [
    "# SITE_DF: création d'un dictionnaire intégrant toutes les différentes valeurs inclues dans la colonne \"poi\"\n",
    "s = site_df[\"poi\"].value_counts()[site_df[\"poi\"]]\n",
    "{k: \"toto\" for k in s.index}"
   ]
  },
  {
   "cell_type": "code",
   "execution_count": null,
   "metadata": {},
   "outputs": [],
   "source": [
    "# SITE_DF: création d'un dictionnaire avec les catégories associées aux valeurs de la colonne POI\n",
    "\n",
    "category_dict = {'1': 'Patrimoine',\n",
    " '2': 'Patrimoine',\n",
    " 'zoo': 'Entertainment',\n",
    " 'dune': 'Nature',\n",
    " 'park': 'Nature',\n",
    " 'rock': 'Nature',\n",
    " 'sand': 'Nature',\n",
    " 'beach': 'Nature',\n",
    " 'cliff': 'Nature',\n",
    " 'islet': 'Nature',\n",
    " 'ridge': 'Nature',\n",
    " 'water': 'Nature',\n",
    " 'wreck': 'Patrimoine',\n",
    " 'casino': 'Entertainment',\n",
    " 'castle': 'Patrimoine',\n",
    " 'cinema': 'Culture',\n",
    " 'forest': 'Nature',\n",
    " 'geyser': 'Nature',\n",
    " 'marina': 'Nature',\n",
    " 'meadow': 'Nature',\n",
    " 'museum': 'Culture',\n",
    " 'valley': 'Nature',\n",
    " 'theatre': 'Culture',\n",
    " 'volcano': 'Nature',\n",
    " 'wetland': 'Nature',\n",
    " 'heritage': 'Patrimoine',\n",
    " 'monument': 'Patrimoine',\n",
    " 'vineyard': 'Nature',\n",
    " 'viewpoint': 'Nature',\n",
    " 'waterfall': 'Nature',\n",
    " 'allotments': 'Patrimoine',\n",
    " 'attraction': 'Entertainment',\n",
    " 'theme_park': 'Entertainment',\n",
    " 'water_park': 'Entertainment',\n",
    " 'golf_course': 'Entertainment',\n",
    " 'cave_entrance': 'Culture',\n",
    " 'national_park': 'Nature',\n",
    " 'protected_area': 'Nature'}"
   ]
  },
  {
   "cell_type": "code",
   "execution_count": null,
   "metadata": {},
   "outputs": [],
   "source": [
    "# SITE_DF: création de la colonne \"catégorie\"\n",
    "site_df[\"Category\"] = site_df[\"poi\"].map(category_dict)\n",
    "site_df"
   ]
  },
  {
   "cell_type": "code",
   "execution_count": null,
   "metadata": {},
   "outputs": [],
   "source": [
    "poi_df.info()\n",
    "site_df.info()\n",
    "salary_df.info()\n",
    "georef_df.info() \n",
    "stock_df.info() \n",
    "sales_df.info()\n",
    "population_df.info() \n",
    "poverty_df.info()\n",
    "real_estate_df.info()"
   ]
  },
  {
   "cell_type": "code",
   "execution_count": null,
   "metadata": {},
   "outputs": [],
   "source": [
    "poi_df.head(1)"
   ]
  },
  {
   "cell_type": "code",
   "execution_count": null,
   "metadata": {},
   "outputs": [],
   "source": [
    "site_df.head(1) "
   ]
  },
  {
   "cell_type": "code",
   "execution_count": null,
   "metadata": {},
   "outputs": [],
   "source": [
    "salary_df.head(1)"
   ]
  },
  {
   "cell_type": "code",
   "execution_count": null,
   "metadata": {},
   "outputs": [],
   "source": [
    "georef_df.head(1) "
   ]
  },
  {
   "cell_type": "code",
   "execution_count": null,
   "metadata": {},
   "outputs": [],
   "source": [
    "stock_df.head(1) "
   ]
  },
  {
   "cell_type": "code",
   "execution_count": null,
   "metadata": {},
   "outputs": [],
   "source": [
    "sales_df.head(1)"
   ]
  },
  {
   "cell_type": "code",
   "execution_count": null,
   "metadata": {},
   "outputs": [],
   "source": [
    "population_df.head(1) "
   ]
  },
  {
   "cell_type": "code",
   "execution_count": null,
   "metadata": {},
   "outputs": [],
   "source": [
    "poverty_df.head(1)"
   ]
  },
  {
   "cell_type": "code",
   "execution_count": null,
   "metadata": {},
   "outputs": [],
   "source": [
    "real_estate_df.head(1)"
   ]
  },
  {
   "cell_type": "markdown",
   "metadata": {
    "id": "i0j9hJqlFaEc"
   },
   "source": [
    "# 🧪 **DATA TRANSFORMATION**"
   ]
  },
  {
   "cell_type": "markdown",
   "metadata": {
    "id": "XYnKDVU0sb0S"
   },
   "source": [
    "### KPIS AGGREGATION BY DEPARTMENT"
   ]
  },
  {
   "cell_type": "markdown",
   "metadata": {
    "id": "XYnKDVU0sb0S",
    "jp-MarkdownHeadingCollapsed": true
   },
   "source": [
    "##### 1. TOURISM"
   ]
  },
  {
   "cell_type": "code",
   "execution_count": null,
   "metadata": {},
   "outputs": [],
   "source": [
    "#création de tables permettant de scorer le potentiel touristique de chaque département\n",
    "site_df = site_df.merge (georef_df, on=[\"municipality_code\"])\n",
    "site_df.head(5)"
   ]
  },
  {
   "cell_type": "code",
   "execution_count": null,
   "metadata": {},
   "outputs": [],
   "source": [
    "#sélection des colonnes dont on aura besoin pour le calcul\n",
    "site_df_department = site_df[[\"poi\", \"name\", \"municipality_code\", \"importance\", \"name_reprocessed\", \"department_name\"]]\n",
    "site_df_department"
   ]
  },
  {
   "cell_type": "code",
   "execution_count": null,
   "metadata": {},
   "outputs": [],
   "source": [
    "#groupement par département, puis classement par le département ayant le + d'atouts touristiques\n",
    "group_site = site_df_department.groupby(\"department_name\")[[\"importance\"]].sum()\n",
    "group_site\n",
    "group_site.sort_values(\"importance\", ascending =False)"
   ]
  },
  {
   "cell_type": "code",
   "execution_count": null,
   "metadata": {},
   "outputs": [],
   "source": [
    "#même calcul que précédemment, mais pour la partie concernant les logements/lieux de villégiature\n",
    "poi_df = poi_df.merge (georef_df, on=[\"municipality_code\"])\n",
    "poi_df.head(5)"
   ]
  },
  {
   "cell_type": "code",
   "execution_count": null,
   "metadata": {},
   "outputs": [],
   "source": [
    "#sélection des colonnes dont on aura besoin pour le calcul\n",
    "poi_df_department = poi_df[[\"poi\", \"municipality_code\", \"importance\", \"department_name\"]]\n",
    "poi_df_department\n"
   ]
  },
  {
   "cell_type": "code",
   "execution_count": null,
   "metadata": {},
   "outputs": [],
   "source": [
    "#groupement par département, puis classement par le département ayant le + de logements/lieux de villégiature\n",
    "group_poi = poi_df_department.groupby(\"department_name\")[[\"importance\"]].sum()\n",
    "group_poi\n",
    "group_poi.sort_values(\"importance\", ascending =False)"
   ]
  },
  {
   "cell_type": "code",
   "execution_count": null,
   "metadata": {
    "scrolled": true
   },
   "outputs": [],
   "source": [
    "#ajout des 2 calculs d'importance\n",
    "department_merged_df = group_poi.merge (group_site, on=[\"department_name\"])\n",
    "department_merged_df[\"somme_importance\"]=department_merged_df[\"importance_x\"]+department_merged_df[\"importance_y\"]\n",
    "department_merged_df = department_merged_df.drop(columns=[\"importance_x\", \"importance_y\"])\n",
    "department_merged_df\n",
    "department_merged_df.sort_values(\"somme_importance\", ascending =False)\n"
   ]
  },
  {
   "cell_type": "markdown",
   "metadata": {
    "id": "XYnKDVU0sb0S"
   },
   "source": [
    "##### 2. REAL ESTATE"
   ]
  },
  {
   "cell_type": "code",
   "execution_count": null,
   "metadata": {},
   "outputs": [],
   "source": [
    "# 2.1 calcul du loyer au m2 médian par municipality_code\n",
    "rental_med = real_estate_df [[\"municipality_code\", \"rental_med_all\"]]\n",
    "rental_med"
   ]
  },
  {
   "cell_type": "code",
   "execution_count": null,
   "metadata": {},
   "outputs": [],
   "source": [
    "sales_df"
   ]
  },
  {
   "cell_type": "code",
   "execution_count": null,
   "metadata": {},
   "outputs": [],
   "source": [
    "#calcul du prix d'achat au m2 médian par municipality_code\n",
    "sales_df\n",
    "sales_df_grouped = sales_df.groupby([\"municipality_code\"])[[\"sales_amount\", \"surface\", \"premise_type\"]].agg({\"sales_amount\": \"sum\", \"surface\": \"sum\", \"premise_type\": \"count\"})\n",
    "sales_df_grouped = pd.DataFrame (sales_df_grouped)\n",
    "sales_df_grouped"
   ]
  },
  {
   "cell_type": "code",
   "execution_count": null,
   "metadata": {},
   "outputs": [],
   "source": [
    "#jointure pour rajouter dans cette table le loyer médian par municipality_code\n",
    "sales_df\n",
    "real_estate_grouped = sales_df_grouped.merge(rental_med, on=\"municipality_code\")\n",
    "real_estate_grouped"
   ]
  },
  {
   "cell_type": "code",
   "execution_count": null,
   "metadata": {},
   "outputs": [],
   "source": [
    "#ajout du nom du département correspondant à chaque municipality code\n",
    "real_estate_department = real_estate_grouped.merge(georef_df, on=\"municipality_code\")\n",
    "real_estate_department\n",
    "real_estate_department = real_estate_department [[\"municipality_code\", \"sales_amount\", \"surface\", \"rental_med_all\", \"department_name\", \"premise_type\"]]"
   ]
  },
  {
   "cell_type": "code",
   "execution_count": null,
   "metadata": {},
   "outputs": [],
   "source": [
    "real_estate_department"
   ]
  },
  {
   "cell_type": "code",
   "execution_count": null,
   "metadata": {},
   "outputs": [],
   "source": [
    "#calcul du prix au m2 par département\n",
    "average_price_per_m2 = real_estate_department.groupby([\"department_name\"])[[\"sales_amount\", \"surface\"]].agg({\"sales_amount\": \"sum\", \"surface\": \"sum\"})\n",
    "average_price_per_m2\n",
    "average_price_per_m2[\"average_price_per_m2\"] = average_price_per_m2[\"sales_amount\"]/average_price_per_m2[\"surface\"]\n",
    "average_price_per_m2"
   ]
  },
  {
   "cell_type": "code",
   "execution_count": null,
   "metadata": {},
   "outputs": [],
   "source": [
    "#calcul du loyer médian par départment\n",
    "real_estate_department[\"intermediate_sum\"]=real_estate_department[\"rental_med_all\"]*real_estate_department[\"premise_type\"]\n",
    "real_estate_department\n",
    "average_rental = real_estate_department.groupby([\"department_name\"])[[\"intermediate_sum\", \"premise_type\"]].agg({\"intermediate_sum\": \"sum\", \"premise_type\": \"sum\"})\n",
    "average_rental\n",
    "average_rental[\"average_rental\"]= average_rental[\"intermediate_sum\"]/average_rental[\"premise_type\"]\n",
    "average_rental"
   ]
  },
  {
   "cell_type": "code",
   "execution_count": null,
   "metadata": {},
   "outputs": [],
   "source": [
    "#regroupement des colonnes avec le loyer moyen au m2 par département et le prix d'achat au m2 moyen par département\n",
    "yield_calculation = average_price_per_m2.merge(average_rental, on=\"department_name\")\n",
    "yield_calculation\n",
    "yield_calculation = yield_calculation.drop(columns=[\"sales_amount\", \"surface\", \"intermediate_sum\", \"premise_type\"])\n",
    "yield_calculation[\"yield_rate\"]=yield_calculation[\"average_rental\"]*12/yield_calculation[\"average_price_per_m2\"]*100\n",
    "yield_calculation.sort_values(\"yield_rate\", ascending=True)\n"
   ]
  },
  {
   "cell_type": "code",
   "execution_count": null,
   "metadata": {},
   "outputs": [],
   "source": [
    "#Informations sur la rentabilité locative\n",
    "yield_calculation"
   ]
  },
  {
   "cell_type": "code",
   "execution_count": null,
   "metadata": {},
   "outputs": [],
   "source": [
    "# 2.2 calcul de la variation entre 2018 et 2021\n",
    "\n",
    "#ajout d'une colonne \"year\"\n",
    "sales_df.info()\n",
    "sales_df[\"year\"]=sales_df[\"sales_date\"].dt.year"
   ]
  },
  {
   "cell_type": "code",
   "execution_count": null,
   "metadata": {},
   "outputs": [],
   "source": [
    "#merge pour rajouter le département\n",
    "sales_info_per_department = sales_df.merge (georef_df, on=[\"municipality_code\"])\n",
    "sales_info_per_department"
   ]
  },
  {
   "cell_type": "code",
   "execution_count": null,
   "metadata": {},
   "outputs": [],
   "source": [
    "#filtre uniquement sur les années 2020 et 2021 (car ce sont les seules années où nous avons toutes les informations)\n",
    "sales_info_per_department = sales_info_per_department[sales_info_per_department['year'].isin([2020, 2021])]\n",
    "sales_info_per_department"
   ]
  },
  {
   "cell_type": "code",
   "execution_count": null,
   "metadata": {},
   "outputs": [],
   "source": [
    "#groupement par année et par département\n",
    "sales_df_per_year = sales_info_per_department.groupby([\"department_name\", \"year\"])[[\"sales_amount\", \"surface\"]].agg({\"sales_amount\": \"sum\", \"surface\": \"sum\"})\n",
    "sales_df_per_year"
   ]
  },
  {
   "cell_type": "code",
   "execution_count": null,
   "metadata": {},
   "outputs": [],
   "source": [
    "#calcul du prix moyen au m2\n",
    "sales_df_per_year[\"average_price_m2\"]=sales_df_per_year[\"sales_amount\"]/sales_df_per_year[\"surface\"]\n",
    "sales_df_per_year\n",
    "sales_df_per_year.head(50)"
   ]
  },
  {
   "cell_type": "code",
   "execution_count": null,
   "metadata": {},
   "outputs": [],
   "source": [
    "#calcul de l'évolution entre 2018 et 2021\n",
    "sales_df_per_year['price_m2_growth'] = sales_df_per_year.groupby('department_name')['average_price_m2'].pct_change()\n",
    "sales_df_per_year\n"
   ]
  },
  {
   "cell_type": "code",
   "execution_count": null,
   "metadata": {},
   "outputs": [],
   "source": [
    "#calcul final de l'évolution\n",
    "sales_df_per_year = sales_df_per_year.dropna()\n",
    "sales_df_per_year.drop (columns=[\"sales_amount\", \"surface\"])\n",
    "sales_df_per_year.sort_values (\"price_m2_growth\", ascending=False)\n"
   ]
  },
  {
   "cell_type": "code",
   "execution_count": null,
   "metadata": {},
   "outputs": [],
   "source": [
    "#calcul du nb de maisons vacantes en 2019\n",
    "stock_df_2018 = stock_df[stock_df['year'].isin([2018])]\n",
    "stock_df_2018\n",
    "stock_df_2018 = stock_df_2018.merge (georef_df, on=[\"municipality_code\"])\n",
    "vacants_housing_per_department = stock_df_2018.groupby(\"department_name\")[\"nb_vacants_housing\"].sum()\n",
    "vacants_housing_per_department = pd.DataFrame(vacants_housing_per_department)\n",
    "vacants_housing_per_department"
   ]
  },
  {
   "cell_type": "code",
   "execution_count": null,
   "metadata": {},
   "outputs": [],
   "source": [
    "stock_df_2018\n"
   ]
  },
  {
   "cell_type": "code",
   "execution_count": null,
   "metadata": {},
   "outputs": [],
   "source": [
    "# 2.3 taxe d'habitation sur les maisons secondaires par département\n",
    "\n",
    "TAX_FILENAME = 'taxe_habitation.xlsx'\n",
    "\n",
    "tax_df = pd.read_excel(os.path.join(DATA_PATH, TAX_FILENAME))\n",
    "tax_df.head()"
   ]
  },
  {
   "cell_type": "markdown",
   "metadata": {
    "id": "XYnKDVU0sb0S",
    "jp-MarkdownHeadingCollapsed": true
   },
   "source": [
    "##### 3. SECONDARY HOME"
   ]
  },
  {
   "cell_type": "code",
   "execution_count": null,
   "metadata": {},
   "outputs": [],
   "source": [
    "# 3.1 Superficie moyenne des logements vendus par départements\n",
    "\n",
    "# Joindre les informations de géolocalisation pour obtenir les départements\n",
    "real_estate_sales_dep = sales_df.merge(\n",
    "    georef_df[['municipality_code', 'department_code', 'department_name']],\n",
    "    on='municipality_code'\n",
    ")\n",
    "\n",
    "# Calculer la surface moyenne des logements vendus par département\n",
    "average_surface_municipality = real_estate_sales_dep.groupby('department_name')['surface'].mean().reset_index()\n",
    "\n",
    "average_surface_municipality"
   ]
  },
  {
   "cell_type": "code",
   "execution_count": null,
   "metadata": {},
   "outputs": [],
   "source": [
    "# Filtre sur un departement en particulier (exemple paris 75)\n",
    "print(average_surface_department[average_surface_department['department_code'] == '75'])"
   ]
  },
  {
   "cell_type": "code",
   "execution_count": null,
   "metadata": {},
   "outputs": [],
   "source": [
    "# 3.2 Évolution du % des maisons secondaires par département\n",
    "\n",
    "# Filtrer les données pour les années 2008 et 2018\n",
    "housing_2008 = stock_df[stock_df['year'] == 2008]\n",
    "housing_2018 = stock_df[stock_df['year'] == 2018]\n",
    "\n",
    "# Renommer les colonnes pour les années spécifiques\n",
    "housing_2008 = housing_2008[['municipality_code', 'secondary_home_rate']].rename(columns={'secondary_home_rate': 'secondary_home_rate_2008'})\n",
    "housing_2018 = housing_2018[['municipality_code', 'secondary_home_rate']].rename(columns={'secondary_home_rate': 'secondary_home_rate_2018'})\n",
    "\n",
    "# Joindre les données pour les années 2008 et 2018 sur le code de municipalité\n",
    "secondary_home_rate_comparison = housing_2008.merge(housing_2018, on='municipality_code')\n",
    "\n",
    "# Remplacer les valeurs 0 de 2008 pour éviter la division par zéro\n",
    "secondary_home_rate_comparison = secondary_home_rate_comparison.replace({'secondary_home_rate_2008': {0: np.nan}})\n",
    "\n",
    "# Calculer l'évolution du pourcentage de maisons secondaires par municipalité\n",
    "secondary_home_rate_comparison['secondary_home_rate_evolution'] = (\n",
    "    (secondary_home_rate_comparison['secondary_home_rate_2018'] - secondary_home_rate_comparison['secondary_home_rate_2008']) / \n",
    "    secondary_home_rate_comparison['secondary_home_rate_2008']\n",
    ") * 100\n",
    "\n",
    "# Remplacer les valeurs infinies et NaN par 0\n",
    "secondary_home_rate_comparison = secondary_home_rate_comparison.replace({'secondary_home_rate_evolution': {np.inf: np.nan, -np.inf: np.nan}})\n",
    "secondary_home_rate_comparison['secondary_home_rate_evolution'] = secondary_home_rate_comparison['secondary_home_rate_evolution'].fillna(0)\n",
    "\n",
    "# Joindre les informations de géolocalisation pour obtenir les départements\n",
    "secondary_home_rate_comparison = secondary_home_rate_comparison.merge(\n",
    "    georef_df[['municipality_code', 'department_code', 'department_name']],\n",
    "    on='municipality_code'\n",
    ")\n",
    "\n",
    "# Calculer l'évolution moyenne du pourcentage de maisons secondaires par département\n",
    "secondary_home_rate_evolution_department = secondary_home_rate_comparison.groupby(['department_code', 'department_name'])['secondary_home_rate_evolution'].mean().reset_index()\n",
    "secondary_home_rate_evolution_department.rename(columns={'secondary_home_rate_evolution': 'secondary_home_rate_evolution'}, inplace=True)\n",
    "\n",
    "secondary_home_rate_evolution_department.head(10)"
   ]
  },
  {
   "cell_type": "markdown",
   "metadata": {
    "id": "XYnKDVU0sb0S",
    "jp-MarkdownHeadingCollapsed": true
   },
   "source": [
    "##### 4. LIFE QUALITY"
   ]
  },
  {
   "cell_type": "code",
   "execution_count": null,
   "metadata": {},
   "outputs": [],
   "source": [
    "# 4.1 Professionnels de santé pour 100 000 habitants par départements en 2023\n",
    "DATA_PATH = '../data/cleaned'\n",
    "HEALTH_FILENAME = 'health_df_cleaned.csv'\n",
    "\n",
    "health_df = pd.read_csv(os.path.join(DATA_PATH, HEALTH_FILENAME))\n",
    "health_df.head()"
   ]
  },
  {
   "cell_type": "code",
   "execution_count": null,
   "metadata": {
    "jupyter": {
     "source_hidden": true
    }
   },
   "outputs": [],
   "source": [
    "# 4.2 Taux de criminalité pour 1000 habitants par départements en 2020\n",
    "\n",
    "CRIMINALITY_FILENAME = 'criminality_df_cleaned.csv'\n",
    "\n",
    "criminality_df = pd.read_csv(os.path.join(DATA_PATH, CRIMINALITY_FILENAME))\n",
    "criminality_df.head()"
   ]
  },
  {
   "cell_type": "code",
   "execution_count": null,
   "metadata": {},
   "outputs": [],
   "source": [
    "# 4.3 Nombre de jours de soleil par an par départements\n",
    "\n",
    "SUNNY_FILENAME = 'sunny_df_cleaned.csv'\n",
    "\n",
    "sunny_df = pd.read_csv(os.path.join(DATA_PATH, SUNNY_FILENAME))\n",
    "sunny_df.head()\n",
    "sunny_df.sort_values(by=\"sunny_days_per_year\")"
   ]
  },
  {
   "cell_type": "markdown",
   "metadata": {
    "id": "XYnKDVU0sb0S",
    "jp-MarkdownHeadingCollapsed": true
   },
   "source": [
    "# 🚀 ENRICHED EXPORT"
   ]
  },
  {
   "cell_type": "code",
   "execution_count": null,
   "metadata": {},
   "outputs": [],
   "source": []
  }
 ],
 "metadata": {
  "colab": {
   "collapsed_sections": [
    "MtiYSUHHSCws",
    "qzPmsWEUq5zk",
    "Qhf-qyfBrBrU",
    "WUbRvCbWrC-g",
    "IaW8clyJrE7k",
    "gHemM-SqrGyN",
    "wDh1nf-1rIgb",
    "DEROdiJirK6M",
    "-pWIMamvrMgo",
    "i0j9hJqlFaEc",
    "FZ-ON4l9sVwu",
    "XYnKDVU0sb0S",
    "sNX4qmi1Gdyx"
   ],
   "provenance": []
  },
  "kernelspec": {
   "display_name": "Python 3 (ipykernel)",
   "language": "python",
   "name": "python3"
  },
  "language_info": {
   "codemirror_mode": {
    "name": "ipython",
    "version": 3
   },
   "file_extension": ".py",
   "mimetype": "text/x-python",
   "name": "python",
   "nbconvert_exporter": "python",
   "pygments_lexer": "ipython3",
   "version": "3.12.4"
  }
 },
 "nbformat": 4,
 "nbformat_minor": 4
}
