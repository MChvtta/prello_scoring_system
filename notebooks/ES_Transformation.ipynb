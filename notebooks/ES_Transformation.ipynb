{
 "cells": [
  {
   "cell_type": "markdown",
   "metadata": {
    "id": "i0j9hJqlFaEc"
   },
   "source": [
    "# ⚙️ **CLEANED DATA IMPORT**"
   ]
  },
  {
   "cell_type": "code",
   "execution_count": null,
   "metadata": {},
   "outputs": [],
   "source": [
    "import pandas as pd\n",
    "import numpy as np\n",
    "import os\n",
    "\n",
    "DATA_PATH = '../data/cleaned'\n",
    "\n",
    "POI_FILENAME = 'poi_df_cleaned.csv'\n",
    "SITE_FILENAME = 'site_df_cleaned.csv'\n",
    "SALARY_FILENAME = 'salary_df_cleaned.csv'\n",
    "GEOREF_FILENAME = 'georef_df_cleaned.csv'\n",
    "STOCK_FILENAME = 'stock_df_cleaned.csv'\n",
    "SALES_FILENAME = 'sales_df_cleaned.csv'\n",
    "POPULATION_FILENAME = 'population_df_cleaned.csv'\n",
    "POVERTY_FILENAME = 'poverty_df_cleaned.csv'\n",
    "REAL_ESTATE_FILENAME = 'real_estate_df_cleaned.csv'\n",
    "\n",
    "poi_df = pd.read_csv(os.path.join(DATA_PATH, POI_FILENAME))\n",
    "site_df = pd.read_csv(os.path.join(DATA_PATH, SITE_FILENAME))\n",
    "salary_df = pd.read_csv(os.path.join(DATA_PATH, SALARY_FILENAME))\n",
    "georef_df = pd.read_csv(os.path.join(DATA_PATH, GEOREF_FILENAME))\n",
    "stock_df = pd.read_csv(os.path.join(DATA_PATH, STOCK_FILENAME))\n",
    "sales_df = pd.read_csv(os.path.join(DATA_PATH, SALES_FILENAME))\n",
    "population_df = pd.read_csv(os.path.join(DATA_PATH, POPULATION_FILENAME))\n",
    "poverty_df = pd.read_csv(os.path.join(DATA_PATH, POVERTY_FILENAME))\n",
    "real_estate_df = pd.read_csv(os.path.join(DATA_PATH, REAL_ESTATE_FILENAME))"
   ]
  },
  {
   "cell_type": "code",
   "execution_count": null,
   "metadata": {},
   "outputs": [],
   "source": [
    "# DF CLEANED CHECK\n",
    "poi_df.info()\n",
    "site_df.info()\n",
    "salary_df.info()\n",
    "georef_df.info() \n",
    "print (stock_df.info())\n",
    "sales_df.info()\n",
    "population_df.info() \n",
    "poverty_df.info()\n",
    "real_estate_df.info()"
   ]
  },
  {
   "cell_type": "code",
   "execution_count": null,
   "metadata": {},
   "outputs": [],
   "source": [
    "#test\n",
    "stock_df_test = stock_df.merge(georef_df, on=\"municipality_code\")\n",
    "stock_df_test = stock_df_test.groupby([\"year\", \"department_name\"])[\"nb_second_home\"].sum().reset_index()\n",
    "filtered_df = stock_df_test[stock_df_test[\"department_name\"] == \"Guyane\"]\n",
    "filtered_df\n"
   ]
  },
  {
   "cell_type": "markdown",
   "metadata": {
    "id": "FZ-ON4l9sVwu"
   },
   "source": [
    "### CLEANING"
   ]
  },
  {
   "cell_type": "markdown",
   "metadata": {
    "id": "FZ-ON4l9sVwu"
   },
   "source": [
    "##### DF_SALES CLEANING"
   ]
  },
  {
   "cell_type": "code",
   "execution_count": null,
   "metadata": {
    "id": "FclUrSzCGdSX"
   },
   "outputs": [],
   "source": [
    "\n",
    "\n",
    "# SALES_DF: Suppression des doublons > nous passons de 4,3M de lignes à 3,821M\n",
    "sales_df = sales_df.drop_duplicates()\n",
    "sales_df.shape"
   ]
  },
  {
   "cell_type": "code",
   "execution_count": null,
   "metadata": {},
   "outputs": [],
   "source": [
    "# SALES_DF: Check si les doublons on été enlevés : OK\n",
    "sales_df.duplicated().sum()"
   ]
  },
  {
   "cell_type": "code",
   "execution_count": null,
   "metadata": {},
   "outputs": [],
   "source": [
    "# SALES_DF: Suppression des prix au m2 supérieur à 30K€ et inférieur à 1K€ > nous passons à 3,3399M de lignes\n",
    "sales_df = sales_df[(sales_df['sales_price_m2'] <= 30000) & (sales_df['sales_price_m2'] >= 500)]\n",
    "sales_df.shape"
   ]
  },
  {
   "cell_type": "code",
   "execution_count": null,
   "metadata": {},
   "outputs": [],
   "source": [
    "# SALES_DF:\n",
    "s2 = (sales_df['sales_amount']\n",
    "             .value_counts()\n",
    "             .loc[sales_df['sales_amount'].value_counts() > 10])"
   ]
  },
  {
   "cell_type": "code",
   "execution_count": null,
   "metadata": {},
   "outputs": [],
   "source": [
    "# SALES_DF:\n",
    "sales_df = sales_df[sales_df['sales_amount'] > 1] # on enlève les 166 fois ou sales_amount = 1€\n",
    "sales_df.shape"
   ]
  },
  {
   "cell_type": "code",
   "execution_count": null,
   "metadata": {},
   "outputs": [],
   "source": [
    "# SALES_DF: changement du type sales_date en datetime\n",
    "sales_df['sales_date'] = pd.to_datetime(sales_df['sales_date'])\n",
    "sales_df.info()"
   ]
  },
  {
   "cell_type": "markdown",
   "metadata": {
    "id": "XYnKDVU0sb0S"
   },
   "source": [
    "##### DF_SALARY CLEANING"
   ]
  },
  {
   "cell_type": "code",
   "execution_count": null,
   "metadata": {},
   "outputs": [],
   "source": [
    "# DF_SALARY: ROUND avg_net_salary\n",
    "salary_df['avg_net_salary'] = salary_df['avg_net_salary'].round()\n",
    "salary_df.head()"
   ]
  },
  {
   "cell_type": "markdown",
   "metadata": {
    "id": "XYnKDVU0sb0S"
   },
   "source": [
    "##### DF_REAL_ESTATE CLEANING"
   ]
  },
  {
   "cell_type": "code",
   "execution_count": null,
   "metadata": {},
   "outputs": [],
   "source": [
    "# DF_REAL_ESTATE: suppression des nulls\n",
    "real_estate_df = real_estate_df.dropna(axis=1)\n",
    "real_estate_df.isnull().sum()"
   ]
  },
  {
   "cell_type": "markdown",
   "metadata": {
    "id": "XYnKDVU0sb0S"
   },
   "source": [
    "##### DF_SITE CLEANING"
   ]
  },
  {
   "cell_type": "code",
   "execution_count": null,
   "metadata": {},
   "outputs": [],
   "source": [
    "# SITE_DF: tri avec les données entre parenthèses de la colonne \"name\" inclues\n",
    "\n",
    "import re\n",
    "\n",
    "site_df['data_inside_parenthesis'] = site_df['name'].apply(lambda x: re.search(r'\\((.*?)\\)', x).group(1) if re.search(r'\\((.*?)\\)', x) else '')\n",
    "site_df\n",
    "\n",
    "#suppression de la colonne \"name\" dans un second temps\n",
    "\n",
    "site_df.drop(columns=[\"name\"])\n",
    "\n",
    "#check pour savoir les informations présentes dans la colonne \"poi\", et si elles correspondent aux valeurs présentes dans la colonne \"type\"\n",
    "print (site_df[\"poi\"].value_counts())\n",
    "print (site_df[\"data_inside_parenthesis\"].value_counts().head(50))\n",
    "\n",
    "#faire un mapping des colonnes poi, qui sont en fait plus pertinentes que celles de la colonne \"type\""
   ]
  },
  {
   "cell_type": "code",
   "execution_count": null,
   "metadata": {},
   "outputs": [],
   "source": [
    "# SITE_DF: création d'un dictionnaire intégrant toutes les différentes valeurs inclues dans la colonne \"poi\"\n",
    "s = site_df[\"poi\"].value_counts()[site_df[\"poi\"]]\n",
    "{k: \"toto\" for k in s.index}"
   ]
  },
  {
   "cell_type": "code",
   "execution_count": null,
   "metadata": {},
   "outputs": [],
   "source": [
    "# SITE_DF: création d'un dictionnaire avec les catégories associées aux valeurs de la colonne POI\n",
    "\n",
    "category_dict = {'1': 'Patrimoine',\n",
    " '2': 'Patrimoine',\n",
    " 'zoo': 'Entertainment',\n",
    " 'dune': 'Nature',\n",
    " 'park': 'Nature',\n",
    " 'rock': 'Nature',\n",
    " 'sand': 'Nature',\n",
    " 'beach': 'Nature',\n",
    " 'cliff': 'Nature',\n",
    " 'islet': 'Nature',\n",
    " 'ridge': 'Nature',\n",
    " 'water': 'Nature',\n",
    " 'wreck': 'Patrimoine',\n",
    " 'casino': 'Entertainment',\n",
    " 'castle': 'Patrimoine',\n",
    " 'cinema': 'Culture',\n",
    " 'forest': 'Nature',\n",
    " 'geyser': 'Nature',\n",
    " 'marina': 'Nature',\n",
    " 'meadow': 'Nature',\n",
    " 'museum': 'Culture',\n",
    " 'valley': 'Nature',\n",
    " 'theatre': 'Culture',\n",
    " 'volcano': 'Nature',\n",
    " 'wetland': 'Nature',\n",
    " 'heritage': 'Patrimoine',\n",
    " 'monument': 'Patrimoine',\n",
    " 'vineyard': 'Nature',\n",
    " 'viewpoint': 'Nature',\n",
    " 'waterfall': 'Nature',\n",
    " 'allotments': 'Patrimoine',\n",
    " 'attraction': 'Entertainment',\n",
    " 'theme_park': 'Entertainment',\n",
    " 'water_park': 'Entertainment',\n",
    " 'golf_course': 'Entertainment',\n",
    " 'cave_entrance': 'Culture',\n",
    " 'national_park': 'Nature',\n",
    " 'protected_area': 'Nature'}"
   ]
  },
  {
   "cell_type": "code",
   "execution_count": null,
   "metadata": {},
   "outputs": [],
   "source": [
    "# SITE_DF: création de la colonne \"catégorie\"\n",
    "site_df[\"Category\"] = site_df[\"poi\"].map(category_dict)\n",
    "site_df"
   ]
  },
  {
   "cell_type": "code",
   "execution_count": null,
   "metadata": {},
   "outputs": [],
   "source": [
    "poi_df.info()\n",
    "site_df.info()\n",
    "salary_df.info()\n",
    "georef_df.info() \n",
    "stock_df.info() \n",
    "sales_df.info()\n",
    "population_df.info() \n",
    "poverty_df.info()\n",
    "real_estate_df.info()"
   ]
  },
  {
   "cell_type": "code",
   "execution_count": null,
   "metadata": {},
   "outputs": [],
   "source": [
    "poi_df.head(1)"
   ]
  },
  {
   "cell_type": "code",
   "execution_count": null,
   "metadata": {},
   "outputs": [],
   "source": [
    "site_df.head(1) "
   ]
  },
  {
   "cell_type": "code",
   "execution_count": null,
   "metadata": {},
   "outputs": [],
   "source": [
    "salary_df.head(1)"
   ]
  },
  {
   "cell_type": "code",
   "execution_count": null,
   "metadata": {},
   "outputs": [],
   "source": [
    "georef_df.head(1) "
   ]
  },
  {
   "cell_type": "code",
   "execution_count": null,
   "metadata": {},
   "outputs": [],
   "source": [
    "stock_df.head(1) "
   ]
  },
  {
   "cell_type": "code",
   "execution_count": null,
   "metadata": {},
   "outputs": [],
   "source": [
    "sales_df.head(1)"
   ]
  },
  {
   "cell_type": "code",
   "execution_count": null,
   "metadata": {},
   "outputs": [],
   "source": [
    "population_df.head(1) "
   ]
  },
  {
   "cell_type": "code",
   "execution_count": null,
   "metadata": {},
   "outputs": [],
   "source": [
    "poverty_df.head(1)"
   ]
  },
  {
   "cell_type": "code",
   "execution_count": null,
   "metadata": {},
   "outputs": [],
   "source": [
    "real_estate_df.head(1)"
   ]
  },
  {
   "cell_type": "markdown",
   "metadata": {
    "id": "i0j9hJqlFaEc"
   },
   "source": [
    "# 🧪 **DATA TRANSFORMATION**"
   ]
  },
  {
   "cell_type": "markdown",
   "metadata": {
    "id": "XYnKDVU0sb0S"
   },
   "source": [
    "### KPIS AGGREGATION BY DEPARTMENT"
   ]
  },
  {
   "cell_type": "markdown",
   "metadata": {
    "id": "XYnKDVU0sb0S"
   },
   "source": [
    "##### 1. TOURISM"
   ]
  },
  {
   "cell_type": "code",
   "execution_count": null,
   "metadata": {},
   "outputs": [],
   "source": [
    "#création de tables permettant de scorer le potentiel touristique de chaque département\n",
    "site_df = site_df.merge (georef_df, on=[\"municipality_code\"])\n",
    "site_df.head(5)"
   ]
  },
  {
   "cell_type": "code",
   "execution_count": null,
   "metadata": {},
   "outputs": [],
   "source": [
    "#sélection des colonnes dont on aura besoin pour le calcul\n",
    "site_df_department = site_df[[\"poi\", \"name\", \"municipality_code\", \"importance\", \"name_reprocessed\", \"department_name\"]]\n",
    "site_df_department"
   ]
  },
  {
   "cell_type": "code",
   "execution_count": null,
   "metadata": {},
   "outputs": [],
   "source": [
    "#groupement par département, puis classement par le département ayant le + d'atouts touristiques\n",
    "group_site = site_df_department.groupby(\"department_name\")[[\"importance\"]].sum()\n",
    "group_site\n",
    "group_site.sort_values(\"importance\", ascending =False)"
   ]
  },
  {
   "cell_type": "code",
   "execution_count": null,
   "metadata": {},
   "outputs": [],
   "source": [
    "#même calcul que précédemment, mais pour la partie concernant les logements/lieux de villégiature\n",
    "poi_df = poi_df.merge (georef_df, on=[\"municipality_code\"])\n",
    "poi_df.head(5)"
   ]
  },
  {
   "cell_type": "code",
   "execution_count": null,
   "metadata": {},
   "outputs": [],
   "source": [
    "#sélection des colonnes dont on aura besoin pour le calcul\n",
    "poi_df_department = poi_df[[\"poi\", \"municipality_code\", \"importance\", \"department_name\"]]\n",
    "poi_df_department\n"
   ]
  },
  {
   "cell_type": "code",
   "execution_count": null,
   "metadata": {},
   "outputs": [],
   "source": [
    "#groupement par département, puis classement par le département ayant le + de logements/lieux de villégiature\n",
    "group_poi = poi_df_department.groupby(\"department_name\")[[\"importance\"]].sum()\n",
    "group_poi\n",
    "group_poi.sort_values(\"importance\", ascending =False)"
   ]
  },
  {
   "cell_type": "code",
   "execution_count": null,
   "metadata": {
    "scrolled": true
   },
   "outputs": [],
   "source": [
    "#ajout des 2 calculs d'importance\n",
    "department_merged_df = group_poi.merge (group_site, on=[\"department_name\"])\n",
    "#department_merged_df[\"somme_importance\"]=department_merged_df[\"importance_x\"]+department_merged_df[\"importance_y\"]\n",
    "#department_merged_df = department_merged_df.drop(columns=[\"importance_x\", \"importance_y\"])\n",
    "#department_merged_df\n",
    "#department_merged_df.sort_values(\"somme_importance\", ascending =False)\n",
    "department_merged_df\n",
    "\n"
   ]
  },
  {
   "cell_type": "markdown",
   "metadata": {
    "id": "XYnKDVU0sb0S"
   },
   "source": [
    "##### 2. REAL ESTATE"
   ]
  },
  {
   "cell_type": "code",
   "execution_count": null,
   "metadata": {},
   "outputs": [],
   "source": [
    "# 2.1 calcul du loyer au m2 médian par municipality_code\n",
    "rental_med = real_estate_df [[\"municipality_code\", \"rental_med_all\"]]\n",
    "rental_med"
   ]
  },
  {
   "cell_type": "code",
   "execution_count": null,
   "metadata": {},
   "outputs": [],
   "source": [
    "sales_df"
   ]
  },
  {
   "cell_type": "code",
   "execution_count": null,
   "metadata": {},
   "outputs": [],
   "source": [
    "#calcul du prix d'achat au m2 médian par municipality_code\n",
    "sales_df\n",
    "sales_df_grouped = sales_df.groupby([\"municipality_code\"])[[\"sales_amount\", \"surface\", \"premise_type\"]].agg({\"sales_amount\": \"sum\", \"surface\": \"sum\", \"premise_type\": \"count\"})\n",
    "sales_df_grouped = pd.DataFrame (sales_df_grouped)\n",
    "sales_df_grouped"
   ]
  },
  {
   "cell_type": "code",
   "execution_count": null,
   "metadata": {},
   "outputs": [],
   "source": [
    "#jointure pour rajouter dans cette table le loyer médian par municipality_code\n",
    "sales_df\n",
    "real_estate_grouped = sales_df_grouped.merge(rental_med, on=\"municipality_code\")\n",
    "real_estate_grouped"
   ]
  },
  {
   "cell_type": "code",
   "execution_count": null,
   "metadata": {},
   "outputs": [],
   "source": [
    "#ajout du nom du département correspondant à chaque municipality code\n",
    "real_estate_department = real_estate_grouped.merge(georef_df, on=\"municipality_code\")\n",
    "real_estate_department\n",
    "real_estate_department = real_estate_department [[\"municipality_code\", \"sales_amount\", \"surface\", \"rental_med_all\", \"department_name\", \"premise_type\"]]"
   ]
  },
  {
   "cell_type": "code",
   "execution_count": null,
   "metadata": {},
   "outputs": [],
   "source": [
    "real_estate_department"
   ]
  },
  {
   "cell_type": "code",
   "execution_count": null,
   "metadata": {},
   "outputs": [],
   "source": [
    "#calcul du prix au m2 par département\n",
    "average_price_per_m2 = real_estate_department.groupby([\"department_name\"])[[\"sales_amount\", \"surface\"]].agg({\"sales_amount\": \"sum\", \"surface\": \"sum\"})\n",
    "average_price_per_m2\n",
    "average_price_per_m2[\"average_price_per_m2\"] = average_price_per_m2[\"sales_amount\"]/average_price_per_m2[\"surface\"]\n",
    "average_price_per_m2.sort_values(\"average_price_per_m2\")"
   ]
  },
  {
   "cell_type": "code",
   "execution_count": null,
   "metadata": {},
   "outputs": [],
   "source": [
    "#calcul du loyer médian par départment\n",
    "real_estate_department[\"intermediate_sum\"]=real_estate_department[\"rental_med_all\"]*real_estate_department[\"premise_type\"]\n",
    "real_estate_department\n",
    "average_rental = real_estate_department.groupby([\"department_name\"])[[\"intermediate_sum\", \"premise_type\"]].agg({\"intermediate_sum\": \"sum\", \"premise_type\": \"sum\"})\n",
    "average_rental\n",
    "average_rental[\"average_rental\"]= average_rental[\"intermediate_sum\"]/average_rental[\"premise_type\"]\n",
    "average_rental"
   ]
  },
  {
   "cell_type": "code",
   "execution_count": null,
   "metadata": {},
   "outputs": [],
   "source": [
    "#regroupement des colonnes avec le loyer moyen au m2 par département et le prix d'achat au m2 moyen par département\n",
    "yield_calculation = average_price_per_m2.merge(average_rental, on=\"department_name\")\n",
    "yield_calculation\n",
    "yield_calculation = yield_calculation.drop(columns=[\"sales_amount\", \"surface\", \"intermediate_sum\", \"premise_type\"])\n",
    "yield_calculation[\"yield_rate\"]=yield_calculation[\"average_rental\"]*12/yield_calculation[\"average_price_per_m2\"]*100\n",
    "yield_calculation.sort_values(\"yield_rate\", ascending=True)\n"
   ]
  },
  {
   "cell_type": "code",
   "execution_count": null,
   "metadata": {},
   "outputs": [],
   "source": [
    "#Informations sur la rentabilité locative\n",
    "yield_calculation"
   ]
  },
  {
   "cell_type": "code",
   "execution_count": null,
   "metadata": {},
   "outputs": [],
   "source": [
    "# 2.2 calcul de la variation entre 2018 et 2021\n",
    "\n",
    "#ajout d'une colonne \"year\"\n",
    "sales_df.info()\n",
    "sales_df[\"year\"]=sales_df[\"sales_date\"].dt.year"
   ]
  },
  {
   "cell_type": "code",
   "execution_count": null,
   "metadata": {},
   "outputs": [],
   "source": [
    "#merge pour rajouter le département\n",
    "sales_info_per_department = sales_df.merge (georef_df, on=[\"municipality_code\"])\n",
    "sales_info_per_department"
   ]
  },
  {
   "cell_type": "code",
   "execution_count": null,
   "metadata": {
    "scrolled": true
   },
   "outputs": [],
   "source": [
    "#filtre uniquement sur les années 2020 et 2021 (car ce sont les seules années où nous avons toutes les informations)\n",
    "sales_info_per_department = sales_info_per_department[sales_info_per_department['year'].isin([2020, 2021])]\n",
    "sales_info_per_department"
   ]
  },
  {
   "cell_type": "code",
   "execution_count": null,
   "metadata": {},
   "outputs": [],
   "source": [
    "#groupement par année et par département\n",
    "sales_df_per_year = sales_info_per_department.groupby([\"department_name\", \"year\"])[[\"sales_amount\", \"surface\"]].agg({\"sales_amount\": \"sum\", \"surface\": \"sum\"})\n",
    "sales_df_per_year"
   ]
  },
  {
   "cell_type": "code",
   "execution_count": null,
   "metadata": {},
   "outputs": [],
   "source": [
    "#calcul du prix moyen au m2\n",
    "sales_df_per_year[\"average_price_m2\"]=sales_df_per_year[\"sales_amount\"]/sales_df_per_year[\"surface\"]\n",
    "sales_df_per_year\n",
    "sales_df_per_year.head(50)"
   ]
  },
  {
   "cell_type": "code",
   "execution_count": null,
   "metadata": {},
   "outputs": [],
   "source": [
    "#calcul de l'évolution entre 2018 et 2021\n",
    "sales_df_per_year['price_m2_growth'] = sales_df_per_year.groupby('department_name')['average_price_m2'].pct_change()\n",
    "sales_df_per_year\n"
   ]
  },
  {
   "cell_type": "code",
   "execution_count": null,
   "metadata": {},
   "outputs": [],
   "source": [
    "#calcul final de l'évolution\n",
    "sales_df_per_year = sales_df_per_year.dropna()\n",
    "sales_df_per_year.drop (columns=[\"sales_amount\", \"surface\"])\n",
    "sales_df_per_year.sort_values (\"price_m2_growth\", ascending=False)\n"
   ]
  },
  {
   "cell_type": "code",
   "execution_count": null,
   "metadata": {},
   "outputs": [],
   "source": [
    "#calcul du nb de maisons vacantes en 2019\n",
    "stock_df_2018 = stock_df[stock_df['year'].isin([2018])]\n",
    "stock_df_2018\n",
    "stock_df_2018 = stock_df_2018.merge (georef_df, on=[\"municipality_code\"])\n",
    "vacants_housing_per_department = stock_df_2018.groupby(\"department_name\")[\"nb_vacants_housing\"].sum()\n",
    "vacants_housing_per_department = pd.DataFrame(vacants_housing_per_department)\n",
    "vacants_housing_per_department"
   ]
  },
  {
   "cell_type": "code",
   "execution_count": null,
   "metadata": {},
   "outputs": [],
   "source": [
    "stock_df_2018\n"
   ]
  },
  {
   "cell_type": "code",
   "execution_count": null,
   "metadata": {},
   "outputs": [],
   "source": [
    "# 2.3 taxe d'habitation sur les maisons secondaires par département\n",
    "\n",
    "TAX_FILENAME = 'taxe_habitation.xlsx'\n",
    "\n",
    "tax_df = pd.read_excel(os.path.join(DATA_PATH, TAX_FILENAME))\n",
    "tax_df.head()\n",
    "tax_df = tax_df.rename(columns={'RÉGIONS': 'department_name'})\n",
    "tax_df"
   ]
  },
  {
   "cell_type": "markdown",
   "metadata": {
    "id": "XYnKDVU0sb0S"
   },
   "source": [
    "##### 3. SECONDARY HOME"
   ]
  },
  {
   "cell_type": "code",
   "execution_count": null,
   "metadata": {},
   "outputs": [],
   "source": [
    "# 3.1 Superficie moyenne des logements vendus par départements\n",
    "\n",
    "# Joindre les informations de géolocalisation pour obtenir les départements\n",
    "real_estate_sales_dep = sales_df.merge(\n",
    "    georef_df[['municipality_code', 'department_code', 'department_name']],\n",
    "    on='municipality_code'\n",
    ")\n",
    "\n",
    "# Calculer la surface moyenne des logements vendus par département\n",
    "average_surface_municipality = real_estate_sales_dep.groupby('department_name')['surface'].mean().reset_index()\n",
    "\n",
    "average_surface_municipality"
   ]
  },
  {
   "cell_type": "code",
   "execution_count": null,
   "metadata": {},
   "outputs": [],
   "source": []
  },
  {
   "cell_type": "code",
   "execution_count": null,
   "metadata": {},
   "outputs": [],
   "source": [
    "# 3.2 Évolution du % des maisons secondaires par département\n",
    "\n",
    "# Filtrer les données pour les années 2008 et 2018\n",
    "housing_2008 = stock_df[stock_df['year'] == 2008]\n",
    "housing_2018 = stock_df[stock_df['year'] == 2018]\n",
    "\n",
    "# Renommer les colonnes pour les années spécifiques\n",
    "housing_2008 = housing_2008[['municipality_code', 'nb_second_home']].rename(columns={'nb_second_home': 'nb_second_home_2008'})\n",
    "housing_2018 = housing_2018[['municipality_code', 'nb_second_home']].rename(columns={'nb_second_home': 'nb_second_home_2018'})\n",
    "\n",
    "# Joindre les données pour les années 2008 et 2018 sur le code de municipalité\n",
    "secondary_home_rate_comparison = housing_2008.merge(housing_2018, on='municipality_code')\n",
    "\n",
    "# Joindre les informations de géolocalisation pour obtenir les départements\n",
    "secondary_home_rate_comparison = secondary_home_rate_comparison.merge(\n",
    "    georef_df[['municipality_code', 'department_code', 'department_name']],\n",
    "    on='municipality_code'\n",
    ")\n",
    "\n",
    "# Calculer l'évolution moyenne du pourcentage de maisons secondaires par département\n",
    "secondary_home_rate_evolution_department = secondary_home_rate_comparison.groupby(['department_name'])[['nb_second_home_2008', \"nb_second_home_2018\"]].agg({'nb_second_home_2008': \"sum\", \"nb_second_home_2018\": \"sum\"})\n",
    "secondary_home_rate_evolution_department[\"evolution_secondary_homes\"]=((secondary_home_rate_evolution_department[\"nb_second_home_2018\"]-secondary_home_rate_evolution_department[\"nb_second_home_2008\"])/secondary_home_rate_evolution_department[\"nb_second_home_2008\"])*100\n",
    "secondary_home_rate_evolution_department.head(50)"
   ]
  },
  {
   "cell_type": "code",
   "execution_count": null,
   "metadata": {},
   "outputs": [],
   "source": [
    "secondary_home_rate_comparison"
   ]
  },
  {
   "cell_type": "markdown",
   "metadata": {
    "id": "XYnKDVU0sb0S"
   },
   "source": [
    "##### 4. LIFE QUALITY"
   ]
  },
  {
   "cell_type": "code",
   "execution_count": null,
   "metadata": {},
   "outputs": [],
   "source": [
    "# 4.1 Professionnels de santé pour 100 000 habitants par départements en 2023\n",
    "DATA_PATH = '../data/cleaned'\n",
    "HEALTH_FILENAME = 'health_df_cleaned.csv'\n",
    "\n",
    "health_df = pd.read_csv(os.path.join(DATA_PATH, HEALTH_FILENAME))\n",
    "health_df.head(50)"
   ]
  },
  {
   "cell_type": "code",
   "execution_count": null,
   "metadata": {},
   "outputs": [],
   "source": [
    "# 4.2 Taux de criminalité pour 1000 habitants par départements en 2020\n",
    "\n",
    "CRIMINALITY_FILENAME = 'criminality_df_cleaned.csv'\n",
    "\n",
    "criminality_df = pd.read_csv(os.path.join(DATA_PATH, CRIMINALITY_FILENAME))\n",
    "\n",
    "# Convertir criminality_per_1000 en type numérique (si nécessaire)\n",
    "criminality_df['criminality_per_1000'] = pd.to_numeric(criminality_df['criminality_per_1000'].str.replace(',', '.'))\n",
    "\n",
    "# Agréger georef_df par département_name pour obtenir une seule ligne par département\n",
    "georef_aggregated = georef_df.groupby('department_name').first().reset_index()\n",
    "\n",
    "# Effectuer une fusion (merge) pour ajouter department_code à criminality_aggregated en utilisant department_name comme clé\n",
    "criminality_aggregated = criminality_df.groupby('department_name')['criminality_per_1000'].mean().reset_index()\n",
    "criminality_per_department = criminality_aggregated.merge(georef_aggregated[['department_name', 'department_code']], on='department_name')\n",
    "\n",
    "# Afficher les premières lignes du dataframe mis à jour\n",
    "criminality_per_department.tail(50)"
   ]
  },
  {
   "cell_type": "code",
   "execution_count": null,
   "metadata": {
    "scrolled": true
   },
   "outputs": [],
   "source": [
    "# 4.3 Nombre de jours de soleil par an par départements\n",
    "\n",
    "SUNNY_FILENAME = 'heures_ensoleillement.xlsx'\n",
    "\n",
    "sunny_df = pd.read_excel(os.path.join(DATA_PATH, SUNNY_FILENAME))\n",
    "sunny_df.head()\n",
    "sunny_df = sunny_df.rename(columns={'Départements Français et Dom Tom': 'department_name'})\n",
    "sunny_df\n",
    "sunny_df_per_department = sunny_df.drop (columns=[\"Num dép\", \"Classement\"])\n",
    "sunny_df_per_department.tail(50)"
   ]
  },
  {
   "cell_type": "markdown",
   "metadata": {
    "id": "XYnKDVU0sb0S"
   },
   "source": [
    "# SCORING"
   ]
  },
  {
   "cell_type": "markdown",
   "metadata": {
    "id": "XYnKDVU0sb0S"
   },
   "source": [
    "##### 1. TOURISM"
   ]
  },
  {
   "cell_type": "code",
   "execution_count": 133,
   "metadata": {},
   "outputs": [
    {
     "data": {
      "text/html": [
       "<div>\n",
       "<style scoped>\n",
       "    .dataframe tbody tr th:only-of-type {\n",
       "        vertical-align: middle;\n",
       "    }\n",
       "\n",
       "    .dataframe tbody tr th {\n",
       "        vertical-align: top;\n",
       "    }\n",
       "\n",
       "    .dataframe thead th {\n",
       "        text-align: right;\n",
       "    }\n",
       "</style>\n",
       "<table border=\"1\" class=\"dataframe\">\n",
       "  <thead>\n",
       "    <tr style=\"text-align: right;\">\n",
       "      <th></th>\n",
       "      <th>ranking_hosting</th>\n",
       "      <th>ranking_touristic_sites</th>\n",
       "    </tr>\n",
       "    <tr>\n",
       "      <th>department_name</th>\n",
       "      <th></th>\n",
       "      <th></th>\n",
       "    </tr>\n",
       "  </thead>\n",
       "  <tbody>\n",
       "    <tr>\n",
       "      <th>Ain</th>\n",
       "      <td>11.423180</td>\n",
       "      <td>34.061847</td>\n",
       "    </tr>\n",
       "    <tr>\n",
       "      <th>Aisne</th>\n",
       "      <td>4.937153</td>\n",
       "      <td>15.687868</td>\n",
       "    </tr>\n",
       "    <tr>\n",
       "      <th>Allier</th>\n",
       "      <td>8.386644</td>\n",
       "      <td>21.401418</td>\n",
       "    </tr>\n",
       "    <tr>\n",
       "      <th>Alpes-Maritimes</th>\n",
       "      <td>32.802552</td>\n",
       "      <td>32.967630</td>\n",
       "    </tr>\n",
       "    <tr>\n",
       "      <th>Alpes-de-Haute-Provence</th>\n",
       "      <td>11.293578</td>\n",
       "      <td>14.722338</td>\n",
       "    </tr>\n",
       "    <tr>\n",
       "      <th>...</th>\n",
       "      <td>...</td>\n",
       "      <td>...</td>\n",
       "    </tr>\n",
       "    <tr>\n",
       "      <th>Vendée</th>\n",
       "      <td>27.816510</td>\n",
       "      <td>32.287377</td>\n",
       "    </tr>\n",
       "    <tr>\n",
       "      <th>Vienne</th>\n",
       "      <td>8.205227</td>\n",
       "      <td>21.203995</td>\n",
       "    </tr>\n",
       "    <tr>\n",
       "      <th>Vosges</th>\n",
       "      <td>12.007083</td>\n",
       "      <td>14.973759</td>\n",
       "    </tr>\n",
       "    <tr>\n",
       "      <th>Yonne</th>\n",
       "      <td>7.211247</td>\n",
       "      <td>16.595920</td>\n",
       "    </tr>\n",
       "    <tr>\n",
       "      <th>Yvelines</th>\n",
       "      <td>7.509032</td>\n",
       "      <td>25.578985</td>\n",
       "    </tr>\n",
       "  </tbody>\n",
       "</table>\n",
       "<p>96 rows × 2 columns</p>\n",
       "</div>"
      ],
      "text/plain": [
       "                         ranking_hosting  ranking_touristic_sites\n",
       "department_name                                                  \n",
       "Ain                            11.423180                34.061847\n",
       "Aisne                           4.937153                15.687868\n",
       "Allier                          8.386644                21.401418\n",
       "Alpes-Maritimes                32.802552                32.967630\n",
       "Alpes-de-Haute-Provence        11.293578                14.722338\n",
       "...                                  ...                      ...\n",
       "Vendée                         27.816510                32.287377\n",
       "Vienne                          8.205227                21.203995\n",
       "Vosges                         12.007083                14.973759\n",
       "Yonne                           7.211247                16.595920\n",
       "Yvelines                        7.509032                25.578985\n",
       "\n",
       "[96 rows x 2 columns]"
      ]
     },
     "execution_count": 133,
     "metadata": {},
     "output_type": "execute_result"
    }
   ],
   "source": [
    "department_merged_df[\"ranking_hosting\"]= department_merged_df[\"importance_x\"]\n",
    "department_merged_df[\"ranking_touristic_sites\"]= department_merged_df[\"importance_y\"]\n",
    "calculation_tourism_scoring = department_merged_df.drop (columns=[\"importance_x\", \"importance_y\"])\n",
    "calculation_tourism_scoring"
   ]
  },
  {
   "cell_type": "markdown",
   "metadata": {
    "id": "XYnKDVU0sb0S"
   },
   "source": [
    "##### 2. REAL ESTATE"
   ]
  },
  {
   "cell_type": "code",
   "execution_count": null,
   "metadata": {},
   "outputs": [],
   "source": [
    "#fusion des différents dataframes pour réaliser le scoring\n",
    "real_estate_scoring_merge_1 = yield_calculation.merge(sales_df_per_year, on=\"department_name\")\n",
    "real_estate_scoring_merge_2 = real_estate_scoring_merge_1.merge(vacants_housing_per_department, on=\"department_name\")\n",
    "real_estate_scoring_merge_2"
   ]
  },
  {
   "cell_type": "code",
   "execution_count": null,
   "metadata": {},
   "outputs": [],
   "source": [
    "#fusion du dernier dataframe\n",
    "real_estate_scoring_merge_3 = real_estate_scoring_merge_2.merge(tax_df, on=\"department_name\")\n",
    "real_estate_scoring_merge_3\n",
    "real_estate_scoring_merge_3 = real_estate_scoring_merge_3.drop(columns=[\"average_price_per_m2\",\"sales_amount\",\"surface\",\"average_price_m2\",\"average_rental\",\"Nombre d'avis d'impôt\"\n",
    "])\n",
    "real_estate_scoring_merge_3"
   ]
  },
  {
   "cell_type": "code",
   "execution_count": null,
   "metadata": {},
   "outputs": [],
   "source": [
    "#éléments pour le calcul du scoring immo\n",
    "calculation_real_estate_scoring = real_estate_scoring_merge_3\n",
    "calculation_real_estate_scoring.head(50)\n",
    "calculation_real_estate_scoring[\"Taxe d'habitation moyenne en 2023\"].astype(float)\n"
   ]
  },
  {
   "cell_type": "code",
   "execution_count": 134,
   "metadata": {},
   "outputs": [
    {
     "data": {
      "text/html": [
       "<div>\n",
       "<style scoped>\n",
       "    .dataframe tbody tr th:only-of-type {\n",
       "        vertical-align: middle;\n",
       "    }\n",
       "\n",
       "    .dataframe tbody tr th {\n",
       "        vertical-align: top;\n",
       "    }\n",
       "\n",
       "    .dataframe thead th {\n",
       "        text-align: right;\n",
       "    }\n",
       "</style>\n",
       "<table border=\"1\" class=\"dataframe\">\n",
       "  <thead>\n",
       "    <tr style=\"text-align: right;\">\n",
       "      <th></th>\n",
       "      <th>department_name</th>\n",
       "      <th>yield_rate</th>\n",
       "      <th>price_m2_growth</th>\n",
       "      <th>nb_vacants_housing</th>\n",
       "      <th>Taxe d'habitation moyenne en 2023</th>\n",
       "    </tr>\n",
       "  </thead>\n",
       "  <tbody>\n",
       "    <tr>\n",
       "      <th>0</th>\n",
       "      <td>Ain</td>\n",
       "      <td>6.002122</td>\n",
       "      <td>0.072189</td>\n",
       "      <td>25849</td>\n",
       "      <td>847</td>\n",
       "    </tr>\n",
       "    <tr>\n",
       "      <th>1</th>\n",
       "      <td>Aisne</td>\n",
       "      <td>7.625051</td>\n",
       "      <td>0.033483</td>\n",
       "      <td>26001</td>\n",
       "      <td>732</td>\n",
       "    </tr>\n",
       "    <tr>\n",
       "      <th>2</th>\n",
       "      <td>Allier</td>\n",
       "      <td>7.619063</td>\n",
       "      <td>0.029527</td>\n",
       "      <td>30479</td>\n",
       "      <td>801</td>\n",
       "    </tr>\n",
       "    <tr>\n",
       "      <th>3</th>\n",
       "      <td>Alpes-Maritimes</td>\n",
       "      <td>4.362966</td>\n",
       "      <td>0.078167</td>\n",
       "      <td>64643</td>\n",
       "      <td>1686</td>\n",
       "    </tr>\n",
       "    <tr>\n",
       "      <th>4</th>\n",
       "      <td>Alpes-de-Haute-Provence</td>\n",
       "      <td>5.945867</td>\n",
       "      <td>0.029776</td>\n",
       "      <td>10768</td>\n",
       "      <td>551</td>\n",
       "    </tr>\n",
       "    <tr>\n",
       "      <th>...</th>\n",
       "      <td>...</td>\n",
       "      <td>...</td>\n",
       "      <td>...</td>\n",
       "      <td>...</td>\n",
       "      <td>...</td>\n",
       "    </tr>\n",
       "    <tr>\n",
       "      <th>88</th>\n",
       "      <td>Vendée</td>\n",
       "      <td>5.270684</td>\n",
       "      <td>0.091690</td>\n",
       "      <td>21818</td>\n",
       "      <td>759</td>\n",
       "    </tr>\n",
       "    <tr>\n",
       "      <th>89</th>\n",
       "      <td>Vienne</td>\n",
       "      <td>6.700852</td>\n",
       "      <td>0.066504</td>\n",
       "      <td>23264</td>\n",
       "      <td>746</td>\n",
       "    </tr>\n",
       "    <tr>\n",
       "      <th>90</th>\n",
       "      <td>Vosges</td>\n",
       "      <td>6.740395</td>\n",
       "      <td>0.039378</td>\n",
       "      <td>24154</td>\n",
       "      <td>611</td>\n",
       "    </tr>\n",
       "    <tr>\n",
       "      <th>91</th>\n",
       "      <td>Yonne</td>\n",
       "      <td>7.394714</td>\n",
       "      <td>0.041092</td>\n",
       "      <td>23303</td>\n",
       "      <td>682</td>\n",
       "    </tr>\n",
       "    <tr>\n",
       "      <th>92</th>\n",
       "      <td>Yvelines</td>\n",
       "      <td>5.175299</td>\n",
       "      <td>0.069662</td>\n",
       "      <td>40834</td>\n",
       "      <td>1443</td>\n",
       "    </tr>\n",
       "  </tbody>\n",
       "</table>\n",
       "<p>93 rows × 5 columns</p>\n",
       "</div>"
      ],
      "text/plain": [
       "            department_name  yield_rate  price_m2_growth  nb_vacants_housing  \\\n",
       "0                       Ain    6.002122         0.072189               25849   \n",
       "1                     Aisne    7.625051         0.033483               26001   \n",
       "2                    Allier    7.619063         0.029527               30479   \n",
       "3           Alpes-Maritimes    4.362966         0.078167               64643   \n",
       "4   Alpes-de-Haute-Provence    5.945867         0.029776               10768   \n",
       "..                      ...         ...              ...                 ...   \n",
       "88                   Vendée    5.270684         0.091690               21818   \n",
       "89                   Vienne    6.700852         0.066504               23264   \n",
       "90                   Vosges    6.740395         0.039378               24154   \n",
       "91                    Yonne    7.394714         0.041092               23303   \n",
       "92                 Yvelines    5.175299         0.069662               40834   \n",
       "\n",
       "    Taxe d'habitation moyenne en 2023  \n",
       "0                                 847  \n",
       "1                                 732  \n",
       "2                                 801  \n",
       "3                                1686  \n",
       "4                                 551  \n",
       "..                                ...  \n",
       "88                                759  \n",
       "89                                746  \n",
       "90                                611  \n",
       "91                                682  \n",
       "92                               1443  \n",
       "\n",
       "[93 rows x 5 columns]"
      ]
     },
     "execution_count": 134,
     "metadata": {},
     "output_type": "execute_result"
    }
   ],
   "source": [
    "calculation_real_estate_scoring.tail(50)\n",
    "calculation_real_estate_scoring"
   ]
  },
  {
   "cell_type": "raw",
   "metadata": {},
   "source": []
  },
  {
   "cell_type": "code",
   "execution_count": null,
   "metadata": {},
   "outputs": [],
   "source": []
  },
  {
   "cell_type": "markdown",
   "metadata": {
    "id": "XYnKDVU0sb0S"
   },
   "source": [
    "##### 3. SECONDARY HOME"
   ]
  },
  {
   "cell_type": "code",
   "execution_count": null,
   "metadata": {},
   "outputs": [],
   "source": [
    "#fusion des différents dataframes pour réaliser le scoring\n",
    "calculation_secondary_home_scoring = average_surface_municipality.merge(secondary_home_rate_evolution_department, on=\"department_name\")\n",
    "calculation_secondary_home_scoring.tail(50)\n",
    "calculation_secondary_home_scoring = calculation_secondary_home_scoring.drop(columns=[\"nb_second_home_2008\", \"nb_second_home_2018\"])"
   ]
  },
  {
   "cell_type": "markdown",
   "metadata": {
    "id": "XYnKDVU0sb0S"
   },
   "source": [
    "##### 4. LIFE QUALITY"
   ]
  },
  {
   "cell_type": "code",
   "execution_count": null,
   "metadata": {},
   "outputs": [],
   "source": [
    "# MERGE DES 3 DF\n",
    "life_quality_df = sunny_df_per_department.merge(criminality_per_department, on='department_name', how='inner')\n",
    "life_quality_df = life_quality_df.merge(health_df, on='department_name', how='outer')\n",
    "\n",
    "# Remplacer les NaN par des valeurs nulles\n",
    "life_quality_df = life_quality_df.fillna(0)  # Vous pouvez remplacer 0 par d'autres valeurs par défaut si nécessaire\n",
    "\n",
    "# Supprimer les colonnes redondantes department_code_x et department_code_y\n",
    "life_quality_df = life_quality_df.drop(columns=['department_code_x', 'department_code_y', \"ensemble des médecins\", \"dont généralistes\", \"dont spécialistes\", \"chirurg. dentistes\", \"pharm.\"])\n",
    "\n",
    "calculation_life_quality_scoring = pd.DataFrame (life_quality_df)\n",
    "calculation_life_quality_scoring.tail(50)"
   ]
  },
  {
   "cell_type": "code",
   "execution_count": null,
   "metadata": {},
   "outputs": [],
   "source": [
    "#modification des 3 lignes nulles (je n'ai pas compris pourquoi elles l'étaient)\n",
    "calculation_life_quality_scoring.at[21,\"criminality_per_1000\"]=36.72\n",
    "calculation_life_quality_scoring.at[22,\"criminality_per_1000\"]=30.92\n",
    "calculation_life_quality_scoring.at[21,\"Ensoleillement (heures)\"]=1789\n",
    "calculation_life_quality_scoring.at[22,\"Ensoleillement (heures)\"]=1512\n",
    "calculation_life_quality_scoring.at[92,\"Ensoleillement (heures)\"]=1719\n",
    "calculation_life_quality_scoring.at[92,\"criminality_per_1000\"]=43.79\n",
    "\n",
    "calculation_life_quality_scoring.head(50)"
   ]
  },
  {
   "cell_type": "markdown",
   "metadata": {
    "id": "i0j9hJqlFaEc"
   },
   "source": [
    "# **SCALING**"
   ]
  },
  {
   "cell_type": "markdown",
   "metadata": {
    "id": "XYnKDVU0sb0S"
   },
   "source": [
    "##### 1. TOURISM"
   ]
  },
  {
   "cell_type": "code",
   "execution_count": null,
   "metadata": {},
   "outputs": [],
   "source": [
    "from sklearn.preprocessing import RobustScaler, MinMaxScaler, StandardScaler\n",
    "scaler = MinMaxScaler()\n",
    "\n",
    "#scaling pour calculer le scoring\n",
    "calculation_tourism_scoring_numeric = calculation_tourism_scoring.select_dtypes(include=\"number\")\n",
    "df_scaled_tourism = scaler.fit_transform(calculation_tourism_scoring_numeric)\n",
    "df_scaled_tourism = pd.DataFrame(df_scaled_tourism, columns=calculation_tourism_scoring_numeric.columns, index=calculation_tourism_scoring.index)\n",
    "df_scaled_tourism.head(50)"
   ]
  },
  {
   "cell_type": "code",
   "execution_count": 135,
   "metadata": {},
   "outputs": [
    {
     "data": {
      "text/html": [
       "<div>\n",
       "<style scoped>\n",
       "    .dataframe tbody tr th:only-of-type {\n",
       "        vertical-align: middle;\n",
       "    }\n",
       "\n",
       "    .dataframe tbody tr th {\n",
       "        vertical-align: top;\n",
       "    }\n",
       "\n",
       "    .dataframe thead th {\n",
       "        text-align: right;\n",
       "    }\n",
       "</style>\n",
       "<table border=\"1\" class=\"dataframe\">\n",
       "  <thead>\n",
       "    <tr style=\"text-align: right;\">\n",
       "      <th></th>\n",
       "      <th>ranking_hosting</th>\n",
       "      <th>ranking_touristic_sites</th>\n",
       "    </tr>\n",
       "    <tr>\n",
       "      <th>department_name</th>\n",
       "      <th></th>\n",
       "      <th></th>\n",
       "    </tr>\n",
       "  </thead>\n",
       "  <tbody>\n",
       "    <tr>\n",
       "      <th>Ain</th>\n",
       "      <td>0.14</td>\n",
       "      <td>0.63</td>\n",
       "    </tr>\n",
       "    <tr>\n",
       "      <th>Aisne</th>\n",
       "      <td>0.05</td>\n",
       "      <td>0.26</td>\n",
       "    </tr>\n",
       "    <tr>\n",
       "      <th>Allier</th>\n",
       "      <td>0.10</td>\n",
       "      <td>0.37</td>\n",
       "    </tr>\n",
       "    <tr>\n",
       "      <th>Alpes-Maritimes</th>\n",
       "      <td>0.45</td>\n",
       "      <td>0.61</td>\n",
       "    </tr>\n",
       "    <tr>\n",
       "      <th>Alpes-de-Haute-Provence</th>\n",
       "      <td>0.14</td>\n",
       "      <td>0.24</td>\n",
       "    </tr>\n",
       "    <tr>\n",
       "      <th>...</th>\n",
       "      <td>...</td>\n",
       "      <td>...</td>\n",
       "    </tr>\n",
       "    <tr>\n",
       "      <th>Vendée</th>\n",
       "      <td>0.38</td>\n",
       "      <td>0.59</td>\n",
       "    </tr>\n",
       "    <tr>\n",
       "      <th>Vienne</th>\n",
       "      <td>0.10</td>\n",
       "      <td>0.37</td>\n",
       "    </tr>\n",
       "    <tr>\n",
       "      <th>Vosges</th>\n",
       "      <td>0.15</td>\n",
       "      <td>0.24</td>\n",
       "    </tr>\n",
       "    <tr>\n",
       "      <th>Yonne</th>\n",
       "      <td>0.08</td>\n",
       "      <td>0.28</td>\n",
       "    </tr>\n",
       "    <tr>\n",
       "      <th>Yvelines</th>\n",
       "      <td>0.09</td>\n",
       "      <td>0.46</td>\n",
       "    </tr>\n",
       "  </tbody>\n",
       "</table>\n",
       "<p>96 rows × 2 columns</p>\n",
       "</div>"
      ],
      "text/plain": [
       "                         ranking_hosting  ranking_touristic_sites\n",
       "department_name                                                  \n",
       "Ain                                 0.14                     0.63\n",
       "Aisne                               0.05                     0.26\n",
       "Allier                              0.10                     0.37\n",
       "Alpes-Maritimes                     0.45                     0.61\n",
       "Alpes-de-Haute-Provence             0.14                     0.24\n",
       "...                                  ...                      ...\n",
       "Vendée                              0.38                     0.59\n",
       "Vienne                              0.10                     0.37\n",
       "Vosges                              0.15                     0.24\n",
       "Yonne                               0.08                     0.28\n",
       "Yvelines                            0.09                     0.46\n",
       "\n",
       "[96 rows x 2 columns]"
      ]
     },
     "execution_count": 135,
     "metadata": {},
     "output_type": "execute_result"
    }
   ],
   "source": [
    "#cleaning des différents KPI\n",
    "df_scaled_tourism['ranking_hosting'] = round(df_scaled_tourism['ranking_hosting'], 2)\n",
    "df_scaled_tourism['ranking_touristic_sites'] = round(df_scaled_tourism['ranking_touristic_sites'], 2)\n",
    "df_scaled_tourism"
   ]
  },
  {
   "cell_type": "markdown",
   "metadata": {
    "id": "XYnKDVU0sb0S",
    "jp-MarkdownHeadingCollapsed": true
   },
   "source": [
    "##### 2. REAL ESTATE"
   ]
  },
  {
   "cell_type": "code",
   "execution_count": null,
   "metadata": {},
   "outputs": [],
   "source": [
    "#scaling pour calculer le scoring\n",
    "calculation_real_estate_scoring_numeric = calculation_real_estate_scoring.select_dtypes(include=\"number\")\n",
    "scaler = MinMaxScaler()\n",
    "df_scaled_real_estate = scaler.fit_transform(calculation_real_estate_scoring_numeric)\n",
    "df_scaled_real_estate = pd.DataFrame(df_scaled_real_estate, index=real_estate_scoring_merge_2.index, columns=calculation_real_estate_scoring_numeric.columns)\n",
    "df_scaled_real_estate"
   ]
  },
  {
   "cell_type": "code",
   "execution_count": null,
   "metadata": {},
   "outputs": [],
   "source": [
    "#cleaning des différents KPI\n",
    "df_scaled_real_estate['yield_rate'] = round(df_scaled_real_estate['yield_rate'], 2)\n",
    "df_scaled_real_estate['price_m2_growth'] = round(df_scaled_real_estate['price_m2_growth'], 2)\n",
    "df_scaled_real_estate['nb_vacants_housing'] = round(df_scaled_real_estate['nb_vacants_housing'], 2)\n",
    "df_scaled_real_estate[\"Taxe d'habitation moyenne en 2023\"] = round(1 - df_scaled_real_estate[\"Taxe d'habitation moyenne en 2023\"], 2)\n",
    "df_scaled_real_estate"
   ]
  },
  {
   "cell_type": "code",
   "execution_count": null,
   "metadata": {},
   "outputs": [],
   "source": [
    "calculation_real_estate_scoring.tail(50)"
   ]
  },
  {
   "cell_type": "markdown",
   "metadata": {
    "id": "XYnKDVU0sb0S"
   },
   "source": [
    "##### 3. SECONDARY HOME"
   ]
  },
  {
   "cell_type": "code",
   "execution_count": null,
   "metadata": {},
   "outputs": [],
   "source": [
    "#scaling pour calculer le scoring\n",
    "calculation_secondary_home_scoring_numeric = calculation_secondary_home_scoring.select_dtypes(include=\"number\")\n",
    "df_scaled_secondary_home = scaler.fit_transform(calculation_secondary_home_scoring_numeric)\n",
    "df_scaled_secondary_home = pd.DataFrame(df_scaled_secondary_home, columns=calculation_secondary_home_scoring_numeric.columns, index=calculation_secondary_home_scoring[\"department_name\"])\n",
    "df_scaled_secondary_home.head(50)"
   ]
  },
  {
   "cell_type": "code",
   "execution_count": null,
   "metadata": {},
   "outputs": [],
   "source": [
    "#cleaning des différents KPI\n",
    "df_scaled_secondary_home['surface'] = round(df_scaled_secondary_home['surface'], 2)\n",
    "df_scaled_secondary_home['evolution_secondary_homes'] = round(df_scaled_secondary_home['evolution_secondary_homes'], 2)\n",
    "df_scaled_secondary_home"
   ]
  },
  {
   "cell_type": "markdown",
   "metadata": {
    "id": "XYnKDVU0sb0S",
    "jupyter": {
     "source_hidden": true
    }
   },
   "source": [
    "##### 4. LIFE QUALITY"
   ]
  },
  {
   "cell_type": "code",
   "execution_count": null,
   "metadata": {},
   "outputs": [],
   "source": [
    "#scaling pour calculer le scoring\n",
    "calculation_life_quality_scoring_numeric = calculation_life_quality_scoring.select_dtypes(include=\"number\")\n",
    "df_scaled_life_quality = scaler.fit_transform(calculation_life_quality_scoring_numeric)\n",
    "df_scaled_life_quality = pd.DataFrame(df_scaled_life_quality, columns=calculation_life_quality_scoring_numeric.columns, index=calculation_life_quality_scoring[\"department_name\"])\n",
    "df_scaled_life_quality.tail(50)"
   ]
  },
  {
   "cell_type": "code",
   "execution_count": null,
   "metadata": {},
   "outputs": [],
   "source": [
    "#cleaning des différents KPI\n",
    "df_scaled_life_quality['Ensoleillement'] = round(df_scaled_life_quality['Ensoleillement (heures)'], 2)\n",
    "df_scaled_life_quality['Criminality'] = round(1 - df_scaled_life_quality['criminality_per_1000'], 2)\n",
    "df_scaled_life_quality['Health'] = round(df_scaled_life_quality['ensemble des médecins.1'], 2)\n",
    "\n",
    "df_scaled_life_quality = df_scaled_life_quality.drop(columns=[\"Ensoleillement (heures)\", \"criminality_per_1000\", \"ensemble des médecins.1\"])\n",
    "df_scaled_life_quality"
   ]
  },
  {
   "cell_type": "markdown",
   "metadata": {
    "id": "i0j9hJqlFaEc"
   },
   "source": [
    "# **NORMALIZATION**"
   ]
  },
  {
   "cell_type": "markdown",
   "metadata": {
    "id": "XYnKDVU0sb0S"
   },
   "source": [
    "##### 1. TOURISM"
   ]
  },
  {
   "cell_type": "code",
   "execution_count": 141,
   "metadata": {},
   "outputs": [
    {
     "data": {
      "text/html": [
       "<div>\n",
       "<style scoped>\n",
       "    .dataframe tbody tr th:only-of-type {\n",
       "        vertical-align: middle;\n",
       "    }\n",
       "\n",
       "    .dataframe tbody tr th {\n",
       "        vertical-align: top;\n",
       "    }\n",
       "\n",
       "    .dataframe thead th {\n",
       "        text-align: right;\n",
       "    }\n",
       "</style>\n",
       "<table border=\"1\" class=\"dataframe\">\n",
       "  <thead>\n",
       "    <tr style=\"text-align: right;\">\n",
       "      <th></th>\n",
       "      <th>hosting_score</th>\n",
       "      <th>touristic_sites_score</th>\n",
       "      <th>global_tourism_score</th>\n",
       "    </tr>\n",
       "    <tr>\n",
       "      <th>department_name</th>\n",
       "      <th></th>\n",
       "      <th></th>\n",
       "      <th></th>\n",
       "    </tr>\n",
       "  </thead>\n",
       "  <tbody>\n",
       "    <tr>\n",
       "      <th>Ain</th>\n",
       "      <td>1.4</td>\n",
       "      <td>6.3</td>\n",
       "      <td>3.85</td>\n",
       "    </tr>\n",
       "    <tr>\n",
       "      <th>Aisne</th>\n",
       "      <td>0.5</td>\n",
       "      <td>2.6</td>\n",
       "      <td>1.55</td>\n",
       "    </tr>\n",
       "    <tr>\n",
       "      <th>Allier</th>\n",
       "      <td>1.0</td>\n",
       "      <td>3.7</td>\n",
       "      <td>2.35</td>\n",
       "    </tr>\n",
       "    <tr>\n",
       "      <th>Alpes-Maritimes</th>\n",
       "      <td>4.5</td>\n",
       "      <td>6.1</td>\n",
       "      <td>5.30</td>\n",
       "    </tr>\n",
       "    <tr>\n",
       "      <th>Alpes-de-Haute-Provence</th>\n",
       "      <td>1.4</td>\n",
       "      <td>2.4</td>\n",
       "      <td>1.90</td>\n",
       "    </tr>\n",
       "    <tr>\n",
       "      <th>...</th>\n",
       "      <td>...</td>\n",
       "      <td>...</td>\n",
       "      <td>...</td>\n",
       "    </tr>\n",
       "    <tr>\n",
       "      <th>Vendée</th>\n",
       "      <td>3.8</td>\n",
       "      <td>5.9</td>\n",
       "      <td>4.85</td>\n",
       "    </tr>\n",
       "    <tr>\n",
       "      <th>Vienne</th>\n",
       "      <td>1.0</td>\n",
       "      <td>3.7</td>\n",
       "      <td>2.35</td>\n",
       "    </tr>\n",
       "    <tr>\n",
       "      <th>Vosges</th>\n",
       "      <td>1.5</td>\n",
       "      <td>2.4</td>\n",
       "      <td>1.95</td>\n",
       "    </tr>\n",
       "    <tr>\n",
       "      <th>Yonne</th>\n",
       "      <td>0.8</td>\n",
       "      <td>2.8</td>\n",
       "      <td>1.80</td>\n",
       "    </tr>\n",
       "    <tr>\n",
       "      <th>Yvelines</th>\n",
       "      <td>0.9</td>\n",
       "      <td>4.6</td>\n",
       "      <td>2.75</td>\n",
       "    </tr>\n",
       "  </tbody>\n",
       "</table>\n",
       "<p>96 rows × 3 columns</p>\n",
       "</div>"
      ],
      "text/plain": [
       "                         hosting_score  touristic_sites_score  \\\n",
       "department_name                                                 \n",
       "Ain                                1.4                    6.3   \n",
       "Aisne                              0.5                    2.6   \n",
       "Allier                             1.0                    3.7   \n",
       "Alpes-Maritimes                    4.5                    6.1   \n",
       "Alpes-de-Haute-Provence            1.4                    2.4   \n",
       "...                                ...                    ...   \n",
       "Vendée                             3.8                    5.9   \n",
       "Vienne                             1.0                    3.7   \n",
       "Vosges                             1.5                    2.4   \n",
       "Yonne                              0.8                    2.8   \n",
       "Yvelines                           0.9                    4.6   \n",
       "\n",
       "                         global_tourism_score  \n",
       "department_name                                \n",
       "Ain                                      3.85  \n",
       "Aisne                                    1.55  \n",
       "Allier                                   2.35  \n",
       "Alpes-Maritimes                          5.30  \n",
       "Alpes-de-Haute-Provence                  1.90  \n",
       "...                                       ...  \n",
       "Vendée                                   4.85  \n",
       "Vienne                                   2.35  \n",
       "Vosges                                   1.95  \n",
       "Yonne                                    1.80  \n",
       "Yvelines                                 2.75  \n",
       "\n",
       "[96 rows x 3 columns]"
      ]
     },
     "execution_count": 141,
     "metadata": {},
     "output_type": "execute_result"
    }
   ],
   "source": [
    "tourism_scoring = pd.DataFrame()\n",
    "tourism_scoring['hosting_score'] = df_scaled_tourism['ranking_hosting']*10\n",
    "tourism_scoring['touristic_sites_score'] = df_scaled_tourism['ranking_touristic_sites']*10\n",
    "tourism_scoring['global_tourism_score'] = round((tourism_scoring['hosting_score'] + tourism_scoring['touristic_sites_score'])/2,2)\n",
    "tourism_scoring"
   ]
  },
  {
   "cell_type": "code",
   "execution_count": null,
   "metadata": {},
   "outputs": [],
   "source": []
  },
  {
   "cell_type": "markdown",
   "metadata": {
    "id": "XYnKDVU0sb0S"
   },
   "source": [
    "##### 2. REAL ESTATE"
   ]
  },
  {
   "cell_type": "code",
   "execution_count": null,
   "metadata": {},
   "outputs": [],
   "source": []
  },
  {
   "cell_type": "markdown",
   "metadata": {
    "id": "XYnKDVU0sb0S"
   },
   "source": [
    "##### 3. SECONDARY HOME"
   ]
  },
  {
   "cell_type": "code",
   "execution_count": null,
   "metadata": {},
   "outputs": [],
   "source": []
  },
  {
   "cell_type": "markdown",
   "metadata": {
    "id": "XYnKDVU0sb0S"
   },
   "source": [
    "##### 4. LIFE QUALITY"
   ]
  },
  {
   "cell_type": "code",
   "execution_count": null,
   "metadata": {},
   "outputs": [],
   "source": []
  }
 ],
 "metadata": {
  "colab": {
   "collapsed_sections": [
    "MtiYSUHHSCws",
    "qzPmsWEUq5zk",
    "Qhf-qyfBrBrU",
    "WUbRvCbWrC-g",
    "IaW8clyJrE7k",
    "gHemM-SqrGyN",
    "wDh1nf-1rIgb",
    "DEROdiJirK6M",
    "-pWIMamvrMgo",
    "i0j9hJqlFaEc",
    "FZ-ON4l9sVwu",
    "XYnKDVU0sb0S",
    "sNX4qmi1Gdyx"
   ],
   "provenance": []
  },
  "kernelspec": {
   "display_name": "Python 3 (ipykernel)",
   "language": "python",
   "name": "python3"
  },
  "language_info": {
   "codemirror_mode": {
    "name": "ipython",
    "version": 3
   },
   "file_extension": ".py",
   "mimetype": "text/x-python",
   "name": "python",
   "nbconvert_exporter": "python",
   "pygments_lexer": "ipython3",
   "version": "3.12.4"
  }
 },
 "nbformat": 4,
 "nbformat_minor": 4
}
