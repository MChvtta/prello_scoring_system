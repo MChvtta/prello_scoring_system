{
 "cells": [
  {
   "cell_type": "markdown",
   "metadata": {
    "id": "MtiYSUHHSCws",
    "jp-MarkdownHeadingCollapsed": true
   },
   "source": [
    "# ⚙️ **DATA IMPORT**"
   ]
  },
  {
   "cell_type": "code",
   "execution_count": 83,
   "metadata": {
    "id": "JmHBpzSNQyBu"
   },
   "outputs": [],
   "source": [
    "import pandas as pd\n",
    "import numpy as np\n",
    "import matplotlib.pyplot as plt\n",
    "import plotly.graph_objects as go\n",
    "import plotly.express as px\n",
    "import os\n",
    "from sklearn.preprocessing import MinMaxScaler\n",
    "import plotly.io as pio\n",
    "pio.renderers.default = 'iframe'\n",
    "\n",
    "DATA_PATH = '../data'\n",
    "\n",
    "POI_FILENAME = 'POI_tourist_establishments.csv'\n",
    "SITE_FILENAME = 'POI_touristic_sites_by_municipality.csv'\n",
    "SALARY_FILENAME = 'average_salary_by_municipality.csv'\n",
    "GEOREF_FILENAME = 'geographical_referential.csv'\n",
    "STOCK_FILENAME = 'housing_stock.csv'\n",
    "SALES_FILENAME = 'notary_real_estate_sales.csv'\n",
    "POPULATION_FILENAME = 'population_by_municipality.csv'\n",
    "POVERTY_FILENAME = 'poverty_population_by_municipality.csv'\n",
    "REAL_ESTATE_FILENAME = 'real_estate_info_by_municipality.csv'\n",
    "\n",
    "poi_df = pd.read_csv(os.path.join(DATA_PATH, POI_FILENAME),usecols=lambda column: column != 'name')\n",
    "site_df = pd.read_csv(os.path.join(DATA_PATH, SITE_FILENAME))\n",
    "salary_df = pd.read_csv(os.path.join(DATA_PATH, SALARY_FILENAME),usecols=lambda column: column != 'country_code')\n",
    "georef_df = pd.read_csv(os.path.join(DATA_PATH, GEOREF_FILENAME),usecols=lambda column: column != 'country_code')\n",
    "stock_df = pd.read_csv(os.path.join(DATA_PATH, STOCK_FILENAME),usecols=lambda column: column not in ['int64_field_0', 'country_code'])\n",
    "sales_df = pd.read_csv(os.path.join(DATA_PATH, SALES_FILENAME))\n",
    "population_df = pd.read_csv(os.path.join(DATA_PATH, POPULATION_FILENAME),usecols=lambda column: column != 'country_code')\n",
    "poverty_df = pd.read_csv(os.path.join(DATA_PATH, POVERTY_FILENAME),usecols=lambda column: column != 'country_code')\n",
    "real_estate_df = pd.read_csv(os.path.join(DATA_PATH, REAL_ESTATE_FILENAME))"
   ]
  },
  {
   "cell_type": "markdown",
   "metadata": {
    "id": "_dsdbtLaFVvf",
    "jp-MarkdownHeadingCollapsed": true
   },
   "source": [
    "# 🔭 **DATA EXPLORATION**\n",
    "\n",
    "\n"
   ]
  },
  {
   "cell_type": "markdown",
   "metadata": {
    "id": "qzPmsWEUq5zk",
    "jp-MarkdownHeadingCollapsed": true
   },
   "source": [
    "#### DF POI"
   ]
  },
  {
   "cell_type": "code",
   "execution_count": 2,
   "metadata": {
    "colab": {
     "base_uri": "https://localhost:8080/",
     "height": 206
    },
    "id": "2jlBgmvTq1FC",
    "outputId": "7e88d8c6-387a-4347-9bac-584b54d21802"
   },
   "outputs": [
    {
     "data": {
      "text/html": [
       "<div>\n",
       "<style scoped>\n",
       "    .dataframe tbody tr th:only-of-type {\n",
       "        vertical-align: middle;\n",
       "    }\n",
       "\n",
       "    .dataframe tbody tr th {\n",
       "        vertical-align: top;\n",
       "    }\n",
       "\n",
       "    .dataframe thead th {\n",
       "        text-align: right;\n",
       "    }\n",
       "</style>\n",
       "<table border=\"1\" class=\"dataframe\">\n",
       "  <thead>\n",
       "    <tr style=\"text-align: right;\">\n",
       "      <th></th>\n",
       "      <th>poi</th>\n",
       "      <th>latitude</th>\n",
       "      <th>longitude</th>\n",
       "      <th>municipality_code</th>\n",
       "      <th>importance</th>\n",
       "      <th>name_reprocessed</th>\n",
       "    </tr>\n",
       "  </thead>\n",
       "  <tbody>\n",
       "    <tr>\n",
       "      <th>0</th>\n",
       "      <td>hotel</td>\n",
       "      <td>45.678531</td>\n",
       "      <td>-1.163635</td>\n",
       "      <td>17225</td>\n",
       "      <td>0.078556</td>\n",
       "      <td>Club Med</td>\n",
       "    </tr>\n",
       "    <tr>\n",
       "      <th>1</th>\n",
       "      <td>hotel</td>\n",
       "      <td>44.026859</td>\n",
       "      <td>4.847491</td>\n",
       "      <td>84129</td>\n",
       "      <td>0.078419</td>\n",
       "      <td>Cabanes des Grands Cépages</td>\n",
       "    </tr>\n",
       "    <tr>\n",
       "      <th>2</th>\n",
       "      <td>hotel</td>\n",
       "      <td>50.331541</td>\n",
       "      <td>1.565677</td>\n",
       "      <td>80333</td>\n",
       "      <td>0.077999</td>\n",
       "      <td>Pierre et Vacances</td>\n",
       "    </tr>\n",
       "    <tr>\n",
       "      <th>3</th>\n",
       "      <td>hotel</td>\n",
       "      <td>43.285936</td>\n",
       "      <td>6.569696</td>\n",
       "      <td>83068</td>\n",
       "      <td>0.077702</td>\n",
       "      <td>Pierre &amp; Vacances</td>\n",
       "    </tr>\n",
       "    <tr>\n",
       "      <th>4</th>\n",
       "      <td>hotel</td>\n",
       "      <td>43.541050</td>\n",
       "      <td>3.752852</td>\n",
       "      <td>34095</td>\n",
       "      <td>0.077542</td>\n",
       "      <td>Le Domaine du Golf</td>\n",
       "    </tr>\n",
       "  </tbody>\n",
       "</table>\n",
       "</div>"
      ],
      "text/plain": [
       "     poi   latitude  longitude municipality_code  importance  \\\n",
       "0  hotel  45.678531  -1.163635             17225    0.078556   \n",
       "1  hotel  44.026859   4.847491             84129    0.078419   \n",
       "2  hotel  50.331541   1.565677             80333    0.077999   \n",
       "3  hotel  43.285936   6.569696             83068    0.077702   \n",
       "4  hotel  43.541050   3.752852             34095    0.077542   \n",
       "\n",
       "              name_reprocessed  \n",
       "0                    Club Med   \n",
       "1  Cabanes des Grands Cépages   \n",
       "2          Pierre et Vacances   \n",
       "3           Pierre & Vacances   \n",
       "4          Le Domaine du Golf   "
      ]
     },
     "execution_count": 2,
     "metadata": {},
     "output_type": "execute_result"
    }
   ],
   "source": [
    "poi_df.head() #DATA CLEAN\n",
    "# importance : poids interne pour évaluer l'importance"
   ]
  },
  {
   "cell_type": "code",
   "execution_count": 3,
   "metadata": {},
   "outputs": [
    {
     "data": {
      "text/html": [
       "<iframe\n",
       "    scrolling=\"no\"\n",
       "    width=\"100%\"\n",
       "    height=\"1010\"\n",
       "    src=\"iframe_figures/figure_3.html\"\n",
       "    frameborder=\"0\"\n",
       "    allowfullscreen\n",
       "></iframe>\n"
      ]
     },
     "metadata": {},
     "output_type": "display_data"
    }
   ],
   "source": [
    "# Création de la carte avec Plotly Express\n",
    "fig = px.scatter_mapbox(poi_df, lat='latitude', lon='longitude', hover_name='name_reprocessed',\n",
    "                        color='poi', size='importance', zoom=5, height=990)\n",
    "\n",
    "# Personnalisation du titre et du style de la carte\n",
    "fig.update_layout(\n",
    "    title='Répartition des points d\\'intérêt',\n",
    "    mapbox_style='open-street-map'  # Vous pouvez choisir parmi d'autres styles de carte, par exemple 'carto-positron'\n",
    ")\n",
    "\n",
    "# Réduction de la taille des points\n",
    "fig.update_traces(marker=dict(size=4))\n",
    "\n",
    "# Affichage du graphique\n",
    "fig.show()"
   ]
  },
  {
   "cell_type": "code",
   "execution_count": 4,
   "metadata": {},
   "outputs": [
    {
     "data": {
      "text/html": [
       "<iframe\n",
       "    scrolling=\"no\"\n",
       "    width=\"100%\"\n",
       "    height=\"545px\"\n",
       "    src=\"iframe_figures/figure_4.html\"\n",
       "    frameborder=\"0\"\n",
       "    allowfullscreen\n",
       "></iframe>\n"
      ]
     },
     "metadata": {},
     "output_type": "display_data"
    }
   ],
   "source": [
    "poi_count = poi_df['poi'].value_counts()\n",
    "\n",
    "# Création du diagramme circulaire avec Plotly Express\n",
    "fig = px.pie(names=poi_count.index, values=poi_count.values, title='Répartition des points d\\'intérêt (POI)')\n",
    "\n",
    "# Affichage du graphique\n",
    "fig.show()"
   ]
  },
  {
   "cell_type": "code",
   "execution_count": 5,
   "metadata": {
    "colab": {
     "base_uri": "https://localhost:8080/"
    },
    "id": "JwMXJOH3t22N",
    "outputId": "5265bdc2-4c20-468f-cdb0-e3ddfcc191f4"
   },
   "outputs": [
    {
     "data": {
      "text/plain": [
       "np.int64(0)"
      ]
     },
     "execution_count": 5,
     "metadata": {},
     "output_type": "execute_result"
    }
   ],
   "source": [
    "# 0 DOUBLONS !\n",
    "poi_df.duplicated().sum()#.drop_duplicates()"
   ]
  },
  {
   "cell_type": "code",
   "execution_count": 6,
   "metadata": {
    "colab": {
     "base_uri": "https://localhost:8080/"
    },
    "id": "en4Krf81uzWC",
    "outputId": "1f057e30-8fde-468b-b97e-178acb96b871"
   },
   "outputs": [
    {
     "name": "stdout",
     "output_type": "stream",
     "text": [
      "<class 'pandas.core.frame.DataFrame'>\n",
      "RangeIndex: 26216 entries, 0 to 26215\n",
      "Data columns (total 6 columns):\n",
      " #   Column             Non-Null Count  Dtype  \n",
      "---  ------             --------------  -----  \n",
      " 0   poi                26216 non-null  object \n",
      " 1   latitude           26216 non-null  float64\n",
      " 2   longitude          26216 non-null  float64\n",
      " 3   municipality_code  26216 non-null  object \n",
      " 4   importance         26216 non-null  float64\n",
      " 5   name_reprocessed   26216 non-null  object \n",
      "dtypes: float64(3), object(3)\n",
      "memory usage: 1.2+ MB\n"
     ]
    },
    {
     "data": {
      "text/plain": [
       "poi                  0\n",
       "latitude             0\n",
       "longitude            0\n",
       "municipality_code    0\n",
       "importance           0\n",
       "name_reprocessed     0\n",
       "dtype: int64"
      ]
     },
     "execution_count": 6,
     "metadata": {},
     "output_type": "execute_result"
    }
   ],
   "source": [
    "poi_df.info()\n",
    "poi_df.isnull().sum()"
   ]
  },
  {
   "cell_type": "markdown",
   "metadata": {
    "id": "0eBByRxTq_5z",
    "jp-MarkdownHeadingCollapsed": true
   },
   "source": [
    "#### DF SITE"
   ]
  },
  {
   "cell_type": "code",
   "execution_count": 7,
   "metadata": {
    "colab": {
     "base_uri": "https://localhost:8080/",
     "height": 206
    },
    "id": "fMYRW5xNr6i2",
    "outputId": "dedf1d5d-bb91-475c-ae8c-e11e19d7187b"
   },
   "outputs": [
    {
     "data": {
      "text/html": [
       "<div>\n",
       "<style scoped>\n",
       "    .dataframe tbody tr th:only-of-type {\n",
       "        vertical-align: middle;\n",
       "    }\n",
       "\n",
       "    .dataframe tbody tr th {\n",
       "        vertical-align: top;\n",
       "    }\n",
       "\n",
       "    .dataframe thead th {\n",
       "        text-align: right;\n",
       "    }\n",
       "</style>\n",
       "<table border=\"1\" class=\"dataframe\">\n",
       "  <thead>\n",
       "    <tr style=\"text-align: right;\">\n",
       "      <th></th>\n",
       "      <th>poi</th>\n",
       "      <th>latitude</th>\n",
       "      <th>longitude</th>\n",
       "      <th>municipality_code</th>\n",
       "      <th>importance</th>\n",
       "      <th>name_reprocessed</th>\n",
       "    </tr>\n",
       "  </thead>\n",
       "  <tbody>\n",
       "    <tr>\n",
       "      <th>0</th>\n",
       "      <td>1</td>\n",
       "      <td>46.396160</td>\n",
       "      <td>1.472600</td>\n",
       "      <td>36134</td>\n",
       "      <td>0.139527</td>\n",
       "      <td>Fortifications de Vauban</td>\n",
       "    </tr>\n",
       "    <tr>\n",
       "      <th>1</th>\n",
       "      <td>1</td>\n",
       "      <td>46.313695</td>\n",
       "      <td>1.478772</td>\n",
       "      <td>23258</td>\n",
       "      <td>0.137821</td>\n",
       "      <td>Chemins de Saint-Jacques-de-Compostelle en Fra...</td>\n",
       "    </tr>\n",
       "    <tr>\n",
       "      <th>2</th>\n",
       "      <td>1</td>\n",
       "      <td>43.332709</td>\n",
       "      <td>3.219890</td>\n",
       "      <td>34032</td>\n",
       "      <td>0.129531</td>\n",
       "      <td>Canal du Midi</td>\n",
       "    </tr>\n",
       "    <tr>\n",
       "      <th>3</th>\n",
       "      <td>1</td>\n",
       "      <td>50.455895</td>\n",
       "      <td>2.965034</td>\n",
       "      <td>62427</td>\n",
       "      <td>0.127170</td>\n",
       "      <td>Bassin minier du Nord-Pas de Calais</td>\n",
       "    </tr>\n",
       "    <tr>\n",
       "      <th>4</th>\n",
       "      <td>1</td>\n",
       "      <td>44.346210</td>\n",
       "      <td>3.613406</td>\n",
       "      <td>48050</td>\n",
       "      <td>0.124981</td>\n",
       "      <td>Les Causses et les Cévennes, paysage culturel ...</td>\n",
       "    </tr>\n",
       "  </tbody>\n",
       "</table>\n",
       "</div>"
      ],
      "text/plain": [
       "  poi   latitude  longitude municipality_code  importance  \\\n",
       "0   1  46.396160   1.472600             36134    0.139527   \n",
       "1   1  46.313695   1.478772             23258    0.137821   \n",
       "2   1  43.332709   3.219890             34032    0.129531   \n",
       "3   1  50.455895   2.965034             62427    0.127170   \n",
       "4   1  44.346210   3.613406             48050    0.124981   \n",
       "\n",
       "                                    name_reprocessed  \n",
       "0                          Fortifications de Vauban   \n",
       "1  Chemins de Saint-Jacques-de-Compostelle en Fra...  \n",
       "2                                     Canal du Midi   \n",
       "3               Bassin minier du Nord-Pas de Calais   \n",
       "4  Les Causses et les Cévennes, paysage culturel ...  "
      ]
     },
     "execution_count": 7,
     "metadata": {},
     "output_type": "execute_result"
    }
   ],
   "source": [
    "site_df.head() # DATA CLEAN\n",
    "# importance : poids interne pour évaluer l'importance"
   ]
  },
  {
   "cell_type": "code",
   "execution_count": 8,
   "metadata": {},
   "outputs": [
    {
     "data": {
      "text/html": [
       "<iframe\n",
       "    scrolling=\"no\"\n",
       "    width=\"100%\"\n",
       "    height=\"1010\"\n",
       "    src=\"iframe_figures/figure_8.html\"\n",
       "    frameborder=\"0\"\n",
       "    allowfullscreen\n",
       "></iframe>\n"
      ]
     },
     "metadata": {},
     "output_type": "display_data"
    }
   ],
   "source": [
    "# Création de la carte avec Plotly Express\n",
    "fig = px.scatter_mapbox(site_df, lat='latitude', lon='longitude', hover_name='name_reprocessed',\n",
    "                        color='poi', size='importance', zoom=5, height=990)\n",
    "\n",
    "# Personnalisation du titre et du style de la carte\n",
    "fig.update_layout(\n",
    "    title='Répartition des site touristiques',\n",
    "    mapbox_style='open-street-map'  # Vous pouvez choisir parmi d'autres styles de carte, par exemple 'carto-positron'\n",
    ")\n",
    "\n",
    "# Réduction de la taille des points\n",
    "fig.update_traces(marker=dict(size=4))\n",
    "\n",
    "# Affichage du graphique\n",
    "fig.show()"
   ]
  },
  {
   "cell_type": "code",
   "execution_count": 9,
   "metadata": {},
   "outputs": [
    {
     "data": {
      "text/html": [
       "<iframe\n",
       "    scrolling=\"no\"\n",
       "    width=\"100%\"\n",
       "    height=\"545px\"\n",
       "    src=\"iframe_figures/figure_9.html\"\n",
       "    frameborder=\"0\"\n",
       "    allowfullscreen\n",
       "></iframe>\n"
      ]
     },
     "metadata": {},
     "output_type": "display_data"
    }
   ],
   "source": [
    "poi_count = site_df['poi'].value_counts()\n",
    "\n",
    "# Création du diagramme circulaire avec Plotly Express\n",
    "fig = px.pie(names=poi_count.index, values=poi_count.values, title='Répartition des site touristiques')\n",
    "\n",
    "# Affichage du graphique\n",
    "fig.show()"
   ]
  },
  {
   "cell_type": "code",
   "execution_count": 10,
   "metadata": {
    "colab": {
     "base_uri": "https://localhost:8080/"
    },
    "id": "1J6b1cMhuHNH",
    "outputId": "baf5f204-8959-4f45-bc8b-3c1a8d9517a2"
   },
   "outputs": [
    {
     "data": {
      "text/plain": [
       "np.int64(0)"
      ]
     },
     "execution_count": 10,
     "metadata": {},
     "output_type": "execute_result"
    }
   ],
   "source": [
    "# 0 DOUBLONS !\n",
    "site_df.duplicated().sum()#.drop_duplicates()"
   ]
  },
  {
   "cell_type": "code",
   "execution_count": 11,
   "metadata": {
    "colab": {
     "base_uri": "https://localhost:8080/"
    },
    "id": "-kyoewgemu1T",
    "outputId": "8781661e-898b-4a49-ca48-bee10b427668"
   },
   "outputs": [
    {
     "name": "stdout",
     "output_type": "stream",
     "text": [
      "<class 'pandas.core.frame.DataFrame'>\n",
      "RangeIndex: 31034 entries, 0 to 31033\n",
      "Data columns (total 6 columns):\n",
      " #   Column             Non-Null Count  Dtype  \n",
      "---  ------             --------------  -----  \n",
      " 0   poi                31034 non-null  object \n",
      " 1   latitude           31034 non-null  float64\n",
      " 2   longitude          31034 non-null  float64\n",
      " 3   municipality_code  31034 non-null  object \n",
      " 4   importance         31034 non-null  float64\n",
      " 5   name_reprocessed   31034 non-null  object \n",
      "dtypes: float64(3), object(3)\n",
      "memory usage: 1.4+ MB\n"
     ]
    },
    {
     "data": {
      "text/plain": [
       "poi                  0\n",
       "latitude             0\n",
       "longitude            0\n",
       "municipality_code    0\n",
       "importance           0\n",
       "name_reprocessed     0\n",
       "dtype: int64"
      ]
     },
     "execution_count": 11,
     "metadata": {},
     "output_type": "execute_result"
    }
   ],
   "source": [
    "site_df.info()\n",
    "site_df.isnull().sum()"
   ]
  },
  {
   "cell_type": "markdown",
   "metadata": {
    "id": "Qhf-qyfBrBrU",
    "jp-MarkdownHeadingCollapsed": true
   },
   "source": [
    "#### DF SALARY"
   ]
  },
  {
   "cell_type": "code",
   "execution_count": 12,
   "metadata": {
    "colab": {
     "base_uri": "https://localhost:8080/",
     "height": 206
    },
    "id": "FEYaHGx1sEtE",
    "outputId": "8f67eeb8-ad26-44d0-8a42-d407d3b95a44"
   },
   "outputs": [
    {
     "data": {
      "text/html": [
       "<div>\n",
       "<style scoped>\n",
       "    .dataframe tbody tr th:only-of-type {\n",
       "        vertical-align: middle;\n",
       "    }\n",
       "\n",
       "    .dataframe tbody tr th {\n",
       "        vertical-align: top;\n",
       "    }\n",
       "\n",
       "    .dataframe thead th {\n",
       "        text-align: right;\n",
       "    }\n",
       "</style>\n",
       "<table border=\"1\" class=\"dataframe\">\n",
       "  <thead>\n",
       "    <tr style=\"text-align: right;\">\n",
       "      <th></th>\n",
       "      <th>municipality_code</th>\n",
       "      <th>avg_net_salary</th>\n",
       "      <th>year</th>\n",
       "    </tr>\n",
       "  </thead>\n",
       "  <tbody>\n",
       "    <tr>\n",
       "      <th>0</th>\n",
       "      <td>01004</td>\n",
       "      <td>26471.026727</td>\n",
       "      <td>2019</td>\n",
       "    </tr>\n",
       "    <tr>\n",
       "      <th>1</th>\n",
       "      <td>01007</td>\n",
       "      <td>26341.353419</td>\n",
       "      <td>2019</td>\n",
       "    </tr>\n",
       "    <tr>\n",
       "      <th>2</th>\n",
       "      <td>01014</td>\n",
       "      <td>25897.497842</td>\n",
       "      <td>2019</td>\n",
       "    </tr>\n",
       "    <tr>\n",
       "      <th>3</th>\n",
       "      <td>01024</td>\n",
       "      <td>25695.240341</td>\n",
       "      <td>2019</td>\n",
       "    </tr>\n",
       "    <tr>\n",
       "      <th>4</th>\n",
       "      <td>01025</td>\n",
       "      <td>26054.712323</td>\n",
       "      <td>2019</td>\n",
       "    </tr>\n",
       "  </tbody>\n",
       "</table>\n",
       "</div>"
      ],
      "text/plain": [
       "  municipality_code  avg_net_salary  year\n",
       "0             01004    26471.026727  2019\n",
       "1             01007    26341.353419  2019\n",
       "2             01014    25897.497842  2019\n",
       "3             01024    25695.240341  2019\n",
       "4             01025    26054.712323  2019"
      ]
     },
     "execution_count": 12,
     "metadata": {},
     "output_type": "execute_result"
    }
   ],
   "source": [
    "salary_df.head() # DATA CLEAN"
   ]
  },
  {
   "cell_type": "code",
   "execution_count": 13,
   "metadata": {},
   "outputs": [
    {
     "data": {
      "text/plain": [
       "array([2019, 2018, 2017, 2016, 2015])"
      ]
     },
     "execution_count": 13,
     "metadata": {},
     "output_type": "execute_result"
    }
   ],
   "source": [
    "salary_df[\"year\"].unique()"
   ]
  },
  {
   "cell_type": "code",
   "execution_count": 14,
   "metadata": {
    "colab": {
     "base_uri": "https://localhost:8080/"
    },
    "id": "64kWCKLQubiU",
    "outputId": "eb52c6be-4cd2-4081-af9c-be283d421f54"
   },
   "outputs": [
    {
     "data": {
      "text/plain": [
       "np.int64(0)"
      ]
     },
     "execution_count": 14,
     "metadata": {},
     "output_type": "execute_result"
    }
   ],
   "source": [
    "# 0 DOUBLONS !\n",
    "salary_df.duplicated().sum()#.drop_duplicates()"
   ]
  },
  {
   "cell_type": "code",
   "execution_count": 15,
   "metadata": {
    "colab": {
     "base_uri": "https://localhost:8080/"
    },
    "id": "qM_4-Zu0mw9p",
    "outputId": "44cfb15e-adec-441a-cd94-67eb1350ba76"
   },
   "outputs": [
    {
     "name": "stdout",
     "output_type": "stream",
     "text": [
      "<class 'pandas.core.frame.DataFrame'>\n",
      "RangeIndex: 26675 entries, 0 to 26674\n",
      "Data columns (total 3 columns):\n",
      " #   Column             Non-Null Count  Dtype  \n",
      "---  ------             --------------  -----  \n",
      " 0   municipality_code  26675 non-null  object \n",
      " 1   avg_net_salary     26675 non-null  float64\n",
      " 2   year               26675 non-null  int64  \n",
      "dtypes: float64(1), int64(1), object(1)\n",
      "memory usage: 625.3+ KB\n"
     ]
    },
    {
     "data": {
      "text/plain": [
       "municipality_code    0\n",
       "avg_net_salary       0\n",
       "year                 0\n",
       "dtype: int64"
      ]
     },
     "execution_count": 15,
     "metadata": {},
     "output_type": "execute_result"
    }
   ],
   "source": [
    "salary_df.info()\n",
    "salary_df.isnull().sum()"
   ]
  },
  {
   "cell_type": "markdown",
   "metadata": {
    "id": "WUbRvCbWrC-g",
    "jp-MarkdownHeadingCollapsed": true
   },
   "source": [
    "#### DF GEO REF"
   ]
  },
  {
   "cell_type": "code",
   "execution_count": 16,
   "metadata": {
    "colab": {
     "base_uri": "https://localhost:8080/",
     "height": 223
    },
    "id": "_2p7_rZ8uj47",
    "outputId": "9cea2377-d9d3-4cba-e756-c7f2f82d907e"
   },
   "outputs": [
    {
     "data": {
      "text/html": [
       "<div>\n",
       "<style scoped>\n",
       "    .dataframe tbody tr th:only-of-type {\n",
       "        vertical-align: middle;\n",
       "    }\n",
       "\n",
       "    .dataframe tbody tr th {\n",
       "        vertical-align: top;\n",
       "    }\n",
       "\n",
       "    .dataframe thead th {\n",
       "        text-align: right;\n",
       "    }\n",
       "</style>\n",
       "<table border=\"1\" class=\"dataframe\">\n",
       "  <thead>\n",
       "    <tr style=\"text-align: right;\">\n",
       "      <th></th>\n",
       "      <th>municipality_code</th>\n",
       "      <th>city_name</th>\n",
       "      <th>city_name_normalized</th>\n",
       "      <th>municipality_type</th>\n",
       "      <th>latitude</th>\n",
       "      <th>longitude</th>\n",
       "      <th>department_code</th>\n",
       "      <th>epci_code</th>\n",
       "      <th>department_name</th>\n",
       "    </tr>\n",
       "  </thead>\n",
       "  <tbody>\n",
       "    <tr>\n",
       "      <th>0</th>\n",
       "      <td>01005</td>\n",
       "      <td>Ambérieux-en-Dombes</td>\n",
       "      <td>AMBERIEUX EN DOMBES</td>\n",
       "      <td>municipality</td>\n",
       "      <td>45.996180</td>\n",
       "      <td>4.912273</td>\n",
       "      <td>01</td>\n",
       "      <td>200042497.0</td>\n",
       "      <td>Ain</td>\n",
       "    </tr>\n",
       "    <tr>\n",
       "      <th>1</th>\n",
       "      <td>01021</td>\n",
       "      <td>Ars-sur-Formans</td>\n",
       "      <td>ARS SUR FORMANS</td>\n",
       "      <td>municipality</td>\n",
       "      <td>45.993461</td>\n",
       "      <td>4.821996</td>\n",
       "      <td>01</td>\n",
       "      <td>200042497.0</td>\n",
       "      <td>Ain</td>\n",
       "    </tr>\n",
       "    <tr>\n",
       "      <th>2</th>\n",
       "      <td>01030</td>\n",
       "      <td>Beauregard</td>\n",
       "      <td>BEAUREGARD</td>\n",
       "      <td>municipality</td>\n",
       "      <td>46.000858</td>\n",
       "      <td>4.756007</td>\n",
       "      <td>01</td>\n",
       "      <td>200042497.0</td>\n",
       "      <td>Ain</td>\n",
       "    </tr>\n",
       "    <tr>\n",
       "      <th>3</th>\n",
       "      <td>01105</td>\n",
       "      <td>Civrieux</td>\n",
       "      <td>CIVRIEUX</td>\n",
       "      <td>municipality</td>\n",
       "      <td>45.922467</td>\n",
       "      <td>4.886338</td>\n",
       "      <td>01</td>\n",
       "      <td>200042497.0</td>\n",
       "      <td>Ain</td>\n",
       "    </tr>\n",
       "    <tr>\n",
       "      <th>4</th>\n",
       "      <td>01157</td>\n",
       "      <td>Fareins</td>\n",
       "      <td>FAREINS</td>\n",
       "      <td>municipality</td>\n",
       "      <td>46.020998</td>\n",
       "      <td>4.762008</td>\n",
       "      <td>01</td>\n",
       "      <td>200042497.0</td>\n",
       "      <td>Ain</td>\n",
       "    </tr>\n",
       "  </tbody>\n",
       "</table>\n",
       "</div>"
      ],
      "text/plain": [
       "  municipality_code            city_name city_name_normalized  \\\n",
       "0             01005  Ambérieux-en-Dombes  AMBERIEUX EN DOMBES   \n",
       "1             01021      Ars-sur-Formans      ARS SUR FORMANS   \n",
       "2             01030           Beauregard           BEAUREGARD   \n",
       "3             01105             Civrieux             CIVRIEUX   \n",
       "4             01157              Fareins              FAREINS   \n",
       "\n",
       "  municipality_type   latitude  longitude department_code    epci_code  \\\n",
       "0      municipality  45.996180   4.912273              01  200042497.0   \n",
       "1      municipality  45.993461   4.821996              01  200042497.0   \n",
       "2      municipality  46.000858   4.756007              01  200042497.0   \n",
       "3      municipality  45.922467   4.886338              01  200042497.0   \n",
       "4      municipality  46.020998   4.762008              01  200042497.0   \n",
       "\n",
       "  department_name  \n",
       "0             Ain  \n",
       "1             Ain  \n",
       "2             Ain  \n",
       "3             Ain  \n",
       "4             Ain  "
      ]
     },
     "execution_count": 16,
     "metadata": {},
     "output_type": "execute_result"
    }
   ],
   "source": [
    "georef_df.head()"
   ]
  },
  {
   "cell_type": "code",
   "execution_count": 17,
   "metadata": {},
   "outputs": [
    {
     "data": {
      "text/plain": [
       "array(['municipality', 'arrondissement'], dtype=object)"
      ]
     },
     "execution_count": 17,
     "metadata": {},
     "output_type": "execute_result"
    }
   ],
   "source": [
    "georef_df[\"municipality_type\"].unique()"
   ]
  },
  {
   "cell_type": "code",
   "execution_count": 18,
   "metadata": {
    "colab": {
     "base_uri": "https://localhost:8080/"
    },
    "id": "M78cdijhugSa",
    "outputId": "4c42ce6f-92dd-46e6-c540-ab684d67e3f0"
   },
   "outputs": [
    {
     "data": {
      "text/plain": [
       "np.int64(0)"
      ]
     },
     "execution_count": 18,
     "metadata": {},
     "output_type": "execute_result"
    }
   ],
   "source": [
    "# 0 DOUBLONS !\n",
    "georef_df.duplicated().sum()#.drop_duplicates()"
   ]
  },
  {
   "cell_type": "code",
   "execution_count": 19,
   "metadata": {
    "colab": {
     "base_uri": "https://localhost:8080/"
    },
    "id": "FMV4GpB6mzN5",
    "outputId": "04e1bbc5-7ffe-489a-cdcf-0bdb37892b6f"
   },
   "outputs": [
    {
     "name": "stdout",
     "output_type": "stream",
     "text": [
      "<class 'pandas.core.frame.DataFrame'>\n",
      "RangeIndex: 34997 entries, 0 to 34996\n",
      "Data columns (total 9 columns):\n",
      " #   Column                Non-Null Count  Dtype  \n",
      "---  ------                --------------  -----  \n",
      " 0   municipality_code     34997 non-null  object \n",
      " 1   city_name             34997 non-null  object \n",
      " 2   city_name_normalized  34997 non-null  object \n",
      " 3   municipality_type     34997 non-null  object \n",
      " 4   latitude              34997 non-null  float64\n",
      " 5   longitude             34997 non-null  float64\n",
      " 6   department_code       34997 non-null  object \n",
      " 7   epci_code             34945 non-null  float64\n",
      " 8   department_name       34997 non-null  object \n",
      "dtypes: float64(3), object(6)\n",
      "memory usage: 2.4+ MB\n"
     ]
    },
    {
     "data": {
      "text/plain": [
       "municipality_code        0\n",
       "city_name                0\n",
       "city_name_normalized     0\n",
       "municipality_type        0\n",
       "latitude                 0\n",
       "longitude                0\n",
       "department_code          0\n",
       "epci_code               52\n",
       "department_name          0\n",
       "dtype: int64"
      ]
     },
     "execution_count": 19,
     "metadata": {},
     "output_type": "execute_result"
    }
   ],
   "source": [
    "georef_df.info()\n",
    "georef_df.isnull().sum()"
   ]
  },
  {
   "cell_type": "markdown",
   "metadata": {
    "id": "IaW8clyJrE7k"
   },
   "source": [
    "#### DF STOCK"
   ]
  },
  {
   "cell_type": "code",
   "execution_count": 20,
   "metadata": {
    "colab": {
     "base_uri": "https://localhost:8080/",
     "height": 226
    },
    "id": "njys3auJup3t",
    "outputId": "ae3875b7-ea44-43f8-9ada-ecc1357b03e7"
   },
   "outputs": [
    {
     "data": {
      "text/html": [
       "<div>\n",
       "<style scoped>\n",
       "    .dataframe tbody tr th:only-of-type {\n",
       "        vertical-align: middle;\n",
       "    }\n",
       "\n",
       "    .dataframe tbody tr th {\n",
       "        vertical-align: top;\n",
       "    }\n",
       "\n",
       "    .dataframe thead th {\n",
       "        text-align: right;\n",
       "    }\n",
       "</style>\n",
       "<table border=\"1\" class=\"dataframe\">\n",
       "  <thead>\n",
       "    <tr style=\"text-align: right;\">\n",
       "      <th></th>\n",
       "      <th>municipality_code</th>\n",
       "      <th>year</th>\n",
       "      <th>nb_principal_home</th>\n",
       "      <th>nb_second_home</th>\n",
       "      <th>nb_vacants_housing</th>\n",
       "      <th>nb_tot_housing</th>\n",
       "      <th>secondary_home_rate</th>\n",
       "      <th>principal_home_rate</th>\n",
       "      <th>vacants_housing_rate</th>\n",
       "    </tr>\n",
       "  </thead>\n",
       "  <tbody>\n",
       "    <tr>\n",
       "      <th>0</th>\n",
       "      <td>01339</td>\n",
       "      <td>1968</td>\n",
       "      <td>109</td>\n",
       "      <td>155</td>\n",
       "      <td>0</td>\n",
       "      <td>264</td>\n",
       "      <td>0.587121</td>\n",
       "      <td>0.412879</td>\n",
       "      <td>0.0</td>\n",
       "    </tr>\n",
       "    <tr>\n",
       "      <th>1</th>\n",
       "      <td>02368</td>\n",
       "      <td>1968</td>\n",
       "      <td>132</td>\n",
       "      <td>56</td>\n",
       "      <td>0</td>\n",
       "      <td>188</td>\n",
       "      <td>0.297872</td>\n",
       "      <td>0.702128</td>\n",
       "      <td>0.0</td>\n",
       "    </tr>\n",
       "    <tr>\n",
       "      <th>2</th>\n",
       "      <td>04073</td>\n",
       "      <td>1968</td>\n",
       "      <td>134</td>\n",
       "      <td>93</td>\n",
       "      <td>0</td>\n",
       "      <td>227</td>\n",
       "      <td>0.409692</td>\n",
       "      <td>0.590308</td>\n",
       "      <td>0.0</td>\n",
       "    </tr>\n",
       "    <tr>\n",
       "      <th>3</th>\n",
       "      <td>04148</td>\n",
       "      <td>1968</td>\n",
       "      <td>42</td>\n",
       "      <td>93</td>\n",
       "      <td>0</td>\n",
       "      <td>135</td>\n",
       "      <td>0.688889</td>\n",
       "      <td>0.311111</td>\n",
       "      <td>0.0</td>\n",
       "    </tr>\n",
       "    <tr>\n",
       "      <th>4</th>\n",
       "      <td>05012</td>\n",
       "      <td>1968</td>\n",
       "      <td>70</td>\n",
       "      <td>53</td>\n",
       "      <td>0</td>\n",
       "      <td>123</td>\n",
       "      <td>0.430894</td>\n",
       "      <td>0.569106</td>\n",
       "      <td>0.0</td>\n",
       "    </tr>\n",
       "  </tbody>\n",
       "</table>\n",
       "</div>"
      ],
      "text/plain": [
       "  municipality_code  year  nb_principal_home  nb_second_home  \\\n",
       "0             01339  1968                109             155   \n",
       "1             02368  1968                132              56   \n",
       "2             04073  1968                134              93   \n",
       "3             04148  1968                 42              93   \n",
       "4             05012  1968                 70              53   \n",
       "\n",
       "   nb_vacants_housing  nb_tot_housing  secondary_home_rate  \\\n",
       "0                   0             264             0.587121   \n",
       "1                   0             188             0.297872   \n",
       "2                   0             227             0.409692   \n",
       "3                   0             135             0.688889   \n",
       "4                   0             123             0.430894   \n",
       "\n",
       "   principal_home_rate  vacants_housing_rate  \n",
       "0             0.412879                   0.0  \n",
       "1             0.702128                   0.0  \n",
       "2             0.590308                   0.0  \n",
       "3             0.311111                   0.0  \n",
       "4             0.569106                   0.0  "
      ]
     },
     "execution_count": 20,
     "metadata": {},
     "output_type": "execute_result"
    }
   ],
   "source": [
    "stock_df.head() #drop de int64_field_0"
   ]
  },
  {
   "cell_type": "code",
   "execution_count": 21,
   "metadata": {},
   "outputs": [
    {
     "data": {
      "text/plain": [
       "array([1968, 1975, 1982, 1990, 1999, 2008, 2013, 2018])"
      ]
     },
     "execution_count": 21,
     "metadata": {},
     "output_type": "execute_result"
    }
   ],
   "source": [
    "stock_df[\"year\"].unique()"
   ]
  },
  {
   "cell_type": "code",
   "execution_count": 22,
   "metadata": {
    "colab": {
     "base_uri": "https://localhost:8080/"
    },
    "id": "0-yVCE8tutUF",
    "outputId": "5bac2a26-b519-4cde-fc52-7a1de62a0a78"
   },
   "outputs": [
    {
     "data": {
      "text/plain": [
       "np.int64(0)"
      ]
     },
     "execution_count": 22,
     "metadata": {},
     "output_type": "execute_result"
    }
   ],
   "source": [
    "# 0 DOUBLONS !\n",
    "stock_df.duplicated().sum()#.drop_duplicates()"
   ]
  },
  {
   "cell_type": "code",
   "execution_count": 23,
   "metadata": {
    "colab": {
     "base_uri": "https://localhost:8080/"
    },
    "id": "tkk4UPmPm09S",
    "outputId": "a1e7ca86-7c93-4dc7-c720-06136566d318"
   },
   "outputs": [
    {
     "name": "stdout",
     "output_type": "stream",
     "text": [
      "<class 'pandas.core.frame.DataFrame'>\n",
      "RangeIndex: 279584 entries, 0 to 279583\n",
      "Data columns (total 9 columns):\n",
      " #   Column                Non-Null Count   Dtype  \n",
      "---  ------                --------------   -----  \n",
      " 0   municipality_code     279584 non-null  object \n",
      " 1   year                  279584 non-null  int64  \n",
      " 2   nb_principal_home     279584 non-null  int64  \n",
      " 3   nb_second_home        279584 non-null  int64  \n",
      " 4   nb_vacants_housing    279584 non-null  int64  \n",
      " 5   nb_tot_housing        279584 non-null  int64  \n",
      " 6   secondary_home_rate   279584 non-null  float64\n",
      " 7   principal_home_rate   279584 non-null  float64\n",
      " 8   vacants_housing_rate  279584 non-null  float64\n",
      "dtypes: float64(3), int64(5), object(1)\n",
      "memory usage: 19.2+ MB\n"
     ]
    },
    {
     "data": {
      "text/plain": [
       "municipality_code       0\n",
       "year                    0\n",
       "nb_principal_home       0\n",
       "nb_second_home          0\n",
       "nb_vacants_housing      0\n",
       "nb_tot_housing          0\n",
       "secondary_home_rate     0\n",
       "principal_home_rate     0\n",
       "vacants_housing_rate    0\n",
       "dtype: int64"
      ]
     },
     "execution_count": 23,
     "metadata": {},
     "output_type": "execute_result"
    }
   ],
   "source": [
    "stock_df.info() # supprimer la colonne int64_field-0\n",
    "stock_df.isnull().sum()"
   ]
  },
  {
   "cell_type": "markdown",
   "metadata": {
    "id": "gHemM-SqrGyN",
    "jp-MarkdownHeadingCollapsed": true
   },
   "source": [
    "#### DF SALES"
   ]
  },
  {
   "cell_type": "code",
   "execution_count": 24,
   "metadata": {
    "colab": {
     "base_uri": "https://localhost:8080/",
     "height": 347
    },
    "id": "9XvrqhEJ5sDJ",
    "outputId": "e16a5afe-a12d-418b-de39-aae038d4e482"
   },
   "outputs": [
    {
     "data": {
      "text/html": [
       "<div>\n",
       "<style scoped>\n",
       "    .dataframe tbody tr th:only-of-type {\n",
       "        vertical-align: middle;\n",
       "    }\n",
       "\n",
       "    .dataframe tbody tr th {\n",
       "        vertical-align: top;\n",
       "    }\n",
       "\n",
       "    .dataframe thead th {\n",
       "        text-align: right;\n",
       "    }\n",
       "</style>\n",
       "<table border=\"1\" class=\"dataframe\">\n",
       "  <thead>\n",
       "    <tr style=\"text-align: right;\">\n",
       "      <th></th>\n",
       "      <th>sales_date</th>\n",
       "      <th>sales_amount</th>\n",
       "      <th>street_number</th>\n",
       "      <th>street_code</th>\n",
       "      <th>street_name</th>\n",
       "      <th>nom_commune</th>\n",
       "      <th>municipality_code</th>\n",
       "      <th>premise_type</th>\n",
       "      <th>surface</th>\n",
       "      <th>number_of_principal_rooms</th>\n",
       "      <th>sales_price_m2</th>\n",
       "      <th>latitude</th>\n",
       "      <th>longitude</th>\n",
       "    </tr>\n",
       "  </thead>\n",
       "  <tbody>\n",
       "    <tr>\n",
       "      <th>0</th>\n",
       "      <td>2018-02-06</td>\n",
       "      <td>5000000.0</td>\n",
       "      <td>63.0</td>\n",
       "      <td>0040</td>\n",
       "      <td>AV PRINCE RAINIER III</td>\n",
       "      <td>Saint-Jean-Cap-Ferrat</td>\n",
       "      <td>06121</td>\n",
       "      <td>Maison</td>\n",
       "      <td>292.0</td>\n",
       "      <td>10</td>\n",
       "      <td>17123.0</td>\n",
       "      <td>43.678892</td>\n",
       "      <td>7.330651</td>\n",
       "    </tr>\n",
       "    <tr>\n",
       "      <th>1</th>\n",
       "      <td>2018-11-26</td>\n",
       "      <td>93060.0</td>\n",
       "      <td>5308.0</td>\n",
       "      <td>B061</td>\n",
       "      <td>LE SERRET</td>\n",
       "      <td>Vallées-d'Antraigues-Asperjoc</td>\n",
       "      <td>07011</td>\n",
       "      <td>Maison</td>\n",
       "      <td>16.0</td>\n",
       "      <td>0</td>\n",
       "      <td>5816.0</td>\n",
       "      <td>44.714072</td>\n",
       "      <td>4.360185</td>\n",
       "    </tr>\n",
       "    <tr>\n",
       "      <th>2</th>\n",
       "      <td>2018-06-08</td>\n",
       "      <td>95000.0</td>\n",
       "      <td>161.0</td>\n",
       "      <td>0683</td>\n",
       "      <td>IMP COL EMILE VIGUIER</td>\n",
       "      <td>Millau</td>\n",
       "      <td>12145</td>\n",
       "      <td>Maison</td>\n",
       "      <td>21.0</td>\n",
       "      <td>0</td>\n",
       "      <td>4524.0</td>\n",
       "      <td>44.093714</td>\n",
       "      <td>3.054594</td>\n",
       "    </tr>\n",
       "    <tr>\n",
       "      <th>3</th>\n",
       "      <td>2018-07-17</td>\n",
       "      <td>3912000.0</td>\n",
       "      <td>690.0</td>\n",
       "      <td>1868</td>\n",
       "      <td>CHE DE MAZARGUES</td>\n",
       "      <td>Aix-en-Provence</td>\n",
       "      <td>13001</td>\n",
       "      <td>Maison</td>\n",
       "      <td>610.0</td>\n",
       "      <td>13</td>\n",
       "      <td>6413.0</td>\n",
       "      <td>43.502833</td>\n",
       "      <td>5.428194</td>\n",
       "    </tr>\n",
       "    <tr>\n",
       "      <th>4</th>\n",
       "      <td>2018-03-27</td>\n",
       "      <td>810000.0</td>\n",
       "      <td>5000.0</td>\n",
       "      <td>0162</td>\n",
       "      <td>CHE DES OLIVIERS</td>\n",
       "      <td>Eygalières</td>\n",
       "      <td>13034</td>\n",
       "      <td>Maison</td>\n",
       "      <td>296.0</td>\n",
       "      <td>9</td>\n",
       "      <td>2736.0</td>\n",
       "      <td>43.756881</td>\n",
       "      <td>4.957214</td>\n",
       "    </tr>\n",
       "  </tbody>\n",
       "</table>\n",
       "</div>"
      ],
      "text/plain": [
       "   sales_date  sales_amount  street_number street_code            street_name  \\\n",
       "0  2018-02-06     5000000.0           63.0        0040  AV PRINCE RAINIER III   \n",
       "1  2018-11-26       93060.0         5308.0        B061              LE SERRET   \n",
       "2  2018-06-08       95000.0          161.0        0683  IMP COL EMILE VIGUIER   \n",
       "3  2018-07-17     3912000.0          690.0        1868       CHE DE MAZARGUES   \n",
       "4  2018-03-27      810000.0         5000.0        0162       CHE DES OLIVIERS   \n",
       "\n",
       "                     nom_commune municipality_code premise_type  surface  \\\n",
       "0          Saint-Jean-Cap-Ferrat             06121       Maison    292.0   \n",
       "1  Vallées-d'Antraigues-Asperjoc             07011       Maison     16.0   \n",
       "2                         Millau             12145       Maison     21.0   \n",
       "3                Aix-en-Provence             13001       Maison    610.0   \n",
       "4                     Eygalières             13034       Maison    296.0   \n",
       "\n",
       "   number_of_principal_rooms  sales_price_m2   latitude  longitude  \n",
       "0                         10         17123.0  43.678892   7.330651  \n",
       "1                          0          5816.0  44.714072   4.360185  \n",
       "2                          0          4524.0  44.093714   3.054594  \n",
       "3                         13          6413.0  43.502833   5.428194  \n",
       "4                          9          2736.0  43.756881   4.957214  "
      ]
     },
     "execution_count": 24,
     "metadata": {},
     "output_type": "execute_result"
    }
   ],
   "source": [
    "sales_df.head()"
   ]
  },
  {
   "cell_type": "code",
   "execution_count": 25,
   "metadata": {
    "colab": {
     "base_uri": "https://localhost:8080/"
    },
    "id": "76YsgU_RppM_",
    "outputId": "c5700ce8-b9f1-4a50-c27c-f5052aff0661"
   },
   "outputs": [
    {
     "data": {
      "text/plain": [
       "np.int64(510211)"
      ]
     },
     "execution_count": 25,
     "metadata": {},
     "output_type": "execute_result"
    }
   ],
   "source": [
    "# 510 211 DOUBLONS !\n",
    "sales_df.duplicated().sum()#.drop_duplicates()"
   ]
  },
  {
   "cell_type": "code",
   "execution_count": 26,
   "metadata": {},
   "outputs": [],
   "source": [
    "s = (sales_df['sales_amount']\n",
    "             .value_counts()\n",
    "             .loc[sales_df['sales_amount'].value_counts() > 10])"
   ]
  },
  {
   "cell_type": "code",
   "execution_count": 27,
   "metadata": {},
   "outputs": [
    {
     "data": {
      "text/plain": [
       "sales_amount\n",
       "10096218     339\n",
       "220623264    324\n",
       "18761004     316\n",
       "19090412     295\n",
       "1            277\n",
       "            ... \n",
       "96375         11\n",
       "299999        11\n",
       "200151        11\n",
       "377475        11\n",
       "182243        11\n",
       "Name: count, Length: 534, dtype: int64"
      ]
     },
     "execution_count": 27,
     "metadata": {},
     "output_type": "execute_result"
    }
   ],
   "source": [
    "s.index = s.index.astype(int)\n",
    "s.loc[(s.index % 10) != 0]"
   ]
  },
  {
   "cell_type": "code",
   "execution_count": 28,
   "metadata": {},
   "outputs": [
    {
     "data": {
      "text/plain": [
       "<pandas.plotting._core.PlotAccessor object at 0x1305ca5a0>"
      ]
     },
     "execution_count": 28,
     "metadata": {},
     "output_type": "execute_result"
    }
   ],
   "source": [
    "s.plot"
   ]
  },
  {
   "cell_type": "code",
   "execution_count": 29,
   "metadata": {},
   "outputs": [
    {
     "data": {
      "text/plain": [
       "sales_amount\n",
       "150000.0     50535\n",
       "120000.0     48185\n",
       "100000.0     45864\n",
       "130000.0     43789\n",
       "110000.0     41900\n",
       "             ...  \n",
       "315120.0        11\n",
       "203680.0        11\n",
       "601600.0        11\n",
       "1151000.0       11\n",
       "555700.0        11\n",
       "Name: count, Length: 14213, dtype: int64"
      ]
     },
     "execution_count": 29,
     "metadata": {},
     "output_type": "execute_result"
    }
   ],
   "source": [
    "sales_df['sales_amount'].value_counts().loc[sales_df['sales_amount'].value_counts() > 10] #[220623264]#sort_values(ascending=True).astype(int)"
   ]
  },
  {
   "cell_type": "code",
   "execution_count": 30,
   "metadata": {
    "colab": {
     "base_uri": "https://localhost:8080/"
    },
    "id": "5fKz0xVWm3kr",
    "outputId": "af8268e0-25da-417e-cd6f-bcb2fe81a95b"
   },
   "outputs": [
    {
     "name": "stdout",
     "output_type": "stream",
     "text": [
      "<class 'pandas.core.frame.DataFrame'>\n",
      "RangeIndex: 4331940 entries, 0 to 4331939\n",
      "Data columns (total 13 columns):\n",
      " #   Column                     Dtype  \n",
      "---  ------                     -----  \n",
      " 0   sales_date                 object \n",
      " 1   sales_amount               float64\n",
      " 2   street_number              float64\n",
      " 3   street_code                object \n",
      " 4   street_name                object \n",
      " 5   nom_commune                object \n",
      " 6   municipality_code          object \n",
      " 7   premise_type               object \n",
      " 8   surface                    float64\n",
      " 9   number_of_principal_rooms  int64  \n",
      " 10  sales_price_m2             float64\n",
      " 11  latitude                   float64\n",
      " 12  longitude                  float64\n",
      "dtypes: float64(6), int64(1), object(6)\n",
      "memory usage: 429.7+ MB\n"
     ]
    },
    {
     "data": {
      "text/plain": [
       "sales_date                       0\n",
       "sales_amount                     0\n",
       "street_number                26693\n",
       "street_code                      0\n",
       "street_name                     74\n",
       "nom_commune                      0\n",
       "municipality_code                0\n",
       "premise_type                     0\n",
       "surface                          0\n",
       "number_of_principal_rooms        0\n",
       "sales_price_m2                   0\n",
       "latitude                     63597\n",
       "longitude                    63597\n",
       "dtype: int64"
      ]
     },
     "execution_count": 30,
     "metadata": {},
     "output_type": "execute_result"
    }
   ],
   "source": [
    "sales_df.info(), #il manque des latitude et longitude\n",
    "sales_df.isnull().sum()"
   ]
  },
  {
   "cell_type": "markdown",
   "metadata": {
    "id": "wDh1nf-1rIgb"
   },
   "source": [
    "#### DF POPULATION"
   ]
  },
  {
   "cell_type": "code",
   "execution_count": 31,
   "metadata": {
    "colab": {
     "base_uri": "https://localhost:8080/",
     "height": 206
    },
    "id": "bY14TYfkvQlg",
    "outputId": "39a20308-1ae5-4f01-9325-09cb1fd63427"
   },
   "outputs": [
    {
     "data": {
      "text/html": [
       "<div>\n",
       "<style scoped>\n",
       "    .dataframe tbody tr th:only-of-type {\n",
       "        vertical-align: middle;\n",
       "    }\n",
       "\n",
       "    .dataframe tbody tr th {\n",
       "        vertical-align: top;\n",
       "    }\n",
       "\n",
       "    .dataframe thead th {\n",
       "        text-align: right;\n",
       "    }\n",
       "</style>\n",
       "<table border=\"1\" class=\"dataframe\">\n",
       "  <thead>\n",
       "    <tr style=\"text-align: right;\">\n",
       "      <th></th>\n",
       "      <th>municipality_code</th>\n",
       "      <th>year</th>\n",
       "      <th>population</th>\n",
       "    </tr>\n",
       "  </thead>\n",
       "  <tbody>\n",
       "    <tr>\n",
       "      <th>0</th>\n",
       "      <td>04213</td>\n",
       "      <td>1968</td>\n",
       "      <td>0.0</td>\n",
       "    </tr>\n",
       "    <tr>\n",
       "      <th>1</th>\n",
       "      <td>05137</td>\n",
       "      <td>1968</td>\n",
       "      <td>0.0</td>\n",
       "    </tr>\n",
       "    <tr>\n",
       "      <th>2</th>\n",
       "      <td>55039</td>\n",
       "      <td>1968</td>\n",
       "      <td>0.0</td>\n",
       "    </tr>\n",
       "    <tr>\n",
       "      <th>3</th>\n",
       "      <td>55050</td>\n",
       "      <td>1968</td>\n",
       "      <td>0.0</td>\n",
       "    </tr>\n",
       "    <tr>\n",
       "      <th>4</th>\n",
       "      <td>55239</td>\n",
       "      <td>1968</td>\n",
       "      <td>0.0</td>\n",
       "    </tr>\n",
       "  </tbody>\n",
       "</table>\n",
       "</div>"
      ],
      "text/plain": [
       "  municipality_code  year  population\n",
       "0             04213  1968         0.0\n",
       "1             05137  1968         0.0\n",
       "2             55039  1968         0.0\n",
       "3             55050  1968         0.0\n",
       "4             55239  1968         0.0"
      ]
     },
     "execution_count": 31,
     "metadata": {},
     "output_type": "execute_result"
    }
   ],
   "source": [
    "population_df.head()"
   ]
  },
  {
   "cell_type": "code",
   "execution_count": 32,
   "metadata": {},
   "outputs": [
    {
     "data": {
      "text/plain": [
       "array([1968, 1975, 1982, 1990, 1999, 2006, 2007, 2008, 2009, 2010, 2011,\n",
       "       2012, 2013, 2014, 2015, 2016, 2017, 2018, 2019])"
      ]
     },
     "execution_count": 32,
     "metadata": {},
     "output_type": "execute_result"
    }
   ],
   "source": [
    "population_df[\"year\"].unique()"
   ]
  },
  {
   "cell_type": "code",
   "execution_count": 33,
   "metadata": {
    "colab": {
     "base_uri": "https://localhost:8080/",
     "height": 203
    },
    "id": "I-pMVeWxvYwq",
    "outputId": "03fafca2-5cc8-4599-bc15-ba6378f2ce82"
   },
   "outputs": [
    {
     "data": {
      "text/plain": [
       "<bound method Series.sum of 0         False\n",
       "1         False\n",
       "2         False\n",
       "3         False\n",
       "4         False\n",
       "          ...  \n",
       "689490    False\n",
       "689491    False\n",
       "689492    False\n",
       "689493    False\n",
       "689494    False\n",
       "Length: 689495, dtype: bool>"
      ]
     },
     "execution_count": 33,
     "metadata": {},
     "output_type": "execute_result"
    }
   ],
   "source": [
    "# ??? DOUBLONS !\n",
    "population_df.duplicated().sum"
   ]
  },
  {
   "cell_type": "code",
   "execution_count": 34,
   "metadata": {
    "colab": {
     "base_uri": "https://localhost:8080/"
    },
    "id": "QuhJaqpqpwYZ",
    "outputId": "41ff04cd-5e69-4e4f-a496-dea697524b58"
   },
   "outputs": [
    {
     "name": "stdout",
     "output_type": "stream",
     "text": [
      "<class 'pandas.core.frame.DataFrame'>\n",
      "RangeIndex: 689495 entries, 0 to 689494\n",
      "Data columns (total 3 columns):\n",
      " #   Column             Non-Null Count   Dtype  \n",
      "---  ------             --------------   -----  \n",
      " 0   municipality_code  689495 non-null  object \n",
      " 1   year               689495 non-null  int64  \n",
      " 2   population         689495 non-null  float64\n",
      "dtypes: float64(1), int64(1), object(1)\n",
      "memory usage: 15.8+ MB\n"
     ]
    },
    {
     "data": {
      "text/plain": [
       "municipality_code    0\n",
       "year                 0\n",
       "population           0\n",
       "dtype: int64"
      ]
     },
     "execution_count": 34,
     "metadata": {},
     "output_type": "execute_result"
    }
   ],
   "source": [
    "population_df.info() #colonne YEAR en format INT64\n",
    "population_df.isnull().sum()"
   ]
  },
  {
   "cell_type": "markdown",
   "metadata": {
    "id": "DEROdiJirK6M",
    "jp-MarkdownHeadingCollapsed": true
   },
   "source": [
    "#### DF POVERTY"
   ]
  },
  {
   "cell_type": "code",
   "execution_count": 35,
   "metadata": {
    "colab": {
     "base_uri": "https://localhost:8080/",
     "height": 206
    },
    "id": "ysfKTf87vxlT",
    "outputId": "e80b23d1-1167-4868-df83-7c2d278f823b"
   },
   "outputs": [
    {
     "data": {
      "text/html": [
       "<div>\n",
       "<style scoped>\n",
       "    .dataframe tbody tr th:only-of-type {\n",
       "        vertical-align: middle;\n",
       "    }\n",
       "\n",
       "    .dataframe tbody tr th {\n",
       "        vertical-align: top;\n",
       "    }\n",
       "\n",
       "    .dataframe thead th {\n",
       "        text-align: right;\n",
       "    }\n",
       "</style>\n",
       "<table border=\"1\" class=\"dataframe\">\n",
       "  <thead>\n",
       "    <tr style=\"text-align: right;\">\n",
       "      <th></th>\n",
       "      <th>municipality_code</th>\n",
       "      <th>year</th>\n",
       "      <th>population</th>\n",
       "    </tr>\n",
       "  </thead>\n",
       "  <tbody>\n",
       "    <tr>\n",
       "      <th>0</th>\n",
       "      <td>04213</td>\n",
       "      <td>1968</td>\n",
       "      <td>0.0</td>\n",
       "    </tr>\n",
       "    <tr>\n",
       "      <th>1</th>\n",
       "      <td>05137</td>\n",
       "      <td>1968</td>\n",
       "      <td>0.0</td>\n",
       "    </tr>\n",
       "    <tr>\n",
       "      <th>2</th>\n",
       "      <td>55039</td>\n",
       "      <td>1968</td>\n",
       "      <td>0.0</td>\n",
       "    </tr>\n",
       "    <tr>\n",
       "      <th>3</th>\n",
       "      <td>55050</td>\n",
       "      <td>1968</td>\n",
       "      <td>0.0</td>\n",
       "    </tr>\n",
       "    <tr>\n",
       "      <th>4</th>\n",
       "      <td>55239</td>\n",
       "      <td>1968</td>\n",
       "      <td>0.0</td>\n",
       "    </tr>\n",
       "  </tbody>\n",
       "</table>\n",
       "</div>"
      ],
      "text/plain": [
       "  municipality_code  year  population\n",
       "0             04213  1968         0.0\n",
       "1             05137  1968         0.0\n",
       "2             55039  1968         0.0\n",
       "3             55050  1968         0.0\n",
       "4             55239  1968         0.0"
      ]
     },
     "execution_count": 35,
     "metadata": {},
     "output_type": "execute_result"
    }
   ],
   "source": [
    "poverty_df.head()"
   ]
  },
  {
   "cell_type": "code",
   "execution_count": 36,
   "metadata": {},
   "outputs": [
    {
     "data": {
      "text/plain": [
       "array([1968, 1975, 1982, 1990, 1999, 2006, 2007, 2008, 2009, 2010, 2011,\n",
       "       2012, 2013, 2014, 2015, 2016, 2017, 2018, 2019])"
      ]
     },
     "execution_count": 36,
     "metadata": {},
     "output_type": "execute_result"
    }
   ],
   "source": [
    "poverty_df[\"year\"].unique()"
   ]
  },
  {
   "cell_type": "code",
   "execution_count": 37,
   "metadata": {
    "colab": {
     "base_uri": "https://localhost:8080/"
    },
    "id": "H568HRtBv0YC",
    "outputId": "00e3d08f-98bc-4dec-a905-06b945af9c94"
   },
   "outputs": [
    {
     "data": {
      "text/plain": [
       "np.int64(0)"
      ]
     },
     "execution_count": 37,
     "metadata": {},
     "output_type": "execute_result"
    }
   ],
   "source": [
    "# 0 DOUBLONS !\n",
    "poverty_df.duplicated().sum()"
   ]
  },
  {
   "cell_type": "code",
   "execution_count": 38,
   "metadata": {
    "colab": {
     "base_uri": "https://localhost:8080/"
    },
    "id": "DPtRin_Rp-SY",
    "outputId": "90b33d08-6cc5-4442-eeed-2d1153dc9158"
   },
   "outputs": [
    {
     "name": "stdout",
     "output_type": "stream",
     "text": [
      "<class 'pandas.core.frame.DataFrame'>\n",
      "RangeIndex: 689495 entries, 0 to 689494\n",
      "Data columns (total 3 columns):\n",
      " #   Column             Non-Null Count   Dtype  \n",
      "---  ------             --------------   -----  \n",
      " 0   municipality_code  689495 non-null  object \n",
      " 1   year               689495 non-null  int64  \n",
      " 2   population         689495 non-null  float64\n",
      "dtypes: float64(1), int64(1), object(1)\n",
      "memory usage: 15.8+ MB\n"
     ]
    },
    {
     "data": {
      "text/plain": [
       "municipality_code    0\n",
       "year                 0\n",
       "population           0\n",
       "dtype: int64"
      ]
     },
     "execution_count": 38,
     "metadata": {},
     "output_type": "execute_result"
    }
   ],
   "source": [
    "poverty_df.info() # YEAR est en type INT64 et non DATE\n",
    "poverty_df.isnull().sum()"
   ]
  },
  {
   "cell_type": "markdown",
   "metadata": {
    "id": "-pWIMamvrMgo"
   },
   "source": [
    "#### DF REAL ESTATE"
   ]
  },
  {
   "cell_type": "code",
   "execution_count": 39,
   "metadata": {
    "colab": {
     "base_uri": "https://localhost:8080/",
     "height": 226
    },
    "id": "Y-1qNGC0wj4k",
    "outputId": "1aa9db77-4da4-4e12-c2ec-180e2b39ce46"
   },
   "outputs": [
    {
     "data": {
      "text/html": [
       "<div>\n",
       "<style scoped>\n",
       "    .dataframe tbody tr th:only-of-type {\n",
       "        vertical-align: middle;\n",
       "    }\n",
       "\n",
       "    .dataframe tbody tr th {\n",
       "        vertical-align: top;\n",
       "    }\n",
       "\n",
       "    .dataframe thead th {\n",
       "        text-align: right;\n",
       "    }\n",
       "</style>\n",
       "<table border=\"1\" class=\"dataframe\">\n",
       "  <thead>\n",
       "    <tr style=\"text-align: right;\">\n",
       "      <th></th>\n",
       "      <th>municipality_code</th>\n",
       "      <th>intensite_tension_immo</th>\n",
       "      <th>rental_max_apartment</th>\n",
       "      <th>rental_min_apartment</th>\n",
       "      <th>rental_med_house</th>\n",
       "      <th>rental_max_house</th>\n",
       "      <th>rental_min_house</th>\n",
       "      <th>rental_med_all</th>\n",
       "      <th>rental_max_all</th>\n",
       "      <th>rental_min_all</th>\n",
       "    </tr>\n",
       "  </thead>\n",
       "  <tbody>\n",
       "    <tr>\n",
       "      <th>0</th>\n",
       "      <td>57133</td>\n",
       "      <td>8</td>\n",
       "      <td>12.27</td>\n",
       "      <td>9.07</td>\n",
       "      <td>9.19</td>\n",
       "      <td>14.45</td>\n",
       "      <td>6.64</td>\n",
       "      <td>9.53</td>\n",
       "      <td>13.77</td>\n",
       "      <td>7.25</td>\n",
       "    </tr>\n",
       "    <tr>\n",
       "      <th>1</th>\n",
       "      <td>57446</td>\n",
       "      <td>8</td>\n",
       "      <td>18.22</td>\n",
       "      <td>7.69</td>\n",
       "      <td>10.92</td>\n",
       "      <td>14.16</td>\n",
       "      <td>7.77</td>\n",
       "      <td>11.09</td>\n",
       "      <td>15.97</td>\n",
       "      <td>7.73</td>\n",
       "    </tr>\n",
       "    <tr>\n",
       "      <th>2</th>\n",
       "      <td>77013</td>\n",
       "      <td>9</td>\n",
       "      <td>18.30</td>\n",
       "      <td>8.39</td>\n",
       "      <td>12.20</td>\n",
       "      <td>16.71</td>\n",
       "      <td>9.21</td>\n",
       "      <td>12.26</td>\n",
       "      <td>16.75</td>\n",
       "      <td>9.19</td>\n",
       "    </tr>\n",
       "    <tr>\n",
       "      <th>3</th>\n",
       "      <td>77026</td>\n",
       "      <td>9</td>\n",
       "      <td>15.76</td>\n",
       "      <td>6.28</td>\n",
       "      <td>9.51</td>\n",
       "      <td>13.20</td>\n",
       "      <td>7.04</td>\n",
       "      <td>9.53</td>\n",
       "      <td>13.23</td>\n",
       "      <td>7.03</td>\n",
       "    </tr>\n",
       "    <tr>\n",
       "      <th>4</th>\n",
       "      <td>77072</td>\n",
       "      <td>9</td>\n",
       "      <td>17.50</td>\n",
       "      <td>7.69</td>\n",
       "      <td>11.47</td>\n",
       "      <td>15.75</td>\n",
       "      <td>8.21</td>\n",
       "      <td>11.47</td>\n",
       "      <td>15.75</td>\n",
       "      <td>8.21</td>\n",
       "    </tr>\n",
       "  </tbody>\n",
       "</table>\n",
       "</div>"
      ],
      "text/plain": [
       "  municipality_code  intensite_tension_immo  rental_max_apartment  \\\n",
       "0             57133                       8                 12.27   \n",
       "1             57446                       8                 18.22   \n",
       "2             77013                       9                 18.30   \n",
       "3             77026                       9                 15.76   \n",
       "4             77072                       9                 17.50   \n",
       "\n",
       "   rental_min_apartment  rental_med_house  rental_max_house  rental_min_house  \\\n",
       "0                  9.07              9.19             14.45              6.64   \n",
       "1                  7.69             10.92             14.16              7.77   \n",
       "2                  8.39             12.20             16.71              9.21   \n",
       "3                  6.28              9.51             13.20              7.04   \n",
       "4                  7.69             11.47             15.75              8.21   \n",
       "\n",
       "   rental_med_all  rental_max_all  rental_min_all  \n",
       "0            9.53           13.77            7.25  \n",
       "1           11.09           15.97            7.73  \n",
       "2           12.26           16.75            9.19  \n",
       "3            9.53           13.23            7.03  \n",
       "4           11.47           15.75            8.21  "
      ]
     },
     "execution_count": 39,
     "metadata": {},
     "output_type": "execute_result"
    }
   ],
   "source": [
    "real_estate_df.head()"
   ]
  },
  {
   "cell_type": "code",
   "execution_count": 40,
   "metadata": {
    "colab": {
     "base_uri": "https://localhost:8080/"
    },
    "id": "hdA8Zaqzw033",
    "outputId": "35e8873a-e995-4d99-ae66-6d4c7c87e0d0"
   },
   "outputs": [
    {
     "data": {
      "text/plain": [
       "np.int64(0)"
      ]
     },
     "execution_count": 40,
     "metadata": {},
     "output_type": "execute_result"
    }
   ],
   "source": [
    "# 0 DOUBLONS !\n",
    "real_estate_df.duplicated().sum()"
   ]
  },
  {
   "cell_type": "code",
   "execution_count": 41,
   "metadata": {
    "colab": {
     "base_uri": "https://localhost:8080/"
    },
    "id": "NQ4oOzPMqQ8Y",
    "outputId": "d7e1ec7d-0343-4727-be4b-0ba17a623226"
   },
   "outputs": [
    {
     "name": "stdout",
     "output_type": "stream",
     "text": [
      "<class 'pandas.core.frame.DataFrame'>\n",
      "RangeIndex: 34441 entries, 0 to 34440\n",
      "Data columns (total 10 columns):\n",
      " #   Column                  Non-Null Count  Dtype  \n",
      "---  ------                  --------------  -----  \n",
      " 0   municipality_code       34441 non-null  object \n",
      " 1   intensite_tension_immo  34441 non-null  int64  \n",
      " 2   rental_max_apartment    34441 non-null  float64\n",
      " 3   rental_min_apartment    34441 non-null  float64\n",
      " 4   rental_med_house        34421 non-null  float64\n",
      " 5   rental_max_house        34421 non-null  float64\n",
      " 6   rental_min_house        34421 non-null  float64\n",
      " 7   rental_med_all          34441 non-null  float64\n",
      " 8   rental_max_all          34441 non-null  float64\n",
      " 9   rental_min_all          34441 non-null  float64\n",
      "dtypes: float64(8), int64(1), object(1)\n",
      "memory usage: 2.6+ MB\n"
     ]
    },
    {
     "data": {
      "text/plain": [
       "municipality_code          0\n",
       "intensite_tension_immo     0\n",
       "rental_max_apartment       0\n",
       "rental_min_apartment       0\n",
       "rental_med_house          20\n",
       "rental_max_house          20\n",
       "rental_min_house          20\n",
       "rental_med_all             0\n",
       "rental_max_all             0\n",
       "rental_min_all             0\n",
       "dtype: int64"
      ]
     },
     "execution_count": 41,
     "metadata": {},
     "output_type": "execute_result"
    }
   ],
   "source": [
    "real_estate_df.info()\n",
    "real_estate_df.isnull().sum()"
   ]
  },
  {
   "cell_type": "markdown",
   "metadata": {
    "id": "i0j9hJqlFaEc"
   },
   "source": [
    "# 🧹 **DATA CLEANING**"
   ]
  },
  {
   "cell_type": "markdown",
   "metadata": {
    "id": "FZ-ON4l9sVwu"
   },
   "source": [
    "### CLEANING"
   ]
  },
  {
   "cell_type": "markdown",
   "metadata": {
    "id": "FZ-ON4l9sVwu"
   },
   "source": [
    "##### DF_SALES CLEANING"
   ]
  },
  {
   "cell_type": "code",
   "execution_count": 42,
   "metadata": {
    "id": "FclUrSzCGdSX"
   },
   "outputs": [
    {
     "data": {
      "text/plain": [
       "(3821729, 13)"
      ]
     },
     "execution_count": 42,
     "metadata": {},
     "output_type": "execute_result"
    }
   ],
   "source": [
    "# SALES_DF: Suppression des doublons > nous passons de 4,3M de lignes à 3,821M\n",
    "sales_df = sales_df.drop_duplicates()\n",
    "sales_df.shape"
   ]
  },
  {
   "cell_type": "code",
   "execution_count": 43,
   "metadata": {},
   "outputs": [
    {
     "data": {
      "text/plain": [
       "np.int64(0)"
      ]
     },
     "execution_count": 43,
     "metadata": {},
     "output_type": "execute_result"
    }
   ],
   "source": [
    "# SALES_DF: Check si les doublons on été enlevés : OK\n",
    "sales_df.duplicated().sum()"
   ]
  },
  {
   "cell_type": "code",
   "execution_count": 44,
   "metadata": {},
   "outputs": [
    {
     "data": {
      "text/plain": [
       "(3448398, 13)"
      ]
     },
     "execution_count": 44,
     "metadata": {},
     "output_type": "execute_result"
    }
   ],
   "source": [
    "# SALES_DF: Suppression des prix au m2 supérieur à 30K€ et inférieur à 1K€ > nous passons à 3,3399M de lignes\n",
    "sales_df = sales_df[(sales_df['sales_price_m2'] <= 30000) & (sales_df['sales_price_m2'] >= 1000)]\n",
    "sales_df.shape"
   ]
  },
  {
   "cell_type": "code",
   "execution_count": 45,
   "metadata": {},
   "outputs": [],
   "source": [
    "# SALES_DF:\n",
    "s2 = (sales_df['sales_amount']\n",
    "             .value_counts()\n",
    "             .loc[sales_df['sales_amount'].value_counts() > 10])"
   ]
  },
  {
   "cell_type": "code",
   "execution_count": 46,
   "metadata": {},
   "outputs": [
    {
     "data": {
      "text/plain": [
       "sales_amount\n",
       "199999    45\n",
       "231132    37\n",
       "125581    35\n",
       "161865    34\n",
       "139999    34\n",
       "          ..\n",
       "114709    11\n",
       "74729     11\n",
       "142857    11\n",
       "121325    11\n",
       "86136     11\n",
       "Name: count, Length: 150, dtype: int64"
      ]
     },
     "execution_count": 46,
     "metadata": {},
     "output_type": "execute_result"
    }
   ],
   "source": [
    "# SALES_DF:\n",
    "s2.index = s2.index.astype(int)\n",
    "s2.loc[(s2.index % 10) != 0]"
   ]
  },
  {
   "cell_type": "code",
   "execution_count": 47,
   "metadata": {},
   "outputs": [
    {
     "data": {
      "text/plain": [
       "(3448398, 13)"
      ]
     },
     "execution_count": 47,
     "metadata": {},
     "output_type": "execute_result"
    }
   ],
   "source": [
    "# SALES_DF:\n",
    "sales_df = sales_df[sales_df['sales_amount'] > 1] # on enlève les 166 fois ou sales_amount = 1€\n",
    "sales_df.shape"
   ]
  },
  {
   "cell_type": "code",
   "execution_count": 48,
   "metadata": {},
   "outputs": [
    {
     "name": "stdout",
     "output_type": "stream",
     "text": [
      "<class 'pandas.core.frame.DataFrame'>\n",
      "Index: 3448398 entries, 0 to 4331939\n",
      "Data columns (total 13 columns):\n",
      " #   Column                     Dtype         \n",
      "---  ------                     -----         \n",
      " 0   sales_date                 datetime64[ns]\n",
      " 1   sales_amount               float64       \n",
      " 2   street_number              float64       \n",
      " 3   street_code                object        \n",
      " 4   street_name                object        \n",
      " 5   nom_commune                object        \n",
      " 6   municipality_code          object        \n",
      " 7   premise_type               object        \n",
      " 8   surface                    float64       \n",
      " 9   number_of_principal_rooms  int64         \n",
      " 10  sales_price_m2             float64       \n",
      " 11  latitude                   float64       \n",
      " 12  longitude                  float64       \n",
      "dtypes: datetime64[ns](1), float64(6), int64(1), object(5)\n",
      "memory usage: 368.3+ MB\n"
     ]
    }
   ],
   "source": [
    "# SALES_DF: changement du type sales_date en datetime\n",
    "sales_df['sales_date'] = pd.to_datetime(sales_df['sales_date'])\n",
    "sales_df.info()"
   ]
  },
  {
   "cell_type": "code",
   "execution_count": 49,
   "metadata": {},
   "outputs": [
    {
     "data": {
      "text/html": [
       "<iframe\n",
       "    scrolling=\"no\"\n",
       "    width=\"100%\"\n",
       "    height=\"545px\"\n",
       "    src=\"iframe_figures/figure_49.html\"\n",
       "    frameborder=\"0\"\n",
       "    allowfullscreen\n",
       "></iframe>\n"
      ]
     },
     "metadata": {},
     "output_type": "display_data"
    }
   ],
   "source": [
    "# SALES_DF: Création de l'histogramme avec Plotly Express\n",
    "fig = px.histogram(sales_df, x='sales_price_m2', nbins=700, title='Distribution de sales_price_m2')\n",
    "\n",
    "# SALES_DF: Affichage du graphique\n",
    "fig.show()"
   ]
  },
  {
   "cell_type": "code",
   "execution_count": 50,
   "metadata": {},
   "outputs": [
    {
     "data": {
      "text/html": [
       "<iframe\n",
       "    scrolling=\"no\"\n",
       "    width=\"100%\"\n",
       "    height=\"545px\"\n",
       "    src=\"iframe_figures/figure_50.html\"\n",
       "    frameborder=\"0\"\n",
       "    allowfullscreen\n",
       "></iframe>\n"
      ]
     },
     "metadata": {},
     "output_type": "display_data"
    }
   ],
   "source": [
    "# SALES_DF: Création de l'histogramme avec Plotly Express\n",
    "fig = px.histogram(sales_df, x='sales_amount', nbins=400, title='Distribution de sales')\n",
    "\n",
    "# SALES_DF: Affichage du graphique\n",
    "fig.show()"
   ]
  },
  {
   "cell_type": "markdown",
   "metadata": {
    "id": "XYnKDVU0sb0S"
   },
   "source": [
    "##### DF_SALARY CLEANING"
   ]
  },
  {
   "cell_type": "code",
   "execution_count": 51,
   "metadata": {},
   "outputs": [
    {
     "data": {
      "text/html": [
       "<div>\n",
       "<style scoped>\n",
       "    .dataframe tbody tr th:only-of-type {\n",
       "        vertical-align: middle;\n",
       "    }\n",
       "\n",
       "    .dataframe tbody tr th {\n",
       "        vertical-align: top;\n",
       "    }\n",
       "\n",
       "    .dataframe thead th {\n",
       "        text-align: right;\n",
       "    }\n",
       "</style>\n",
       "<table border=\"1\" class=\"dataframe\">\n",
       "  <thead>\n",
       "    <tr style=\"text-align: right;\">\n",
       "      <th></th>\n",
       "      <th>municipality_code</th>\n",
       "      <th>avg_net_salary</th>\n",
       "      <th>year</th>\n",
       "    </tr>\n",
       "  </thead>\n",
       "  <tbody>\n",
       "    <tr>\n",
       "      <th>0</th>\n",
       "      <td>01004</td>\n",
       "      <td>26471.0</td>\n",
       "      <td>2019</td>\n",
       "    </tr>\n",
       "    <tr>\n",
       "      <th>1</th>\n",
       "      <td>01007</td>\n",
       "      <td>26341.0</td>\n",
       "      <td>2019</td>\n",
       "    </tr>\n",
       "    <tr>\n",
       "      <th>2</th>\n",
       "      <td>01014</td>\n",
       "      <td>25897.0</td>\n",
       "      <td>2019</td>\n",
       "    </tr>\n",
       "    <tr>\n",
       "      <th>3</th>\n",
       "      <td>01024</td>\n",
       "      <td>25695.0</td>\n",
       "      <td>2019</td>\n",
       "    </tr>\n",
       "    <tr>\n",
       "      <th>4</th>\n",
       "      <td>01025</td>\n",
       "      <td>26055.0</td>\n",
       "      <td>2019</td>\n",
       "    </tr>\n",
       "  </tbody>\n",
       "</table>\n",
       "</div>"
      ],
      "text/plain": [
       "  municipality_code  avg_net_salary  year\n",
       "0             01004         26471.0  2019\n",
       "1             01007         26341.0  2019\n",
       "2             01014         25897.0  2019\n",
       "3             01024         25695.0  2019\n",
       "4             01025         26055.0  2019"
      ]
     },
     "execution_count": 51,
     "metadata": {},
     "output_type": "execute_result"
    }
   ],
   "source": [
    "# DF_SALARY: ROUND avg_net_salary\n",
    "salary_df['avg_net_salary'] = salary_df['avg_net_salary'].round()\n",
    "salary_df.head()"
   ]
  },
  {
   "cell_type": "markdown",
   "metadata": {
    "id": "XYnKDVU0sb0S",
    "jp-MarkdownHeadingCollapsed": true
   },
   "source": [
    "##### DF_REAL_ESTATE CLEANING"
   ]
  },
  {
   "cell_type": "code",
   "execution_count": 52,
   "metadata": {},
   "outputs": [
    {
     "data": {
      "text/plain": [
       "municipality_code         0\n",
       "intensite_tension_immo    0\n",
       "rental_max_apartment      0\n",
       "rental_min_apartment      0\n",
       "rental_med_all            0\n",
       "rental_max_all            0\n",
       "rental_min_all            0\n",
       "dtype: int64"
      ]
     },
     "execution_count": 52,
     "metadata": {},
     "output_type": "execute_result"
    }
   ],
   "source": [
    "# DF_REAL_ESTATE: suppression des nulls\n",
    "real_estate_df = real_estate_df.dropna(axis=1)\n",
    "real_estate_df.isnull().sum()"
   ]
  },
  {
   "cell_type": "markdown",
   "metadata": {
    "id": "XYnKDVU0sb0S",
    "jp-MarkdownHeadingCollapsed": true
   },
   "source": [
    "##### DF_SITE CLEANING"
   ]
  },
  {
   "cell_type": "code",
   "execution_count": 56,
   "metadata": {},
   "outputs": [
    {
     "name": "stdout",
     "output_type": "stream",
     "text": [
      "poi\n",
      "castle            5611\n",
      "2                 5207\n",
      "water             4500\n",
      "museum            3400\n",
      "theatre           2439\n",
      "forest            2233\n",
      "beach             1010\n",
      "protected_area     927\n",
      "wetland            784\n",
      "cinema             667\n",
      "vineyard           641\n",
      "golf_course        612\n",
      "theme_park         358\n",
      "cliff              337\n",
      "marina             255\n",
      "water_park         239\n",
      "1                  236\n",
      "zoo                234\n",
      "valley             223\n",
      "ridge              213\n",
      "islet              163\n",
      "casino             158\n",
      "volcano            145\n",
      "park               132\n",
      "meadow              78\n",
      "monument            76\n",
      "sand                35\n",
      "heritage            32\n",
      "viewpoint           21\n",
      "cave_entrance       15\n",
      "wreck               12\n",
      "rock                11\n",
      "waterfall           10\n",
      "attraction           8\n",
      "dune                 5\n",
      "national_park        4\n",
      "allotments           2\n",
      "geyser               1\n",
      "Name: count, dtype: int64\n",
      "data_inside_parenthesis\n",
      "                       9899\n",
      "Monument historique    5090\n",
      "Eau                    4102\n",
      "Musée                  1518\n",
      "Forêt                  1498\n",
      "Théâtre                1374\n",
      "Château                1278\n",
      "Zone protégée           910\n",
      "Zone humide             759\n",
      "Vignoble                620\n",
      "Terrain de golf         608\n",
      "Cinéma                  463\n",
      "Parc à thème            355\n",
      "Falaise                 276\n",
      "Patrimoine mondial      232\n",
      "Parc aquatique          231\n",
      "Port de plaisance       229\n",
      "Plage                   200\n",
      "Vallée                  200\n",
      "Zoo                     191\n",
      "Îlot                    151\n",
      "Volcan                  142\n",
      "Monument                 96\n",
      "Crête                    93\n",
      "Bocage                   73\n",
      "Parc                     61\n",
      "Sable                    30\n",
      "ancien                   27\n",
      "Point de vue             21\n",
      "Casino                   21\n",
      "ancienne                 19\n",
      "Entrée de grotte         15\n",
      "Épave                    10\n",
      "Chute d'eau              10\n",
      "ruines                    9\n",
      "Attraction                8\n",
      "A                         7\n",
      "Roche                     7\n",
      "B                         6\n",
      "aire d'adhésion           5\n",
      "vestiges                  5\n",
      "cœur                      3\n",
      "zone centrale             3\n",
      "privé                     3\n",
      "Lacanau                   3\n",
      "1er Cru                   2\n",
      "herbe                     2\n",
      "Parc national             2\n",
      "s                         2\n",
      "restes                    2\n",
      "Name: count, dtype: int64\n"
     ]
    }
   ],
   "source": [
    "# SITE_DF: tri avec les données entre parenthèses de la colonne \"name\" inclues\n",
    "\n",
    "import re\n",
    "\n",
    "site_df['data_inside_parenthesis'] = site_df['name'].apply(lambda x: re.search(r'\\((.*?)\\)', x).group(1) if re.search(r'\\((.*?)\\)', x) else '')\n",
    "site_df\n",
    "\n",
    "#suppression de la colonne \"name\" dans un second temps\n",
    "\n",
    "site_df.drop(columns=[\"name\"])\n",
    "\n",
    "#check pour savoir les informations présentes dans la colonne \"poi\", et si elles correspondent aux valeurs présentes dans la colonne \"type\"\n",
    "print (site_df[\"poi\"].value_counts())\n",
    "print (site_df[\"data_inside_parenthesis\"].value_counts().head(50))\n",
    "\n",
    "#faire un mapping des colonnes poi, qui sont en fait plus pertinentes que celles de la colonne \"type\""
   ]
  },
  {
   "cell_type": "code",
   "execution_count": 57,
   "metadata": {},
   "outputs": [
    {
     "data": {
      "text/plain": [
       "{'1': 'toto',\n",
       " '2': 'toto',\n",
       " 'zoo': 'toto',\n",
       " 'dune': 'toto',\n",
       " 'park': 'toto',\n",
       " 'rock': 'toto',\n",
       " 'sand': 'toto',\n",
       " 'beach': 'toto',\n",
       " 'cliff': 'toto',\n",
       " 'islet': 'toto',\n",
       " 'ridge': 'toto',\n",
       " 'water': 'toto',\n",
       " 'wreck': 'toto',\n",
       " 'casino': 'toto',\n",
       " 'castle': 'toto',\n",
       " 'cinema': 'toto',\n",
       " 'forest': 'toto',\n",
       " 'geyser': 'toto',\n",
       " 'marina': 'toto',\n",
       " 'meadow': 'toto',\n",
       " 'museum': 'toto',\n",
       " 'valley': 'toto',\n",
       " 'theatre': 'toto',\n",
       " 'volcano': 'toto',\n",
       " 'wetland': 'toto',\n",
       " 'heritage': 'toto',\n",
       " 'monument': 'toto',\n",
       " 'vineyard': 'toto',\n",
       " 'viewpoint': 'toto',\n",
       " 'waterfall': 'toto',\n",
       " 'allotments': 'toto',\n",
       " 'attraction': 'toto',\n",
       " 'theme_park': 'toto',\n",
       " 'water_park': 'toto',\n",
       " 'golf_course': 'toto',\n",
       " 'cave_entrance': 'toto',\n",
       " 'national_park': 'toto',\n",
       " 'protected_area': 'toto'}"
      ]
     },
     "execution_count": 57,
     "metadata": {},
     "output_type": "execute_result"
    }
   ],
   "source": [
    "# SITE_DF: création d'un dictionnaire intégrant toutes les différentes valeurs inclues dans la colonne \"poi\"\n",
    "s = site_df[\"poi\"].value_counts()[site_df[\"poi\"]]\n",
    "{k: \"toto\" for k in s.index}"
   ]
  },
  {
   "cell_type": "code",
   "execution_count": 58,
   "metadata": {},
   "outputs": [],
   "source": [
    "# SITE_DF: création d'un dictionnaire avec les catégories associées aux valeurs de la colonne POI\n",
    "\n",
    "category_dict = {'1': 'Patrimoine',\n",
    " '2': 'Patrimoine',\n",
    " 'zoo': 'Entertainment',\n",
    " 'dune': 'Nature',\n",
    " 'park': 'Nature',\n",
    " 'rock': 'Nature',\n",
    " 'sand': 'Nature',\n",
    " 'beach': 'Nature',\n",
    " 'cliff': 'Nature',\n",
    " 'islet': 'Nature',\n",
    " 'ridge': 'Nature',\n",
    " 'water': 'Nature',\n",
    " 'wreck': 'Patrimoine',\n",
    " 'casino': 'Entertainment',\n",
    " 'castle': 'Patrimoine',\n",
    " 'cinema': 'Culture',\n",
    " 'forest': 'Nature',\n",
    " 'geyser': 'Nature',\n",
    " 'marina': 'Nature',\n",
    " 'meadow': 'Nature',\n",
    " 'museum': 'Culture',\n",
    " 'valley': 'Nature',\n",
    " 'theatre': 'Culture',\n",
    " 'volcano': 'Nature',\n",
    " 'wetland': 'Nature',\n",
    " 'heritage': 'Patrimoine',\n",
    " 'monument': 'Patrimoine',\n",
    " 'vineyard': 'Nature',\n",
    " 'viewpoint': 'Nature',\n",
    " 'waterfall': 'Nature',\n",
    " 'allotments': 'Patrimoine',\n",
    " 'attraction': 'Entertainment',\n",
    " 'theme_park': 'Entertainment',\n",
    " 'water_park': 'Entertainment',\n",
    " 'golf_course': 'Entertainment',\n",
    " 'cave_entrance': 'Culture',\n",
    " 'national_park': 'Nature',\n",
    " 'protected_area': 'Nature'}"
   ]
  },
  {
   "cell_type": "code",
   "execution_count": 59,
   "metadata": {},
   "outputs": [
    {
     "data": {
      "text/html": [
       "<div>\n",
       "<style scoped>\n",
       "    .dataframe tbody tr th:only-of-type {\n",
       "        vertical-align: middle;\n",
       "    }\n",
       "\n",
       "    .dataframe tbody tr th {\n",
       "        vertical-align: top;\n",
       "    }\n",
       "\n",
       "    .dataframe thead th {\n",
       "        text-align: right;\n",
       "    }\n",
       "</style>\n",
       "<table border=\"1\" class=\"dataframe\">\n",
       "  <thead>\n",
       "    <tr style=\"text-align: right;\">\n",
       "      <th></th>\n",
       "      <th>poi</th>\n",
       "      <th>name</th>\n",
       "      <th>latitude</th>\n",
       "      <th>longitude</th>\n",
       "      <th>municipality_code</th>\n",
       "      <th>importance</th>\n",
       "      <th>name_reprocessed</th>\n",
       "      <th>data_inside_parenthesis</th>\n",
       "      <th>Category</th>\n",
       "    </tr>\n",
       "  </thead>\n",
       "  <tbody>\n",
       "    <tr>\n",
       "      <th>0</th>\n",
       "      <td>1</td>\n",
       "      <td>Fortifications de Vauban (Patrimoine mondial)</td>\n",
       "      <td>46.396160</td>\n",
       "      <td>1.472600</td>\n",
       "      <td>36134</td>\n",
       "      <td>0.139527</td>\n",
       "      <td>Fortifications de Vauban</td>\n",
       "      <td>Patrimoine mondial</td>\n",
       "      <td>Patrimoine</td>\n",
       "    </tr>\n",
       "    <tr>\n",
       "      <th>1</th>\n",
       "      <td>1</td>\n",
       "      <td>Chemins de Saint-Jacques-de-Compostelle en Fra...</td>\n",
       "      <td>46.313695</td>\n",
       "      <td>1.478772</td>\n",
       "      <td>23258</td>\n",
       "      <td>0.137821</td>\n",
       "      <td>Chemins de Saint-Jacques-de-Compostelle en Fra...</td>\n",
       "      <td>Patrimoine mondial</td>\n",
       "      <td>Patrimoine</td>\n",
       "    </tr>\n",
       "    <tr>\n",
       "      <th>2</th>\n",
       "      <td>1</td>\n",
       "      <td>Canal du Midi (Patrimoine mondial)</td>\n",
       "      <td>43.332709</td>\n",
       "      <td>3.219890</td>\n",
       "      <td>34032</td>\n",
       "      <td>0.129531</td>\n",
       "      <td>Canal du Midi</td>\n",
       "      <td>Patrimoine mondial</td>\n",
       "      <td>Patrimoine</td>\n",
       "    </tr>\n",
       "    <tr>\n",
       "      <th>3</th>\n",
       "      <td>1</td>\n",
       "      <td>Bassin minier du Nord-Pas de Calais (Patrimoin...</td>\n",
       "      <td>50.455895</td>\n",
       "      <td>2.965034</td>\n",
       "      <td>62427</td>\n",
       "      <td>0.127170</td>\n",
       "      <td>Bassin minier du Nord-Pas de Calais</td>\n",
       "      <td>Patrimoine mondial</td>\n",
       "      <td>Patrimoine</td>\n",
       "    </tr>\n",
       "    <tr>\n",
       "      <th>4</th>\n",
       "      <td>1</td>\n",
       "      <td>Les Causses et les Cévennes, paysage culturel ...</td>\n",
       "      <td>44.346210</td>\n",
       "      <td>3.613406</td>\n",
       "      <td>48050</td>\n",
       "      <td>0.124981</td>\n",
       "      <td>Les Causses et les Cévennes, paysage culturel ...</td>\n",
       "      <td>Patrimoine mondial</td>\n",
       "      <td>Patrimoine</td>\n",
       "    </tr>\n",
       "    <tr>\n",
       "      <th>...</th>\n",
       "      <td>...</td>\n",
       "      <td>...</td>\n",
       "      <td>...</td>\n",
       "      <td>...</td>\n",
       "      <td>...</td>\n",
       "      <td>...</td>\n",
       "      <td>...</td>\n",
       "      <td>...</td>\n",
       "      <td>...</td>\n",
       "    </tr>\n",
       "    <tr>\n",
       "      <th>31029</th>\n",
       "      <td>viewpoint</td>\n",
       "      <td>Tour Eiffel 3e étage (Point de vue)</td>\n",
       "      <td>48.858262</td>\n",
       "      <td>2.294497</td>\n",
       "      <td>75056</td>\n",
       "      <td>0.053782</td>\n",
       "      <td>Tour Eiffel 3e étage</td>\n",
       "      <td>Point de vue</td>\n",
       "      <td>Nature</td>\n",
       "    </tr>\n",
       "    <tr>\n",
       "      <th>31030</th>\n",
       "      <td>theme_park</td>\n",
       "      <td>Jardin d'Acclimatation (Parc à thème)</td>\n",
       "      <td>48.878145</td>\n",
       "      <td>2.264686</td>\n",
       "      <td>75056</td>\n",
       "      <td>0.087097</td>\n",
       "      <td>Jardin d'Acclimatation</td>\n",
       "      <td>Parc à thème</td>\n",
       "      <td>Entertainment</td>\n",
       "    </tr>\n",
       "    <tr>\n",
       "      <th>31031</th>\n",
       "      <td>theme_park</td>\n",
       "      <td>Foire du Trône (Parc à thème)</td>\n",
       "      <td>48.832003</td>\n",
       "      <td>2.404337</td>\n",
       "      <td>75056</td>\n",
       "      <td>0.060000</td>\n",
       "      <td>Foire du Trône</td>\n",
       "      <td>Parc à thème</td>\n",
       "      <td>Entertainment</td>\n",
       "    </tr>\n",
       "    <tr>\n",
       "      <th>31032</th>\n",
       "      <td>golf_course</td>\n",
       "      <td>Golf du Bois de Boulogne (Terrain de golf)</td>\n",
       "      <td>48.857776</td>\n",
       "      <td>2.232651</td>\n",
       "      <td>75056</td>\n",
       "      <td>0.060073</td>\n",
       "      <td>Golf du Bois de Boulogne</td>\n",
       "      <td>Terrain de golf</td>\n",
       "      <td>Entertainment</td>\n",
       "    </tr>\n",
       "    <tr>\n",
       "      <th>31033</th>\n",
       "      <td>protected_area</td>\n",
       "      <td>Paris, rives de la Seine (Zone protégée)</td>\n",
       "      <td>48.860054</td>\n",
       "      <td>2.324448</td>\n",
       "      <td>75056</td>\n",
       "      <td>0.095638</td>\n",
       "      <td>Paris, rives de la Seine</td>\n",
       "      <td>Zone protégée</td>\n",
       "      <td>Nature</td>\n",
       "    </tr>\n",
       "  </tbody>\n",
       "</table>\n",
       "<p>31034 rows × 9 columns</p>\n",
       "</div>"
      ],
      "text/plain": [
       "                  poi                                               name  \\\n",
       "0                   1      Fortifications de Vauban (Patrimoine mondial)   \n",
       "1                   1  Chemins de Saint-Jacques-de-Compostelle en Fra...   \n",
       "2                   1                 Canal du Midi (Patrimoine mondial)   \n",
       "3                   1  Bassin minier du Nord-Pas de Calais (Patrimoin...   \n",
       "4                   1  Les Causses et les Cévennes, paysage culturel ...   \n",
       "...               ...                                                ...   \n",
       "31029       viewpoint                Tour Eiffel 3e étage (Point de vue)   \n",
       "31030      theme_park              Jardin d'Acclimatation (Parc à thème)   \n",
       "31031      theme_park                      Foire du Trône (Parc à thème)   \n",
       "31032     golf_course         Golf du Bois de Boulogne (Terrain de golf)   \n",
       "31033  protected_area           Paris, rives de la Seine (Zone protégée)   \n",
       "\n",
       "        latitude  longitude municipality_code  importance  \\\n",
       "0      46.396160   1.472600             36134    0.139527   \n",
       "1      46.313695   1.478772             23258    0.137821   \n",
       "2      43.332709   3.219890             34032    0.129531   \n",
       "3      50.455895   2.965034             62427    0.127170   \n",
       "4      44.346210   3.613406             48050    0.124981   \n",
       "...          ...        ...               ...         ...   \n",
       "31029  48.858262   2.294497             75056    0.053782   \n",
       "31030  48.878145   2.264686             75056    0.087097   \n",
       "31031  48.832003   2.404337             75056    0.060000   \n",
       "31032  48.857776   2.232651             75056    0.060073   \n",
       "31033  48.860054   2.324448             75056    0.095638   \n",
       "\n",
       "                                        name_reprocessed  \\\n",
       "0                              Fortifications de Vauban    \n",
       "1      Chemins de Saint-Jacques-de-Compostelle en Fra...   \n",
       "2                                         Canal du Midi    \n",
       "3                   Bassin minier du Nord-Pas de Calais    \n",
       "4      Les Causses et les Cévennes, paysage culturel ...   \n",
       "...                                                  ...   \n",
       "31029                              Tour Eiffel 3e étage    \n",
       "31030                            Jardin d'Acclimatation    \n",
       "31031                                    Foire du Trône    \n",
       "31032                          Golf du Bois de Boulogne    \n",
       "31033                          Paris, rives de la Seine    \n",
       "\n",
       "      data_inside_parenthesis       Category  \n",
       "0          Patrimoine mondial     Patrimoine  \n",
       "1          Patrimoine mondial     Patrimoine  \n",
       "2          Patrimoine mondial     Patrimoine  \n",
       "3          Patrimoine mondial     Patrimoine  \n",
       "4          Patrimoine mondial     Patrimoine  \n",
       "...                       ...            ...  \n",
       "31029            Point de vue         Nature  \n",
       "31030            Parc à thème  Entertainment  \n",
       "31031            Parc à thème  Entertainment  \n",
       "31032         Terrain de golf  Entertainment  \n",
       "31033           Zone protégée         Nature  \n",
       "\n",
       "[31034 rows x 9 columns]"
      ]
     },
     "execution_count": 59,
     "metadata": {},
     "output_type": "execute_result"
    }
   ],
   "source": [
    "# SITE_DF: création de la colonne \"catégorie\"\n",
    "site_df[\"Category\"] = site_df[\"poi\"].map(category_dict)\n",
    "site_df"
   ]
  },
  {
   "cell_type": "markdown",
   "metadata": {
    "id": "XYnKDVU0sb0S",
    "jp-MarkdownHeadingCollapsed": true
   },
   "source": [
    "### CLEANED DF CHECK"
   ]
  },
  {
   "cell_type": "code",
   "execution_count": null,
   "metadata": {},
   "outputs": [],
   "source": [
    "poi_df.info()\n",
    "site_df.info()\n",
    "salary_df.info()\n",
    "georef_df.info() \n",
    "stock_df.info() \n",
    "sales_df.info()\n",
    "population_df.info() \n",
    "poverty_df.info()\n",
    "real_estate_df.info()"
   ]
  },
  {
   "cell_type": "code",
   "execution_count": null,
   "metadata": {},
   "outputs": [],
   "source": [
    "poi_df.head(1)"
   ]
  },
  {
   "cell_type": "code",
   "execution_count": null,
   "metadata": {},
   "outputs": [],
   "source": [
    "site_df.head(1) "
   ]
  },
  {
   "cell_type": "code",
   "execution_count": null,
   "metadata": {},
   "outputs": [],
   "source": [
    "salary_df.head(1)"
   ]
  },
  {
   "cell_type": "code",
   "execution_count": null,
   "metadata": {},
   "outputs": [],
   "source": [
    "georef_df.head(1) "
   ]
  },
  {
   "cell_type": "code",
   "execution_count": null,
   "metadata": {},
   "outputs": [],
   "source": [
    "stock_df.head(1) "
   ]
  },
  {
   "cell_type": "code",
   "execution_count": null,
   "metadata": {},
   "outputs": [],
   "source": [
    "sales_df.head(1)"
   ]
  },
  {
   "cell_type": "code",
   "execution_count": null,
   "metadata": {},
   "outputs": [],
   "source": [
    "population_df.head(1) "
   ]
  },
  {
   "cell_type": "code",
   "execution_count": null,
   "metadata": {},
   "outputs": [],
   "source": [
    "poverty_df.head(1)"
   ]
  },
  {
   "cell_type": "code",
   "execution_count": null,
   "metadata": {},
   "outputs": [],
   "source": [
    "real_estate_df.head(1)"
   ]
  },
  {
   "cell_type": "code",
   "execution_count": null,
   "metadata": {},
   "outputs": [],
   "source": []
  },
  {
   "cell_type": "markdown",
   "metadata": {
    "id": "i0j9hJqlFaEc",
    "jp-MarkdownHeadingCollapsed": true
   },
   "source": [
    "# 🧪 **DATA TRANSFORMATION**"
   ]
  },
  {
   "cell_type": "markdown",
   "metadata": {
    "id": "XYnKDVU0sb0S",
    "jp-MarkdownHeadingCollapsed": true
   },
   "source": [
    "### KPIS AGGREGATION BY DEPARTMENT"
   ]
  },
  {
   "cell_type": "markdown",
   "metadata": {
    "id": "XYnKDVU0sb0S",
    "jp-MarkdownHeadingCollapsed": true
   },
   "source": [
    "##### 1. POPULATION"
   ]
  },
  {
   "cell_type": "code",
   "execution_count": 60,
   "metadata": {},
   "outputs": [
    {
     "data": {
      "text/html": [
       "<div>\n",
       "<style scoped>\n",
       "    .dataframe tbody tr th:only-of-type {\n",
       "        vertical-align: middle;\n",
       "    }\n",
       "\n",
       "    .dataframe tbody tr th {\n",
       "        vertical-align: top;\n",
       "    }\n",
       "\n",
       "    .dataframe thead th {\n",
       "        text-align: right;\n",
       "    }\n",
       "</style>\n",
       "<table border=\"1\" class=\"dataframe\">\n",
       "  <thead>\n",
       "    <tr style=\"text-align: right;\">\n",
       "      <th></th>\n",
       "      <th>department_code</th>\n",
       "      <th>department_name</th>\n",
       "      <th>avg_salary</th>\n",
       "    </tr>\n",
       "  </thead>\n",
       "  <tbody>\n",
       "    <tr>\n",
       "      <th>0</th>\n",
       "      <td>01</td>\n",
       "      <td>Ain</td>\n",
       "      <td>25614.0</td>\n",
       "    </tr>\n",
       "    <tr>\n",
       "      <th>1</th>\n",
       "      <td>02</td>\n",
       "      <td>Aisne</td>\n",
       "      <td>22865.0</td>\n",
       "    </tr>\n",
       "    <tr>\n",
       "      <th>2</th>\n",
       "      <td>03</td>\n",
       "      <td>Allier</td>\n",
       "      <td>23272.0</td>\n",
       "    </tr>\n",
       "    <tr>\n",
       "      <th>3</th>\n",
       "      <td>04</td>\n",
       "      <td>Alpes-de-Haute-Provence</td>\n",
       "      <td>24147.0</td>\n",
       "    </tr>\n",
       "    <tr>\n",
       "      <th>4</th>\n",
       "      <td>05</td>\n",
       "      <td>Hautes-Alpes</td>\n",
       "      <td>22269.0</td>\n",
       "    </tr>\n",
       "  </tbody>\n",
       "</table>\n",
       "</div>"
      ],
      "text/plain": [
       "  department_code          department_name  avg_salary\n",
       "0              01                      Ain     25614.0\n",
       "1              02                    Aisne     22865.0\n",
       "2              03                   Allier     23272.0\n",
       "3              04  Alpes-de-Haute-Provence     24147.0\n",
       "4              05             Hautes-Alpes     22269.0"
      ]
     },
     "execution_count": 60,
     "metadata": {},
     "output_type": "execute_result"
    }
   ],
   "source": [
    "# 1.1 Salaire moyen par département\n",
    "# Joindre les informations de géolocalisation pour obtenir les départements\n",
    "salary_dep_df = salary_df.merge(georef_df[['municipality_code', 'department_code', 'department_name']], on='municipality_code')\n",
    "\n",
    "# Calculer le salaire moyen par département\n",
    "avg_salary_per_department = salary_dep_df.groupby(['department_code', 'department_name'])['avg_net_salary'].mean().reset_index().round()\n",
    "avg_salary_per_department.rename(columns={'avg_net_salary': 'avg_salary'}, inplace=True)\n",
    "avg_salary_per_department.head()"
   ]
  },
  {
   "cell_type": "code",
   "execution_count": 93,
   "metadata": {},
   "outputs": [
    {
     "data": {
      "text/html": [
       "<div>\n",
       "<style scoped>\n",
       "    .dataframe tbody tr th:only-of-type {\n",
       "        vertical-align: middle;\n",
       "    }\n",
       "\n",
       "    .dataframe tbody tr th {\n",
       "        vertical-align: top;\n",
       "    }\n",
       "\n",
       "    .dataframe thead th {\n",
       "        text-align: right;\n",
       "    }\n",
       "</style>\n",
       "<table border=\"1\" class=\"dataframe\">\n",
       "  <thead>\n",
       "    <tr style=\"text-align: right;\">\n",
       "      <th>year</th>\n",
       "      <th>department_code</th>\n",
       "      <th>department_name</th>\n",
       "      <th>evolution</th>\n",
       "    </tr>\n",
       "  </thead>\n",
       "  <tbody>\n",
       "    <tr>\n",
       "      <th>0</th>\n",
       "      <td>01</td>\n",
       "      <td>Ain</td>\n",
       "      <td>0.740851</td>\n",
       "    </tr>\n",
       "    <tr>\n",
       "      <th>1</th>\n",
       "      <td>02</td>\n",
       "      <td>Aisne</td>\n",
       "      <td>-0.369817</td>\n",
       "    </tr>\n",
       "    <tr>\n",
       "      <th>2</th>\n",
       "      <td>03</td>\n",
       "      <td>Allier</td>\n",
       "      <td>-0.354716</td>\n",
       "    </tr>\n",
       "    <tr>\n",
       "      <th>3</th>\n",
       "      <td>04</td>\n",
       "      <td>Alpes-de-Haute-Provence</td>\n",
       "      <td>0.146281</td>\n",
       "    </tr>\n",
       "    <tr>\n",
       "      <th>4</th>\n",
       "      <td>05</td>\n",
       "      <td>Hautes-Alpes</td>\n",
       "      <td>0.371007</td>\n",
       "    </tr>\n",
       "  </tbody>\n",
       "</table>\n",
       "</div>"
      ],
      "text/plain": [
       "year department_code          department_name  evolution\n",
       "0                 01                      Ain   0.740851\n",
       "1                 02                    Aisne  -0.369817\n",
       "2                 03                   Allier  -0.354716\n",
       "3                 04  Alpes-de-Haute-Provence   0.146281\n",
       "4                 05             Hautes-Alpes   0.371007"
      ]
     },
     "execution_count": 93,
     "metadata": {},
     "output_type": "execute_result"
    }
   ],
   "source": [
    "# 1.2 Évolution de la population par département\n",
    "# Joindre les informations de géolocalisation pour obtenir les départements\n",
    "population_dep_df = population_df.merge(georef_df[['municipality_code', 'department_code', 'department_name']], on='municipality_code')\n",
    "\n",
    "# Calculer l'évolution de la population par département (différence entre les années)\n",
    "pop_evolution = population_dep_df.groupby(['department_code', 'department_name', 'year'])['population'].sum().unstack().reset_index()\n",
    "pop_evolution['evolution'] = (pop_evolution[pop_evolution.columns[-1]] - pop_evolution[pop_evolution.columns[-2]]) / pop_evolution[pop_evolution.columns[-2]] * 100\n",
    "pop_evolution = pop_evolution[['department_code', 'department_name', 'evolution']]\n",
    "\n",
    "pop_evolution.head()"
   ]
  },
  {
   "cell_type": "code",
   "execution_count": 65,
   "metadata": {},
   "outputs": [
    {
     "ename": "KeyboardInterrupt",
     "evalue": "",
     "output_type": "error",
     "traceback": [
      "\u001b[0;31m---------------------------------------------------------------------------\u001b[0m",
      "\u001b[0;31mKeyboardInterrupt\u001b[0m                         Traceback (most recent call last)",
      "Cell \u001b[0;32mIn[65], line 3\u001b[0m\n\u001b[1;32m      1\u001b[0m \u001b[38;5;66;03m# 1.3 Taux de pauvreté par département\u001b[39;00m\n\u001b[1;32m      2\u001b[0m \u001b[38;5;66;03m# Joindre les données de population\u001b[39;00m\n\u001b[0;32m----> 3\u001b[0m poverty_df \u001b[38;5;241m=\u001b[39m \u001b[43mpoverty_df\u001b[49m\u001b[38;5;241;43m.\u001b[39;49m\u001b[43mmerge\u001b[49m\u001b[43m(\u001b[49m\u001b[43mpopulation_df\u001b[49m\u001b[43m[\u001b[49m\u001b[43m[\u001b[49m\u001b[38;5;124;43m'\u001b[39;49m\u001b[38;5;124;43mmunicipality_code\u001b[39;49m\u001b[38;5;124;43m'\u001b[39;49m\u001b[43m,\u001b[49m\u001b[43m \u001b[49m\u001b[38;5;124;43m'\u001b[39;49m\u001b[38;5;124;43mpopulation\u001b[39;49m\u001b[38;5;124;43m'\u001b[39;49m\u001b[43m]\u001b[49m\u001b[43m]\u001b[49m\u001b[43m,\u001b[49m\u001b[43m \u001b[49m\u001b[43mon\u001b[49m\u001b[38;5;241;43m=\u001b[39;49m\u001b[38;5;124;43m'\u001b[39;49m\u001b[38;5;124;43mmunicipality_code\u001b[39;49m\u001b[38;5;124;43m'\u001b[39;49m\u001b[43m,\u001b[49m\u001b[43m \u001b[49m\u001b[43msuffixes\u001b[49m\u001b[38;5;241;43m=\u001b[39;49m\u001b[43m(\u001b[49m\u001b[38;5;124;43m'\u001b[39;49m\u001b[38;5;124;43m_poverty\u001b[39;49m\u001b[38;5;124;43m'\u001b[39;49m\u001b[43m,\u001b[49m\u001b[43m \u001b[49m\u001b[38;5;124;43m'\u001b[39;49m\u001b[38;5;124;43m_population\u001b[39;49m\u001b[38;5;124;43m'\u001b[39;49m\u001b[43m)\u001b[49m\u001b[43m)\u001b[49m\n\u001b[1;32m      5\u001b[0m \u001b[38;5;66;03m# Merge avec georef pour avoir le department_name\u001b[39;00m\n\u001b[1;32m      6\u001b[0m poverty_df \u001b[38;5;241m=\u001b[39m poverty_df\u001b[38;5;241m.\u001b[39mmerge(georef_df[[\u001b[38;5;124m'\u001b[39m\u001b[38;5;124mmunicipality_code\u001b[39m\u001b[38;5;124m'\u001b[39m, \u001b[38;5;124m'\u001b[39m\u001b[38;5;124mdepartment_name\u001b[39m\u001b[38;5;124m'\u001b[39m]], on\u001b[38;5;241m=\u001b[39m\u001b[38;5;124m'\u001b[39m\u001b[38;5;124mmunicipality_code\u001b[39m\u001b[38;5;124m'\u001b[39m, how\u001b[38;5;241m=\u001b[39m\u001b[38;5;124m'\u001b[39m\u001b[38;5;124mleft\u001b[39m\u001b[38;5;124m'\u001b[39m)\n",
      "File \u001b[0;32m/opt/miniconda3/lib/python3.12/site-packages/pandas/core/frame.py:10832\u001b[0m, in \u001b[0;36mDataFrame.merge\u001b[0;34m(self, right, how, on, left_on, right_on, left_index, right_index, sort, suffixes, copy, indicator, validate)\u001b[0m\n\u001b[1;32m  10813\u001b[0m \u001b[38;5;129m@Substitution\u001b[39m(\u001b[38;5;124m\"\u001b[39m\u001b[38;5;124m\"\u001b[39m)\n\u001b[1;32m  10814\u001b[0m \u001b[38;5;129m@Appender\u001b[39m(_merge_doc, indents\u001b[38;5;241m=\u001b[39m\u001b[38;5;241m2\u001b[39m)\n\u001b[1;32m  10815\u001b[0m \u001b[38;5;28;01mdef\u001b[39;00m \u001b[38;5;21mmerge\u001b[39m(\n\u001b[0;32m   (...)\u001b[0m\n\u001b[1;32m  10828\u001b[0m     validate: MergeValidate \u001b[38;5;241m|\u001b[39m \u001b[38;5;28;01mNone\u001b[39;00m \u001b[38;5;241m=\u001b[39m \u001b[38;5;28;01mNone\u001b[39;00m,\n\u001b[1;32m  10829\u001b[0m ) \u001b[38;5;241m-\u001b[39m\u001b[38;5;241m>\u001b[39m DataFrame:\n\u001b[1;32m  10830\u001b[0m     \u001b[38;5;28;01mfrom\u001b[39;00m \u001b[38;5;21;01mpandas\u001b[39;00m\u001b[38;5;21;01m.\u001b[39;00m\u001b[38;5;21;01mcore\u001b[39;00m\u001b[38;5;21;01m.\u001b[39;00m\u001b[38;5;21;01mreshape\u001b[39;00m\u001b[38;5;21;01m.\u001b[39;00m\u001b[38;5;21;01mmerge\u001b[39;00m \u001b[38;5;28;01mimport\u001b[39;00m merge\n\u001b[0;32m> 10832\u001b[0m     \u001b[38;5;28;01mreturn\u001b[39;00m \u001b[43mmerge\u001b[49m\u001b[43m(\u001b[49m\n\u001b[1;32m  10833\u001b[0m \u001b[43m        \u001b[49m\u001b[38;5;28;43mself\u001b[39;49m\u001b[43m,\u001b[49m\n\u001b[1;32m  10834\u001b[0m \u001b[43m        \u001b[49m\u001b[43mright\u001b[49m\u001b[43m,\u001b[49m\n\u001b[1;32m  10835\u001b[0m \u001b[43m        \u001b[49m\u001b[43mhow\u001b[49m\u001b[38;5;241;43m=\u001b[39;49m\u001b[43mhow\u001b[49m\u001b[43m,\u001b[49m\n\u001b[1;32m  10836\u001b[0m \u001b[43m        \u001b[49m\u001b[43mon\u001b[49m\u001b[38;5;241;43m=\u001b[39;49m\u001b[43mon\u001b[49m\u001b[43m,\u001b[49m\n\u001b[1;32m  10837\u001b[0m \u001b[43m        \u001b[49m\u001b[43mleft_on\u001b[49m\u001b[38;5;241;43m=\u001b[39;49m\u001b[43mleft_on\u001b[49m\u001b[43m,\u001b[49m\n\u001b[1;32m  10838\u001b[0m \u001b[43m        \u001b[49m\u001b[43mright_on\u001b[49m\u001b[38;5;241;43m=\u001b[39;49m\u001b[43mright_on\u001b[49m\u001b[43m,\u001b[49m\n\u001b[1;32m  10839\u001b[0m \u001b[43m        \u001b[49m\u001b[43mleft_index\u001b[49m\u001b[38;5;241;43m=\u001b[39;49m\u001b[43mleft_index\u001b[49m\u001b[43m,\u001b[49m\n\u001b[1;32m  10840\u001b[0m \u001b[43m        \u001b[49m\u001b[43mright_index\u001b[49m\u001b[38;5;241;43m=\u001b[39;49m\u001b[43mright_index\u001b[49m\u001b[43m,\u001b[49m\n\u001b[1;32m  10841\u001b[0m \u001b[43m        \u001b[49m\u001b[43msort\u001b[49m\u001b[38;5;241;43m=\u001b[39;49m\u001b[43msort\u001b[49m\u001b[43m,\u001b[49m\n\u001b[1;32m  10842\u001b[0m \u001b[43m        \u001b[49m\u001b[43msuffixes\u001b[49m\u001b[38;5;241;43m=\u001b[39;49m\u001b[43msuffixes\u001b[49m\u001b[43m,\u001b[49m\n\u001b[1;32m  10843\u001b[0m \u001b[43m        \u001b[49m\u001b[43mcopy\u001b[49m\u001b[38;5;241;43m=\u001b[39;49m\u001b[43mcopy\u001b[49m\u001b[43m,\u001b[49m\n\u001b[1;32m  10844\u001b[0m \u001b[43m        \u001b[49m\u001b[43mindicator\u001b[49m\u001b[38;5;241;43m=\u001b[39;49m\u001b[43mindicator\u001b[49m\u001b[43m,\u001b[49m\n\u001b[1;32m  10845\u001b[0m \u001b[43m        \u001b[49m\u001b[43mvalidate\u001b[49m\u001b[38;5;241;43m=\u001b[39;49m\u001b[43mvalidate\u001b[49m\u001b[43m,\u001b[49m\n\u001b[1;32m  10846\u001b[0m \u001b[43m    \u001b[49m\u001b[43m)\u001b[49m\n",
      "File \u001b[0;32m/opt/miniconda3/lib/python3.12/site-packages/pandas/core/reshape/merge.py:184\u001b[0m, in \u001b[0;36mmerge\u001b[0;34m(left, right, how, on, left_on, right_on, left_index, right_index, sort, suffixes, copy, indicator, validate)\u001b[0m\n\u001b[1;32m    169\u001b[0m \u001b[38;5;28;01melse\u001b[39;00m:\n\u001b[1;32m    170\u001b[0m     op \u001b[38;5;241m=\u001b[39m _MergeOperation(\n\u001b[1;32m    171\u001b[0m         left_df,\n\u001b[1;32m    172\u001b[0m         right_df,\n\u001b[0;32m   (...)\u001b[0m\n\u001b[1;32m    182\u001b[0m         validate\u001b[38;5;241m=\u001b[39mvalidate,\n\u001b[1;32m    183\u001b[0m     )\n\u001b[0;32m--> 184\u001b[0m     \u001b[38;5;28;01mreturn\u001b[39;00m \u001b[43mop\u001b[49m\u001b[38;5;241;43m.\u001b[39;49m\u001b[43mget_result\u001b[49m\u001b[43m(\u001b[49m\u001b[43mcopy\u001b[49m\u001b[38;5;241;43m=\u001b[39;49m\u001b[43mcopy\u001b[49m\u001b[43m)\u001b[49m\n",
      "File \u001b[0;32m/opt/miniconda3/lib/python3.12/site-packages/pandas/core/reshape/merge.py:886\u001b[0m, in \u001b[0;36m_MergeOperation.get_result\u001b[0;34m(self, copy)\u001b[0m\n\u001b[1;32m    883\u001b[0m \u001b[38;5;28;01mif\u001b[39;00m \u001b[38;5;28mself\u001b[39m\u001b[38;5;241m.\u001b[39mindicator:\n\u001b[1;32m    884\u001b[0m     \u001b[38;5;28mself\u001b[39m\u001b[38;5;241m.\u001b[39mleft, \u001b[38;5;28mself\u001b[39m\u001b[38;5;241m.\u001b[39mright \u001b[38;5;241m=\u001b[39m \u001b[38;5;28mself\u001b[39m\u001b[38;5;241m.\u001b[39m_indicator_pre_merge(\u001b[38;5;28mself\u001b[39m\u001b[38;5;241m.\u001b[39mleft, \u001b[38;5;28mself\u001b[39m\u001b[38;5;241m.\u001b[39mright)\n\u001b[0;32m--> 886\u001b[0m join_index, left_indexer, right_indexer \u001b[38;5;241m=\u001b[39m \u001b[38;5;28;43mself\u001b[39;49m\u001b[38;5;241;43m.\u001b[39;49m\u001b[43m_get_join_info\u001b[49m\u001b[43m(\u001b[49m\u001b[43m)\u001b[49m\n\u001b[1;32m    888\u001b[0m result \u001b[38;5;241m=\u001b[39m \u001b[38;5;28mself\u001b[39m\u001b[38;5;241m.\u001b[39m_reindex_and_concat(\n\u001b[1;32m    889\u001b[0m     join_index, left_indexer, right_indexer, copy\u001b[38;5;241m=\u001b[39mcopy\n\u001b[1;32m    890\u001b[0m )\n\u001b[1;32m    891\u001b[0m result \u001b[38;5;241m=\u001b[39m result\u001b[38;5;241m.\u001b[39m__finalize__(\u001b[38;5;28mself\u001b[39m, method\u001b[38;5;241m=\u001b[39m\u001b[38;5;28mself\u001b[39m\u001b[38;5;241m.\u001b[39m_merge_type)\n",
      "File \u001b[0;32m/opt/miniconda3/lib/python3.12/site-packages/pandas/core/reshape/merge.py:1151\u001b[0m, in \u001b[0;36m_MergeOperation._get_join_info\u001b[0;34m(self)\u001b[0m\n\u001b[1;32m   1147\u001b[0m     join_index, right_indexer, left_indexer \u001b[38;5;241m=\u001b[39m _left_join_on_index(\n\u001b[1;32m   1148\u001b[0m         right_ax, left_ax, \u001b[38;5;28mself\u001b[39m\u001b[38;5;241m.\u001b[39mright_join_keys, sort\u001b[38;5;241m=\u001b[39m\u001b[38;5;28mself\u001b[39m\u001b[38;5;241m.\u001b[39msort\n\u001b[1;32m   1149\u001b[0m     )\n\u001b[1;32m   1150\u001b[0m \u001b[38;5;28;01melse\u001b[39;00m:\n\u001b[0;32m-> 1151\u001b[0m     (left_indexer, right_indexer) \u001b[38;5;241m=\u001b[39m \u001b[38;5;28;43mself\u001b[39;49m\u001b[38;5;241;43m.\u001b[39;49m\u001b[43m_get_join_indexers\u001b[49m\u001b[43m(\u001b[49m\u001b[43m)\u001b[49m\n\u001b[1;32m   1153\u001b[0m     \u001b[38;5;28;01mif\u001b[39;00m \u001b[38;5;28mself\u001b[39m\u001b[38;5;241m.\u001b[39mright_index:\n\u001b[1;32m   1154\u001b[0m         \u001b[38;5;28;01mif\u001b[39;00m \u001b[38;5;28mlen\u001b[39m(\u001b[38;5;28mself\u001b[39m\u001b[38;5;241m.\u001b[39mleft) \u001b[38;5;241m>\u001b[39m \u001b[38;5;241m0\u001b[39m:\n",
      "File \u001b[0;32m/opt/miniconda3/lib/python3.12/site-packages/pandas/core/reshape/merge.py:1125\u001b[0m, in \u001b[0;36m_MergeOperation._get_join_indexers\u001b[0;34m(self)\u001b[0m\n\u001b[1;32m   1123\u001b[0m \u001b[38;5;66;03m# make mypy happy\u001b[39;00m\n\u001b[1;32m   1124\u001b[0m \u001b[38;5;28;01massert\u001b[39;00m \u001b[38;5;28mself\u001b[39m\u001b[38;5;241m.\u001b[39mhow \u001b[38;5;241m!=\u001b[39m \u001b[38;5;124m\"\u001b[39m\u001b[38;5;124masof\u001b[39m\u001b[38;5;124m\"\u001b[39m\n\u001b[0;32m-> 1125\u001b[0m \u001b[38;5;28;01mreturn\u001b[39;00m \u001b[43mget_join_indexers\u001b[49m\u001b[43m(\u001b[49m\n\u001b[1;32m   1126\u001b[0m \u001b[43m    \u001b[49m\u001b[38;5;28;43mself\u001b[39;49m\u001b[38;5;241;43m.\u001b[39;49m\u001b[43mleft_join_keys\u001b[49m\u001b[43m,\u001b[49m\u001b[43m \u001b[49m\u001b[38;5;28;43mself\u001b[39;49m\u001b[38;5;241;43m.\u001b[39;49m\u001b[43mright_join_keys\u001b[49m\u001b[43m,\u001b[49m\u001b[43m \u001b[49m\u001b[43msort\u001b[49m\u001b[38;5;241;43m=\u001b[39;49m\u001b[38;5;28;43mself\u001b[39;49m\u001b[38;5;241;43m.\u001b[39;49m\u001b[43msort\u001b[49m\u001b[43m,\u001b[49m\u001b[43m \u001b[49m\u001b[43mhow\u001b[49m\u001b[38;5;241;43m=\u001b[39;49m\u001b[38;5;28;43mself\u001b[39;49m\u001b[38;5;241;43m.\u001b[39;49m\u001b[43mhow\u001b[49m\n\u001b[1;32m   1127\u001b[0m \u001b[43m\u001b[49m\u001b[43m)\u001b[49m\n",
      "File \u001b[0;32m/opt/miniconda3/lib/python3.12/site-packages/pandas/core/reshape/merge.py:1759\u001b[0m, in \u001b[0;36mget_join_indexers\u001b[0;34m(left_keys, right_keys, sort, how)\u001b[0m\n\u001b[1;32m   1757\u001b[0m     _, lidx, ridx \u001b[38;5;241m=\u001b[39m left\u001b[38;5;241m.\u001b[39mjoin(right, how\u001b[38;5;241m=\u001b[39mhow, return_indexers\u001b[38;5;241m=\u001b[39m\u001b[38;5;28;01mTrue\u001b[39;00m, sort\u001b[38;5;241m=\u001b[39msort)\n\u001b[1;32m   1758\u001b[0m \u001b[38;5;28;01melse\u001b[39;00m:\n\u001b[0;32m-> 1759\u001b[0m     lidx, ridx \u001b[38;5;241m=\u001b[39m \u001b[43mget_join_indexers_non_unique\u001b[49m\u001b[43m(\u001b[49m\n\u001b[1;32m   1760\u001b[0m \u001b[43m        \u001b[49m\u001b[43mleft\u001b[49m\u001b[38;5;241;43m.\u001b[39;49m\u001b[43m_values\u001b[49m\u001b[43m,\u001b[49m\u001b[43m \u001b[49m\u001b[43mright\u001b[49m\u001b[38;5;241;43m.\u001b[39;49m\u001b[43m_values\u001b[49m\u001b[43m,\u001b[49m\u001b[43m \u001b[49m\u001b[43msort\u001b[49m\u001b[43m,\u001b[49m\u001b[43m \u001b[49m\u001b[43mhow\u001b[49m\n\u001b[1;32m   1761\u001b[0m \u001b[43m    \u001b[49m\u001b[43m)\u001b[49m\n\u001b[1;32m   1763\u001b[0m \u001b[38;5;28;01mif\u001b[39;00m lidx \u001b[38;5;129;01mis\u001b[39;00m \u001b[38;5;129;01mnot\u001b[39;00m \u001b[38;5;28;01mNone\u001b[39;00m \u001b[38;5;129;01mand\u001b[39;00m is_range_indexer(lidx, \u001b[38;5;28mlen\u001b[39m(left)):\n\u001b[1;32m   1764\u001b[0m     lidx \u001b[38;5;241m=\u001b[39m \u001b[38;5;28;01mNone\u001b[39;00m\n",
      "File \u001b[0;32m/opt/miniconda3/lib/python3.12/site-packages/pandas/core/reshape/merge.py:1793\u001b[0m, in \u001b[0;36mget_join_indexers_non_unique\u001b[0;34m(left, right, sort, how)\u001b[0m\n\u001b[1;32m   1770\u001b[0m \u001b[38;5;28;01mdef\u001b[39;00m \u001b[38;5;21mget_join_indexers_non_unique\u001b[39m(\n\u001b[1;32m   1771\u001b[0m     left: ArrayLike,\n\u001b[1;32m   1772\u001b[0m     right: ArrayLike,\n\u001b[1;32m   1773\u001b[0m     sort: \u001b[38;5;28mbool\u001b[39m \u001b[38;5;241m=\u001b[39m \u001b[38;5;28;01mFalse\u001b[39;00m,\n\u001b[1;32m   1774\u001b[0m     how: JoinHow \u001b[38;5;241m=\u001b[39m \u001b[38;5;124m\"\u001b[39m\u001b[38;5;124minner\u001b[39m\u001b[38;5;124m\"\u001b[39m,\n\u001b[1;32m   1775\u001b[0m ) \u001b[38;5;241m-\u001b[39m\u001b[38;5;241m>\u001b[39m \u001b[38;5;28mtuple\u001b[39m[npt\u001b[38;5;241m.\u001b[39mNDArray[np\u001b[38;5;241m.\u001b[39mintp], npt\u001b[38;5;241m.\u001b[39mNDArray[np\u001b[38;5;241m.\u001b[39mintp]]:\n\u001b[1;32m   1776\u001b[0m \u001b[38;5;250m    \u001b[39m\u001b[38;5;124;03m\"\"\"\u001b[39;00m\n\u001b[1;32m   1777\u001b[0m \u001b[38;5;124;03m    Get join indexers for left and right.\u001b[39;00m\n\u001b[1;32m   1778\u001b[0m \n\u001b[0;32m   (...)\u001b[0m\n\u001b[1;32m   1791\u001b[0m \u001b[38;5;124;03m        Indexer into right.\u001b[39;00m\n\u001b[1;32m   1792\u001b[0m \u001b[38;5;124;03m    \"\"\"\u001b[39;00m\n\u001b[0;32m-> 1793\u001b[0m     lkey, rkey, count \u001b[38;5;241m=\u001b[39m \u001b[43m_factorize_keys\u001b[49m\u001b[43m(\u001b[49m\u001b[43mleft\u001b[49m\u001b[43m,\u001b[49m\u001b[43m \u001b[49m\u001b[43mright\u001b[49m\u001b[43m,\u001b[49m\u001b[43m \u001b[49m\u001b[43msort\u001b[49m\u001b[38;5;241;43m=\u001b[39;49m\u001b[43msort\u001b[49m\u001b[43m)\u001b[49m\n\u001b[1;32m   1794\u001b[0m     \u001b[38;5;28;01mif\u001b[39;00m how \u001b[38;5;241m==\u001b[39m \u001b[38;5;124m\"\u001b[39m\u001b[38;5;124mleft\u001b[39m\u001b[38;5;124m\"\u001b[39m:\n\u001b[1;32m   1795\u001b[0m         lidx, ridx \u001b[38;5;241m=\u001b[39m libjoin\u001b[38;5;241m.\u001b[39mleft_outer_join(lkey, rkey, count, sort\u001b[38;5;241m=\u001b[39msort)\n",
      "File \u001b[0;32m/opt/miniconda3/lib/python3.12/site-packages/pandas/core/reshape/merge.py:2574\u001b[0m, in \u001b[0;36m_factorize_keys\u001b[0;34m(lk, rk, sort)\u001b[0m\n\u001b[1;32m   2572\u001b[0m \u001b[38;5;66;03m# NA group\u001b[39;00m\n\u001b[1;32m   2573\u001b[0m lmask \u001b[38;5;241m=\u001b[39m llab \u001b[38;5;241m==\u001b[39m \u001b[38;5;241m-\u001b[39m\u001b[38;5;241m1\u001b[39m\n\u001b[0;32m-> 2574\u001b[0m lany \u001b[38;5;241m=\u001b[39m \u001b[43mlmask\u001b[49m\u001b[38;5;241;43m.\u001b[39;49m\u001b[43many\u001b[49m\u001b[43m(\u001b[49m\u001b[43m)\u001b[49m\n\u001b[1;32m   2575\u001b[0m rmask \u001b[38;5;241m=\u001b[39m rlab \u001b[38;5;241m==\u001b[39m \u001b[38;5;241m-\u001b[39m\u001b[38;5;241m1\u001b[39m\n\u001b[1;32m   2576\u001b[0m rany \u001b[38;5;241m=\u001b[39m rmask\u001b[38;5;241m.\u001b[39many()\n",
      "File \u001b[0;32m/opt/miniconda3/lib/python3.12/site-packages/numpy/_core/_methods.py:58\u001b[0m, in \u001b[0;36m_any\u001b[0;34m(a, axis, dtype, out, keepdims, where)\u001b[0m\n\u001b[1;32m     54\u001b[0m \u001b[38;5;28;01mdef\u001b[39;00m \u001b[38;5;21m_prod\u001b[39m(a, axis\u001b[38;5;241m=\u001b[39m\u001b[38;5;28;01mNone\u001b[39;00m, dtype\u001b[38;5;241m=\u001b[39m\u001b[38;5;28;01mNone\u001b[39;00m, out\u001b[38;5;241m=\u001b[39m\u001b[38;5;28;01mNone\u001b[39;00m, keepdims\u001b[38;5;241m=\u001b[39m\u001b[38;5;28;01mFalse\u001b[39;00m,\n\u001b[1;32m     55\u001b[0m           initial\u001b[38;5;241m=\u001b[39m_NoValue, where\u001b[38;5;241m=\u001b[39m\u001b[38;5;28;01mTrue\u001b[39;00m):\n\u001b[1;32m     56\u001b[0m     \u001b[38;5;28;01mreturn\u001b[39;00m umr_prod(a, axis, dtype, out, keepdims, initial, where)\n\u001b[0;32m---> 58\u001b[0m \u001b[38;5;28;01mdef\u001b[39;00m \u001b[38;5;21m_any\u001b[39m(a, axis\u001b[38;5;241m=\u001b[39m\u001b[38;5;28;01mNone\u001b[39;00m, dtype\u001b[38;5;241m=\u001b[39m\u001b[38;5;28;01mNone\u001b[39;00m, out\u001b[38;5;241m=\u001b[39m\u001b[38;5;28;01mNone\u001b[39;00m, keepdims\u001b[38;5;241m=\u001b[39m\u001b[38;5;28;01mFalse\u001b[39;00m, \u001b[38;5;241m*\u001b[39m, where\u001b[38;5;241m=\u001b[39m\u001b[38;5;28;01mTrue\u001b[39;00m):\n\u001b[1;32m     59\u001b[0m     \u001b[38;5;66;03m# By default, return a boolean for any and all\u001b[39;00m\n\u001b[1;32m     60\u001b[0m     \u001b[38;5;28;01mif\u001b[39;00m dtype \u001b[38;5;129;01mis\u001b[39;00m \u001b[38;5;28;01mNone\u001b[39;00m:\n\u001b[1;32m     61\u001b[0m         dtype \u001b[38;5;241m=\u001b[39m bool_dt\n",
      "\u001b[0;31mKeyboardInterrupt\u001b[0m: "
     ]
    }
   ],
   "source": [
    "# 1.3 Taux de pauvreté par département\n",
    "# Joindre les données de population\n",
    "poverty_df = poverty_df.merge(population_df[['municipality_code', 'population']], on='municipality_code', suffixes=('_poverty', '_population'))\n",
    "\n",
    "# Merge avec georef pour avoir le department_name\n",
    "poverty_df = poverty_df.merge(georef_df[['municipality_code', 'department_name']], on='municipality_code', how='left')\n",
    "\n",
    "# Groupe par department_name pour calculer le taux de pauvreté par département\n",
    "poverty_by_department = poverty_df.groupby('department_name').agg({\n",
    "    'population_poverty': 'sum',\n",
    "    'population_population': 'sum'\n",
    "}).reset_index()\n",
    "\n",
    "# Calculer le poverty_rate pour chaque département\n",
    "poverty_by_department['poverty_rate'] = (poverty_by_department['population_poverty'] / poverty_by_department['population']) * 100\n",
    "\n",
    "# Afficher le résultat\n",
    "poverty_by_department.head()\n",
    "\n",
    "# calcul = poverty_rate = poverty_population / total_population * 100\n",
    "# il faut ensuite le DF qui a poverty_rate à georef pour récupérer le department_name"
   ]
  },
  {
   "cell_type": "markdown",
   "metadata": {
    "id": "XYnKDVU0sb0S",
    "jp-MarkdownHeadingCollapsed": true
   },
   "source": [
    "##### 2. TOURISM"
   ]
  },
  {
   "cell_type": "code",
   "execution_count": 67,
   "metadata": {},
   "outputs": [
    {
     "data": {
      "text/html": [
       "<div>\n",
       "<style scoped>\n",
       "    .dataframe tbody tr th:only-of-type {\n",
       "        vertical-align: middle;\n",
       "    }\n",
       "\n",
       "    .dataframe tbody tr th {\n",
       "        vertical-align: top;\n",
       "    }\n",
       "\n",
       "    .dataframe thead th {\n",
       "        text-align: right;\n",
       "    }\n",
       "</style>\n",
       "<table border=\"1\" class=\"dataframe\">\n",
       "  <thead>\n",
       "    <tr style=\"text-align: right;\">\n",
       "      <th></th>\n",
       "      <th>department_code</th>\n",
       "      <th>department_name</th>\n",
       "      <th>nb_sites</th>\n",
       "    </tr>\n",
       "  </thead>\n",
       "  <tbody>\n",
       "    <tr>\n",
       "      <th>0</th>\n",
       "      <td>01</td>\n",
       "      <td>Ain</td>\n",
       "      <td>508</td>\n",
       "    </tr>\n",
       "    <tr>\n",
       "      <th>1</th>\n",
       "      <td>02</td>\n",
       "      <td>Aisne</td>\n",
       "      <td>217</td>\n",
       "    </tr>\n",
       "    <tr>\n",
       "      <th>2</th>\n",
       "      <td>03</td>\n",
       "      <td>Allier</td>\n",
       "      <td>323</td>\n",
       "    </tr>\n",
       "    <tr>\n",
       "      <th>3</th>\n",
       "      <td>04</td>\n",
       "      <td>Alpes-de-Haute-Provence</td>\n",
       "      <td>224</td>\n",
       "    </tr>\n",
       "    <tr>\n",
       "      <th>4</th>\n",
       "      <td>05</td>\n",
       "      <td>Hautes-Alpes</td>\n",
       "      <td>313</td>\n",
       "    </tr>\n",
       "  </tbody>\n",
       "</table>\n",
       "</div>"
      ],
      "text/plain": [
       "  department_code          department_name  nb_sites\n",
       "0              01                      Ain       508\n",
       "1              02                    Aisne       217\n",
       "2              03                   Allier       323\n",
       "3              04  Alpes-de-Haute-Provence       224\n",
       "4              05             Hautes-Alpes       313"
      ]
     },
     "execution_count": 67,
     "metadata": {},
     "output_type": "execute_result"
    }
   ],
   "source": [
    "# 2.1 Nombre de sites touristiques par département\n",
    "# Joindre les informations de géolocalisation pour obtenir les départements\n",
    "site_dep_df = site_df.merge(georef_df[['municipality_code', 'department_code', 'department_name']], on='municipality_code')\n",
    "\n",
    "# Calculer le nombre de sites touristiques par département\n",
    "num_sites_per_department = site_dep_df.groupby(['department_code', 'department_name'])['poi'].count().reset_index()\n",
    "num_sites_per_department.rename(columns={'poi': 'nb_sites'}, inplace=True)\n",
    "num_sites_per_department.head()"
   ]
  },
  {
   "cell_type": "code",
   "execution_count": 68,
   "metadata": {},
   "outputs": [
    {
     "data": {
      "text/html": [
       "<div>\n",
       "<style scoped>\n",
       "    .dataframe tbody tr th:only-of-type {\n",
       "        vertical-align: middle;\n",
       "    }\n",
       "\n",
       "    .dataframe tbody tr th {\n",
       "        vertical-align: top;\n",
       "    }\n",
       "\n",
       "    .dataframe thead th {\n",
       "        text-align: right;\n",
       "    }\n",
       "</style>\n",
       "<table border=\"1\" class=\"dataframe\">\n",
       "  <thead>\n",
       "    <tr style=\"text-align: right;\">\n",
       "      <th></th>\n",
       "      <th>department_code</th>\n",
       "      <th>department_name</th>\n",
       "      <th>avg_site_importance</th>\n",
       "    </tr>\n",
       "  </thead>\n",
       "  <tbody>\n",
       "    <tr>\n",
       "      <th>0</th>\n",
       "      <td>01</td>\n",
       "      <td>Ain</td>\n",
       "      <td>0.067051</td>\n",
       "    </tr>\n",
       "    <tr>\n",
       "      <th>1</th>\n",
       "      <td>02</td>\n",
       "      <td>Aisne</td>\n",
       "      <td>0.072294</td>\n",
       "    </tr>\n",
       "    <tr>\n",
       "      <th>2</th>\n",
       "      <td>03</td>\n",
       "      <td>Allier</td>\n",
       "      <td>0.066258</td>\n",
       "    </tr>\n",
       "    <tr>\n",
       "      <th>3</th>\n",
       "      <td>04</td>\n",
       "      <td>Alpes-de-Haute-Provence</td>\n",
       "      <td>0.065725</td>\n",
       "    </tr>\n",
       "    <tr>\n",
       "      <th>4</th>\n",
       "      <td>05</td>\n",
       "      <td>Hautes-Alpes</td>\n",
       "      <td>0.069074</td>\n",
       "    </tr>\n",
       "  </tbody>\n",
       "</table>\n",
       "</div>"
      ],
      "text/plain": [
       "  department_code          department_name  avg_site_importance\n",
       "0              01                      Ain             0.067051\n",
       "1              02                    Aisne             0.072294\n",
       "2              03                   Allier             0.066258\n",
       "3              04  Alpes-de-Haute-Provence             0.065725\n",
       "4              05             Hautes-Alpes             0.069074"
      ]
     },
     "execution_count": 68,
     "metadata": {},
     "output_type": "execute_result"
    }
   ],
   "source": [
    "# 2.2 Importance moyenne des sites par département\n",
    "# Calculer l'importance moyenne des sites touristiques par département\n",
    "avg_site_importance_per_department = site_dep_df.groupby(['department_code', 'department_name'])['importance'].mean().reset_index()\n",
    "avg_site_importance_per_department.rename(columns={'importance': 'avg_site_importance'}, inplace=True)\n",
    "avg_site_importance_per_department.head()"
   ]
  },
  {
   "cell_type": "code",
   "execution_count": 69,
   "metadata": {},
   "outputs": [
    {
     "data": {
      "text/html": [
       "<div>\n",
       "<style scoped>\n",
       "    .dataframe tbody tr th:only-of-type {\n",
       "        vertical-align: middle;\n",
       "    }\n",
       "\n",
       "    .dataframe tbody tr th {\n",
       "        vertical-align: top;\n",
       "    }\n",
       "\n",
       "    .dataframe thead th {\n",
       "        text-align: right;\n",
       "    }\n",
       "</style>\n",
       "<table border=\"1\" class=\"dataframe\">\n",
       "  <thead>\n",
       "    <tr style=\"text-align: right;\">\n",
       "      <th></th>\n",
       "      <th>department_code</th>\n",
       "      <th>department_name</th>\n",
       "      <th>total_stock</th>\n",
       "    </tr>\n",
       "  </thead>\n",
       "  <tbody>\n",
       "    <tr>\n",
       "      <th>0</th>\n",
       "      <td>01</td>\n",
       "      <td>Ain</td>\n",
       "      <td>1781912</td>\n",
       "    </tr>\n",
       "    <tr>\n",
       "      <th>1</th>\n",
       "      <td>02</td>\n",
       "      <td>Aisne</td>\n",
       "      <td>1829844</td>\n",
       "    </tr>\n",
       "    <tr>\n",
       "      <th>2</th>\n",
       "      <td>03</td>\n",
       "      <td>Allier</td>\n",
       "      <td>1462151</td>\n",
       "    </tr>\n",
       "    <tr>\n",
       "      <th>3</th>\n",
       "      <td>04</td>\n",
       "      <td>Alpes-de-Haute-Provence</td>\n",
       "      <td>755894</td>\n",
       "    </tr>\n",
       "    <tr>\n",
       "      <th>4</th>\n",
       "      <td>05</td>\n",
       "      <td>Hautes-Alpes</td>\n",
       "      <td>763007</td>\n",
       "    </tr>\n",
       "  </tbody>\n",
       "</table>\n",
       "</div>"
      ],
      "text/plain": [
       "  department_code          department_name  total_stock\n",
       "0              01                      Ain      1781912\n",
       "1              02                    Aisne      1829844\n",
       "2              03                   Allier      1462151\n",
       "3              04  Alpes-de-Haute-Provence       755894\n",
       "4              05             Hautes-Alpes       763007"
      ]
     },
     "execution_count": 69,
     "metadata": {},
     "output_type": "execute_result"
    }
   ],
   "source": [
    "# 2.3 Stock de logement par département\n",
    "# Joindre les informations de géolocalisation pour obtenir les départements\n",
    "stock_dep_df = stock_df.merge(georef_df[['municipality_code', 'department_code', 'department_name']], on='municipality_code')\n",
    "\n",
    "# Calculer le stock de logement par département (nombre total de logements)\n",
    "total_stock_per_department = stock_dep_df.groupby(['department_code', 'department_name'])['nb_tot_housing'].sum().reset_index()\n",
    "total_stock_per_department.rename(columns={'nb_tot_housing': 'total_stock'}, inplace=True)\n",
    "total_stock_per_department.head()"
   ]
  },
  {
   "cell_type": "markdown",
   "metadata": {
    "id": "XYnKDVU0sb0S",
    "jp-MarkdownHeadingCollapsed": true
   },
   "source": [
    "##### 3. REAL ESTATE"
   ]
  },
  {
   "cell_type": "code",
   "execution_count": 70,
   "metadata": {},
   "outputs": [
    {
     "data": {
      "text/html": [
       "<div>\n",
       "<style scoped>\n",
       "    .dataframe tbody tr th:only-of-type {\n",
       "        vertical-align: middle;\n",
       "    }\n",
       "\n",
       "    .dataframe tbody tr th {\n",
       "        vertical-align: top;\n",
       "    }\n",
       "\n",
       "    .dataframe thead th {\n",
       "        text-align: right;\n",
       "    }\n",
       "</style>\n",
       "<table border=\"1\" class=\"dataframe\">\n",
       "  <thead>\n",
       "    <tr style=\"text-align: right;\">\n",
       "      <th></th>\n",
       "      <th>department_code</th>\n",
       "      <th>department_name</th>\n",
       "      <th>avg_rental_yield</th>\n",
       "    </tr>\n",
       "  </thead>\n",
       "  <tbody>\n",
       "    <tr>\n",
       "      <th>0</th>\n",
       "      <td>01</td>\n",
       "      <td>Ain</td>\n",
       "      <td>12.253130</td>\n",
       "    </tr>\n",
       "    <tr>\n",
       "      <th>1</th>\n",
       "      <td>02</td>\n",
       "      <td>Aisne</td>\n",
       "      <td>9.627683</td>\n",
       "    </tr>\n",
       "    <tr>\n",
       "      <th>2</th>\n",
       "      <td>03</td>\n",
       "      <td>Allier</td>\n",
       "      <td>9.244937</td>\n",
       "    </tr>\n",
       "    <tr>\n",
       "      <th>3</th>\n",
       "      <td>04</td>\n",
       "      <td>Alpes-de-Haute-Provence</td>\n",
       "      <td>11.311378</td>\n",
       "    </tr>\n",
       "    <tr>\n",
       "      <th>4</th>\n",
       "      <td>05</td>\n",
       "      <td>Hautes-Alpes</td>\n",
       "      <td>11.714241</td>\n",
       "    </tr>\n",
       "    <tr>\n",
       "      <th>...</th>\n",
       "      <td>...</td>\n",
       "      <td>...</td>\n",
       "      <td>...</td>\n",
       "    </tr>\n",
       "    <tr>\n",
       "      <th>91</th>\n",
       "      <td>91</td>\n",
       "      <td>Essonne</td>\n",
       "      <td>16.469145</td>\n",
       "    </tr>\n",
       "    <tr>\n",
       "      <th>92</th>\n",
       "      <td>92</td>\n",
       "      <td>Hauts-de-Seine</td>\n",
       "      <td>25.354306</td>\n",
       "    </tr>\n",
       "    <tr>\n",
       "      <th>93</th>\n",
       "      <td>93</td>\n",
       "      <td>Seine-Saint-Denis</td>\n",
       "      <td>21.065125</td>\n",
       "    </tr>\n",
       "    <tr>\n",
       "      <th>94</th>\n",
       "      <td>94</td>\n",
       "      <td>Val-de-Marne</td>\n",
       "      <td>22.158404</td>\n",
       "    </tr>\n",
       "    <tr>\n",
       "      <th>95</th>\n",
       "      <td>95</td>\n",
       "      <td>Val-d'Oise</td>\n",
       "      <td>16.746503</td>\n",
       "    </tr>\n",
       "  </tbody>\n",
       "</table>\n",
       "<p>96 rows × 3 columns</p>\n",
       "</div>"
      ],
      "text/plain": [
       "   department_code          department_name  avg_rental_yield\n",
       "0               01                      Ain         12.253130\n",
       "1               02                    Aisne          9.627683\n",
       "2               03                   Allier          9.244937\n",
       "3               04  Alpes-de-Haute-Provence         11.311378\n",
       "4               05             Hautes-Alpes         11.714241\n",
       "..             ...                      ...               ...\n",
       "91              91                  Essonne         16.469145\n",
       "92              92           Hauts-de-Seine         25.354306\n",
       "93              93        Seine-Saint-Denis         21.065125\n",
       "94              94             Val-de-Marne         22.158404\n",
       "95              95               Val-d'Oise         16.746503\n",
       "\n",
       "[96 rows x 3 columns]"
      ]
     },
     "execution_count": 70,
     "metadata": {},
     "output_type": "execute_result"
    }
   ],
   "source": [
    "# 3.1 Rentabilité locative au m² par département\n",
    "# Joindre les informations de géolocalisation pour obtenir les départements\n",
    "real_estate_dep_df = real_estate_df.merge(georef_df[['municipality_code', 'department_code', 'department_name']], on='municipality_code')\n",
    "\n",
    "# Calculer la rentabilité locative moyenne au m² par département\n",
    "real_estate_dep_df['avg_rental_yield'] = (real_estate_dep_df['rental_max_all'] + real_estate_dep_df['rental_min_all']) / 2\n",
    "rental_yield_per_department = real_estate_dep_df.groupby(['department_code', 'department_name'])['avg_rental_yield'].mean().reset_index()\n",
    "rental_yield_per_department.rename(columns={'avg_rental_yield': 'avg_rental_yield'}, inplace=True)\n",
    "rental_yield_per_department"
   ]
  },
  {
   "cell_type": "code",
   "execution_count": 71,
   "metadata": {},
   "outputs": [
    {
     "data": {
      "text/html": [
       "<div>\n",
       "<style scoped>\n",
       "    .dataframe tbody tr th:only-of-type {\n",
       "        vertical-align: middle;\n",
       "    }\n",
       "\n",
       "    .dataframe tbody tr th {\n",
       "        vertical-align: top;\n",
       "    }\n",
       "\n",
       "    .dataframe thead th {\n",
       "        text-align: right;\n",
       "    }\n",
       "</style>\n",
       "<table border=\"1\" class=\"dataframe\">\n",
       "  <thead>\n",
       "    <tr style=\"text-align: right;\">\n",
       "      <th></th>\n",
       "      <th>department_code</th>\n",
       "      <th>department_name</th>\n",
       "      <th>avg_housing_tension</th>\n",
       "    </tr>\n",
       "  </thead>\n",
       "  <tbody>\n",
       "    <tr>\n",
       "      <th>0</th>\n",
       "      <td>01</td>\n",
       "      <td>Ain</td>\n",
       "      <td>8.0</td>\n",
       "    </tr>\n",
       "    <tr>\n",
       "      <th>1</th>\n",
       "      <td>02</td>\n",
       "      <td>Aisne</td>\n",
       "      <td>6.0</td>\n",
       "    </tr>\n",
       "    <tr>\n",
       "      <th>2</th>\n",
       "      <td>03</td>\n",
       "      <td>Allier</td>\n",
       "      <td>8.0</td>\n",
       "    </tr>\n",
       "    <tr>\n",
       "      <th>3</th>\n",
       "      <td>04</td>\n",
       "      <td>Alpes-de-Haute-Provence</td>\n",
       "      <td>6.0</td>\n",
       "    </tr>\n",
       "    <tr>\n",
       "      <th>4</th>\n",
       "      <td>05</td>\n",
       "      <td>Hautes-Alpes</td>\n",
       "      <td>10.0</td>\n",
       "    </tr>\n",
       "    <tr>\n",
       "      <th>...</th>\n",
       "      <td>...</td>\n",
       "      <td>...</td>\n",
       "      <td>...</td>\n",
       "    </tr>\n",
       "    <tr>\n",
       "      <th>91</th>\n",
       "      <td>91</td>\n",
       "      <td>Essonne</td>\n",
       "      <td>11.0</td>\n",
       "    </tr>\n",
       "    <tr>\n",
       "      <th>92</th>\n",
       "      <td>92</td>\n",
       "      <td>Hauts-de-Seine</td>\n",
       "      <td>21.0</td>\n",
       "    </tr>\n",
       "    <tr>\n",
       "      <th>93</th>\n",
       "      <td>93</td>\n",
       "      <td>Seine-Saint-Denis</td>\n",
       "      <td>13.0</td>\n",
       "    </tr>\n",
       "    <tr>\n",
       "      <th>94</th>\n",
       "      <td>94</td>\n",
       "      <td>Val-de-Marne</td>\n",
       "      <td>17.0</td>\n",
       "    </tr>\n",
       "    <tr>\n",
       "      <th>95</th>\n",
       "      <td>95</td>\n",
       "      <td>Val-d'Oise</td>\n",
       "      <td>11.0</td>\n",
       "    </tr>\n",
       "  </tbody>\n",
       "</table>\n",
       "<p>96 rows × 3 columns</p>\n",
       "</div>"
      ],
      "text/plain": [
       "   department_code          department_name  avg_housing_tension\n",
       "0               01                      Ain                  8.0\n",
       "1               02                    Aisne                  6.0\n",
       "2               03                   Allier                  8.0\n",
       "3               04  Alpes-de-Haute-Provence                  6.0\n",
       "4               05             Hautes-Alpes                 10.0\n",
       "..             ...                      ...                  ...\n",
       "91              91                  Essonne                 11.0\n",
       "92              92           Hauts-de-Seine                 21.0\n",
       "93              93        Seine-Saint-Denis                 13.0\n",
       "94              94             Val-de-Marne                 17.0\n",
       "95              95               Val-d'Oise                 11.0\n",
       "\n",
       "[96 rows x 3 columns]"
      ]
     },
     "execution_count": 71,
     "metadata": {},
     "output_type": "execute_result"
    }
   ],
   "source": [
    "# 3.2 Tension immobilière par département\n",
    "# Calculer la tension immobilière par département\n",
    "housing_tension_per_department = real_estate_dep_df.groupby(['department_code', 'department_name'])['intensite_tension_immo'].mean().reset_index()\n",
    "housing_tension_per_department.rename(columns={'intensite_tension_immo': 'avg_housing_tension'}, inplace=True)\n",
    "housing_tension_per_department"
   ]
  },
  {
   "cell_type": "code",
   "execution_count": 72,
   "metadata": {},
   "outputs": [
    {
     "data": {
      "text/html": [
       "<div>\n",
       "<style scoped>\n",
       "    .dataframe tbody tr th:only-of-type {\n",
       "        vertical-align: middle;\n",
       "    }\n",
       "\n",
       "    .dataframe tbody tr th {\n",
       "        vertical-align: top;\n",
       "    }\n",
       "\n",
       "    .dataframe thead th {\n",
       "        text-align: right;\n",
       "    }\n",
       "</style>\n",
       "<table border=\"1\" class=\"dataframe\">\n",
       "  <thead>\n",
       "    <tr style=\"text-align: right;\">\n",
       "      <th></th>\n",
       "      <th>department_code</th>\n",
       "      <th>department_name</th>\n",
       "      <th>avg_secondary_home_rate</th>\n",
       "    </tr>\n",
       "  </thead>\n",
       "  <tbody>\n",
       "    <tr>\n",
       "      <th>0</th>\n",
       "      <td>01</td>\n",
       "      <td>Ain</td>\n",
       "      <td>0.138884</td>\n",
       "    </tr>\n",
       "    <tr>\n",
       "      <th>1</th>\n",
       "      <td>02</td>\n",
       "      <td>Aisne</td>\n",
       "      <td>0.102122</td>\n",
       "    </tr>\n",
       "    <tr>\n",
       "      <th>2</th>\n",
       "      <td>03</td>\n",
       "      <td>Allier</td>\n",
       "      <td>0.132708</td>\n",
       "    </tr>\n",
       "    <tr>\n",
       "      <th>3</th>\n",
       "      <td>04</td>\n",
       "      <td>Alpes-de-Haute-Provence</td>\n",
       "      <td>0.397630</td>\n",
       "    </tr>\n",
       "    <tr>\n",
       "      <th>4</th>\n",
       "      <td>05</td>\n",
       "      <td>Hautes-Alpes</td>\n",
       "      <td>0.400697</td>\n",
       "    </tr>\n",
       "    <tr>\n",
       "      <th>...</th>\n",
       "      <td>...</td>\n",
       "      <td>...</td>\n",
       "      <td>...</td>\n",
       "    </tr>\n",
       "    <tr>\n",
       "      <th>95</th>\n",
       "      <td>95</td>\n",
       "      <td>Val-d'Oise</td>\n",
       "      <td>0.071613</td>\n",
       "    </tr>\n",
       "    <tr>\n",
       "      <th>96</th>\n",
       "      <td>971</td>\n",
       "      <td>Guadeloupe</td>\n",
       "      <td>0.076645</td>\n",
       "    </tr>\n",
       "    <tr>\n",
       "      <th>97</th>\n",
       "      <td>972</td>\n",
       "      <td>Martinique</td>\n",
       "      <td>0.068388</td>\n",
       "    </tr>\n",
       "    <tr>\n",
       "      <th>98</th>\n",
       "      <td>973</td>\n",
       "      <td>Guyane</td>\n",
       "      <td>0.062976</td>\n",
       "    </tr>\n",
       "    <tr>\n",
       "      <th>99</th>\n",
       "      <td>974</td>\n",
       "      <td>La Réunion</td>\n",
       "      <td>0.035493</td>\n",
       "    </tr>\n",
       "  </tbody>\n",
       "</table>\n",
       "<p>100 rows × 3 columns</p>\n",
       "</div>"
      ],
      "text/plain": [
       "   department_code          department_name  avg_secondary_home_rate\n",
       "0               01                      Ain                 0.138884\n",
       "1               02                    Aisne                 0.102122\n",
       "2               03                   Allier                 0.132708\n",
       "3               04  Alpes-de-Haute-Provence                 0.397630\n",
       "4               05             Hautes-Alpes                 0.400697\n",
       "..             ...                      ...                      ...\n",
       "95              95               Val-d'Oise                 0.071613\n",
       "96             971               Guadeloupe                 0.076645\n",
       "97             972               Martinique                 0.068388\n",
       "98             973                   Guyane                 0.062976\n",
       "99             974               La Réunion                 0.035493\n",
       "\n",
       "[100 rows x 3 columns]"
      ]
     },
     "execution_count": 72,
     "metadata": {},
     "output_type": "execute_result"
    }
   ],
   "source": [
    "# 3.3 Part de maisons secondaires par département\n",
    "# Calculer la part de maisons secondaires par département\n",
    "secondary_home_rate_per_department = stock_dep_df.groupby(['department_code', 'department_name'])['secondary_home_rate'].mean().reset_index()\n",
    "secondary_home_rate_per_department.rename(columns={'secondary_home_rate': 'avg_secondary_home_rate'}, inplace=True)\n",
    "secondary_home_rate_per_department"
   ]
  },
  {
   "cell_type": "code",
   "execution_count": 77,
   "metadata": {},
   "outputs": [
    {
     "data": {
      "text/html": [
       "<div>\n",
       "<style scoped>\n",
       "    .dataframe tbody tr th:only-of-type {\n",
       "        vertical-align: middle;\n",
       "    }\n",
       "\n",
       "    .dataframe tbody tr th {\n",
       "        vertical-align: top;\n",
       "    }\n",
       "\n",
       "    .dataframe thead th {\n",
       "        text-align: right;\n",
       "    }\n",
       "</style>\n",
       "<table border=\"1\" class=\"dataframe\">\n",
       "  <thead>\n",
       "    <tr style=\"text-align: right;\">\n",
       "      <th>sales_date</th>\n",
       "      <th>department_code</th>\n",
       "      <th>department_name</th>\n",
       "      <th>price_evolution</th>\n",
       "    </tr>\n",
       "  </thead>\n",
       "  <tbody>\n",
       "    <tr>\n",
       "      <th>0</th>\n",
       "      <td>01</td>\n",
       "      <td>Ain</td>\n",
       "      <td>-22.042678</td>\n",
       "    </tr>\n",
       "    <tr>\n",
       "      <th>1</th>\n",
       "      <td>02</td>\n",
       "      <td>Aisne</td>\n",
       "      <td>-27.922611</td>\n",
       "    </tr>\n",
       "    <tr>\n",
       "      <th>2</th>\n",
       "      <td>03</td>\n",
       "      <td>Allier</td>\n",
       "      <td>-16.614434</td>\n",
       "    </tr>\n",
       "    <tr>\n",
       "      <th>3</th>\n",
       "      <td>04</td>\n",
       "      <td>Alpes-de-Haute-Provence</td>\n",
       "      <td>NaN</td>\n",
       "    </tr>\n",
       "    <tr>\n",
       "      <th>4</th>\n",
       "      <td>05</td>\n",
       "      <td>Hautes-Alpes</td>\n",
       "      <td>19.868180</td>\n",
       "    </tr>\n",
       "  </tbody>\n",
       "</table>\n",
       "</div>"
      ],
      "text/plain": [
       "sales_date department_code          department_name  price_evolution\n",
       "0                       01                      Ain       -22.042678\n",
       "1                       02                    Aisne       -27.922611\n",
       "2                       03                   Allier       -16.614434\n",
       "3                       04  Alpes-de-Haute-Provence              NaN\n",
       "4                       05             Hautes-Alpes        19.868180"
      ]
     },
     "execution_count": 77,
     "metadata": {},
     "output_type": "execute_result"
    }
   ],
   "source": [
   ]
  },
  {
   "cell_type": "code",
   "execution_count": 79,
   "metadata": {},
   "outputs": [
    {
     "data": {
      "text/html": [
       "<div>\n",
       "<style scoped>\n",
       "    .dataframe tbody tr th:only-of-type {\n",
       "        vertical-align: middle;\n",
       "    }\n",
       "\n",
       "    .dataframe tbody tr th {\n",
       "        vertical-align: top;\n",
       "    }\n",
       "\n",
       "    .dataframe thead th {\n",
       "        text-align: right;\n",
       "    }\n",
       "</style>\n",
       "<table border=\"1\" class=\"dataframe\">\n",
       "  <thead>\n",
       "    <tr style=\"text-align: right;\">\n",
       "      <th></th>\n",
       "      <th>department_code</th>\n",
       "      <th>department_name</th>\n",
       "      <th>avg_sales_price_m2</th>\n",
       "    </tr>\n",
       "  </thead>\n",
       "  <tbody>\n",
       "    <tr>\n",
       "      <th>0</th>\n",
       "      <td>01</td>\n",
       "      <td>Ain</td>\n",
       "      <td>2648.283789</td>\n",
       "    </tr>\n",
       "    <tr>\n",
       "      <th>1</th>\n",
       "      <td>02</td>\n",
       "      <td>Aisne</td>\n",
       "      <td>1351.775633</td>\n",
       "    </tr>\n",
       "    <tr>\n",
       "      <th>2</th>\n",
       "      <td>03</td>\n",
       "      <td>Allier</td>\n",
       "      <td>1279.995017</td>\n",
       "    </tr>\n",
       "    <tr>\n",
       "      <th>3</th>\n",
       "      <td>04</td>\n",
       "      <td>Alpes-de-Haute-Provence</td>\n",
       "      <td>2283.535471</td>\n",
       "    </tr>\n",
       "    <tr>\n",
       "      <th>4</th>\n",
       "      <td>05</td>\n",
       "      <td>Hautes-Alpes</td>\n",
       "      <td>2602.996876</td>\n",
       "    </tr>\n",
       "  </tbody>\n",
       "</table>\n",
       "</div>"
      ],
      "text/plain": [
       "  department_code          department_name  avg_sales_price_m2\n",
       "0              01                      Ain         2648.283789\n",
       "1              02                    Aisne         1351.775633\n",
       "2              03                   Allier         1279.995017\n",
       "3              04  Alpes-de-Haute-Provence         2283.535471\n",
       "4              05             Hautes-Alpes         2602.996876"
      ]
     },
     "execution_count": 79,
     "metadata": {},
     "output_type": "execute_result"
    }
   ],
   "source": [
    "# Calculer le prix moyen au m² des ventes immobilières par département\n",
    "avg_price_per_m2_per_department = sales_dep_df.groupby(['department_code', 'department_name'])['sales_price_m2'].mean().reset_index()\n",
    "avg_price_per_m2_per_department.rename(columns={'sales_price_m2': 'avg_sales_price_m2'}, inplace=True)\n",
    "avg_price_per_m2_per_department.head()"
   ]
  },
  {
   "cell_type": "markdown",
   "metadata": {
    "id": "sNX4qmi1Gdyx",
    "jp-MarkdownHeadingCollapsed": true
   },
   "source": [
    "# 📈 **DATA VIZUALISATION**"
   ]
  },
  {
   "cell_type": "markdown",
   "metadata": {
    "id": "sNX4qmi1Gdyx",
    "jp-MarkdownHeadingCollapsed": true
   },
   "source": [
    "# 🏆 **SCORING SYSTEM**"
   ]
  },
  {
   "cell_type": "markdown",
   "metadata": {},
   "source": [
    "Population\n",
    "1.1 Salaire moyen par département\n",
    "1.2 Évolution de la population par département\n",
    "1.3 Taux de pauvreté par département\n",
    "\n",
    "Tourisme\n",
    "2.1 Nombre de sites touristiques par département\n",
    "2.2 Importance moyenne des sites par département\n",
    "2.3 Stock de logement par département\n",
    "\n",
    "Immobilier\n",
    "3.1 Rentabilité locative au m² par département\n",
    "3.2 Tension immobilière par département\n",
    "3.3 Part de maisons secondaires par département\n",
    "3.4 Évolution du prix au m² par département\n",
    "3.5 Prix moyen au m² des ventes immobilières par département\n",
    "creer moi un système de scoring (avec pondération) pour avoir :\n",
    "\n",
    "un score Population\n",
    "un score Tourisme\n",
    "un score Immobilier\n",
    "puis un Score Global grâce aux 3 précédents scores"
   ]
  },
  {
   "cell_type": "code",
   "execution_count": 96,
   "metadata": {},
   "outputs": [
    {
     "ename": "SyntaxError",
     "evalue": "invalid syntax (2095781877.py, line 32)",
     "output_type": "error",
     "traceback": [
      "\u001b[0;36m  Cell \u001b[0;32mIn[96], line 32\u001b[0;36m\u001b[0m\n\u001b[0;31m    )   #(100 - average_poverty_rate_by_department['poverty_rate']) * weights_population['poverty_rate']\u001b[0m\n\u001b[0m    ^\u001b[0m\n\u001b[0;31mSyntaxError\u001b[0m\u001b[0;31m:\u001b[0m invalid syntax\n"
     ]
    }
   ],
   "source": [
    "# Supposons que vous avez déjà calculé les données nécessaires pour les scores Population, Tourisme et Immobilier\n",
    "\n",
    "# 1. Définition des poids pour chaque sous-score dans chaque catégorie\n",
    "weights_population = {\n",
    "    'average_salary': 0.4,\n",
    "    'population_growth': 0.3,\n",
    "    'poverty_rate': 0.3\n",
    "}\n",
    "\n",
    "weights_tourism = {\n",
    "    'num_tourism_sites': 0.4,\n",
    "    'average_importance': 0.3,\n",
    "    'stock_housing': 0.3\n",
    "}\n",
    "\n",
    "weights_real_estate = {\n",
    "    'rental_yield_per_m2': 0.2,\n",
    "    'real_estate_tension': 0.2,\n",
    "    'secondary_home_rate': 0.1,\n",
    "    'price_growth': 0.2,\n",
    "    'average_price_per_m2': 0.3\n",
    "}\n",
    "\n",
    "# 2. Calcul des scores pour chaque catégorie\n",
    "\n",
    "# POPULATION\n",
    "# Supposons que vous avez déjà les dataframes suivants : average_salary_by_department, population_evolution_by_department, average_poverty_rate_by_department\n",
    "\n",
    "population_scores = (\n",
    "    avg_salary_per_department['avg_salary'] * weights_population['average_salary'] +\n",
    "    pop_evolution['evolution'] * weights_population['population_growth'] +\n",
    "    (100 - average_poverty_rate_by_department['poverty_rate']) * weights_population['poverty_rate']\n",
    ")\n",
    "\n",
    "# TOURISM\n",
    "# Supposons que vous avez déjà les dataframes suivants : tourism_sites_by_department, average_importance_by_department, stock_housing_by_department\n",
    "\n",
    "tourism_scores = (\n",
    "    tourism_sites_by_department['num_tourism_sites'] * weights_tourism['num_tourism_sites'] +\n",
    "    average_importance_by_department['importance'] * weights_tourism['average_importance'] +\n",
    "    stock_housing_by_department['stock_housing'] * weights_tourism['stock_housing']\n",
    ")\n",
    "\n",
    "# REAL ESTATE\n",
    "# Supposons que vous avez déjà les dataframes suivants : rental_yield_per_m2_by_department, real_estate_tension_by_department, second_home_rate_by_department, price_growth_by_department, average_price_per_m2_by_department\n",
    "\n",
    "real_estate_scores = (\n",
    "    rental_yield_per_m2_by_department['rental_yield_per_m2'] * weights_real_estate['rental_yield_per_m2'] +\n",
    "    (100 - real_estate_tension_by_department['intensite_tension_immo']) * weights_real_estate['real_estate_tension'] +\n",
    "    (100 - second_home_rate_by_department['secondary_home_rate']) * weights_real_estate['secondary_home_rate'] +\n",
    "    price_growth_by_department['price_growth'] * weights_real_estate['price_growth'] +\n",
    "    average_price_per_m2_by_department['average_price_per_m2'] * weights_real_estate['average_price_per_m2']\n",
    ")\n",
    "\n",
    "# 3. Calcul du score global\n",
    "# Supposons que les scores sont déjà calculés pour chaque catégorie\n",
    "\n",
    "global_score = (\n",
    "    population_scores +\n",
    "    tourism_scores +\n",
    "    real_estate_scores\n",
    ")\n",
    "\n",
    "# Afficher ou utiliser les résultats\n",
    "print(\"Scores Population :\\n\", population_scores.head())\n",
    "print(\"\\nScores Tourisme :\\n\", tourism_scores.head())\n",
    "print(\"\\nScores Immobilier :\\n\", real_estate_scores.head())\n",
    "print(\"\\nScore Global :\\n\", global_score.head())\n"
   ]
  },
  {
   "cell_type": "code",
   "execution_count": 82,
   "metadata": {},
   "outputs": [
    {
     "ename": "NameError",
     "evalue": "name 'population_scores' is not defined",
     "output_type": "error",
     "traceback": [
      "\u001b[0;31m---------------------------------------------------------------------------\u001b[0m",
      "\u001b[0;31mNameError\u001b[0m                                 Traceback (most recent call last)",
      "Cell \u001b[0;32mIn[82], line 11\u001b[0m\n\u001b[1;32m      7\u001b[0m scaler_population \u001b[38;5;241m=\u001b[39m MinMaxScaler()\n\u001b[1;32m      9\u001b[0m \u001b[38;5;66;03m# Normalisation des données\u001b[39;00m\n\u001b[1;32m     10\u001b[0m population_scores_scaled \u001b[38;5;241m=\u001b[39m scaler_population\u001b[38;5;241m.\u001b[39mfit_transform(\n\u001b[0;32m---> 11\u001b[0m     \u001b[43mpopulation_scores\u001b[49m[[\u001b[38;5;124m'\u001b[39m\u001b[38;5;124mavg_net_salary\u001b[39m\u001b[38;5;124m'\u001b[39m, \u001b[38;5;124m'\u001b[39m\u001b[38;5;124mpopulation_growth\u001b[39m\u001b[38;5;124m'\u001b[39m, \u001b[38;5;124m'\u001b[39m\u001b[38;5;124mpoverty_rate\u001b[39m\u001b[38;5;124m'\u001b[39m]]\n\u001b[1;32m     12\u001b[0m )\n\u001b[1;32m     14\u001b[0m \u001b[38;5;66;03m# Calcul des scores normalisés\u001b[39;00m\n\u001b[1;32m     15\u001b[0m population_scores_normalized \u001b[38;5;241m=\u001b[39m (\n\u001b[1;32m     16\u001b[0m     population_scores_scaled[:, \u001b[38;5;241m0\u001b[39m] \u001b[38;5;241m*\u001b[39m weights_population[\u001b[38;5;124m'\u001b[39m\u001b[38;5;124maverage_salary\u001b[39m\u001b[38;5;124m'\u001b[39m] \u001b[38;5;241m+\u001b[39m\n\u001b[1;32m     17\u001b[0m     population_scores_scaled[:, \u001b[38;5;241m1\u001b[39m] \u001b[38;5;241m*\u001b[39m weights_population[\u001b[38;5;124m'\u001b[39m\u001b[38;5;124mpopulation_growth\u001b[39m\u001b[38;5;124m'\u001b[39m] \u001b[38;5;241m+\u001b[39m\n\u001b[1;32m     18\u001b[0m     population_scores_scaled[:, \u001b[38;5;241m2\u001b[39m] \u001b[38;5;241m*\u001b[39m weights_population[\u001b[38;5;124m'\u001b[39m\u001b[38;5;124mpoverty_rate\u001b[39m\u001b[38;5;124m'\u001b[39m]\n\u001b[1;32m     19\u001b[0m )\n",
      "\u001b[0;31mNameError\u001b[0m: name 'population_scores' is not defined"
     ]
    }
   ],
   "source": [
    "# POPULATION SCORE\n",
    "from sklearn.preprocessing import MinMaxScaler\n",
    "\n",
    "# Supposons que vous avez déjà calculé les sous-scores pour la catégorie Population : average_salary_by_department, population_evolution_by_department, average_poverty_rate_by_department\n",
    "\n",
    "# Initialisation du MinMaxScaler\n",
    "scaler_population = MinMaxScaler()\n",
    "\n",
    "# Normalisation des données\n",
    "population_scores_scaled = scaler_population.fit_transform(\n",
    "    population_scores[['avg_net_salary', 'population_growth', 'poverty_rate']]\n",
    ")\n",
    "\n",
    "# Calcul des scores normalisés\n",
    "population_scores_normalized = (\n",
    "    population_scores_scaled[:, 0] * weights_population['average_salary'] +\n",
    "    population_scores_scaled[:, 1] * weights_population['population_growth'] +\n",
    "    population_scores_scaled[:, 2] * weights_population['poverty_rate']\n",
    ")\n",
    "\n",
    "# Afficher ou utiliser les résultats des scores normalisés\n",
    "print(\"Scores Population normalisés :\\n\", population_scores_normalized.head())\n"
   ]
  },
  {
   "cell_type": "code",
   "execution_count": 84,
   "metadata": {},
   "outputs": [
    {
     "ename": "NameError",
     "evalue": "name 'tourism_scores' is not defined",
     "output_type": "error",
     "traceback": [
      "\u001b[0;31m---------------------------------------------------------------------------\u001b[0m",
      "\u001b[0;31mNameError\u001b[0m                                 Traceback (most recent call last)",
      "Cell \u001b[0;32mIn[84], line 9\u001b[0m\n\u001b[1;32m      5\u001b[0m scaler_tourism \u001b[38;5;241m=\u001b[39m MinMaxScaler()\n\u001b[1;32m      7\u001b[0m \u001b[38;5;66;03m# Normalisation des données\u001b[39;00m\n\u001b[1;32m      8\u001b[0m tourism_scores_scaled \u001b[38;5;241m=\u001b[39m scaler_tourism\u001b[38;5;241m.\u001b[39mfit_transform(\n\u001b[0;32m----> 9\u001b[0m     \u001b[43mtourism_scores\u001b[49m[[\u001b[38;5;124m'\u001b[39m\u001b[38;5;124mnum_tourism_sites\u001b[39m\u001b[38;5;124m'\u001b[39m, \u001b[38;5;124m'\u001b[39m\u001b[38;5;124maverage_importance\u001b[39m\u001b[38;5;124m'\u001b[39m, \u001b[38;5;124m'\u001b[39m\u001b[38;5;124mstock_housing\u001b[39m\u001b[38;5;124m'\u001b[39m]]\n\u001b[1;32m     10\u001b[0m )\n\u001b[1;32m     12\u001b[0m \u001b[38;5;66;03m# Calcul des scores normalisés\u001b[39;00m\n\u001b[1;32m     13\u001b[0m tourism_scores_normalized \u001b[38;5;241m=\u001b[39m (\n\u001b[1;32m     14\u001b[0m     tourism_scores_scaled[:, \u001b[38;5;241m0\u001b[39m] \u001b[38;5;241m*\u001b[39m weights_tourism[\u001b[38;5;124m'\u001b[39m\u001b[38;5;124mnum_tourism_sites\u001b[39m\u001b[38;5;124m'\u001b[39m] \u001b[38;5;241m+\u001b[39m\n\u001b[1;32m     15\u001b[0m     tourism_scores_scaled[:, \u001b[38;5;241m1\u001b[39m] \u001b[38;5;241m*\u001b[39m weights_tourism[\u001b[38;5;124m'\u001b[39m\u001b[38;5;124maverage_importance\u001b[39m\u001b[38;5;124m'\u001b[39m] \u001b[38;5;241m+\u001b[39m\n\u001b[1;32m     16\u001b[0m     tourism_scores_scaled[:, \u001b[38;5;241m2\u001b[39m] \u001b[38;5;241m*\u001b[39m weights_tourism[\u001b[38;5;124m'\u001b[39m\u001b[38;5;124mstock_housing\u001b[39m\u001b[38;5;124m'\u001b[39m]\n\u001b[1;32m     17\u001b[0m )\n",
      "\u001b[0;31mNameError\u001b[0m: name 'tourism_scores' is not defined"
     ]
    }
   ],
   "source": [
    "# TOURISM SCORE\n",
    "# Supposons que vous avez déjà calculé les sous-scores pour la catégorie Tourisme : tourism_sites_by_department, average_importance_by_department, stock_housing_by_department\n",
    "\n",
    "# Initialisation du MinMaxScaler\n",
    "scaler_tourism = MinMaxScaler()\n",
    "\n",
    "# Normalisation des données\n",
    "tourism_scores_scaled = scaler_tourism.fit_transform(\n",
    "    tourism_scores[['num_tourism_sites', 'average_importance', 'stock_housing']]\n",
    ")\n",
    "\n",
    "# Calcul des scores normalisés\n",
    "tourism_scores_normalized = (\n",
    "    tourism_scores_scaled[:, 0] * weights_tourism['num_tourism_sites'] +\n",
    "    tourism_scores_scaled[:, 1] * weights_tourism['average_importance'] +\n",
    "    tourism_scores_scaled[:, 2] * weights_tourism['stock_housing']\n",
    ")\n",
    "\n",
    "# Afficher ou utiliser les résultats des scores normalisés\n",
    "print(\"Scores Tourisme normalisés :\\n\", tourism_scores_normalized.head())\n"
   ]
  },
  {
   "cell_type": "code",
   "execution_count": 85,
   "metadata": {},
   "outputs": [
    {
     "ename": "NameError",
     "evalue": "name 'real_estate_scores' is not defined",
     "output_type": "error",
     "traceback": [
      "\u001b[0;31m---------------------------------------------------------------------------\u001b[0m",
      "\u001b[0;31mNameError\u001b[0m                                 Traceback (most recent call last)",
      "Cell \u001b[0;32mIn[85], line 9\u001b[0m\n\u001b[1;32m      5\u001b[0m scaler_real_estate \u001b[38;5;241m=\u001b[39m MinMaxScaler()\n\u001b[1;32m      7\u001b[0m \u001b[38;5;66;03m# Normalisation des données\u001b[39;00m\n\u001b[1;32m      8\u001b[0m real_estate_scores_scaled \u001b[38;5;241m=\u001b[39m scaler_real_estate\u001b[38;5;241m.\u001b[39mfit_transform(\n\u001b[0;32m----> 9\u001b[0m     \u001b[43mreal_estate_scores\u001b[49m[[\u001b[38;5;124m'\u001b[39m\u001b[38;5;124mrental_yield_per_m2\u001b[39m\u001b[38;5;124m'\u001b[39m, \u001b[38;5;124m'\u001b[39m\u001b[38;5;124mreal_estate_tension\u001b[39m\u001b[38;5;124m'\u001b[39m, \u001b[38;5;124m'\u001b[39m\u001b[38;5;124msecondary_home_rate\u001b[39m\u001b[38;5;124m'\u001b[39m, \u001b[38;5;124m'\u001b[39m\u001b[38;5;124mprice_growth\u001b[39m\u001b[38;5;124m'\u001b[39m, \u001b[38;5;124m'\u001b[39m\u001b[38;5;124maverage_price_per_m2\u001b[39m\u001b[38;5;124m'\u001b[39m]]\n\u001b[1;32m     10\u001b[0m )\n\u001b[1;32m     12\u001b[0m \u001b[38;5;66;03m# Calcul des scores normalisés\u001b[39;00m\n\u001b[1;32m     13\u001b[0m real_estate_scores_normalized \u001b[38;5;241m=\u001b[39m (\n\u001b[1;32m     14\u001b[0m     real_estate_scores_scaled[:, \u001b[38;5;241m0\u001b[39m] \u001b[38;5;241m*\u001b[39m weights_real_estate[\u001b[38;5;124m'\u001b[39m\u001b[38;5;124mrental_yield_per_m2\u001b[39m\u001b[38;5;124m'\u001b[39m] \u001b[38;5;241m+\u001b[39m\n\u001b[1;32m     15\u001b[0m     real_estate_scores_scaled[:, \u001b[38;5;241m1\u001b[39m] \u001b[38;5;241m*\u001b[39m weights_real_estate[\u001b[38;5;124m'\u001b[39m\u001b[38;5;124mreal_estate_tension\u001b[39m\u001b[38;5;124m'\u001b[39m] \u001b[38;5;241m+\u001b[39m\n\u001b[0;32m   (...)\u001b[0m\n\u001b[1;32m     18\u001b[0m     real_estate_scores_scaled[:, \u001b[38;5;241m4\u001b[39m] \u001b[38;5;241m*\u001b[39m weights_real_estate[\u001b[38;5;124m'\u001b[39m\u001b[38;5;124maverage_price_per_m2\u001b[39m\u001b[38;5;124m'\u001b[39m]\n\u001b[1;32m     19\u001b[0m )\n",
      "\u001b[0;31mNameError\u001b[0m: name 'real_estate_scores' is not defined"
     ]
    }
   ],
   "source": [
    "# 1 REAL ESTATE SCORE\n",
    "# Supposons que vous avez déjà calculé les sous-scores pour la catégorie Immobilier : rental_yield_per_m2_by_department, real_estate_tension_by_department, second_home_rate_by_department, price_growth_by_department, average_price_per_m2_by_department\n",
    "\n",
    "# Initialisation du MinMaxScaler\n",
    "scaler_real_estate = MinMaxScaler()\n",
    "\n",
    "# Normalisation des données\n",
    "real_estate_scores_scaled = scaler_real_estate.fit_transform(\n",
    "    real_estate_scores[['rental_yield_per_m2', 'real_estate_tension', 'secondary_home_rate', 'price_growth', 'average_price_per_m2']]\n",
    ")\n",
    "\n",
    "# Calcul des scores normalisés\n",
    "real_estate_scores_normalized = (\n",
    "    real_estate_scores_scaled[:, 0] * weights_real_estate['rental_yield_per_m2'] +\n",
    "    real_estate_scores_scaled[:, 1] * weights_real_estate['real_estate_tension'] +\n",
    "    real_estate_scores_scaled[:, 2] * weights_real_estate['secondary_home_rate'] +\n",
    "    real_estate_scores_scaled[:, 3] * weights_real_estate['price_growth'] +\n",
    "    real_estate_scores_scaled[:, 4] * weights_real_estate['average_price_per_m2']\n",
    ")\n",
    "\n",
    "# Afficher ou utiliser les résultats des scores normalisés\n",
    "print(\"Scores Immobilier normalisés :\\n\", real_estate_scores_normalized.head())\n"
   ]
  },
  {
   "cell_type": "code",
   "execution_count": null,
   "metadata": {},
   "outputs": [],
   "source": [
    "1 GLOBAL SCORE\n",
    "# Supposons que vous avez déjà les scores normalisés pour chaque catégorie\n",
    "# population_scores_normalized, tourism_scores_normalized, real_estate_scores_normalized\n",
    "\n",
    "# Définition des poids pour chaque catégorie\n",
    "weights = {\n",
    "    'population': 0.4,\n",
    "    'tourism': 0.3,\n",
    "    'real_estate': 0.3\n",
    "}\n",
    "\n",
    "# Calcul du score global pondéré\n",
    "global_score = (\n",
    "    population_scores_normalized * weights['population'] +\n",
    "    tourism_scores_normalized * weights['tourism'] +\n",
    "    real_estate_scores_normalized * weights['real_estate']\n",
    ")\n",
    "\n",
    "# Afficher ou utiliser le score global\n",
    "print(\"Score Global :\\n\", global_score.head())\n"
   ]
  }
 ],
 "metadata": {
  "colab": {
   "collapsed_sections": [
    "MtiYSUHHSCws",
    "qzPmsWEUq5zk",
    "Qhf-qyfBrBrU",
    "WUbRvCbWrC-g",
    "IaW8clyJrE7k",
    "gHemM-SqrGyN",
    "wDh1nf-1rIgb",
    "DEROdiJirK6M",
    "-pWIMamvrMgo",
    "i0j9hJqlFaEc",
    "FZ-ON4l9sVwu",
    "XYnKDVU0sb0S",
    "sNX4qmi1Gdyx"
   ],
   "provenance": []
  },
  "kernelspec": {
   "display_name": "Python 3 (ipykernel)",
   "language": "python",
   "name": "python3"
  },
  "language_info": {
   "codemirror_mode": {
    "name": "ipython",
    "version": 3
   },
   "file_extension": ".py",
   "mimetype": "text/x-python",
   "name": "python",
   "nbconvert_exporter": "python",
   "pygments_lexer": "ipython3",
   "version": "3.11.7"
  }
 },
 "nbformat": 4,
 "nbformat_minor": 4
}
