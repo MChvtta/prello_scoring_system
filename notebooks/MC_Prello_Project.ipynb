{
 "cells": [
  {
   "cell_type": "markdown",
   "metadata": {
    "id": "MtiYSUHHSCws",
    "jp-MarkdownHeadingCollapsed": true
   },
   "source": [
    "# ⚙️ **DATA IMPORT**"
   ]
  },
  {
   "cell_type": "code",
   "execution_count": 1,
   "metadata": {
    "id": "JmHBpzSNQyBu"
   },
   "outputs": [],
   "source": [
    "import pandas as pd\n",
    "import numpy as np\n",
    "import matplotlib.pyplot as plt\n",
    "import plotly.graph_objects as go\n",
    "import plotly.express as px\n",
    "#import seaborn as sns\n",
    "import os\n",
    "import plotly.io as pio\n",
    "pio.renderers.default = 'iframe'\n",
    "\n",
    "DATA_PATH = '../data'\n",
    "\n",
    "POI_FILENAME = 'POI_tourist_establishments.csv'\n",
    "SITE_FILENAME = 'POI_touristic_sites_by_municipality.csv'\n",
    "SALARY_FILENAME = 'average_salary_by_municipality.csv'\n",
    "GEOREF_FILENAME = 'geographical_referential.csv'\n",
    "STOCK_FILENAME = 'housing_stock.csv'\n",
    "SALES_FILENAME = 'notary_real_estate_sales.csv'\n",
    "POPULATION_FILENAME = 'population_by_municipality.csv'\n",
    "POVERTY_FILENAME = 'poverty_population_by_municipality.csv'\n",
    "REAL_ESTATE_FILENAME = 'real_estate_info_by_municipality.csv'\n",
    "\n",
    "poi_df = pd.read_csv(os.path.join(DATA_PATH, POI_FILENAME),usecols=lambda column: column != 'name')\n",
    "site_df = pd.read_csv(os.path.join(DATA_PATH, SITE_FILENAME))\n",
    "salary_df = pd.read_csv(os.path.join(DATA_PATH, SALARY_FILENAME),usecols=lambda column: column != 'country_code')\n",
    "georef_df = pd.read_csv(os.path.join(DATA_PATH, GEOREF_FILENAME),usecols=lambda column: column != 'country_code')\n",
    "stock_df = pd.read_csv(os.path.join(DATA_PATH, STOCK_FILENAME),usecols=lambda column: column not in ['int64_field_0', 'country_code'])\n",
    "sales_df = pd.read_csv(os.path.join(DATA_PATH, SALES_FILENAME))\n",
    "population_df = pd.read_csv(os.path.join(DATA_PATH, POPULATION_FILENAME),usecols=lambda column: column != 'country_code')\n",
    "poverty_df = pd.read_csv(os.path.join(DATA_PATH, POVERTY_FILENAME),usecols=lambda column: column != 'country_code')\n",
    "real_estate_df = pd.read_csv(os.path.join(DATA_PATH, REAL_ESTATE_FILENAME))"
   ]
  },
  {
   "cell_type": "markdown",
   "metadata": {
    "id": "_dsdbtLaFVvf",
    "jp-MarkdownHeadingCollapsed": true
   },
   "source": [
    "# 🔭 **DATA EXPLORATION**\n",
    "\n",
    "\n"
   ]
  },
  {
   "cell_type": "markdown",
   "metadata": {
    "id": "qzPmsWEUq5zk",
    "jp-MarkdownHeadingCollapsed": true
   },
   "source": [
    "#### DF POI"
   ]
  },
  {
   "cell_type": "code",
   "execution_count": 2,
   "metadata": {
    "colab": {
     "base_uri": "https://localhost:8080/",
     "height": 206
    },
    "id": "2jlBgmvTq1FC",
    "outputId": "7e88d8c6-387a-4347-9bac-584b54d21802"
   },
   "outputs": [
    {
     "data": {
      "text/html": [
       "<div>\n",
       "<style scoped>\n",
       "    .dataframe tbody tr th:only-of-type {\n",
       "        vertical-align: middle;\n",
       "    }\n",
       "\n",
       "    .dataframe tbody tr th {\n",
       "        vertical-align: top;\n",
       "    }\n",
       "\n",
       "    .dataframe thead th {\n",
       "        text-align: right;\n",
       "    }\n",
       "</style>\n",
       "<table border=\"1\" class=\"dataframe\">\n",
       "  <thead>\n",
       "    <tr style=\"text-align: right;\">\n",
       "      <th></th>\n",
       "      <th>poi</th>\n",
       "      <th>latitude</th>\n",
       "      <th>longitude</th>\n",
       "      <th>municipality_code</th>\n",
       "      <th>importance</th>\n",
       "      <th>name_reprocessed</th>\n",
       "    </tr>\n",
       "  </thead>\n",
       "  <tbody>\n",
       "    <tr>\n",
       "      <th>0</th>\n",
       "      <td>hotel</td>\n",
       "      <td>45.678531</td>\n",
       "      <td>-1.163635</td>\n",
       "      <td>17225</td>\n",
       "      <td>0.078556</td>\n",
       "      <td>Club Med</td>\n",
       "    </tr>\n",
       "    <tr>\n",
       "      <th>1</th>\n",
       "      <td>hotel</td>\n",
       "      <td>44.026859</td>\n",
       "      <td>4.847491</td>\n",
       "      <td>84129</td>\n",
       "      <td>0.078419</td>\n",
       "      <td>Cabanes des Grands Cépages</td>\n",
       "    </tr>\n",
       "    <tr>\n",
       "      <th>2</th>\n",
       "      <td>hotel</td>\n",
       "      <td>50.331541</td>\n",
       "      <td>1.565677</td>\n",
       "      <td>80333</td>\n",
       "      <td>0.077999</td>\n",
       "      <td>Pierre et Vacances</td>\n",
       "    </tr>\n",
       "    <tr>\n",
       "      <th>3</th>\n",
       "      <td>hotel</td>\n",
       "      <td>43.285936</td>\n",
       "      <td>6.569696</td>\n",
       "      <td>83068</td>\n",
       "      <td>0.077702</td>\n",
       "      <td>Pierre &amp; Vacances</td>\n",
       "    </tr>\n",
       "    <tr>\n",
       "      <th>4</th>\n",
       "      <td>hotel</td>\n",
       "      <td>43.541050</td>\n",
       "      <td>3.752852</td>\n",
       "      <td>34095</td>\n",
       "      <td>0.077542</td>\n",
       "      <td>Le Domaine du Golf</td>\n",
       "    </tr>\n",
       "  </tbody>\n",
       "</table>\n",
       "</div>"
      ],
      "text/plain": [
       "     poi   latitude  longitude municipality_code  importance  \\\n",
       "0  hotel  45.678531  -1.163635             17225    0.078556   \n",
       "1  hotel  44.026859   4.847491             84129    0.078419   \n",
       "2  hotel  50.331541   1.565677             80333    0.077999   \n",
       "3  hotel  43.285936   6.569696             83068    0.077702   \n",
       "4  hotel  43.541050   3.752852             34095    0.077542   \n",
       "\n",
       "              name_reprocessed  \n",
       "0                    Club Med   \n",
       "1  Cabanes des Grands Cépages   \n",
       "2          Pierre et Vacances   \n",
       "3           Pierre & Vacances   \n",
       "4          Le Domaine du Golf   "
      ]
     },
     "execution_count": 2,
     "metadata": {},
     "output_type": "execute_result"
    }
   ],
   "source": [
    "poi_df.head() #DATA CLEAN\n",
    "# importance : poids interne pour évaluer l'importance"
   ]
  },
  {
   "cell_type": "code",
   "execution_count": 53,
   "metadata": {},
   "outputs": [
    {
     "data": {
      "text/html": [
       "<iframe\n",
       "    scrolling=\"no\"\n",
       "    width=\"100%\"\n",
       "    height=\"1010\"\n",
       "    src=\"iframe_figures/figure_53.html\"\n",
       "    frameborder=\"0\"\n",
       "    allowfullscreen\n",
       "></iframe>\n"
      ]
     },
     "metadata": {},
     "output_type": "display_data"
    }
   ],
   "source": [
    "# Création de la carte avec Plotly Express\n",
    "fig = px.scatter_mapbox(poi_df, lat='latitude', lon='longitude', hover_name='name_reprocessed',\n",
    "                        color='poi', size='importance', zoom=5, height=990)\n",
    "\n",
    "# Personnalisation du titre et du style de la carte\n",
    "fig.update_layout(\n",
    "    title='Répartition des points d\\'intérêt',\n",
    "    mapbox_style='open-street-map'  # Vous pouvez choisir parmi d'autres styles de carte, par exemple 'carto-positron'\n",
    ")\n",
    "\n",
    "# Réduction de la taille des points\n",
    "fig.update_traces(marker=dict(size=4))\n",
    "\n",
    "# Affichage du graphique\n",
    "fig.show()"
   ]
  },
  {
   "cell_type": "code",
   "execution_count": 4,
   "metadata": {},
   "outputs": [
    {
     "data": {
      "text/html": [
       "<iframe\n",
       "    scrolling=\"no\"\n",
       "    width=\"100%\"\n",
       "    height=\"545px\"\n",
       "    src=\"iframe_figures/figure_4.html\"\n",
       "    frameborder=\"0\"\n",
       "    allowfullscreen\n",
       "></iframe>\n"
      ]
     },
     "metadata": {},
     "output_type": "display_data"
    }
   ],
   "source": [
    "poi_count = poi_df['poi'].value_counts()\n",
    "\n",
    "# Création du diagramme circulaire avec Plotly Express\n",
    "fig = px.pie(names=poi_count.index, values=poi_count.values, title='Répartition des points d\\'intérêt (POI)')\n",
    "\n",
    "# Affichage du graphique\n",
    "fig.show()"
   ]
  },
  {
   "cell_type": "code",
   "execution_count": 5,
   "metadata": {
    "colab": {
     "base_uri": "https://localhost:8080/"
    },
    "id": "JwMXJOH3t22N",
    "outputId": "5265bdc2-4c20-468f-cdb0-e3ddfcc191f4"
   },
   "outputs": [
    {
     "data": {
      "text/plain": [
       "np.int64(0)"
      ]
     },
     "execution_count": 5,
     "metadata": {},
     "output_type": "execute_result"
    }
   ],
   "source": [
    "# 0 DOUBLONS !\n",
    "poi_df.duplicated().sum()#.drop_duplicates()"
   ]
  },
  {
   "cell_type": "code",
   "execution_count": 6,
   "metadata": {
    "colab": {
     "base_uri": "https://localhost:8080/"
    },
    "id": "en4Krf81uzWC",
    "outputId": "1f057e30-8fde-468b-b97e-178acb96b871"
   },
   "outputs": [
    {
     "name": "stdout",
     "output_type": "stream",
     "text": [
      "<class 'pandas.core.frame.DataFrame'>\n",
      "RangeIndex: 26216 entries, 0 to 26215\n",
      "Data columns (total 6 columns):\n",
      " #   Column             Non-Null Count  Dtype  \n",
      "---  ------             --------------  -----  \n",
      " 0   poi                26216 non-null  object \n",
      " 1   latitude           26216 non-null  float64\n",
      " 2   longitude          26216 non-null  float64\n",
      " 3   municipality_code  26216 non-null  object \n",
      " 4   importance         26216 non-null  float64\n",
      " 5   name_reprocessed   26216 non-null  object \n",
      "dtypes: float64(3), object(3)\n",
      "memory usage: 1.2+ MB\n"
     ]
    },
    {
     "data": {
      "text/plain": [
       "poi                  0\n",
       "latitude             0\n",
       "longitude            0\n",
       "municipality_code    0\n",
       "importance           0\n",
       "name_reprocessed     0\n",
       "dtype: int64"
      ]
     },
     "execution_count": 6,
     "metadata": {},
     "output_type": "execute_result"
    }
   ],
   "source": [
    "poi_df.info()\n",
    "poi_df.isnull().sum()"
   ]
  },
  {
   "cell_type": "markdown",
   "metadata": {
    "id": "0eBByRxTq_5z",
    "jp-MarkdownHeadingCollapsed": true
   },
   "source": [
    "#### DF SITE"
   ]
  },
  {
   "cell_type": "code",
   "execution_count": 7,
   "metadata": {
    "colab": {
     "base_uri": "https://localhost:8080/",
     "height": 206
    },
    "id": "fMYRW5xNr6i2",
    "outputId": "dedf1d5d-bb91-475c-ae8c-e11e19d7187b"
   },
   "outputs": [
    {
     "data": {
      "text/html": [
       "<div>\n",
       "<style scoped>\n",
       "    .dataframe tbody tr th:only-of-type {\n",
       "        vertical-align: middle;\n",
       "    }\n",
       "\n",
       "    .dataframe tbody tr th {\n",
       "        vertical-align: top;\n",
       "    }\n",
       "\n",
       "    .dataframe thead th {\n",
       "        text-align: right;\n",
       "    }\n",
       "</style>\n",
       "<table border=\"1\" class=\"dataframe\">\n",
       "  <thead>\n",
       "    <tr style=\"text-align: right;\">\n",
       "      <th></th>\n",
       "      <th>poi</th>\n",
       "      <th>name</th>\n",
       "      <th>latitude</th>\n",
       "      <th>longitude</th>\n",
       "      <th>municipality_code</th>\n",
       "      <th>importance</th>\n",
       "      <th>name_reprocessed</th>\n",
       "    </tr>\n",
       "  </thead>\n",
       "  <tbody>\n",
       "    <tr>\n",
       "      <th>0</th>\n",
       "      <td>1</td>\n",
       "      <td>Fortifications de Vauban (Patrimoine mondial)</td>\n",
       "      <td>46.396160</td>\n",
       "      <td>1.472600</td>\n",
       "      <td>36134</td>\n",
       "      <td>0.139527</td>\n",
       "      <td>Fortifications de Vauban</td>\n",
       "    </tr>\n",
       "    <tr>\n",
       "      <th>1</th>\n",
       "      <td>1</td>\n",
       "      <td>Chemins de Saint-Jacques-de-Compostelle en Fra...</td>\n",
       "      <td>46.313695</td>\n",
       "      <td>1.478772</td>\n",
       "      <td>23258</td>\n",
       "      <td>0.137821</td>\n",
       "      <td>Chemins de Saint-Jacques-de-Compostelle en Fra...</td>\n",
       "    </tr>\n",
       "    <tr>\n",
       "      <th>2</th>\n",
       "      <td>1</td>\n",
       "      <td>Canal du Midi (Patrimoine mondial)</td>\n",
       "      <td>43.332709</td>\n",
       "      <td>3.219890</td>\n",
       "      <td>34032</td>\n",
       "      <td>0.129531</td>\n",
       "      <td>Canal du Midi</td>\n",
       "    </tr>\n",
       "    <tr>\n",
       "      <th>3</th>\n",
       "      <td>1</td>\n",
       "      <td>Bassin minier du Nord-Pas de Calais (Patrimoin...</td>\n",
       "      <td>50.455895</td>\n",
       "      <td>2.965034</td>\n",
       "      <td>62427</td>\n",
       "      <td>0.127170</td>\n",
       "      <td>Bassin minier du Nord-Pas de Calais</td>\n",
       "    </tr>\n",
       "    <tr>\n",
       "      <th>4</th>\n",
       "      <td>1</td>\n",
       "      <td>Les Causses et les Cévennes, paysage culturel ...</td>\n",
       "      <td>44.346210</td>\n",
       "      <td>3.613406</td>\n",
       "      <td>48050</td>\n",
       "      <td>0.124981</td>\n",
       "      <td>Les Causses et les Cévennes, paysage culturel ...</td>\n",
       "    </tr>\n",
       "  </tbody>\n",
       "</table>\n",
       "</div>"
      ],
      "text/plain": [
       "  poi                                               name   latitude  \\\n",
       "0   1      Fortifications de Vauban (Patrimoine mondial)  46.396160   \n",
       "1   1  Chemins de Saint-Jacques-de-Compostelle en Fra...  46.313695   \n",
       "2   1                 Canal du Midi (Patrimoine mondial)  43.332709   \n",
       "3   1  Bassin minier du Nord-Pas de Calais (Patrimoin...  50.455895   \n",
       "4   1  Les Causses et les Cévennes, paysage culturel ...  44.346210   \n",
       "\n",
       "   longitude municipality_code  importance  \\\n",
       "0   1.472600             36134    0.139527   \n",
       "1   1.478772             23258    0.137821   \n",
       "2   3.219890             34032    0.129531   \n",
       "3   2.965034             62427    0.127170   \n",
       "4   3.613406             48050    0.124981   \n",
       "\n",
       "                                    name_reprocessed  \n",
       "0                          Fortifications de Vauban   \n",
       "1  Chemins de Saint-Jacques-de-Compostelle en Fra...  \n",
       "2                                     Canal du Midi   \n",
       "3               Bassin minier du Nord-Pas de Calais   \n",
       "4  Les Causses et les Cévennes, paysage culturel ...  "
      ]
     },
     "execution_count": 7,
     "metadata": {},
     "output_type": "execute_result"
    }
   ],
   "source": [
    "site_df.head() # DATA CLEAN\n",
    "# importance : poids interne pour évaluer l'importance"
   ]
  },
  {
   "cell_type": "code",
   "execution_count": 8,
   "metadata": {},
   "outputs": [
    {
     "data": {
      "text/html": [
       "<iframe\n",
       "    scrolling=\"no\"\n",
       "    width=\"100%\"\n",
       "    height=\"1010\"\n",
       "    src=\"iframe_figures/figure_8.html\"\n",
       "    frameborder=\"0\"\n",
       "    allowfullscreen\n",
       "></iframe>\n"
      ]
     },
     "metadata": {},
     "output_type": "display_data"
    }
   ],
   "source": [
    "# Création de la carte avec Plotly Express\n",
    "fig = px.scatter_mapbox(site_df, lat='latitude', lon='longitude', hover_name='name_reprocessed',\n",
    "                        color='poi', size='importance', zoom=5, height=990)\n",
    "\n",
    "# Personnalisation du titre et du style de la carte\n",
    "fig.update_layout(\n",
    "    title='Répartition des site touristiques',\n",
    "    mapbox_style='open-street-map'  # Vous pouvez choisir parmi d'autres styles de carte, par exemple 'carto-positron'\n",
    ")\n",
    "\n",
    "# Réduction de la taille des points\n",
    "fig.update_traces(marker=dict(size=4))\n",
    "\n",
    "# Affichage du graphique\n",
    "fig.show()"
   ]
  },
  {
   "cell_type": "code",
   "execution_count": 9,
   "metadata": {},
   "outputs": [
    {
     "data": {
      "text/html": [
       "<iframe\n",
       "    scrolling=\"no\"\n",
       "    width=\"100%\"\n",
       "    height=\"545px\"\n",
       "    src=\"iframe_figures/figure_9.html\"\n",
       "    frameborder=\"0\"\n",
       "    allowfullscreen\n",
       "></iframe>\n"
      ]
     },
     "metadata": {},
     "output_type": "display_data"
    }
   ],
   "source": [
    "poi_count = site_df['poi'].value_counts()\n",
    "\n",
    "# Création du diagramme circulaire avec Plotly Express\n",
    "fig = px.pie(names=poi_count.index, values=poi_count.values, title='Répartition des site touristiques')\n",
    "\n",
    "# Affichage du graphique\n",
    "fig.show()"
   ]
  },
  {
   "cell_type": "code",
   "execution_count": 10,
   "metadata": {
    "colab": {
     "base_uri": "https://localhost:8080/"
    },
    "id": "1J6b1cMhuHNH",
    "outputId": "baf5f204-8959-4f45-bc8b-3c1a8d9517a2"
   },
   "outputs": [
    {
     "data": {
      "text/plain": [
       "np.int64(0)"
      ]
     },
     "execution_count": 10,
     "metadata": {},
     "output_type": "execute_result"
    }
   ],
   "source": [
    "# 0 DOUBLONS !\n",
    "site_df.duplicated().sum()#.drop_duplicates()"
   ]
  },
  {
   "cell_type": "code",
   "execution_count": 11,
   "metadata": {
    "colab": {
     "base_uri": "https://localhost:8080/"
    },
    "id": "-kyoewgemu1T",
    "outputId": "8781661e-898b-4a49-ca48-bee10b427668"
   },
   "outputs": [
    {
     "name": "stdout",
     "output_type": "stream",
     "text": [
      "<class 'pandas.core.frame.DataFrame'>\n",
      "RangeIndex: 31034 entries, 0 to 31033\n",
      "Data columns (total 7 columns):\n",
      " #   Column             Non-Null Count  Dtype  \n",
      "---  ------             --------------  -----  \n",
      " 0   poi                31034 non-null  object \n",
      " 1   name               31034 non-null  object \n",
      " 2   latitude           31034 non-null  float64\n",
      " 3   longitude          31034 non-null  float64\n",
      " 4   municipality_code  31034 non-null  object \n",
      " 5   importance         31034 non-null  float64\n",
      " 6   name_reprocessed   31034 non-null  object \n",
      "dtypes: float64(3), object(4)\n",
      "memory usage: 1.7+ MB\n"
     ]
    },
    {
     "data": {
      "text/plain": [
       "poi                  0\n",
       "name                 0\n",
       "latitude             0\n",
       "longitude            0\n",
       "municipality_code    0\n",
       "importance           0\n",
       "name_reprocessed     0\n",
       "dtype: int64"
      ]
     },
     "execution_count": 11,
     "metadata": {},
     "output_type": "execute_result"
    }
   ],
   "source": [
    "site_df.info()\n",
    "site_df.isnull().sum()"
   ]
  },
  {
   "cell_type": "markdown",
   "metadata": {
    "id": "Qhf-qyfBrBrU",
    "jp-MarkdownHeadingCollapsed": true
   },
   "source": [
    "#### DF SALARY"
   ]
  },
  {
   "cell_type": "code",
   "execution_count": 12,
   "metadata": {
    "colab": {
     "base_uri": "https://localhost:8080/",
     "height": 206
    },
    "id": "FEYaHGx1sEtE",
    "outputId": "8f67eeb8-ad26-44d0-8a42-d407d3b95a44"
   },
   "outputs": [
    {
     "data": {
      "text/html": [
       "<div>\n",
       "<style scoped>\n",
       "    .dataframe tbody tr th:only-of-type {\n",
       "        vertical-align: middle;\n",
       "    }\n",
       "\n",
       "    .dataframe tbody tr th {\n",
       "        vertical-align: top;\n",
       "    }\n",
       "\n",
       "    .dataframe thead th {\n",
       "        text-align: right;\n",
       "    }\n",
       "</style>\n",
       "<table border=\"1\" class=\"dataframe\">\n",
       "  <thead>\n",
       "    <tr style=\"text-align: right;\">\n",
       "      <th></th>\n",
       "      <th>municipality_code</th>\n",
       "      <th>avg_net_salary</th>\n",
       "      <th>year</th>\n",
       "    </tr>\n",
       "  </thead>\n",
       "  <tbody>\n",
       "    <tr>\n",
       "      <th>0</th>\n",
       "      <td>01004</td>\n",
       "      <td>26471.026727</td>\n",
       "      <td>2019</td>\n",
       "    </tr>\n",
       "    <tr>\n",
       "      <th>1</th>\n",
       "      <td>01007</td>\n",
       "      <td>26341.353419</td>\n",
       "      <td>2019</td>\n",
       "    </tr>\n",
       "    <tr>\n",
       "      <th>2</th>\n",
       "      <td>01014</td>\n",
       "      <td>25897.497842</td>\n",
       "      <td>2019</td>\n",
       "    </tr>\n",
       "    <tr>\n",
       "      <th>3</th>\n",
       "      <td>01024</td>\n",
       "      <td>25695.240341</td>\n",
       "      <td>2019</td>\n",
       "    </tr>\n",
       "    <tr>\n",
       "      <th>4</th>\n",
       "      <td>01025</td>\n",
       "      <td>26054.712323</td>\n",
       "      <td>2019</td>\n",
       "    </tr>\n",
       "  </tbody>\n",
       "</table>\n",
       "</div>"
      ],
      "text/plain": [
       "  municipality_code  avg_net_salary  year\n",
       "0             01004    26471.026727  2019\n",
       "1             01007    26341.353419  2019\n",
       "2             01014    25897.497842  2019\n",
       "3             01024    25695.240341  2019\n",
       "4             01025    26054.712323  2019"
      ]
     },
     "execution_count": 12,
     "metadata": {},
     "output_type": "execute_result"
    }
   ],
   "source": [
    "salary_df.head() # DATA CLEAN"
   ]
  },
  {
   "cell_type": "code",
   "execution_count": 13,
   "metadata": {},
   "outputs": [
    {
     "data": {
      "text/plain": [
       "array([2019, 2018, 2017, 2016, 2015])"
      ]
     },
     "execution_count": 13,
     "metadata": {},
     "output_type": "execute_result"
    }
   ],
   "source": [
    "salary_df[\"year\"].unique()"
   ]
  },
  {
   "cell_type": "code",
   "execution_count": 14,
   "metadata": {
    "colab": {
     "base_uri": "https://localhost:8080/"
    },
    "id": "64kWCKLQubiU",
    "outputId": "eb52c6be-4cd2-4081-af9c-be283d421f54"
   },
   "outputs": [
    {
     "data": {
      "text/plain": [
       "np.int64(0)"
      ]
     },
     "execution_count": 14,
     "metadata": {},
     "output_type": "execute_result"
    }
   ],
   "source": [
    "# 0 DOUBLONS !\n",
    "salary_df.duplicated().sum()#.drop_duplicates()"
   ]
  },
  {
   "cell_type": "code",
   "execution_count": 15,
   "metadata": {
    "colab": {
     "base_uri": "https://localhost:8080/"
    },
    "id": "qM_4-Zu0mw9p",
    "outputId": "44cfb15e-adec-441a-cd94-67eb1350ba76"
   },
   "outputs": [
    {
     "name": "stdout",
     "output_type": "stream",
     "text": [
      "<class 'pandas.core.frame.DataFrame'>\n",
      "RangeIndex: 26675 entries, 0 to 26674\n",
      "Data columns (total 3 columns):\n",
      " #   Column             Non-Null Count  Dtype  \n",
      "---  ------             --------------  -----  \n",
      " 0   municipality_code  26675 non-null  object \n",
      " 1   avg_net_salary     26675 non-null  float64\n",
      " 2   year               26675 non-null  int64  \n",
      "dtypes: float64(1), int64(1), object(1)\n",
      "memory usage: 625.3+ KB\n"
     ]
    },
    {
     "data": {
      "text/plain": [
       "municipality_code    0\n",
       "avg_net_salary       0\n",
       "year                 0\n",
       "dtype: int64"
      ]
     },
     "execution_count": 15,
     "metadata": {},
     "output_type": "execute_result"
    }
   ],
   "source": [
    "salary_df.info()\n",
    "salary_df.isnull().sum()"
   ]
  },
  {
   "cell_type": "markdown",
   "metadata": {
    "id": "WUbRvCbWrC-g",
    "jp-MarkdownHeadingCollapsed": true
   },
   "source": [
    "#### DF GEO REF"
   ]
  },
  {
   "cell_type": "code",
   "execution_count": 16,
   "metadata": {
    "colab": {
     "base_uri": "https://localhost:8080/",
     "height": 223
    },
    "id": "_2p7_rZ8uj47",
    "outputId": "9cea2377-d9d3-4cba-e756-c7f2f82d907e"
   },
   "outputs": [
    {
     "data": {
      "text/html": [
       "<div>\n",
       "<style scoped>\n",
       "    .dataframe tbody tr th:only-of-type {\n",
       "        vertical-align: middle;\n",
       "    }\n",
       "\n",
       "    .dataframe tbody tr th {\n",
       "        vertical-align: top;\n",
       "    }\n",
       "\n",
       "    .dataframe thead th {\n",
       "        text-align: right;\n",
       "    }\n",
       "</style>\n",
       "<table border=\"1\" class=\"dataframe\">\n",
       "  <thead>\n",
       "    <tr style=\"text-align: right;\">\n",
       "      <th></th>\n",
       "      <th>municipality_code</th>\n",
       "      <th>city_name</th>\n",
       "      <th>city_name_normalized</th>\n",
       "      <th>municipality_type</th>\n",
       "      <th>latitude</th>\n",
       "      <th>longitude</th>\n",
       "      <th>department_code</th>\n",
       "      <th>epci_code</th>\n",
       "      <th>department_name</th>\n",
       "    </tr>\n",
       "  </thead>\n",
       "  <tbody>\n",
       "    <tr>\n",
       "      <th>0</th>\n",
       "      <td>01005</td>\n",
       "      <td>Ambérieux-en-Dombes</td>\n",
       "      <td>AMBERIEUX EN DOMBES</td>\n",
       "      <td>municipality</td>\n",
       "      <td>45.996180</td>\n",
       "      <td>4.912273</td>\n",
       "      <td>01</td>\n",
       "      <td>200042497.0</td>\n",
       "      <td>Ain</td>\n",
       "    </tr>\n",
       "    <tr>\n",
       "      <th>1</th>\n",
       "      <td>01021</td>\n",
       "      <td>Ars-sur-Formans</td>\n",
       "      <td>ARS SUR FORMANS</td>\n",
       "      <td>municipality</td>\n",
       "      <td>45.993461</td>\n",
       "      <td>4.821996</td>\n",
       "      <td>01</td>\n",
       "      <td>200042497.0</td>\n",
       "      <td>Ain</td>\n",
       "    </tr>\n",
       "    <tr>\n",
       "      <th>2</th>\n",
       "      <td>01030</td>\n",
       "      <td>Beauregard</td>\n",
       "      <td>BEAUREGARD</td>\n",
       "      <td>municipality</td>\n",
       "      <td>46.000858</td>\n",
       "      <td>4.756007</td>\n",
       "      <td>01</td>\n",
       "      <td>200042497.0</td>\n",
       "      <td>Ain</td>\n",
       "    </tr>\n",
       "    <tr>\n",
       "      <th>3</th>\n",
       "      <td>01105</td>\n",
       "      <td>Civrieux</td>\n",
       "      <td>CIVRIEUX</td>\n",
       "      <td>municipality</td>\n",
       "      <td>45.922467</td>\n",
       "      <td>4.886338</td>\n",
       "      <td>01</td>\n",
       "      <td>200042497.0</td>\n",
       "      <td>Ain</td>\n",
       "    </tr>\n",
       "    <tr>\n",
       "      <th>4</th>\n",
       "      <td>01157</td>\n",
       "      <td>Fareins</td>\n",
       "      <td>FAREINS</td>\n",
       "      <td>municipality</td>\n",
       "      <td>46.020998</td>\n",
       "      <td>4.762008</td>\n",
       "      <td>01</td>\n",
       "      <td>200042497.0</td>\n",
       "      <td>Ain</td>\n",
       "    </tr>\n",
       "  </tbody>\n",
       "</table>\n",
       "</div>"
      ],
      "text/plain": [
       "  municipality_code            city_name city_name_normalized  \\\n",
       "0             01005  Ambérieux-en-Dombes  AMBERIEUX EN DOMBES   \n",
       "1             01021      Ars-sur-Formans      ARS SUR FORMANS   \n",
       "2             01030           Beauregard           BEAUREGARD   \n",
       "3             01105             Civrieux             CIVRIEUX   \n",
       "4             01157              Fareins              FAREINS   \n",
       "\n",
       "  municipality_type   latitude  longitude department_code    epci_code  \\\n",
       "0      municipality  45.996180   4.912273              01  200042497.0   \n",
       "1      municipality  45.993461   4.821996              01  200042497.0   \n",
       "2      municipality  46.000858   4.756007              01  200042497.0   \n",
       "3      municipality  45.922467   4.886338              01  200042497.0   \n",
       "4      municipality  46.020998   4.762008              01  200042497.0   \n",
       "\n",
       "  department_name  \n",
       "0             Ain  \n",
       "1             Ain  \n",
       "2             Ain  \n",
       "3             Ain  \n",
       "4             Ain  "
      ]
     },
     "execution_count": 16,
     "metadata": {},
     "output_type": "execute_result"
    }
   ],
   "source": [
    "georef_df.head()"
   ]
  },
  {
   "cell_type": "code",
   "execution_count": 17,
   "metadata": {},
   "outputs": [
    {
     "data": {
      "text/plain": [
       "array(['municipality', 'arrondissement'], dtype=object)"
      ]
     },
     "execution_count": 17,
     "metadata": {},
     "output_type": "execute_result"
    }
   ],
   "source": [
    "georef_df[\"municipality_type\"].unique()"
   ]
  },
  {
   "cell_type": "code",
   "execution_count": 18,
   "metadata": {
    "colab": {
     "base_uri": "https://localhost:8080/"
    },
    "id": "M78cdijhugSa",
    "outputId": "4c42ce6f-92dd-46e6-c540-ab684d67e3f0"
   },
   "outputs": [
    {
     "data": {
      "text/plain": [
       "np.int64(0)"
      ]
     },
     "execution_count": 18,
     "metadata": {},
     "output_type": "execute_result"
    }
   ],
   "source": [
    "# 0 DOUBLONS !\n",
    "georef_df.duplicated().sum()#.drop_duplicates()"
   ]
  },
  {
   "cell_type": "code",
   "execution_count": 19,
   "metadata": {
    "colab": {
     "base_uri": "https://localhost:8080/"
    },
    "id": "FMV4GpB6mzN5",
    "outputId": "04e1bbc5-7ffe-489a-cdcf-0bdb37892b6f"
   },
   "outputs": [
    {
     "name": "stdout",
     "output_type": "stream",
     "text": [
      "<class 'pandas.core.frame.DataFrame'>\n",
      "RangeIndex: 34997 entries, 0 to 34996\n",
      "Data columns (total 9 columns):\n",
      " #   Column                Non-Null Count  Dtype  \n",
      "---  ------                --------------  -----  \n",
      " 0   municipality_code     34997 non-null  object \n",
      " 1   city_name             34997 non-null  object \n",
      " 2   city_name_normalized  34997 non-null  object \n",
      " 3   municipality_type     34997 non-null  object \n",
      " 4   latitude              34997 non-null  float64\n",
      " 5   longitude             34997 non-null  float64\n",
      " 6   department_code       34997 non-null  object \n",
      " 7   epci_code             34945 non-null  float64\n",
      " 8   department_name       34997 non-null  object \n",
      "dtypes: float64(3), object(6)\n",
      "memory usage: 2.4+ MB\n"
     ]
    },
    {
     "data": {
      "text/plain": [
       "municipality_code        0\n",
       "city_name                0\n",
       "city_name_normalized     0\n",
       "municipality_type        0\n",
       "latitude                 0\n",
       "longitude                0\n",
       "department_code          0\n",
       "epci_code               52\n",
       "department_name          0\n",
       "dtype: int64"
      ]
     },
     "execution_count": 19,
     "metadata": {},
     "output_type": "execute_result"
    }
   ],
   "source": [
    "georef_df.info()\n",
    "georef_df.isnull().sum()"
   ]
  },
  {
   "cell_type": "markdown",
   "metadata": {
    "id": "IaW8clyJrE7k",
    "jp-MarkdownHeadingCollapsed": true
   },
   "source": [
    "#### DF STOCK"
   ]
  },
  {
   "cell_type": "code",
   "execution_count": 20,
   "metadata": {
    "colab": {
     "base_uri": "https://localhost:8080/",
     "height": 226
    },
    "id": "njys3auJup3t",
    "outputId": "ae3875b7-ea44-43f8-9ada-ecc1357b03e7"
   },
   "outputs": [
    {
     "data": {
      "text/html": [
       "<div>\n",
       "<style scoped>\n",
       "    .dataframe tbody tr th:only-of-type {\n",
       "        vertical-align: middle;\n",
       "    }\n",
       "\n",
       "    .dataframe tbody tr th {\n",
       "        vertical-align: top;\n",
       "    }\n",
       "\n",
       "    .dataframe thead th {\n",
       "        text-align: right;\n",
       "    }\n",
       "</style>\n",
       "<table border=\"1\" class=\"dataframe\">\n",
       "  <thead>\n",
       "    <tr style=\"text-align: right;\">\n",
       "      <th></th>\n",
       "      <th>municipality_code</th>\n",
       "      <th>year</th>\n",
       "      <th>nb_principal_home</th>\n",
       "      <th>nb_second_home</th>\n",
       "      <th>nb_vacants_housing</th>\n",
       "      <th>nb_tot_housing</th>\n",
       "      <th>secondary_home_rate</th>\n",
       "      <th>principal_home_rate</th>\n",
       "      <th>vacants_housing_rate</th>\n",
       "    </tr>\n",
       "  </thead>\n",
       "  <tbody>\n",
       "    <tr>\n",
       "      <th>0</th>\n",
       "      <td>01339</td>\n",
       "      <td>1968</td>\n",
       "      <td>109</td>\n",
       "      <td>155</td>\n",
       "      <td>0</td>\n",
       "      <td>264</td>\n",
       "      <td>0.587121</td>\n",
       "      <td>0.412879</td>\n",
       "      <td>0.0</td>\n",
       "    </tr>\n",
       "    <tr>\n",
       "      <th>1</th>\n",
       "      <td>02368</td>\n",
       "      <td>1968</td>\n",
       "      <td>132</td>\n",
       "      <td>56</td>\n",
       "      <td>0</td>\n",
       "      <td>188</td>\n",
       "      <td>0.297872</td>\n",
       "      <td>0.702128</td>\n",
       "      <td>0.0</td>\n",
       "    </tr>\n",
       "    <tr>\n",
       "      <th>2</th>\n",
       "      <td>04073</td>\n",
       "      <td>1968</td>\n",
       "      <td>134</td>\n",
       "      <td>93</td>\n",
       "      <td>0</td>\n",
       "      <td>227</td>\n",
       "      <td>0.409692</td>\n",
       "      <td>0.590308</td>\n",
       "      <td>0.0</td>\n",
       "    </tr>\n",
       "    <tr>\n",
       "      <th>3</th>\n",
       "      <td>04148</td>\n",
       "      <td>1968</td>\n",
       "      <td>42</td>\n",
       "      <td>93</td>\n",
       "      <td>0</td>\n",
       "      <td>135</td>\n",
       "      <td>0.688889</td>\n",
       "      <td>0.311111</td>\n",
       "      <td>0.0</td>\n",
       "    </tr>\n",
       "    <tr>\n",
       "      <th>4</th>\n",
       "      <td>05012</td>\n",
       "      <td>1968</td>\n",
       "      <td>70</td>\n",
       "      <td>53</td>\n",
       "      <td>0</td>\n",
       "      <td>123</td>\n",
       "      <td>0.430894</td>\n",
       "      <td>0.569106</td>\n",
       "      <td>0.0</td>\n",
       "    </tr>\n",
       "  </tbody>\n",
       "</table>\n",
       "</div>"
      ],
      "text/plain": [
       "  municipality_code  year  nb_principal_home  nb_second_home  \\\n",
       "0             01339  1968                109             155   \n",
       "1             02368  1968                132              56   \n",
       "2             04073  1968                134              93   \n",
       "3             04148  1968                 42              93   \n",
       "4             05012  1968                 70              53   \n",
       "\n",
       "   nb_vacants_housing  nb_tot_housing  secondary_home_rate  \\\n",
       "0                   0             264             0.587121   \n",
       "1                   0             188             0.297872   \n",
       "2                   0             227             0.409692   \n",
       "3                   0             135             0.688889   \n",
       "4                   0             123             0.430894   \n",
       "\n",
       "   principal_home_rate  vacants_housing_rate  \n",
       "0             0.412879                   0.0  \n",
       "1             0.702128                   0.0  \n",
       "2             0.590308                   0.0  \n",
       "3             0.311111                   0.0  \n",
       "4             0.569106                   0.0  "
      ]
     },
     "execution_count": 20,
     "metadata": {},
     "output_type": "execute_result"
    }
   ],
   "source": [
    "stock_df.head() #drop de int64_field_0"
   ]
  },
  {
   "cell_type": "code",
   "execution_count": 21,
   "metadata": {},
   "outputs": [
    {
     "data": {
      "text/plain": [
       "array([1968, 1975, 1982, 1990, 1999, 2008, 2013, 2018])"
      ]
     },
     "execution_count": 21,
     "metadata": {},
     "output_type": "execute_result"
    }
   ],
   "source": [
    "stock_df[\"year\"].unique()"
   ]
  },
  {
   "cell_type": "code",
   "execution_count": 22,
   "metadata": {
    "colab": {
     "base_uri": "https://localhost:8080/"
    },
    "id": "0-yVCE8tutUF",
    "outputId": "5bac2a26-b519-4cde-fc52-7a1de62a0a78"
   },
   "outputs": [
    {
     "data": {
      "text/plain": [
       "np.int64(0)"
      ]
     },
     "execution_count": 22,
     "metadata": {},
     "output_type": "execute_result"
    }
   ],
   "source": [
    "# 0 DOUBLONS !\n",
    "stock_df.duplicated().sum()#.drop_duplicates()"
   ]
  },
  {
   "cell_type": "code",
   "execution_count": 23,
   "metadata": {
    "colab": {
     "base_uri": "https://localhost:8080/"
    },
    "id": "tkk4UPmPm09S",
    "outputId": "a1e7ca86-7c93-4dc7-c720-06136566d318"
   },
   "outputs": [
    {
     "name": "stdout",
     "output_type": "stream",
     "text": [
      "<class 'pandas.core.frame.DataFrame'>\n",
      "RangeIndex: 279584 entries, 0 to 279583\n",
      "Data columns (total 9 columns):\n",
      " #   Column                Non-Null Count   Dtype  \n",
      "---  ------                --------------   -----  \n",
      " 0   municipality_code     279584 non-null  object \n",
      " 1   year                  279584 non-null  int64  \n",
      " 2   nb_principal_home     279584 non-null  int64  \n",
      " 3   nb_second_home        279584 non-null  int64  \n",
      " 4   nb_vacants_housing    279584 non-null  int64  \n",
      " 5   nb_tot_housing        279584 non-null  int64  \n",
      " 6   secondary_home_rate   279584 non-null  float64\n",
      " 7   principal_home_rate   279584 non-null  float64\n",
      " 8   vacants_housing_rate  279584 non-null  float64\n",
      "dtypes: float64(3), int64(5), object(1)\n",
      "memory usage: 19.2+ MB\n"
     ]
    },
    {
     "data": {
      "text/plain": [
       "municipality_code       0\n",
       "year                    0\n",
       "nb_principal_home       0\n",
       "nb_second_home          0\n",
       "nb_vacants_housing      0\n",
       "nb_tot_housing          0\n",
       "secondary_home_rate     0\n",
       "principal_home_rate     0\n",
       "vacants_housing_rate    0\n",
       "dtype: int64"
      ]
     },
     "execution_count": 23,
     "metadata": {},
     "output_type": "execute_result"
    }
   ],
   "source": [
    "stock_df.info() # supprimer la colonne int64_field-0\n",
    "stock_df.isnull().sum()"
   ]
  },
  {
   "cell_type": "markdown",
   "metadata": {
    "id": "gHemM-SqrGyN",
    "jp-MarkdownHeadingCollapsed": true
   },
   "source": [
    "#### DF SALES"
   ]
  },
  {
   "cell_type": "code",
   "execution_count": 24,
   "metadata": {
    "colab": {
     "base_uri": "https://localhost:8080/",
     "height": 347
    },
    "id": "9XvrqhEJ5sDJ",
    "outputId": "e16a5afe-a12d-418b-de39-aae038d4e482"
   },
   "outputs": [
    {
     "data": {
      "text/html": [
       "<div>\n",
       "<style scoped>\n",
       "    .dataframe tbody tr th:only-of-type {\n",
       "        vertical-align: middle;\n",
       "    }\n",
       "\n",
       "    .dataframe tbody tr th {\n",
       "        vertical-align: top;\n",
       "    }\n",
       "\n",
       "    .dataframe thead th {\n",
       "        text-align: right;\n",
       "    }\n",
       "</style>\n",
       "<table border=\"1\" class=\"dataframe\">\n",
       "  <thead>\n",
       "    <tr style=\"text-align: right;\">\n",
       "      <th></th>\n",
       "      <th>sales_date</th>\n",
       "      <th>sales_amount</th>\n",
       "      <th>street_number</th>\n",
       "      <th>street_code</th>\n",
       "      <th>street_name</th>\n",
       "      <th>nom_commune</th>\n",
       "      <th>municipality_code</th>\n",
       "      <th>premise_type</th>\n",
       "      <th>surface</th>\n",
       "      <th>number_of_principal_rooms</th>\n",
       "      <th>sales_price_m2</th>\n",
       "      <th>latitude</th>\n",
       "      <th>longitude</th>\n",
       "    </tr>\n",
       "  </thead>\n",
       "  <tbody>\n",
       "    <tr>\n",
       "      <th>0</th>\n",
       "      <td>2018-02-06</td>\n",
       "      <td>5000000.0</td>\n",
       "      <td>63.0</td>\n",
       "      <td>0040</td>\n",
       "      <td>AV PRINCE RAINIER III</td>\n",
       "      <td>Saint-Jean-Cap-Ferrat</td>\n",
       "      <td>06121</td>\n",
       "      <td>Maison</td>\n",
       "      <td>292.0</td>\n",
       "      <td>10</td>\n",
       "      <td>17123.0</td>\n",
       "      <td>43.678892</td>\n",
       "      <td>7.330651</td>\n",
       "    </tr>\n",
       "    <tr>\n",
       "      <th>1</th>\n",
       "      <td>2018-11-26</td>\n",
       "      <td>93060.0</td>\n",
       "      <td>5308.0</td>\n",
       "      <td>B061</td>\n",
       "      <td>LE SERRET</td>\n",
       "      <td>Vallées-d'Antraigues-Asperjoc</td>\n",
       "      <td>07011</td>\n",
       "      <td>Maison</td>\n",
       "      <td>16.0</td>\n",
       "      <td>0</td>\n",
       "      <td>5816.0</td>\n",
       "      <td>44.714072</td>\n",
       "      <td>4.360185</td>\n",
       "    </tr>\n",
       "    <tr>\n",
       "      <th>2</th>\n",
       "      <td>2018-06-08</td>\n",
       "      <td>95000.0</td>\n",
       "      <td>161.0</td>\n",
       "      <td>0683</td>\n",
       "      <td>IMP COL EMILE VIGUIER</td>\n",
       "      <td>Millau</td>\n",
       "      <td>12145</td>\n",
       "      <td>Maison</td>\n",
       "      <td>21.0</td>\n",
       "      <td>0</td>\n",
       "      <td>4524.0</td>\n",
       "      <td>44.093714</td>\n",
       "      <td>3.054594</td>\n",
       "    </tr>\n",
       "    <tr>\n",
       "      <th>3</th>\n",
       "      <td>2018-07-17</td>\n",
       "      <td>3912000.0</td>\n",
       "      <td>690.0</td>\n",
       "      <td>1868</td>\n",
       "      <td>CHE DE MAZARGUES</td>\n",
       "      <td>Aix-en-Provence</td>\n",
       "      <td>13001</td>\n",
       "      <td>Maison</td>\n",
       "      <td>610.0</td>\n",
       "      <td>13</td>\n",
       "      <td>6413.0</td>\n",
       "      <td>43.502833</td>\n",
       "      <td>5.428194</td>\n",
       "    </tr>\n",
       "    <tr>\n",
       "      <th>4</th>\n",
       "      <td>2018-03-27</td>\n",
       "      <td>810000.0</td>\n",
       "      <td>5000.0</td>\n",
       "      <td>0162</td>\n",
       "      <td>CHE DES OLIVIERS</td>\n",
       "      <td>Eygalières</td>\n",
       "      <td>13034</td>\n",
       "      <td>Maison</td>\n",
       "      <td>296.0</td>\n",
       "      <td>9</td>\n",
       "      <td>2736.0</td>\n",
       "      <td>43.756881</td>\n",
       "      <td>4.957214</td>\n",
       "    </tr>\n",
       "  </tbody>\n",
       "</table>\n",
       "</div>"
      ],
      "text/plain": [
       "   sales_date  sales_amount  street_number street_code            street_name  \\\n",
       "0  2018-02-06     5000000.0           63.0        0040  AV PRINCE RAINIER III   \n",
       "1  2018-11-26       93060.0         5308.0        B061              LE SERRET   \n",
       "2  2018-06-08       95000.0          161.0        0683  IMP COL EMILE VIGUIER   \n",
       "3  2018-07-17     3912000.0          690.0        1868       CHE DE MAZARGUES   \n",
       "4  2018-03-27      810000.0         5000.0        0162       CHE DES OLIVIERS   \n",
       "\n",
       "                     nom_commune municipality_code premise_type  surface  \\\n",
       "0          Saint-Jean-Cap-Ferrat             06121       Maison    292.0   \n",
       "1  Vallées-d'Antraigues-Asperjoc             07011       Maison     16.0   \n",
       "2                         Millau             12145       Maison     21.0   \n",
       "3                Aix-en-Provence             13001       Maison    610.0   \n",
       "4                     Eygalières             13034       Maison    296.0   \n",
       "\n",
       "   number_of_principal_rooms  sales_price_m2   latitude  longitude  \n",
       "0                         10         17123.0  43.678892   7.330651  \n",
       "1                          0          5816.0  44.714072   4.360185  \n",
       "2                          0          4524.0  44.093714   3.054594  \n",
       "3                         13          6413.0  43.502833   5.428194  \n",
       "4                          9          2736.0  43.756881   4.957214  "
      ]
     },
     "execution_count": 24,
     "metadata": {},
     "output_type": "execute_result"
    }
   ],
   "source": [
    "sales_df.head()"
   ]
  },
  {
   "cell_type": "code",
   "execution_count": 25,
   "metadata": {
    "colab": {
     "base_uri": "https://localhost:8080/"
    },
    "id": "76YsgU_RppM_",
    "outputId": "c5700ce8-b9f1-4a50-c27c-f5052aff0661"
   },
   "outputs": [
    {
     "data": {
      "text/plain": [
       "np.int64(510211)"
      ]
     },
     "execution_count": 25,
     "metadata": {},
     "output_type": "execute_result"
    }
   ],
   "source": [
    "# 510 211 DOUBLONS !\n",
    "sales_df.duplicated().sum()#.drop_duplicates()"
   ]
  },
  {
   "cell_type": "code",
   "execution_count": 26,
   "metadata": {},
   "outputs": [],
   "source": [
    "s = (sales_df['sales_amount']\n",
    "             .value_counts()\n",
    "             .loc[sales_df['sales_amount'].value_counts() > 10])"
   ]
  },
  {
   "cell_type": "code",
   "execution_count": 27,
   "metadata": {},
   "outputs": [
    {
     "data": {
      "text/plain": [
       "sales_amount\n",
       "10096218     339\n",
       "220623264    324\n",
       "18761004     316\n",
       "19090412     295\n",
       "1            277\n",
       "            ... \n",
       "96375         11\n",
       "299999        11\n",
       "200151        11\n",
       "377475        11\n",
       "182243        11\n",
       "Name: count, Length: 534, dtype: int64"
      ]
     },
     "execution_count": 27,
     "metadata": {},
     "output_type": "execute_result"
    }
   ],
   "source": [
    "s.index = s.index.astype(int)\n",
    "s.loc[(s.index % 10) != 0]"
   ]
  },
  {
   "cell_type": "code",
   "execution_count": 28,
   "metadata": {},
   "outputs": [
    {
     "data": {
      "text/plain": [
       "<pandas.plotting._core.PlotAccessor object at 0x1299cf0b0>"
      ]
     },
     "execution_count": 28,
     "metadata": {},
     "output_type": "execute_result"
    }
   ],
   "source": [
    "s.plot"
   ]
  },
  {
   "cell_type": "code",
   "execution_count": 29,
   "metadata": {},
   "outputs": [
    {
     "data": {
      "text/plain": [
       "sales_amount\n",
       "150000.0     50535\n",
       "120000.0     48185\n",
       "100000.0     45864\n",
       "130000.0     43789\n",
       "110000.0     41900\n",
       "             ...  \n",
       "315120.0        11\n",
       "203680.0        11\n",
       "601600.0        11\n",
       "1151000.0       11\n",
       "555700.0        11\n",
       "Name: count, Length: 14213, dtype: int64"
      ]
     },
     "execution_count": 29,
     "metadata": {},
     "output_type": "execute_result"
    }
   ],
   "source": [
    "sales_df['sales_amount'].value_counts().loc[sales_df['sales_amount'].value_counts() > 10] #[220623264]#sort_values(ascending=True).astype(int)"
   ]
  },
  {
   "cell_type": "code",
   "execution_count": 30,
   "metadata": {
    "colab": {
     "base_uri": "https://localhost:8080/"
    },
    "id": "5fKz0xVWm3kr",
    "outputId": "af8268e0-25da-417e-cd6f-bcb2fe81a95b"
   },
   "outputs": [
    {
     "name": "stdout",
     "output_type": "stream",
     "text": [
      "<class 'pandas.core.frame.DataFrame'>\n",
      "RangeIndex: 4331940 entries, 0 to 4331939\n",
      "Data columns (total 13 columns):\n",
      " #   Column                     Dtype  \n",
      "---  ------                     -----  \n",
      " 0   sales_date                 object \n",
      " 1   sales_amount               float64\n",
      " 2   street_number              float64\n",
      " 3   street_code                object \n",
      " 4   street_name                object \n",
      " 5   nom_commune                object \n",
      " 6   municipality_code          object \n",
      " 7   premise_type               object \n",
      " 8   surface                    float64\n",
      " 9   number_of_principal_rooms  int64  \n",
      " 10  sales_price_m2             float64\n",
      " 11  latitude                   float64\n",
      " 12  longitude                  float64\n",
      "dtypes: float64(6), int64(1), object(6)\n",
      "memory usage: 429.7+ MB\n"
     ]
    },
    {
     "data": {
      "text/plain": [
       "sales_date                       0\n",
       "sales_amount                     0\n",
       "street_number                26693\n",
       "street_code                      0\n",
       "street_name                     74\n",
       "nom_commune                      0\n",
       "municipality_code                0\n",
       "premise_type                     0\n",
       "surface                          0\n",
       "number_of_principal_rooms        0\n",
       "sales_price_m2                   0\n",
       "latitude                     63597\n",
       "longitude                    63597\n",
       "dtype: int64"
      ]
     },
     "execution_count": 30,
     "metadata": {},
     "output_type": "execute_result"
    }
   ],
   "source": [
    "sales_df.info(), #il manque des latitude et longitude\n",
    "sales_df.isnull().sum()"
   ]
  },
  {
   "cell_type": "markdown",
   "metadata": {
    "id": "wDh1nf-1rIgb",
    "jp-MarkdownHeadingCollapsed": true
   },
   "source": [
    "#### DF POPULATION"
   ]
  },
  {
   "cell_type": "code",
   "execution_count": 31,
   "metadata": {
    "colab": {
     "base_uri": "https://localhost:8080/",
     "height": 206
    },
    "id": "bY14TYfkvQlg",
    "outputId": "39a20308-1ae5-4f01-9325-09cb1fd63427"
   },
   "outputs": [
    {
     "data": {
      "text/html": [
       "<div>\n",
       "<style scoped>\n",
       "    .dataframe tbody tr th:only-of-type {\n",
       "        vertical-align: middle;\n",
       "    }\n",
       "\n",
       "    .dataframe tbody tr th {\n",
       "        vertical-align: top;\n",
       "    }\n",
       "\n",
       "    .dataframe thead th {\n",
       "        text-align: right;\n",
       "    }\n",
       "</style>\n",
       "<table border=\"1\" class=\"dataframe\">\n",
       "  <thead>\n",
       "    <tr style=\"text-align: right;\">\n",
       "      <th></th>\n",
       "      <th>municipality_code</th>\n",
       "      <th>year</th>\n",
       "      <th>population</th>\n",
       "    </tr>\n",
       "  </thead>\n",
       "  <tbody>\n",
       "    <tr>\n",
       "      <th>0</th>\n",
       "      <td>04213</td>\n",
       "      <td>1968</td>\n",
       "      <td>0.0</td>\n",
       "    </tr>\n",
       "    <tr>\n",
       "      <th>1</th>\n",
       "      <td>05137</td>\n",
       "      <td>1968</td>\n",
       "      <td>0.0</td>\n",
       "    </tr>\n",
       "    <tr>\n",
       "      <th>2</th>\n",
       "      <td>55039</td>\n",
       "      <td>1968</td>\n",
       "      <td>0.0</td>\n",
       "    </tr>\n",
       "    <tr>\n",
       "      <th>3</th>\n",
       "      <td>55050</td>\n",
       "      <td>1968</td>\n",
       "      <td>0.0</td>\n",
       "    </tr>\n",
       "    <tr>\n",
       "      <th>4</th>\n",
       "      <td>55239</td>\n",
       "      <td>1968</td>\n",
       "      <td>0.0</td>\n",
       "    </tr>\n",
       "  </tbody>\n",
       "</table>\n",
       "</div>"
      ],
      "text/plain": [
       "  municipality_code  year  population\n",
       "0             04213  1968         0.0\n",
       "1             05137  1968         0.0\n",
       "2             55039  1968         0.0\n",
       "3             55050  1968         0.0\n",
       "4             55239  1968         0.0"
      ]
     },
     "execution_count": 31,
     "metadata": {},
     "output_type": "execute_result"
    }
   ],
   "source": [
    "population_df.head()"
   ]
  },
  {
   "cell_type": "code",
   "execution_count": 32,
   "metadata": {},
   "outputs": [
    {
     "data": {
      "text/plain": [
       "array([1968, 1975, 1982, 1990, 1999, 2006, 2007, 2008, 2009, 2010, 2011,\n",
       "       2012, 2013, 2014, 2015, 2016, 2017, 2018, 2019])"
      ]
     },
     "execution_count": 32,
     "metadata": {},
     "output_type": "execute_result"
    }
   ],
   "source": [
    "population_df[\"year\"].unique()"
   ]
  },
  {
   "cell_type": "code",
   "execution_count": 33,
   "metadata": {
    "colab": {
     "base_uri": "https://localhost:8080/",
     "height": 203
    },
    "id": "I-pMVeWxvYwq",
    "outputId": "03fafca2-5cc8-4599-bc15-ba6378f2ce82"
   },
   "outputs": [
    {
     "data": {
      "text/plain": [
       "<bound method Series.sum of 0         False\n",
       "1         False\n",
       "2         False\n",
       "3         False\n",
       "4         False\n",
       "          ...  \n",
       "689490    False\n",
       "689491    False\n",
       "689492    False\n",
       "689493    False\n",
       "689494    False\n",
       "Length: 689495, dtype: bool>"
      ]
     },
     "execution_count": 33,
     "metadata": {},
     "output_type": "execute_result"
    }
   ],
   "source": [
    "# ??? DOUBLONS !\n",
    "population_df.duplicated().sum"
   ]
  },
  {
   "cell_type": "code",
   "execution_count": 34,
   "metadata": {
    "colab": {
     "base_uri": "https://localhost:8080/"
    },
    "id": "QuhJaqpqpwYZ",
    "outputId": "41ff04cd-5e69-4e4f-a496-dea697524b58"
   },
   "outputs": [
    {
     "name": "stdout",
     "output_type": "stream",
     "text": [
      "<class 'pandas.core.frame.DataFrame'>\n",
      "RangeIndex: 689495 entries, 0 to 689494\n",
      "Data columns (total 3 columns):\n",
      " #   Column             Non-Null Count   Dtype  \n",
      "---  ------             --------------   -----  \n",
      " 0   municipality_code  689495 non-null  object \n",
      " 1   year               689495 non-null  int64  \n",
      " 2   population         689495 non-null  float64\n",
      "dtypes: float64(1), int64(1), object(1)\n",
      "memory usage: 15.8+ MB\n"
     ]
    },
    {
     "data": {
      "text/plain": [
       "municipality_code    0\n",
       "year                 0\n",
       "population           0\n",
       "dtype: int64"
      ]
     },
     "execution_count": 34,
     "metadata": {},
     "output_type": "execute_result"
    }
   ],
   "source": [
    "population_df.info() #colonne YEAR en format INT64\n",
    "population_df.isnull().sum()"
   ]
  },
  {
   "cell_type": "markdown",
   "metadata": {
    "id": "DEROdiJirK6M",
    "jp-MarkdownHeadingCollapsed": true
   },
   "source": [
    "#### DF POVERTY"
   ]
  },
  {
   "cell_type": "code",
   "execution_count": 35,
   "metadata": {
    "colab": {
     "base_uri": "https://localhost:8080/",
     "height": 206
    },
    "id": "ysfKTf87vxlT",
    "outputId": "e80b23d1-1167-4868-df83-7c2d278f823b"
   },
   "outputs": [
    {
     "data": {
      "text/html": [
       "<div>\n",
       "<style scoped>\n",
       "    .dataframe tbody tr th:only-of-type {\n",
       "        vertical-align: middle;\n",
       "    }\n",
       "\n",
       "    .dataframe tbody tr th {\n",
       "        vertical-align: top;\n",
       "    }\n",
       "\n",
       "    .dataframe thead th {\n",
       "        text-align: right;\n",
       "    }\n",
       "</style>\n",
       "<table border=\"1\" class=\"dataframe\">\n",
       "  <thead>\n",
       "    <tr style=\"text-align: right;\">\n",
       "      <th></th>\n",
       "      <th>municipality_code</th>\n",
       "      <th>year</th>\n",
       "      <th>population</th>\n",
       "    </tr>\n",
       "  </thead>\n",
       "  <tbody>\n",
       "    <tr>\n",
       "      <th>0</th>\n",
       "      <td>04213</td>\n",
       "      <td>1968</td>\n",
       "      <td>0.0</td>\n",
       "    </tr>\n",
       "    <tr>\n",
       "      <th>1</th>\n",
       "      <td>05137</td>\n",
       "      <td>1968</td>\n",
       "      <td>0.0</td>\n",
       "    </tr>\n",
       "    <tr>\n",
       "      <th>2</th>\n",
       "      <td>55039</td>\n",
       "      <td>1968</td>\n",
       "      <td>0.0</td>\n",
       "    </tr>\n",
       "    <tr>\n",
       "      <th>3</th>\n",
       "      <td>55050</td>\n",
       "      <td>1968</td>\n",
       "      <td>0.0</td>\n",
       "    </tr>\n",
       "    <tr>\n",
       "      <th>4</th>\n",
       "      <td>55239</td>\n",
       "      <td>1968</td>\n",
       "      <td>0.0</td>\n",
       "    </tr>\n",
       "  </tbody>\n",
       "</table>\n",
       "</div>"
      ],
      "text/plain": [
       "  municipality_code  year  population\n",
       "0             04213  1968         0.0\n",
       "1             05137  1968         0.0\n",
       "2             55039  1968         0.0\n",
       "3             55050  1968         0.0\n",
       "4             55239  1968         0.0"
      ]
     },
     "execution_count": 35,
     "metadata": {},
     "output_type": "execute_result"
    }
   ],
   "source": [
    "poverty_df.head()"
   ]
  },
  {
   "cell_type": "code",
   "execution_count": 36,
   "metadata": {},
   "outputs": [
    {
     "data": {
      "text/plain": [
       "array([1968, 1975, 1982, 1990, 1999, 2006, 2007, 2008, 2009, 2010, 2011,\n",
       "       2012, 2013, 2014, 2015, 2016, 2017, 2018, 2019])"
      ]
     },
     "execution_count": 36,
     "metadata": {},
     "output_type": "execute_result"
    }
   ],
   "source": [
    "poverty_df[\"year\"].unique()"
   ]
  },
  {
   "cell_type": "code",
   "execution_count": 37,
   "metadata": {
    "colab": {
     "base_uri": "https://localhost:8080/"
    },
    "id": "H568HRtBv0YC",
    "outputId": "00e3d08f-98bc-4dec-a905-06b945af9c94"
   },
   "outputs": [
    {
     "data": {
      "text/plain": [
       "np.int64(0)"
      ]
     },
     "execution_count": 37,
     "metadata": {},
     "output_type": "execute_result"
    }
   ],
   "source": [
    "# 0 DOUBLONS !\n",
    "poverty_df.duplicated().sum()"
   ]
  },
  {
   "cell_type": "code",
   "execution_count": 38,
   "metadata": {
    "colab": {
     "base_uri": "https://localhost:8080/"
    },
    "id": "DPtRin_Rp-SY",
    "outputId": "90b33d08-6cc5-4442-eeed-2d1153dc9158"
   },
   "outputs": [
    {
     "name": "stdout",
     "output_type": "stream",
     "text": [
      "<class 'pandas.core.frame.DataFrame'>\n",
      "RangeIndex: 689495 entries, 0 to 689494\n",
      "Data columns (total 3 columns):\n",
      " #   Column             Non-Null Count   Dtype  \n",
      "---  ------             --------------   -----  \n",
      " 0   municipality_code  689495 non-null  object \n",
      " 1   year               689495 non-null  int64  \n",
      " 2   population         689495 non-null  float64\n",
      "dtypes: float64(1), int64(1), object(1)\n",
      "memory usage: 15.8+ MB\n"
     ]
    },
    {
     "data": {
      "text/plain": [
       "municipality_code    0\n",
       "year                 0\n",
       "population           0\n",
       "dtype: int64"
      ]
     },
     "execution_count": 38,
     "metadata": {},
     "output_type": "execute_result"
    }
   ],
   "source": [
    "poverty_df.info() # YEAR est en type INT64 et non DATE\n",
    "poverty_df.isnull().sum()"
   ]
  },
  {
   "cell_type": "markdown",
   "metadata": {
    "id": "-pWIMamvrMgo",
    "jp-MarkdownHeadingCollapsed": true
   },
   "source": [
    "#### DF REAL ESTATE"
   ]
  },
  {
   "cell_type": "code",
   "execution_count": 39,
   "metadata": {
    "colab": {
     "base_uri": "https://localhost:8080/",
     "height": 226
    },
    "id": "Y-1qNGC0wj4k",
    "outputId": "1aa9db77-4da4-4e12-c2ec-180e2b39ce46"
   },
   "outputs": [
    {
     "data": {
      "text/html": [
       "<div>\n",
       "<style scoped>\n",
       "    .dataframe tbody tr th:only-of-type {\n",
       "        vertical-align: middle;\n",
       "    }\n",
       "\n",
       "    .dataframe tbody tr th {\n",
       "        vertical-align: top;\n",
       "    }\n",
       "\n",
       "    .dataframe thead th {\n",
       "        text-align: right;\n",
       "    }\n",
       "</style>\n",
       "<table border=\"1\" class=\"dataframe\">\n",
       "  <thead>\n",
       "    <tr style=\"text-align: right;\">\n",
       "      <th></th>\n",
       "      <th>municipality_code</th>\n",
       "      <th>intensite_tension_immo</th>\n",
       "      <th>rental_max_apartment</th>\n",
       "      <th>rental_min_apartment</th>\n",
       "      <th>rental_med_house</th>\n",
       "      <th>rental_max_house</th>\n",
       "      <th>rental_min_house</th>\n",
       "      <th>rental_med_all</th>\n",
       "      <th>rental_max_all</th>\n",
       "      <th>rental_min_all</th>\n",
       "    </tr>\n",
       "  </thead>\n",
       "  <tbody>\n",
       "    <tr>\n",
       "      <th>0</th>\n",
       "      <td>57133</td>\n",
       "      <td>8</td>\n",
       "      <td>12.27</td>\n",
       "      <td>9.07</td>\n",
       "      <td>9.19</td>\n",
       "      <td>14.45</td>\n",
       "      <td>6.64</td>\n",
       "      <td>9.53</td>\n",
       "      <td>13.77</td>\n",
       "      <td>7.25</td>\n",
       "    </tr>\n",
       "    <tr>\n",
       "      <th>1</th>\n",
       "      <td>57446</td>\n",
       "      <td>8</td>\n",
       "      <td>18.22</td>\n",
       "      <td>7.69</td>\n",
       "      <td>10.92</td>\n",
       "      <td>14.16</td>\n",
       "      <td>7.77</td>\n",
       "      <td>11.09</td>\n",
       "      <td>15.97</td>\n",
       "      <td>7.73</td>\n",
       "    </tr>\n",
       "    <tr>\n",
       "      <th>2</th>\n",
       "      <td>77013</td>\n",
       "      <td>9</td>\n",
       "      <td>18.30</td>\n",
       "      <td>8.39</td>\n",
       "      <td>12.20</td>\n",
       "      <td>16.71</td>\n",
       "      <td>9.21</td>\n",
       "      <td>12.26</td>\n",
       "      <td>16.75</td>\n",
       "      <td>9.19</td>\n",
       "    </tr>\n",
       "    <tr>\n",
       "      <th>3</th>\n",
       "      <td>77026</td>\n",
       "      <td>9</td>\n",
       "      <td>15.76</td>\n",
       "      <td>6.28</td>\n",
       "      <td>9.51</td>\n",
       "      <td>13.20</td>\n",
       "      <td>7.04</td>\n",
       "      <td>9.53</td>\n",
       "      <td>13.23</td>\n",
       "      <td>7.03</td>\n",
       "    </tr>\n",
       "    <tr>\n",
       "      <th>4</th>\n",
       "      <td>77072</td>\n",
       "      <td>9</td>\n",
       "      <td>17.50</td>\n",
       "      <td>7.69</td>\n",
       "      <td>11.47</td>\n",
       "      <td>15.75</td>\n",
       "      <td>8.21</td>\n",
       "      <td>11.47</td>\n",
       "      <td>15.75</td>\n",
       "      <td>8.21</td>\n",
       "    </tr>\n",
       "  </tbody>\n",
       "</table>\n",
       "</div>"
      ],
      "text/plain": [
       "  municipality_code  intensite_tension_immo  rental_max_apartment  \\\n",
       "0             57133                       8                 12.27   \n",
       "1             57446                       8                 18.22   \n",
       "2             77013                       9                 18.30   \n",
       "3             77026                       9                 15.76   \n",
       "4             77072                       9                 17.50   \n",
       "\n",
       "   rental_min_apartment  rental_med_house  rental_max_house  rental_min_house  \\\n",
       "0                  9.07              9.19             14.45              6.64   \n",
       "1                  7.69             10.92             14.16              7.77   \n",
       "2                  8.39             12.20             16.71              9.21   \n",
       "3                  6.28              9.51             13.20              7.04   \n",
       "4                  7.69             11.47             15.75              8.21   \n",
       "\n",
       "   rental_med_all  rental_max_all  rental_min_all  \n",
       "0            9.53           13.77            7.25  \n",
       "1           11.09           15.97            7.73  \n",
       "2           12.26           16.75            9.19  \n",
       "3            9.53           13.23            7.03  \n",
       "4           11.47           15.75            8.21  "
      ]
     },
     "execution_count": 39,
     "metadata": {},
     "output_type": "execute_result"
    }
   ],
   "source": [
    "real_estate_df.head()"
   ]
  },
  {
   "cell_type": "code",
   "execution_count": 40,
   "metadata": {
    "colab": {
     "base_uri": "https://localhost:8080/"
    },
    "id": "hdA8Zaqzw033",
    "outputId": "35e8873a-e995-4d99-ae66-6d4c7c87e0d0"
   },
   "outputs": [
    {
     "data": {
      "text/plain": [
       "np.int64(0)"
      ]
     },
     "execution_count": 40,
     "metadata": {},
     "output_type": "execute_result"
    }
   ],
   "source": [
    "# 0 DOUBLONS !\n",
    "real_estate_df.duplicated().sum()"
   ]
  },
  {
   "cell_type": "code",
   "execution_count": 41,
   "metadata": {
    "colab": {
     "base_uri": "https://localhost:8080/"
    },
    "id": "NQ4oOzPMqQ8Y",
    "outputId": "d7e1ec7d-0343-4727-be4b-0ba17a623226"
   },
   "outputs": [
    {
     "name": "stdout",
     "output_type": "stream",
     "text": [
      "<class 'pandas.core.frame.DataFrame'>\n",
      "RangeIndex: 34441 entries, 0 to 34440\n",
      "Data columns (total 10 columns):\n",
      " #   Column                  Non-Null Count  Dtype  \n",
      "---  ------                  --------------  -----  \n",
      " 0   municipality_code       34441 non-null  object \n",
      " 1   intensite_tension_immo  34441 non-null  int64  \n",
      " 2   rental_max_apartment    34441 non-null  float64\n",
      " 3   rental_min_apartment    34441 non-null  float64\n",
      " 4   rental_med_house        34421 non-null  float64\n",
      " 5   rental_max_house        34421 non-null  float64\n",
      " 6   rental_min_house        34421 non-null  float64\n",
      " 7   rental_med_all          34441 non-null  float64\n",
      " 8   rental_max_all          34441 non-null  float64\n",
      " 9   rental_min_all          34441 non-null  float64\n",
      "dtypes: float64(8), int64(1), object(1)\n",
      "memory usage: 2.6+ MB\n"
     ]
    },
    {
     "data": {
      "text/plain": [
       "municipality_code          0\n",
       "intensite_tension_immo     0\n",
       "rental_max_apartment       0\n",
       "rental_min_apartment       0\n",
       "rental_med_house          20\n",
       "rental_max_house          20\n",
       "rental_min_house          20\n",
       "rental_med_all             0\n",
       "rental_max_all             0\n",
       "rental_min_all             0\n",
       "dtype: int64"
      ]
     },
     "execution_count": 41,
     "metadata": {},
     "output_type": "execute_result"
    }
   ],
   "source": [
    "real_estate_df.info()\n",
    "real_estate_df.isnull().sum()"
   ]
  },
  {
   "cell_type": "markdown",
   "metadata": {
    "id": "i0j9hJqlFaEc",
    "jp-MarkdownHeadingCollapsed": true
   },
   "source": [
    "# 🧪 **DATA TRANSFORMATION**"
   ]
  },
  {
   "cell_type": "markdown",
   "metadata": {
    "id": "FZ-ON4l9sVwu"
   },
   "source": [
    "#### CLEANING"
   ]
  },
  {
   "cell_type": "markdown",
   "metadata": {
    "id": "FZ-ON4l9sVwu",
    "jp-MarkdownHeadingCollapsed": true
   },
   "source": [
    "##### DF_SALES CLEANING"
   ]
  },
  {
   "cell_type": "code",
   "execution_count": 50,
   "metadata": {
    "id": "FclUrSzCGdSX"
   },
   "outputs": [
    {
     "data": {
      "text/plain": [
       "(3448398, 13)"
      ]
     },
     "execution_count": 50,
     "metadata": {},
     "output_type": "execute_result"
    }
   ],
   "source": [
    "# SALES_DF: Suppression des doublons > nous passons de 4,3M de lignes à 3,821M\n",
    "sales_df = sales_df.drop_duplicates()\n",
    "sales_df.shape"
   ]
  },
  {
   "cell_type": "code",
   "execution_count": 43,
   "metadata": {},
   "outputs": [
    {
     "data": {
      "text/plain": [
       "np.int64(0)"
      ]
     },
     "execution_count": 43,
     "metadata": {},
     "output_type": "execute_result"
    }
   ],
   "source": [
    "# SALES_DF: Check si les doublons on été enlevés : OK\n",
    "sales_df.duplicated().sum()"
   ]
  },
  {
   "cell_type": "code",
   "execution_count": 44,
   "metadata": {},
   "outputs": [
    {
     "data": {
      "text/plain": [
       "(3448398, 13)"
      ]
     },
     "execution_count": 44,
     "metadata": {},
     "output_type": "execute_result"
    }
   ],
   "source": [
    "# SALES_DF: Suppression des prix au m2 supérieur à 30K€ et inférieur à 1K€ > nous passons à 3,3399M de lignes\n",
    "sales_df = sales_df[(sales_df['sales_price_m2'] <= 30000) & (sales_df['sales_price_m2'] >= 1000)]\n",
    "sales_df.shape"
   ]
  },
  {
   "cell_type": "code",
   "execution_count": 45,
   "metadata": {},
   "outputs": [],
   "source": [
    "# SALES_DF:\n",
    "s2 = (sales_df['sales_amount']\n",
    "             .value_counts()\n",
    "             .loc[sales_df['sales_amount'].value_counts() > 10])"
   ]
  },
  {
   "cell_type": "code",
   "execution_count": 46,
   "metadata": {},
   "outputs": [
    {
     "data": {
      "text/plain": [
       "sales_amount\n",
       "199999    45\n",
       "231132    37\n",
       "125581    35\n",
       "161865    34\n",
       "139999    34\n",
       "          ..\n",
       "114709    11\n",
       "74729     11\n",
       "142857    11\n",
       "121325    11\n",
       "86136     11\n",
       "Name: count, Length: 150, dtype: int64"
      ]
     },
     "execution_count": 46,
     "metadata": {},
     "output_type": "execute_result"
    }
   ],
   "source": [
    "# SALES_DF:\n",
    "s2.index = s2.index.astype(int)\n",
    "s2.loc[(s2.index % 10) != 0]"
   ]
  },
  {
   "cell_type": "code",
   "execution_count": 47,
   "metadata": {},
   "outputs": [
    {
     "data": {
      "text/plain": [
       "(3448398, 13)"
      ]
     },
     "execution_count": 47,
     "metadata": {},
     "output_type": "execute_result"
    }
   ],
   "source": [
    "# SALES_DF:\n",
    "sales_df = sales_df[sales_df['sales_amount'] > 1] # on enlève les 166 fois ou sales_amount = 1€\n",
    "sales_df.shape"
   ]
  },
  {
   "cell_type": "code",
   "execution_count": 48,
   "metadata": {},
   "outputs": [
    {
     "data": {
      "text/html": [
       "<iframe\n",
       "    scrolling=\"no\"\n",
       "    width=\"100%\"\n",
       "    height=\"545px\"\n",
       "    src=\"iframe_figures/figure_48.html\"\n",
       "    frameborder=\"0\"\n",
       "    allowfullscreen\n",
       "></iframe>\n"
      ]
     },
     "metadata": {},
     "output_type": "display_data"
    }
   ],
   "source": [
    "# SALES_DF: Création de l'histogramme avec Plotly Express\n",
    "fig = px.histogram(sales_df, x='sales_price_m2', nbins=700, title='Distribution de sales_price_m2')\n",
    "\n",
    "# SALES_DF: Affichage du graphique\n",
    "fig.show()"
   ]
  },
  {
   "cell_type": "code",
   "execution_count": 52,
   "metadata": {},
   "outputs": [
    {
     "data": {
      "text/html": [
       "<iframe\n",
       "    scrolling=\"no\"\n",
       "    width=\"100%\"\n",
       "    height=\"545px\"\n",
       "    src=\"iframe_figures/figure_52.html\"\n",
       "    frameborder=\"0\"\n",
       "    allowfullscreen\n",
       "></iframe>\n"
      ]
     },
     "metadata": {},
     "output_type": "display_data"
    }
   ],
   "source": [
    "# SALES_DF: Création de l'histogramme avec Plotly Express\n",
    "fig = px.histogram(sales_df, x='sales_amount', nbins=400, title='Distribution de sales')\n",
    "\n",
    "# SALES_DF: Affichage du graphique\n",
    "fig.show()"
   ]
  },
  {
   "cell_type": "markdown",
   "metadata": {
    "id": "XYnKDVU0sb0S",
    "jp-MarkdownHeadingCollapsed": true
   },
   "source": [
    "##### DF_SITE CLEANING"
   ]
  },
  {
   "cell_type": "markdown",
   "metadata": {
    "id": "XYnKDVU0sb0S",
    "jp-MarkdownHeadingCollapsed": true
   },
   "source": [
    "#### MERGE"
   ]
  },
  {
   "cell_type": "code",
   "execution_count": null,
   "metadata": {},
   "outputs": [],
   "source": []
  },
  {
   "cell_type": "markdown",
   "metadata": {
    "id": "XYnKDVU0sb0S",
    "jp-MarkdownHeadingCollapsed": true
   },
   "source": [
    "#### AGGREGATION"
   ]
  },
  {
   "cell_type": "code",
   "execution_count": null,
   "metadata": {
    "id": "h0SiJ4UmsfnM"
   },
   "outputs": [],
   "source": []
  },
  {
   "cell_type": "markdown",
   "metadata": {
    "id": "sNX4qmi1Gdyx",
    "jp-MarkdownHeadingCollapsed": true
   },
   "source": [
    "# 📈 **DATA VIZUALISATION**"
   ]
  },
  {
   "cell_type": "code",
   "execution_count": null,
   "metadata": {
    "id": "uk5cmtjjGg5O"
   },
   "outputs": [],
   "source": []
  },
  {
   "cell_type": "code",
   "execution_count": null,
   "metadata": {},
   "outputs": [],
   "source": []
  }
 ],
 "metadata": {
  "colab": {
   "collapsed_sections": [
    "MtiYSUHHSCws",
    "qzPmsWEUq5zk",
    "Qhf-qyfBrBrU",
    "WUbRvCbWrC-g",
    "IaW8clyJrE7k",
    "gHemM-SqrGyN",
    "wDh1nf-1rIgb",
    "DEROdiJirK6M",
    "-pWIMamvrMgo",
    "i0j9hJqlFaEc",
    "FZ-ON4l9sVwu",
    "XYnKDVU0sb0S",
    "sNX4qmi1Gdyx"
   ],
   "provenance": []
  },
  "kernelspec": {
   "display_name": "Python 3 (ipykernel)",
   "language": "python",
   "name": "python3"
  },
  "language_info": {
   "codemirror_mode": {
    "name": "ipython",
    "version": 3
   },
   "file_extension": ".py",
   "mimetype": "text/x-python",
   "name": "python",
   "nbconvert_exporter": "python",
   "pygments_lexer": "ipython3",
   "version": "3.12.3"
  }
 },
 "nbformat": 4,
 "nbformat_minor": 4
}
