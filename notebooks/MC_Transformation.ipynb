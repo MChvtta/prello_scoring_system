{
 "cells": [
  {
   "cell_type": "markdown",
   "metadata": {
    "id": "i0j9hJqlFaEc"
   },
   "source": [
    "# ⚙️ **CLEANED DATA IMPORT**"
   ]
  },
  {
   "cell_type": "code",
   "execution_count": null,
   "metadata": {},
   "outputs": [],
   "source": [
    "import pandas as pd\n",
    "import numpy as np\n",
    "import os\n",
    "\n",
    "DATA_PATH = '../data/cleaned'\n",
    "\n",
    "POI_FILENAME = 'poi_df_cleaned.csv'\n",
    "SITE_FILENAME = 'site_df_cleaned.csv'\n",
    "SALARY_FILENAME = 'salary_df_cleaned.csv'\n",
    "GEOREF_FILENAME = 'georef_df_cleaned.csv'\n",
    "STOCK_FILENAME = 'stock_df_cleaned.csv'\n",
    "SALES_FILENAME = 'sales_df_cleaned.csv'\n",
    "POPULATION_FILENAME = 'population_df_cleaned.csv'\n",
    "POVERTY_FILENAME = 'poverty_df_cleaned.csv'\n",
    "REAL_ESTATE_FILENAME = 'real_estate_df_cleaned.csv'\n",
    "\n",
    "poi_df = pd.read_csv(os.path.join(DATA_PATH, POI_FILENAME))\n",
    "site_df = pd.read_csv(os.path.join(DATA_PATH, SITE_FILENAME))\n",
    "salary_df = pd.read_csv(os.path.join(DATA_PATH, SALARY_FILENAME))\n",
    "georef_df = pd.read_csv(os.path.join(DATA_PATH, GEOREF_FILENAME))\n",
    "stock_df = pd.read_csv(os.path.join(DATA_PATH, STOCK_FILENAME))\n",
    "sales_df = pd.read_csv(os.path.join(DATA_PATH, SALES_FILENAME))\n",
    "population_df = pd.read_csv(os.path.join(DATA_PATH, POPULATION_FILENAME))\n",
    "poverty_df = pd.read_csv(os.path.join(DATA_PATH, POVERTY_FILENAME))\n",
    "real_estate_df = pd.read_csv(os.path.join(DATA_PATH, REAL_ESTATE_FILENAME))"
   ]
  },
  {
   "cell_type": "markdown",
   "metadata": {
    "id": "FZ-ON4l9sVwu"
   },
   "source": [
    "### CLEANING"
   ]
  },
  {
   "cell_type": "markdown",
   "metadata": {
    "id": "FZ-ON4l9sVwu",
    "jp-MarkdownHeadingCollapsed": true
   },
   "source": [
    "##### DF_SALES CLEANING"
   ]
  },
  {
   "cell_type": "code",
   "execution_count": null,
   "metadata": {
    "id": "FclUrSzCGdSX"
   },
   "outputs": [],
   "source": [
    "# SALES_DF: Suppression des doublons > nous passons de 4,3M de lignes à 3,821M\n",
    "sales_df = sales_df.drop_duplicates()\n",
    "sales_df.shape"
   ]
  },
  {
   "cell_type": "code",
   "execution_count": null,
   "metadata": {},
   "outputs": [],
   "source": [
    "# SALES_DF: Check si les doublons on été enlevés : OK\n",
    "sales_df.duplicated().sum()"
   ]
  },
  {
   "cell_type": "code",
   "execution_count": null,
   "metadata": {},
   "outputs": [],
   "source": [
    "# SALES_DF: Suppression des prix au m2 supérieur à 30K€ et inférieur à 1K€ > nous passons à 3,3399M de lignes\n",
    "sales_df = sales_df[(sales_df['sales_price_m2'] <= 30000) & (sales_df['sales_price_m2'] >= 1000)]\n",
    "sales_df.shape"
   ]
  },
  {
   "cell_type": "code",
   "execution_count": null,
   "metadata": {},
   "outputs": [],
   "source": [
    "# SALES_DF:\n",
    "s2 = (sales_df['sales_amount']\n",
    "             .value_counts()\n",
    "             .loc[sales_df['sales_amount'].value_counts() > 10])"
   ]
  },
  {
   "cell_type": "code",
   "execution_count": null,
   "metadata": {},
   "outputs": [],
   "source": [
    "# SALES_DF:\n",
    "sales_df = sales_df[sales_df['sales_amount'] > 1] # on enlève les 166 fois ou sales_amount = 1€\n",
    "sales_df.shape"
   ]
  },
  {
   "cell_type": "code",
   "execution_count": null,
   "metadata": {},
   "outputs": [],
   "source": [
    "# SALES_DF: changement du type sales_date en datetime\n",
    "sales_df['sales_date'] = pd.to_datetime(sales_df['sales_date'])\n",
    "sales_df.info()"
   ]
  },
  {
   "cell_type": "markdown",
   "metadata": {
    "id": "XYnKDVU0sb0S",
    "jp-MarkdownHeadingCollapsed": true
   },
   "source": [
    "##### DF_SALARY CLEANING"
   ]
  },
  {
   "cell_type": "code",
   "execution_count": null,
   "metadata": {},
   "outputs": [],
   "source": [
    "# DF_SALARY: ROUND avg_net_salary\n",
    "salary_df['avg_net_salary'] = salary_df['avg_net_salary'].round()\n",
    "salary_df.head()"
   ]
  },
  {
   "cell_type": "markdown",
   "metadata": {
    "id": "XYnKDVU0sb0S",
    "jp-MarkdownHeadingCollapsed": true
   },
   "source": [
    "##### DF_REAL_ESTATE CLEANING"
   ]
  },
  {
   "cell_type": "code",
   "execution_count": null,
   "metadata": {},
   "outputs": [],
   "source": [
    "# DF_REAL_ESTATE: suppression des nulls\n",
    "real_estate_df = real_estate_df.dropna(axis=1)\n",
    "real_estate_df.isnull().sum()"
   ]
  },
  {
   "cell_type": "markdown",
   "metadata": {
    "id": "XYnKDVU0sb0S",
    "jp-MarkdownHeadingCollapsed": true
   },
   "source": [
    "##### DF_SITE CLEANING"
   ]
  },
  {
   "cell_type": "code",
   "execution_count": null,
   "metadata": {},
   "outputs": [],
   "source": [
    "# SITE_DF: tri avec les données entre parenthèses de la colonne \"name\" inclues\n",
    "\n",
    "import re\n",
    "\n",
    "site_df['data_inside_parenthesis'] = site_df['name'].apply(lambda x: re.search(r'\\((.*?)\\)', x).group(1) if re.search(r'\\((.*?)\\)', x) else '')\n",
    "site_df\n",
    "\n",
    "#suppression de la colonne \"name\" dans un second temps\n",
    "\n",
    "site_df.drop(columns=[\"name\"])\n",
    "\n",
    "#check pour savoir les informations présentes dans la colonne \"poi\", et si elles correspondent aux valeurs présentes dans la colonne \"type\"\n",
    "print (site_df[\"poi\"].value_counts())\n",
    "print (site_df[\"data_inside_parenthesis\"].value_counts().head(50))\n",
    "\n",
    "#faire un mapping des colonnes poi, qui sont en fait plus pertinentes que celles de la colonne \"type\""
   ]
  },
  {
   "cell_type": "code",
   "execution_count": null,
   "metadata": {},
   "outputs": [],
   "source": [
    "# SITE_DF: création d'un dictionnaire intégrant toutes les différentes valeurs inclues dans la colonne \"poi\"\n",
    "s = site_df[\"poi\"].value_counts()[site_df[\"poi\"]]\n",
    "{k: \"toto\" for k in s.index}"
   ]
  },
  {
   "cell_type": "code",
   "execution_count": null,
   "metadata": {},
   "outputs": [],
   "source": [
    "# SITE_DF: création d'un dictionnaire avec les catégories associées aux valeurs de la colonne POI\n",
    "\n",
    "category_dict = {'1': 'Patrimoine',\n",
    " '2': 'Patrimoine',\n",
    " 'zoo': 'Entertainment',\n",
    " 'dune': 'Nature',\n",
    " 'park': 'Nature',\n",
    " 'rock': 'Nature',\n",
    " 'sand': 'Nature',\n",
    " 'beach': 'Nature',\n",
    " 'cliff': 'Nature',\n",
    " 'islet': 'Nature',\n",
    " 'ridge': 'Nature',\n",
    " 'water': 'Nature',\n",
    " 'wreck': 'Patrimoine',\n",
    " 'casino': 'Entertainment',\n",
    " 'castle': 'Patrimoine',\n",
    " 'cinema': 'Culture',\n",
    " 'forest': 'Nature',\n",
    " 'geyser': 'Nature',\n",
    " 'marina': 'Nature',\n",
    " 'meadow': 'Nature',\n",
    " 'museum': 'Culture',\n",
    " 'valley': 'Nature',\n",
    " 'theatre': 'Culture',\n",
    " 'volcano': 'Nature',\n",
    " 'wetland': 'Nature',\n",
    " 'heritage': 'Patrimoine',\n",
    " 'monument': 'Patrimoine',\n",
    " 'vineyard': 'Nature',\n",
    " 'viewpoint': 'Nature',\n",
    " 'waterfall': 'Nature',\n",
    " 'allotments': 'Patrimoine',\n",
    " 'attraction': 'Entertainment',\n",
    " 'theme_park': 'Entertainment',\n",
    " 'water_park': 'Entertainment',\n",
    " 'golf_course': 'Entertainment',\n",
    " 'cave_entrance': 'Culture',\n",
    " 'national_park': 'Nature',\n",
    " 'protected_area': 'Nature'}"
   ]
  },
  {
   "cell_type": "code",
   "execution_count": null,
   "metadata": {},
   "outputs": [],
   "source": [
    "# SITE_DF: création de la colonne \"catégorie\"\n",
    "site_df[\"Category\"] = site_df[\"poi\"].map(category_dict)\n",
    "site_df"
   ]
  },
  {
   "cell_type": "code",
   "execution_count": null,
   "metadata": {},
   "outputs": [],
   "source": [
    "# Fusionner les données des sites avec les informations de géolocalisation pour obtenir les départements\n",
    "site_with_dep = site_df.merge(georef_df[['municipality_code', 'department_code', 'department_name']], on='municipality_code')\n",
    "\n",
    "# Calculer la répartition des catégories par département\n",
    "tourism_category_per_department = site_with_dep.groupby(['department_code', 'department_name', 'Category']).size().unstack(fill_value=0).reset_index()\n",
    "\n",
    "# Afficher les premières lignes de la répartition des catégories par département\n",
    "tourism_category_per_department.head()"
   ]
  },
  {
   "cell_type": "code",
   "execution_count": null,
   "metadata": {},
   "outputs": [],
   "source": [
    "poi_df.info()\n",
    "site_df.info()\n",
    "salary_df.info()\n",
    "georef_df.info() \n",
    "stock_df.info() \n",
    "sales_df.info()\n",
    "population_df.info() \n",
    "poverty_df.info()\n",
    "real_estate_df.info()"
   ]
  },
  {
   "cell_type": "code",
   "execution_count": null,
   "metadata": {},
   "outputs": [],
   "source": [
    "poi_df.head(1)"
   ]
  },
  {
   "cell_type": "code",
   "execution_count": null,
   "metadata": {},
   "outputs": [],
   "source": [
    "site_df.head(1) "
   ]
  },
  {
   "cell_type": "code",
   "execution_count": null,
   "metadata": {},
   "outputs": [],
   "source": [
    "salary_df.head(1)"
   ]
  },
  {
   "cell_type": "code",
   "execution_count": null,
   "metadata": {},
   "outputs": [],
   "source": [
    "georef_df.head(1) "
   ]
  },
  {
   "cell_type": "code",
   "execution_count": null,
   "metadata": {},
   "outputs": [],
   "source": [
    "stock_df.head(1) "
   ]
  },
  {
   "cell_type": "code",
   "execution_count": null,
   "metadata": {},
   "outputs": [],
   "source": [
    "sales_df.head(1)"
   ]
  },
  {
   "cell_type": "code",
   "execution_count": null,
   "metadata": {},
   "outputs": [],
   "source": [
    "population_df.head(1) "
   ]
  },
  {
   "cell_type": "code",
   "execution_count": null,
   "metadata": {},
   "outputs": [],
   "source": [
    "poverty_df.head(1)"
   ]
  },
  {
   "cell_type": "code",
   "execution_count": null,
   "metadata": {},
   "outputs": [],
   "source": [
    "real_estate_df.head(1)"
   ]
  },
  {
   "cell_type": "markdown",
   "metadata": {
    "id": "i0j9hJqlFaEc"
   },
   "source": [
    "# 🧪 **DATA TRANSFORMATION**"
   ]
  },
  {
   "cell_type": "markdown",
   "metadata": {
    "id": "XYnKDVU0sb0S"
   },
   "source": [
    "### KPIS AGGREGATION BY DEPARTMENT"
   ]
  },
  {
   "cell_type": "markdown",
   "metadata": {
    "id": "XYnKDVU0sb0S"
   },
   "source": [
    "##### 1. TOURISM MIKE (not used for the scoring)"
   ]
  },
  {
   "cell_type": "code",
   "execution_count": null,
   "metadata": {},
   "outputs": [],
   "source": [
    "# MIKE 1.1 Nombre de sites touristiques par département\n",
    "# Joindre les informations de géolocalisation pour obtenir les départements\n",
    "site_dep_df = site_df.merge(georef_df[['municipality_code', 'department_code']], on='municipality_code')\n",
    "\n",
    "# Calculer le nombre de sites touristiques par département\n",
    "num_sites_per_department = site_dep_df.groupby('department_code')['poi'].count().reset_index()\n",
    "num_sites_per_department.rename(columns={'poi': 'num_sites'}, inplace=True)\n",
    "num_sites_per_department"
   ]
  },
  {
   "cell_type": "code",
   "execution_count": null,
   "metadata": {},
   "outputs": [],
   "source": [
    "# MIKE 1.2 Importance moyenne des sites par département\n",
    "# Calculer l'importance moyenne des sites touristiques par département\n",
    "avg_site_importance_per_department = site_dep_df.groupby('department_code')['importance'].mean().reset_index() \n",
    "avg_site_importance_per_department.rename(columns={'importance': 'avg_site_importance'}, inplace=True)\n",
    "avg_site_importance_per_department"
   ]
  },
  {
   "cell_type": "code",
   "execution_count": null,
   "metadata": {},
   "outputs": [],
   "source": [
    "# MIKE 1.3 Stock de logement par département\n",
    "# Joindre les informations de géolocalisation pour obtenir les départements\n",
    "stock_dep_df = stock_df.merge(georef_df[['municipality_code', 'department_code']], on='municipality_code')\n",
    "\n",
    "# Calculer le stock de logement par département (nombre total de logements)\n",
    "total_stock_per_department = stock_dep_df.groupby('department_code')['nb_tot_housing'].sum().reset_index()\n",
    "total_stock_per_department.rename(columns={'nb_tot_housing': 'total_stock'}, inplace=True)\n",
    "total_stock_per_department"
   ]
  },
  {
   "cell_type": "code",
   "execution_count": null,
   "metadata": {},
   "outputs": [],
   "source": [
    "# MIKE 1.4 épartition des catégories par département\n",
    "# Fusionner les données des sites avec les informations de géolocalisation pour obtenir les départements\n",
    "site_with_dep = site_df.merge(georef_df[['municipality_code', 'department_code', 'department_name']], on='municipality_code')\n",
    "\n",
    "# Calculer la répartition des catégories par département\n",
    "tourism_category_per_department = site_with_dep.groupby(['department_code', 'department_name', 'Category']).size().unstack(fill_value=0).reset_index()\n",
    "\n",
    "# Afficher les premières lignes de la répartition des catégories par département\n",
    "tourism_category_per_department.head()"
   ]
  },
  {
   "cell_type": "markdown",
   "metadata": {
    "id": "XYnKDVU0sb0S"
   },
   "source": [
    "##### 2. REAL ESTATE MIKE (not used for the scoring)"
   ]
  },
  {
   "cell_type": "code",
   "execution_count": 123,
   "metadata": {},
   "outputs": [
    {
     "data": {
      "text/html": [
       "<div>\n",
       "<style scoped>\n",
       "    .dataframe tbody tr th:only-of-type {\n",
       "        vertical-align: middle;\n",
       "    }\n",
       "\n",
       "    .dataframe tbody tr th {\n",
       "        vertical-align: top;\n",
       "    }\n",
       "\n",
       "    .dataframe thead th {\n",
       "        text-align: right;\n",
       "    }\n",
       "</style>\n",
       "<table border=\"1\" class=\"dataframe\">\n",
       "  <thead>\n",
       "    <tr style=\"text-align: right;\">\n",
       "      <th></th>\n",
       "      <th>department_code</th>\n",
       "      <th>department_name</th>\n",
       "      <th>avg_rental_yield</th>\n",
       "    </tr>\n",
       "  </thead>\n",
       "  <tbody>\n",
       "    <tr>\n",
       "      <th>0</th>\n",
       "      <td>01</td>\n",
       "      <td>Ain</td>\n",
       "      <td>12.253130</td>\n",
       "    </tr>\n",
       "    <tr>\n",
       "      <th>1</th>\n",
       "      <td>02</td>\n",
       "      <td>Aisne</td>\n",
       "      <td>9.627683</td>\n",
       "    </tr>\n",
       "    <tr>\n",
       "      <th>2</th>\n",
       "      <td>03</td>\n",
       "      <td>Allier</td>\n",
       "      <td>9.244937</td>\n",
       "    </tr>\n",
       "    <tr>\n",
       "      <th>3</th>\n",
       "      <td>04</td>\n",
       "      <td>Alpes-de-Haute-Provence</td>\n",
       "      <td>11.311378</td>\n",
       "    </tr>\n",
       "    <tr>\n",
       "      <th>4</th>\n",
       "      <td>05</td>\n",
       "      <td>Hautes-Alpes</td>\n",
       "      <td>11.714241</td>\n",
       "    </tr>\n",
       "    <tr>\n",
       "      <th>...</th>\n",
       "      <td>...</td>\n",
       "      <td>...</td>\n",
       "      <td>...</td>\n",
       "    </tr>\n",
       "    <tr>\n",
       "      <th>91</th>\n",
       "      <td>91</td>\n",
       "      <td>Essonne</td>\n",
       "      <td>16.469145</td>\n",
       "    </tr>\n",
       "    <tr>\n",
       "      <th>92</th>\n",
       "      <td>92</td>\n",
       "      <td>Hauts-de-Seine</td>\n",
       "      <td>25.354306</td>\n",
       "    </tr>\n",
       "    <tr>\n",
       "      <th>93</th>\n",
       "      <td>93</td>\n",
       "      <td>Seine-Saint-Denis</td>\n",
       "      <td>21.065125</td>\n",
       "    </tr>\n",
       "    <tr>\n",
       "      <th>94</th>\n",
       "      <td>94</td>\n",
       "      <td>Val-de-Marne</td>\n",
       "      <td>22.158404</td>\n",
       "    </tr>\n",
       "    <tr>\n",
       "      <th>95</th>\n",
       "      <td>95</td>\n",
       "      <td>Val-d'Oise</td>\n",
       "      <td>16.746503</td>\n",
       "    </tr>\n",
       "  </tbody>\n",
       "</table>\n",
       "<p>96 rows × 3 columns</p>\n",
       "</div>"
      ],
      "text/plain": [
       "   department_code          department_name  avg_rental_yield\n",
       "0               01                      Ain         12.253130\n",
       "1               02                    Aisne          9.627683\n",
       "2               03                   Allier          9.244937\n",
       "3               04  Alpes-de-Haute-Provence         11.311378\n",
       "4               05             Hautes-Alpes         11.714241\n",
       "..             ...                      ...               ...\n",
       "91              91                  Essonne         16.469145\n",
       "92              92           Hauts-de-Seine         25.354306\n",
       "93              93        Seine-Saint-Denis         21.065125\n",
       "94              94             Val-de-Marne         22.158404\n",
       "95              95               Val-d'Oise         16.746503\n",
       "\n",
       "[96 rows x 3 columns]"
      ]
     },
     "execution_count": 123,
     "metadata": {},
     "output_type": "execute_result"
    }
   ],
   "source": [
    "# 2.1 Rentabilité locative au m² par département\n",
    "# Joindre les informations de géolocalisation pour obtenir les départements\n",
    "real_estate_dep_df = real_estate_df.merge(georef_df[['municipality_code', 'department_code', 'department_name']], on='municipality_code')\n",
    "\n",
    "# Calculer la rentabilité locative moyenne au m² par département\n",
    "real_estate_dep_df['avg_rental_yield'] = (real_estate_dep_df['rental_max_all'] + real_estate_dep_df['rental_min_all']) / 2\n",
    "rental_yield_per_department = real_estate_dep_df.groupby(['department_code', 'department_name'])['avg_rental_yield'].mean().reset_index()\n",
    "rental_yield_per_department.rename(columns={'avg_rental_yield': 'avg_rental_yield'}, inplace=True)\n",
    "rental_yield_per_department"
   ]
  },
  {
   "cell_type": "code",
   "execution_count": 124,
   "metadata": {},
   "outputs": [],
   "source": [
    "# 2.2 Tension immobilière par département\n",
    "# Calculer la tension immobilière par département\n",
    "housing_tension_per_department = real_estate_dep_df.groupby('department_code')['intensite_tension_immo'].mean().reset_index()\n",
    "housing_tension_per_department.rename(columns={'intensite_tension_immo': 'avg_housing_tension'}, inplace=True)"
   ]
  },
  {
   "cell_type": "code",
   "execution_count": 125,
   "metadata": {},
   "outputs": [
    {
     "data": {
      "text/html": [
       "<div>\n",
       "<style scoped>\n",
       "    .dataframe tbody tr th:only-of-type {\n",
       "        vertical-align: middle;\n",
       "    }\n",
       "\n",
       "    .dataframe tbody tr th {\n",
       "        vertical-align: top;\n",
       "    }\n",
       "\n",
       "    .dataframe thead th {\n",
       "        text-align: right;\n",
       "    }\n",
       "</style>\n",
       "<table border=\"1\" class=\"dataframe\">\n",
       "  <thead>\n",
       "    <tr style=\"text-align: right;\">\n",
       "      <th></th>\n",
       "      <th>department_code</th>\n",
       "      <th>avg_secondary_home_rate</th>\n",
       "    </tr>\n",
       "  </thead>\n",
       "  <tbody>\n",
       "    <tr>\n",
       "      <th>0</th>\n",
       "      <td>01</td>\n",
       "      <td>0.138884</td>\n",
       "    </tr>\n",
       "    <tr>\n",
       "      <th>1</th>\n",
       "      <td>02</td>\n",
       "      <td>0.102122</td>\n",
       "    </tr>\n",
       "    <tr>\n",
       "      <th>2</th>\n",
       "      <td>03</td>\n",
       "      <td>0.132708</td>\n",
       "    </tr>\n",
       "    <tr>\n",
       "      <th>3</th>\n",
       "      <td>04</td>\n",
       "      <td>0.397630</td>\n",
       "    </tr>\n",
       "    <tr>\n",
       "      <th>4</th>\n",
       "      <td>05</td>\n",
       "      <td>0.400697</td>\n",
       "    </tr>\n",
       "    <tr>\n",
       "      <th>...</th>\n",
       "      <td>...</td>\n",
       "      <td>...</td>\n",
       "    </tr>\n",
       "    <tr>\n",
       "      <th>95</th>\n",
       "      <td>95</td>\n",
       "      <td>0.071613</td>\n",
       "    </tr>\n",
       "    <tr>\n",
       "      <th>96</th>\n",
       "      <td>971</td>\n",
       "      <td>0.076645</td>\n",
       "    </tr>\n",
       "    <tr>\n",
       "      <th>97</th>\n",
       "      <td>972</td>\n",
       "      <td>0.068388</td>\n",
       "    </tr>\n",
       "    <tr>\n",
       "      <th>98</th>\n",
       "      <td>973</td>\n",
       "      <td>0.062976</td>\n",
       "    </tr>\n",
       "    <tr>\n",
       "      <th>99</th>\n",
       "      <td>974</td>\n",
       "      <td>0.035493</td>\n",
       "    </tr>\n",
       "  </tbody>\n",
       "</table>\n",
       "<p>100 rows × 2 columns</p>\n",
       "</div>"
      ],
      "text/plain": [
       "   department_code  avg_secondary_home_rate\n",
       "0               01                 0.138884\n",
       "1               02                 0.102122\n",
       "2               03                 0.132708\n",
       "3               04                 0.397630\n",
       "4               05                 0.400697\n",
       "..             ...                      ...\n",
       "95              95                 0.071613\n",
       "96             971                 0.076645\n",
       "97             972                 0.068388\n",
       "98             973                 0.062976\n",
       "99             974                 0.035493\n",
       "\n",
       "[100 rows x 2 columns]"
      ]
     },
     "execution_count": 125,
     "metadata": {},
     "output_type": "execute_result"
    }
   ],
   "source": [
    "# 2.3 Part de maisons secondaires par département\n",
    "# Calculer la part de maisons secondaires par département\n",
    "secondary_home_rate_per_department = stock_dep_df.groupby('department_code')['secondary_home_rate'].mean().reset_index()\n",
    "secondary_home_rate_per_department.rename(columns={'secondary_home_rate': 'avg_secondary_home_rate'}, inplace=True)\n",
    "secondary_home_rate_per_department"
   ]
  },
  {
   "cell_type": "code",
   "execution_count": 126,
   "metadata": {},
   "outputs": [
    {
     "data": {
      "text/html": [
       "<div>\n",
       "<style scoped>\n",
       "    .dataframe tbody tr th:only-of-type {\n",
       "        vertical-align: middle;\n",
       "    }\n",
       "\n",
       "    .dataframe tbody tr th {\n",
       "        vertical-align: top;\n",
       "    }\n",
       "\n",
       "    .dataframe thead th {\n",
       "        text-align: right;\n",
       "    }\n",
       "</style>\n",
       "<table border=\"1\" class=\"dataframe\">\n",
       "  <thead>\n",
       "    <tr style=\"text-align: right;\">\n",
       "      <th>sales_date</th>\n",
       "      <th>department_code</th>\n",
       "      <th>department_name</th>\n",
       "      <th>price_evolution</th>\n",
       "    </tr>\n",
       "  </thead>\n",
       "  <tbody>\n",
       "    <tr>\n",
       "      <th>0</th>\n",
       "      <td>01</td>\n",
       "      <td>Ain</td>\n",
       "      <td>-26.355387</td>\n",
       "    </tr>\n",
       "    <tr>\n",
       "      <th>1</th>\n",
       "      <td>02</td>\n",
       "      <td>Aisne</td>\n",
       "      <td>-7.993162</td>\n",
       "    </tr>\n",
       "    <tr>\n",
       "      <th>2</th>\n",
       "      <td>03</td>\n",
       "      <td>Allier</td>\n",
       "      <td>-12.084001</td>\n",
       "    </tr>\n",
       "    <tr>\n",
       "      <th>3</th>\n",
       "      <td>04</td>\n",
       "      <td>Alpes-de-Haute-Provence</td>\n",
       "      <td>NaN</td>\n",
       "    </tr>\n",
       "    <tr>\n",
       "      <th>4</th>\n",
       "      <td>05</td>\n",
       "      <td>Hautes-Alpes</td>\n",
       "      <td>19.868180</td>\n",
       "    </tr>\n",
       "  </tbody>\n",
       "</table>\n",
       "</div>"
      ],
      "text/plain": [
       "sales_date department_code          department_name  price_evolution\n",
       "0                       01                      Ain       -26.355387\n",
       "1                       02                    Aisne        -7.993162\n",
       "2                       03                   Allier       -12.084001\n",
       "3                       04  Alpes-de-Haute-Provence              NaN\n",
       "4                       05             Hautes-Alpes        19.868180"
      ]
     },
     "execution_count": 126,
     "metadata": {},
     "output_type": "execute_result"
    }
   ],
   "source": [
    "# 2.4 Évolution du prix au m² par département\n",
    "# Joindre les informations de géolocalisation pour obtenir les départements\n",
    "sales_dep_df = sales_df.merge(georef_df[['municipality_code', 'department_code', 'department_name']], on='municipality_code')\n",
    "\n",
    "# Calculer l'évolution du prix au m² par département\n",
    "price_evolution = sales_dep_df.groupby(['department_code', 'department_name', 'sales_date'])['sales_price_m2'].mean().unstack().reset_index()\n",
    "price_evolution['price_evolution'] = (price_evolution[price_evolution.columns[-1]] - price_evolution[price_evolution.columns[-2]]) / price_evolution[price_evolution.columns[-2]] * 100\n",
    "price_evolution = price_evolution[['department_code', 'department_name', 'price_evolution']]\n",
    "price_evolution.head()\n"
   ]
  },
  {
   "cell_type": "code",
   "execution_count": 129,
   "metadata": {},
   "outputs": [
    {
     "data": {
      "text/html": [
       "<div>\n",
       "<style scoped>\n",
       "    .dataframe tbody tr th:only-of-type {\n",
       "        vertical-align: middle;\n",
       "    }\n",
       "\n",
       "    .dataframe tbody tr th {\n",
       "        vertical-align: top;\n",
       "    }\n",
       "\n",
       "    .dataframe thead th {\n",
       "        text-align: right;\n",
       "    }\n",
       "</style>\n",
       "<table border=\"1\" class=\"dataframe\">\n",
       "  <thead>\n",
       "    <tr style=\"text-align: right;\">\n",
       "      <th></th>\n",
       "      <th>department_code</th>\n",
       "      <th>department_name</th>\n",
       "      <th>avg_sales_price_m2</th>\n",
       "    </tr>\n",
       "  </thead>\n",
       "  <tbody>\n",
       "    <tr>\n",
       "      <th>0</th>\n",
       "      <td>01</td>\n",
       "      <td>Ain</td>\n",
       "      <td>2667.0</td>\n",
       "    </tr>\n",
       "    <tr>\n",
       "      <th>1</th>\n",
       "      <td>02</td>\n",
       "      <td>Aisne</td>\n",
       "      <td>1622.0</td>\n",
       "    </tr>\n",
       "    <tr>\n",
       "      <th>2</th>\n",
       "      <td>03</td>\n",
       "      <td>Allier</td>\n",
       "      <td>1624.0</td>\n",
       "    </tr>\n",
       "    <tr>\n",
       "      <th>3</th>\n",
       "      <td>04</td>\n",
       "      <td>Alpes-de-Haute-Provence</td>\n",
       "      <td>2314.0</td>\n",
       "    </tr>\n",
       "    <tr>\n",
       "      <th>4</th>\n",
       "      <td>05</td>\n",
       "      <td>Hautes-Alpes</td>\n",
       "      <td>2626.0</td>\n",
       "    </tr>\n",
       "    <tr>\n",
       "      <th>...</th>\n",
       "      <td>...</td>\n",
       "      <td>...</td>\n",
       "      <td>...</td>\n",
       "    </tr>\n",
       "    <tr>\n",
       "      <th>92</th>\n",
       "      <td>95</td>\n",
       "      <td>Val-d'Oise</td>\n",
       "      <td>3561.0</td>\n",
       "    </tr>\n",
       "    <tr>\n",
       "      <th>93</th>\n",
       "      <td>971</td>\n",
       "      <td>Guadeloupe</td>\n",
       "      <td>3597.0</td>\n",
       "    </tr>\n",
       "    <tr>\n",
       "      <th>94</th>\n",
       "      <td>972</td>\n",
       "      <td>Martinique</td>\n",
       "      <td>3618.0</td>\n",
       "    </tr>\n",
       "    <tr>\n",
       "      <th>95</th>\n",
       "      <td>973</td>\n",
       "      <td>Guyane</td>\n",
       "      <td>3868.0</td>\n",
       "    </tr>\n",
       "    <tr>\n",
       "      <th>96</th>\n",
       "      <td>974</td>\n",
       "      <td>La Réunion</td>\n",
       "      <td>3319.0</td>\n",
       "    </tr>\n",
       "  </tbody>\n",
       "</table>\n",
       "<p>97 rows × 3 columns</p>\n",
       "</div>"
      ],
      "text/plain": [
       "   department_code          department_name  avg_sales_price_m2\n",
       "0               01                      Ain              2667.0\n",
       "1               02                    Aisne              1622.0\n",
       "2               03                   Allier              1624.0\n",
       "3               04  Alpes-de-Haute-Provence              2314.0\n",
       "4               05             Hautes-Alpes              2626.0\n",
       "..             ...                      ...                 ...\n",
       "92              95               Val-d'Oise              3561.0\n",
       "93             971               Guadeloupe              3597.0\n",
       "94             972               Martinique              3618.0\n",
       "95             973                   Guyane              3868.0\n",
       "96             974               La Réunion              3319.0\n",
       "\n",
       "[97 rows x 3 columns]"
      ]
     },
     "execution_count": 129,
     "metadata": {},
     "output_type": "execute_result"
    }
   ],
   "source": [
    "# Calculer le prix moyen au m² des ventes immobilières par département\n",
    "avg_price_per_m2_per_department = sales_dep_df.groupby(['department_code', 'department_name'])['sales_price_m2'].mean().reset_index()\n",
    "avg_price_per_m2_per_department.rename(columns={'sales_price_m2': 'avg_sales_price_m2'}, inplace=True)\n",
    "avg_price_per_m2_per_department['avg_sales_price_m2'] = avg_price_per_m2_per_department['avg_sales_price_m2'].round()\n",
    "\n",
    "avg_price_per_m2_per_department"
   ]
  },
  {
   "cell_type": "markdown",
   "metadata": {
    "id": "XYnKDVU0sb0S",
    "jp-MarkdownHeadingCollapsed": true
   },
   "source": [
    "##### POPULATION (not used for the scoring)"
   ]
  },
  {
   "cell_type": "code",
   "execution_count": null,
   "metadata": {},
   "outputs": [],
   "source": [
    "# 1.1 Salaire moyen par département\n",
    "# Joindre les informations de géolocalisation pour obtenir les départements\n",
    "salary_dep_df = salary_df.merge(georef_df[['municipality_code', 'department_code', 'department_name']], on='municipality_code')\n",
    "\n",
    "# Calculer le salaire moyen par département\n",
    "avg_salary_per_department = salary_dep_df.groupby(['department_code', 'department_name'])['avg_net_salary'].mean().reset_index().round()\n",
    "avg_salary_per_department.rename(columns={'avg_net_salary': 'avg_salary'}, inplace=True)\n",
    "avg_salary_per_department.head()"
   ]
  },
  {
   "cell_type": "code",
   "execution_count": null,
   "metadata": {},
   "outputs": [],
   "source": [
    "# 1.2 Évolution de la population par département\n",
    "# Joindre les informations de géolocalisation pour obtenir les départements\n",
    "population_dep_df = population_df.merge(georef_df[['municipality_code', 'department_code', 'department_name']], on='municipality_code')\n",
    "\n",
    "# Calculer l'évolution de la population par département (différence entre les années)\n",
    "pop_evolution = population_dep_df.groupby(['department_code', 'department_name', 'year'])['population'].sum().unstack().reset_index()\n",
    "pop_evolution['evolution'] = (pop_evolution[pop_evolution.columns[-1]] - pop_evolution[pop_evolution.columns[-2]]) / pop_evolution[pop_evolution.columns[-2]] * 100\n",
    "pop_evolution = pop_evolution[['department_code', 'department_name', 'evolution']]\n",
    "\n",
    "pop_evolution.head()"
   ]
  },
  {
   "cell_type": "code",
   "execution_count": null,
   "metadata": {},
   "outputs": [],
   "source": [
    "# 1.3 Taux de pauvreté par département\n",
    "# Joindre les données de population\n",
    "# poverty_df = poverty_df.merge(population_df[['municipality_code', 'population']], on='municipality_code', suffixes=('_poverty', '_population'))\n",
    "\n",
    "# Merge avec georef pour avoir le department_name\n",
    "# poverty_df = poverty_df.merge(georef_df[['municipality_code', 'department_name']], on='municipality_code', how='left')\n",
    "\n",
    "# Groupe par department_name pour calculer le taux de pauvreté par département\n",
    "# poverty_by_department = poverty_df.groupby('department_name').agg({\n",
    "    #'population_poverty': 'sum',\n",
    "    #'population_population': 'sum'\n",
    "#}).reset_index()\n",
    "\n",
    "# Calculer le poverty_rate pour chaque département\n",
    "#poverty_by_department['poverty_rate'] = (poverty_by_department['population_poverty'] / poverty_by_department['population']) * 100\n",
    "\n",
    "# Afficher le résultat\n",
    "#poverty_by_department.head()\n",
    "\n",
    "# calcul = poverty_rate = poverty_population / total_population * 100\n",
    "# il faut ensuite le DF qui a poverty_rate à georef pour récupérer le department_name"
   ]
  },
  {
   "cell_type": "code",
   "execution_count": null,
   "metadata": {},
   "outputs": [],
   "source": [
    "# 2.1 Nombre de sites touristiques par département\n",
    "# Joindre les informations de géolocalisation pour obtenir les départements\n",
    "site_dep_df = site_df.merge(georef_df[['municipality_code', 'department_code', 'department_name']], on='municipality_code')\n",
    "\n",
    "# Calculer le nombre de sites touristiques par département\n",
    "num_sites_per_department = site_dep_df.groupby(['department_code', 'department_name'])['poi'].count().reset_index()\n",
    "num_sites_per_department.rename(columns={'poi': 'nb_sites'}, inplace=True)\n",
    "num_sites_per_department.head()"
   ]
  },
  {
   "cell_type": "code",
   "execution_count": null,
   "metadata": {},
   "outputs": [],
   "source": [
    "# 2.2 Importance moyenne des sites par département\n",
    "# Calculer l'importance moyenne des sites touristiques par département\n",
    "avg_site_importance_per_department = site_dep_df.groupby(['department_code', 'department_name'])['importance'].mean().reset_index()\n",
    "avg_site_importance_per_department.rename(columns={'importance': 'avg_site_importance'}, inplace=True)\n",
    "avg_site_importance_per_department.head()"
   ]
  },
  {
   "cell_type": "code",
   "execution_count": null,
   "metadata": {},
   "outputs": [],
   "source": [
    "# 2.3 Stock de logement par département\n",
    "# Joindre les informations de géolocalisation pour obtenir les départements\n",
    "stock_dep_df = stock_df.merge(georef_df[['municipality_code', 'department_code', 'department_name']], on='municipality_code')\n",
    "\n",
    "# Calculer le stock de logement par département (nombre total de logements)\n",
    "total_stock_per_department = stock_dep_df.groupby(['department_code', 'department_name'])['nb_tot_housing'].sum().reset_index()\n",
    "total_stock_per_department.rename(columns={'nb_tot_housing': 'total_stock'}, inplace=True)\n",
    "total_stock_per_department.head()"
   ]
  },
  {
   "cell_type": "markdown",
   "metadata": {
    "id": "XYnKDVU0sb0S",
    "jp-MarkdownHeadingCollapsed": true
   },
   "source": [
    "##### 1. TOURISM ELIOTT"
   ]
  },
  {
   "cell_type": "code",
   "execution_count": null,
   "metadata": {},
   "outputs": [],
   "source": [
    "# 1.1 création de tables permettant de scorer le potentiel touristique de chaque département\n",
    "site_df = site_df.merge (georef_df, on=[\"municipality_code\"])\n",
    "site_df.head(5)"
   ]
  },
  {
   "cell_type": "code",
   "execution_count": null,
   "metadata": {},
   "outputs": [],
   "source": [
    "# 1.2 sélection des colonnes dont on aura besoin pour le calcul\n",
    "site_df_department = site_df[[\"poi\", \"name\", \"municipality_code\", \"importance\", \"name_reprocessed\", \"department_name\"]]\n",
    "site_df_department"
   ]
  },
  {
   "cell_type": "code",
   "execution_count": null,
   "metadata": {},
   "outputs": [],
   "source": [
    "# 1.3 groupement par département, puis classement par le département ayant le + d'atouts touristiques\n",
    "group_site = site_df_department.groupby(\"department_name\")[[\"importance\"]].sum()\n",
    "group_site\n",
    "group_site.sort_values(\"importance\", ascending =False)"
   ]
  },
  {
   "cell_type": "code",
   "execution_count": null,
   "metadata": {},
   "outputs": [],
   "source": [
    "# 1.4 même calcul que précédemment, mais pour la partie concernant les logements/lieux de villégiature\n",
    "poi_df = poi_df.merge (georef_df, on=[\"municipality_code\"])\n",
    "poi_df.head(5)"
   ]
  },
  {
   "cell_type": "code",
   "execution_count": null,
   "metadata": {},
   "outputs": [],
   "source": [
    "# 1.5 sélection des colonnes dont on aura besoin pour le calcul\n",
    "poi_df_department = poi_df[[\"poi\", \"municipality_code\", \"importance\", \"department_name\"]]\n",
    "poi_df_department"
   ]
  },
  {
   "cell_type": "code",
   "execution_count": null,
   "metadata": {},
   "outputs": [],
   "source": [
    "# 1.6 groupement par département, puis classement par le département ayant le + de logements/lieux de villégiature\n",
    "group_poi = poi_df_department.groupby(\"department_name\")[[\"importance\"]].sum()\n",
    "group_poi\n",
    "group_poi.sort_values(\"importance\", ascending =False)"
   ]
  },
  {
   "cell_type": "code",
   "execution_count": null,
   "metadata": {},
   "outputs": [],
   "source": [
    "# 1.7 ajout des 2 calculs d'importance\n",
    "department_merged_df = group_poi.merge (group_site, on=[\"department_name\"])\n",
    "department_merged_df[\"somme_importance\"]=department_merged_df[\"importance_x\"]+department_merged_df[\"importance_y\"]\n",
    "department_merged_df = department_merged_df.drop(columns=[\"importance_x\", \"importance_y\"])\n",
    "department_merged_df\n",
    "department_merged_df.sort_values(\"somme_importance\", ascending =False)"
   ]
  },
  {
   "cell_type": "markdown",
   "metadata": {
    "id": "XYnKDVU0sb0S",
    "jp-MarkdownHeadingCollapsed": true
   },
   "source": [
    "##### 2. REAL ESTATE ELIOTT"
   ]
  },
  {
   "cell_type": "code",
   "execution_count": null,
   "metadata": {},
   "outputs": [],
   "source": [
    "# 2.1 calcul du loyer au m2 médian par municipality_code\n",
    "rental_med = real_estate_df [[\"municipality_code\", \"rental_med_all\"]]\n",
    "rental_med"
   ]
  },
  {
   "cell_type": "code",
   "execution_count": 119,
   "metadata": {},
   "outputs": [
    {
     "data": {
      "text/html": [
       "<div>\n",
       "<style scoped>\n",
       "    .dataframe tbody tr th:only-of-type {\n",
       "        vertical-align: middle;\n",
       "    }\n",
       "\n",
       "    .dataframe tbody tr th {\n",
       "        vertical-align: top;\n",
       "    }\n",
       "\n",
       "    .dataframe thead th {\n",
       "        text-align: right;\n",
       "    }\n",
       "</style>\n",
       "<table border=\"1\" class=\"dataframe\">\n",
       "  <thead>\n",
       "    <tr style=\"text-align: right;\">\n",
       "      <th></th>\n",
       "      <th>sales_amount</th>\n",
       "      <th>surface</th>\n",
       "      <th>premise_type</th>\n",
       "    </tr>\n",
       "    <tr>\n",
       "      <th>municipality_code</th>\n",
       "      <th></th>\n",
       "      <th></th>\n",
       "      <th></th>\n",
       "    </tr>\n",
       "  </thead>\n",
       "  <tbody>\n",
       "    <tr>\n",
       "      <th>01001</th>\n",
       "      <td>1.362286e+07</td>\n",
       "      <td>6781.0</td>\n",
       "      <td>60</td>\n",
       "    </tr>\n",
       "    <tr>\n",
       "      <th>01002</th>\n",
       "      <td>4.067389e+06</td>\n",
       "      <td>1901.0</td>\n",
       "      <td>17</td>\n",
       "    </tr>\n",
       "    <tr>\n",
       "      <th>01004</th>\n",
       "      <td>1.852356e+08</td>\n",
       "      <td>87209.0</td>\n",
       "      <td>1062</td>\n",
       "    </tr>\n",
       "    <tr>\n",
       "      <th>01005</th>\n",
       "      <td>3.579244e+07</td>\n",
       "      <td>13876.0</td>\n",
       "      <td>138</td>\n",
       "    </tr>\n",
       "    <tr>\n",
       "      <th>01006</th>\n",
       "      <td>2.575955e+06</td>\n",
       "      <td>1425.0</td>\n",
       "      <td>13</td>\n",
       "    </tr>\n",
       "    <tr>\n",
       "      <th>...</th>\n",
       "      <td>...</td>\n",
       "      <td>...</td>\n",
       "      <td>...</td>\n",
       "    </tr>\n",
       "    <tr>\n",
       "      <th>97420</th>\n",
       "      <td>5.335366e+07</td>\n",
       "      <td>16160.0</td>\n",
       "      <td>188</td>\n",
       "    </tr>\n",
       "    <tr>\n",
       "      <th>97421</th>\n",
       "      <td>3.143598e+06</td>\n",
       "      <td>1872.0</td>\n",
       "      <td>24</td>\n",
       "    </tr>\n",
       "    <tr>\n",
       "      <th>97422</th>\n",
       "      <td>2.541138e+08</td>\n",
       "      <td>99088.0</td>\n",
       "      <td>1237</td>\n",
       "    </tr>\n",
       "    <tr>\n",
       "      <th>97423</th>\n",
       "      <td>1.326098e+07</td>\n",
       "      <td>3780.0</td>\n",
       "      <td>54</td>\n",
       "    </tr>\n",
       "    <tr>\n",
       "      <th>97424</th>\n",
       "      <td>1.029893e+07</td>\n",
       "      <td>4481.0</td>\n",
       "      <td>64</td>\n",
       "    </tr>\n",
       "  </tbody>\n",
       "</table>\n",
       "<p>32743 rows × 3 columns</p>\n",
       "</div>"
      ],
      "text/plain": [
       "                   sales_amount  surface  premise_type\n",
       "municipality_code                                     \n",
       "01001              1.362286e+07   6781.0            60\n",
       "01002              4.067389e+06   1901.0            17\n",
       "01004              1.852356e+08  87209.0          1062\n",
       "01005              3.579244e+07  13876.0           138\n",
       "01006              2.575955e+06   1425.0            13\n",
       "...                         ...      ...           ...\n",
       "97420              5.335366e+07  16160.0           188\n",
       "97421              3.143598e+06   1872.0            24\n",
       "97422              2.541138e+08  99088.0          1237\n",
       "97423              1.326098e+07   3780.0            54\n",
       "97424              1.029893e+07   4481.0            64\n",
       "\n",
       "[32743 rows x 3 columns]"
      ]
     },
     "execution_count": 119,
     "metadata": {},
     "output_type": "execute_result"
    }
   ],
   "source": [
    "# 2.2 calcul du prix d'achat au m2 médian par municipality_code\n",
    "sales_df\n",
    "sales_df_grouped = sales_df.groupby([\"municipality_code\"])[[\"sales_amount\", \"surface\", \"premise_type\"]].agg({\"sales_amount\": \"sum\", \"surface\": \"sum\", \"premise_type\": \"count\"})\n",
    "sales_df_grouped = pd.DataFrame (sales_df_grouped)\n",
    "sales_df_grouped"
   ]
  },
  {
   "cell_type": "code",
   "execution_count": 120,
   "metadata": {},
   "outputs": [
    {
     "data": {
      "text/html": [
       "<div>\n",
       "<style scoped>\n",
       "    .dataframe tbody tr th:only-of-type {\n",
       "        vertical-align: middle;\n",
       "    }\n",
       "\n",
       "    .dataframe tbody tr th {\n",
       "        vertical-align: top;\n",
       "    }\n",
       "\n",
       "    .dataframe thead th {\n",
       "        text-align: right;\n",
       "    }\n",
       "</style>\n",
       "<table border=\"1\" class=\"dataframe\">\n",
       "  <thead>\n",
       "    <tr style=\"text-align: right;\">\n",
       "      <th></th>\n",
       "      <th>municipality_code</th>\n",
       "      <th>sales_amount</th>\n",
       "      <th>surface</th>\n",
       "      <th>premise_type</th>\n",
       "      <th>rental_med_all</th>\n",
       "    </tr>\n",
       "  </thead>\n",
       "  <tbody>\n",
       "    <tr>\n",
       "      <th>0</th>\n",
       "      <td>01001</td>\n",
       "      <td>1.362286e+07</td>\n",
       "      <td>6781.0</td>\n",
       "      <td>60</td>\n",
       "      <td>10.66</td>\n",
       "    </tr>\n",
       "    <tr>\n",
       "      <th>1</th>\n",
       "      <td>01002</td>\n",
       "      <td>4.067389e+06</td>\n",
       "      <td>1901.0</td>\n",
       "      <td>17</td>\n",
       "      <td>10.16</td>\n",
       "    </tr>\n",
       "    <tr>\n",
       "      <th>2</th>\n",
       "      <td>01004</td>\n",
       "      <td>1.852356e+08</td>\n",
       "      <td>87209.0</td>\n",
       "      <td>1062</td>\n",
       "      <td>11.25</td>\n",
       "    </tr>\n",
       "    <tr>\n",
       "      <th>3</th>\n",
       "      <td>01005</td>\n",
       "      <td>3.579244e+07</td>\n",
       "      <td>13876.0</td>\n",
       "      <td>138</td>\n",
       "      <td>13.28</td>\n",
       "    </tr>\n",
       "    <tr>\n",
       "      <th>4</th>\n",
       "      <td>01006</td>\n",
       "      <td>2.575955e+06</td>\n",
       "      <td>1425.0</td>\n",
       "      <td>13</td>\n",
       "      <td>12.70</td>\n",
       "    </tr>\n",
       "    <tr>\n",
       "      <th>...</th>\n",
       "      <td>...</td>\n",
       "      <td>...</td>\n",
       "      <td>...</td>\n",
       "      <td>...</td>\n",
       "      <td>...</td>\n",
       "    </tr>\n",
       "    <tr>\n",
       "      <th>31892</th>\n",
       "      <td>95676</td>\n",
       "      <td>5.974304e+06</td>\n",
       "      <td>2486.0</td>\n",
       "      <td>23</td>\n",
       "      <td>12.29</td>\n",
       "    </tr>\n",
       "    <tr>\n",
       "      <th>31893</th>\n",
       "      <td>95678</td>\n",
       "      <td>1.222182e+07</td>\n",
       "      <td>3568.0</td>\n",
       "      <td>38</td>\n",
       "      <td>18.53</td>\n",
       "    </tr>\n",
       "    <tr>\n",
       "      <th>31894</th>\n",
       "      <td>95680</td>\n",
       "      <td>8.569815e+07</td>\n",
       "      <td>32626.0</td>\n",
       "      <td>471</td>\n",
       "      <td>16.22</td>\n",
       "    </tr>\n",
       "    <tr>\n",
       "      <th>31895</th>\n",
       "      <td>95682</td>\n",
       "      <td>1.463606e+06</td>\n",
       "      <td>533.0</td>\n",
       "      <td>5</td>\n",
       "      <td>16.57</td>\n",
       "    </tr>\n",
       "    <tr>\n",
       "      <th>31896</th>\n",
       "      <td>95690</td>\n",
       "      <td>2.728320e+06</td>\n",
       "      <td>951.0</td>\n",
       "      <td>10</td>\n",
       "      <td>13.46</td>\n",
       "    </tr>\n",
       "  </tbody>\n",
       "</table>\n",
       "<p>31897 rows × 5 columns</p>\n",
       "</div>"
      ],
      "text/plain": [
       "      municipality_code  sales_amount  surface  premise_type  rental_med_all\n",
       "0                 01001  1.362286e+07   6781.0            60           10.66\n",
       "1                 01002  4.067389e+06   1901.0            17           10.16\n",
       "2                 01004  1.852356e+08  87209.0          1062           11.25\n",
       "3                 01005  3.579244e+07  13876.0           138           13.28\n",
       "4                 01006  2.575955e+06   1425.0            13           12.70\n",
       "...                 ...           ...      ...           ...             ...\n",
       "31892             95676  5.974304e+06   2486.0            23           12.29\n",
       "31893             95678  1.222182e+07   3568.0            38           18.53\n",
       "31894             95680  8.569815e+07  32626.0           471           16.22\n",
       "31895             95682  1.463606e+06    533.0             5           16.57\n",
       "31896             95690  2.728320e+06    951.0            10           13.46\n",
       "\n",
       "[31897 rows x 5 columns]"
      ]
     },
     "execution_count": 120,
     "metadata": {},
     "output_type": "execute_result"
    }
   ],
   "source": [
    "# 2.3 jointure pour rajouter dans cette table le loyer médian par municipality_code\n",
    "sales_df\n",
    "real_estate_grouped = sales_df_grouped.merge(rental_med, on=\"municipality_code\")\n",
    "real_estate_grouped"
   ]
  },
  {
   "cell_type": "code",
   "execution_count": 116,
   "metadata": {},
   "outputs": [
    {
     "data": {
      "text/html": [
       "<div>\n",
       "<style scoped>\n",
       "    .dataframe tbody tr th:only-of-type {\n",
       "        vertical-align: middle;\n",
       "    }\n",
       "\n",
       "    .dataframe tbody tr th {\n",
       "        vertical-align: top;\n",
       "    }\n",
       "\n",
       "    .dataframe thead th {\n",
       "        text-align: right;\n",
       "    }\n",
       "</style>\n",
       "<table border=\"1\" class=\"dataframe\">\n",
       "  <thead>\n",
       "    <tr style=\"text-align: right;\">\n",
       "      <th></th>\n",
       "      <th>municipality_code</th>\n",
       "      <th>sales_amount</th>\n",
       "      <th>surface</th>\n",
       "      <th>rental_med_all</th>\n",
       "      <th>department_name</th>\n",
       "      <th>premise_type</th>\n",
       "    </tr>\n",
       "  </thead>\n",
       "  <tbody>\n",
       "    <tr>\n",
       "      <th>0</th>\n",
       "      <td>01001</td>\n",
       "      <td>1.362286e+07</td>\n",
       "      <td>6781.0</td>\n",
       "      <td>10.66</td>\n",
       "      <td>Ain</td>\n",
       "      <td>60</td>\n",
       "    </tr>\n",
       "    <tr>\n",
       "      <th>1</th>\n",
       "      <td>01002</td>\n",
       "      <td>4.067389e+06</td>\n",
       "      <td>1901.0</td>\n",
       "      <td>10.16</td>\n",
       "      <td>Ain</td>\n",
       "      <td>17</td>\n",
       "    </tr>\n",
       "    <tr>\n",
       "      <th>2</th>\n",
       "      <td>01004</td>\n",
       "      <td>1.852356e+08</td>\n",
       "      <td>87209.0</td>\n",
       "      <td>11.25</td>\n",
       "      <td>Ain</td>\n",
       "      <td>1062</td>\n",
       "    </tr>\n",
       "    <tr>\n",
       "      <th>3</th>\n",
       "      <td>01005</td>\n",
       "      <td>3.579244e+07</td>\n",
       "      <td>13876.0</td>\n",
       "      <td>13.28</td>\n",
       "      <td>Ain</td>\n",
       "      <td>138</td>\n",
       "    </tr>\n",
       "    <tr>\n",
       "      <th>4</th>\n",
       "      <td>01006</td>\n",
       "      <td>2.575955e+06</td>\n",
       "      <td>1425.0</td>\n",
       "      <td>12.70</td>\n",
       "      <td>Ain</td>\n",
       "      <td>13</td>\n",
       "    </tr>\n",
       "    <tr>\n",
       "      <th>...</th>\n",
       "      <td>...</td>\n",
       "      <td>...</td>\n",
       "      <td>...</td>\n",
       "      <td>...</td>\n",
       "      <td>...</td>\n",
       "      <td>...</td>\n",
       "    </tr>\n",
       "    <tr>\n",
       "      <th>31892</th>\n",
       "      <td>95676</td>\n",
       "      <td>5.974304e+06</td>\n",
       "      <td>2486.0</td>\n",
       "      <td>12.29</td>\n",
       "      <td>Val-d'Oise</td>\n",
       "      <td>23</td>\n",
       "    </tr>\n",
       "    <tr>\n",
       "      <th>31893</th>\n",
       "      <td>95678</td>\n",
       "      <td>1.222182e+07</td>\n",
       "      <td>3568.0</td>\n",
       "      <td>18.53</td>\n",
       "      <td>Val-d'Oise</td>\n",
       "      <td>38</td>\n",
       "    </tr>\n",
       "    <tr>\n",
       "      <th>31894</th>\n",
       "      <td>95680</td>\n",
       "      <td>8.569815e+07</td>\n",
       "      <td>32626.0</td>\n",
       "      <td>16.22</td>\n",
       "      <td>Val-d'Oise</td>\n",
       "      <td>471</td>\n",
       "    </tr>\n",
       "    <tr>\n",
       "      <th>31895</th>\n",
       "      <td>95682</td>\n",
       "      <td>1.463606e+06</td>\n",
       "      <td>533.0</td>\n",
       "      <td>16.57</td>\n",
       "      <td>Val-d'Oise</td>\n",
       "      <td>5</td>\n",
       "    </tr>\n",
       "    <tr>\n",
       "      <th>31896</th>\n",
       "      <td>95690</td>\n",
       "      <td>2.728320e+06</td>\n",
       "      <td>951.0</td>\n",
       "      <td>13.46</td>\n",
       "      <td>Val-d'Oise</td>\n",
       "      <td>10</td>\n",
       "    </tr>\n",
       "  </tbody>\n",
       "</table>\n",
       "<p>31897 rows × 6 columns</p>\n",
       "</div>"
      ],
      "text/plain": [
       "      municipality_code  sales_amount  surface  rental_med_all  \\\n",
       "0                 01001  1.362286e+07   6781.0           10.66   \n",
       "1                 01002  4.067389e+06   1901.0           10.16   \n",
       "2                 01004  1.852356e+08  87209.0           11.25   \n",
       "3                 01005  3.579244e+07  13876.0           13.28   \n",
       "4                 01006  2.575955e+06   1425.0           12.70   \n",
       "...                 ...           ...      ...             ...   \n",
       "31892             95676  5.974304e+06   2486.0           12.29   \n",
       "31893             95678  1.222182e+07   3568.0           18.53   \n",
       "31894             95680  8.569815e+07  32626.0           16.22   \n",
       "31895             95682  1.463606e+06    533.0           16.57   \n",
       "31896             95690  2.728320e+06    951.0           13.46   \n",
       "\n",
       "      department_name  premise_type  \n",
       "0                 Ain            60  \n",
       "1                 Ain            17  \n",
       "2                 Ain          1062  \n",
       "3                 Ain           138  \n",
       "4                 Ain            13  \n",
       "...               ...           ...  \n",
       "31892      Val-d'Oise            23  \n",
       "31893      Val-d'Oise            38  \n",
       "31894      Val-d'Oise           471  \n",
       "31895      Val-d'Oise             5  \n",
       "31896      Val-d'Oise            10  \n",
       "\n",
       "[31897 rows x 6 columns]"
      ]
     },
     "execution_count": 116,
     "metadata": {},
     "output_type": "execute_result"
    }
   ],
   "source": [
    "# 2.4 ajout du nom du département correspondant à chaque municipality code\n",
    "real_estate_department = real_estate_grouped.merge(georef_df, on=\"municipality_code\")\n",
    "real_estate_department\n",
    "real_estate_department = real_estate_department [[\"municipality_code\", \"sales_amount\", \"surface\", \"rental_med_all\", \"department_name\", \"premise_type\"]]\n",
    "real_estate_department"
   ]
  },
  {
   "cell_type": "code",
   "execution_count": 121,
   "metadata": {},
   "outputs": [
    {
     "data": {
      "text/html": [
       "<div>\n",
       "<style scoped>\n",
       "    .dataframe tbody tr th:only-of-type {\n",
       "        vertical-align: middle;\n",
       "    }\n",
       "\n",
       "    .dataframe tbody tr th {\n",
       "        vertical-align: top;\n",
       "    }\n",
       "\n",
       "    .dataframe thead th {\n",
       "        text-align: right;\n",
       "    }\n",
       "</style>\n",
       "<table border=\"1\" class=\"dataframe\">\n",
       "  <thead>\n",
       "    <tr style=\"text-align: right;\">\n",
       "      <th></th>\n",
       "      <th>department_name</th>\n",
       "      <th>sales_amount</th>\n",
       "      <th>surface</th>\n",
       "      <th>average_price_per_m2</th>\n",
       "    </tr>\n",
       "  </thead>\n",
       "  <tbody>\n",
       "    <tr>\n",
       "      <th>0</th>\n",
       "      <td>Ain</td>\n",
       "      <td>9.607929e+09</td>\n",
       "      <td>3645188.0</td>\n",
       "      <td>2636.0</td>\n",
       "    </tr>\n",
       "    <tr>\n",
       "      <th>1</th>\n",
       "      <td>Aisne</td>\n",
       "      <td>2.840598e+09</td>\n",
       "      <td>1819614.0</td>\n",
       "      <td>1561.0</td>\n",
       "    </tr>\n",
       "    <tr>\n",
       "      <th>2</th>\n",
       "      <td>Allier</td>\n",
       "      <td>2.057614e+09</td>\n",
       "      <td>1304360.0</td>\n",
       "      <td>1577.0</td>\n",
       "    </tr>\n",
       "    <tr>\n",
       "      <th>3</th>\n",
       "      <td>Alpes-Maritimes</td>\n",
       "      <td>3.837944e+10</td>\n",
       "      <td>7959808.0</td>\n",
       "      <td>4822.0</td>\n",
       "    </tr>\n",
       "    <tr>\n",
       "      <th>4</th>\n",
       "      <td>Alpes-de-Haute-Provence</td>\n",
       "      <td>2.097409e+09</td>\n",
       "      <td>919312.0</td>\n",
       "      <td>2281.0</td>\n",
       "    </tr>\n",
       "    <tr>\n",
       "      <th>...</th>\n",
       "      <td>...</td>\n",
       "      <td>...</td>\n",
       "      <td>...</td>\n",
       "      <td>...</td>\n",
       "    </tr>\n",
       "    <tr>\n",
       "      <th>88</th>\n",
       "      <td>Vendée</td>\n",
       "      <td>6.771054e+09</td>\n",
       "      <td>2819045.0</td>\n",
       "      <td>2402.0</td>\n",
       "    </tr>\n",
       "    <tr>\n",
       "      <th>89</th>\n",
       "      <td>Vienne</td>\n",
       "      <td>2.024136e+09</td>\n",
       "      <td>1155284.0</td>\n",
       "      <td>1752.0</td>\n",
       "    </tr>\n",
       "    <tr>\n",
       "      <th>90</th>\n",
       "      <td>Vosges</td>\n",
       "      <td>1.482116e+09</td>\n",
       "      <td>865201.0</td>\n",
       "      <td>1713.0</td>\n",
       "    </tr>\n",
       "    <tr>\n",
       "      <th>91</th>\n",
       "      <td>Yonne</td>\n",
       "      <td>1.533758e+09</td>\n",
       "      <td>953987.0</td>\n",
       "      <td>1608.0</td>\n",
       "    </tr>\n",
       "    <tr>\n",
       "      <th>92</th>\n",
       "      <td>Yvelines</td>\n",
       "      <td>1.886490e+10</td>\n",
       "      <td>4461481.0</td>\n",
       "      <td>4228.0</td>\n",
       "    </tr>\n",
       "  </tbody>\n",
       "</table>\n",
       "<p>93 rows × 4 columns</p>\n",
       "</div>"
      ],
      "text/plain": [
       "            department_name  sales_amount    surface  average_price_per_m2\n",
       "0                       Ain  9.607929e+09  3645188.0                2636.0\n",
       "1                     Aisne  2.840598e+09  1819614.0                1561.0\n",
       "2                    Allier  2.057614e+09  1304360.0                1577.0\n",
       "3           Alpes-Maritimes  3.837944e+10  7959808.0                4822.0\n",
       "4   Alpes-de-Haute-Provence  2.097409e+09   919312.0                2281.0\n",
       "..                      ...           ...        ...                   ...\n",
       "88                   Vendée  6.771054e+09  2819045.0                2402.0\n",
       "89                   Vienne  2.024136e+09  1155284.0                1752.0\n",
       "90                   Vosges  1.482116e+09   865201.0                1713.0\n",
       "91                    Yonne  1.533758e+09   953987.0                1608.0\n",
       "92                 Yvelines  1.886490e+10  4461481.0                4228.0\n",
       "\n",
       "[93 rows x 4 columns]"
      ]
     },
     "execution_count": 121,
     "metadata": {},
     "output_type": "execute_result"
    }
   ],
   "source": [
    "# 2.5 calcul du prix au m2 par département\n",
    "average_price_per_m2 = real_estate_department.groupby([\"department_name\"])[[\"sales_amount\", \"surface\"]].agg({\"sales_amount\": \"sum\", \"surface\": \"sum\"})\n",
    "average_price_per_m2[\"average_price_per_m2\"] = average_price_per_m2[\"sales_amount\"]/average_price_per_m2[\"surface\"]\n",
    "\n",
    "# Arrondir la colonne average_price_per_m2\n",
    "average_price_per_m2[\"average_price_per_m2\"] = average_price_per_m2[\"average_price_per_m2\"].round()\n",
    "\n",
    "# Réinitialiser l'index pour que department_name devienne une colonne\n",
    "average_price_per_m2.reset_index(inplace=True)\n",
    "average_price_per_m2"
   ]
  },
  {
   "cell_type": "code",
   "execution_count": null,
   "metadata": {},
   "outputs": [],
   "source": [
    "paris_price_per_m2 = average_price_per_m2[average_price_per_m2[\"department_name\"] == \"Paris\"]\n",
    "paris_price_per_m2"
   ]
  },
  {
   "cell_type": "code",
   "execution_count": null,
   "metadata": {},
   "outputs": [],
   "source": [
    "# 2.6 calcul du loyer médian par départment\n",
    "real_estate_department[\"intermediate_sum\"]=real_estate_department[\"rental_med_all\"]*real_estate_department[\"premise_type\"]\n",
    "real_estate_department\n",
    "average_rental = real_estate_department.groupby([\"department_name\"])[[\"intermediate_sum\", \"premise_type\"]].agg({\"intermediate_sum\": \"sum\", \"premise_type\": \"sum\"})\n",
    "average_rental\n",
    "average_rental[\"average_rental\"]= average_rental[\"intermediate_sum\"]/average_rental[\"premise_type\"]\n",
    "average_rental"
   ]
  },
  {
   "cell_type": "code",
   "execution_count": null,
   "metadata": {},
   "outputs": [],
   "source": [
    "# 2.7 regroupement des colonnes avec le loyer moyen au m2 par département et le prix d'achat au m2 moyen par département\n",
    "yield_calculation = average_price_per_m2.merge(average_rental, on=\"department_name\")\n",
    "yield_calculation\n",
    "yield_calculation = yield_calculation.drop(columns=[\"sales_amount\", \"surface\", \"intermediate_sum\", \"premise_type\"])\n",
    "yield_calculation[\"yield_rate\"]=yield_calculation[\"average_rental\"]*12/yield_calculation[\"average_price_per_m2\"]*100\n",
    "yield_calculation.sort_values(\"yield_rate\", ascending=True)"
   ]
  },
  {
   "cell_type": "code",
   "execution_count": null,
   "metadata": {},
   "outputs": [],
   "source": [
    "# 2.8 Informations sur la rentabilité locative\n",
    "yield_calculation"
   ]
  },
  {
   "cell_type": "code",
   "execution_count": null,
   "metadata": {},
   "outputs": [],
   "source": [
    "# 2.9 calcul de la variation entre 2018 et 2021\n",
    "\n",
    "#ajout d'une colonne \"year\"\n",
    "sales_df.info()\n",
    "sales_df[\"year\"]=sales_df[\"sales_date\"].dt.year"
   ]
  },
  {
   "cell_type": "code",
   "execution_count": null,
   "metadata": {},
   "outputs": [],
   "source": [
    "# 2.10 merge pour rajouter le département\n",
    "sales_info_per_department = sales_df.merge (georef_df, on=[\"municipality_code\"])\n",
    "sales_info_per_department"
   ]
  },
  {
   "cell_type": "code",
   "execution_count": null,
   "metadata": {},
   "outputs": [],
   "source": [
    "# 2.11 filtre uniquement sur les années 2020 et 2021 (car ce sont les seules années où nous avons toutes les informations)\n",
    "sales_info_per_department = sales_info_per_department[sales_info_per_department['year'].isin([2020, 2021])]\n",
    "sales_info_per_department"
   ]
  },
  {
   "cell_type": "code",
   "execution_count": null,
   "metadata": {},
   "outputs": [],
   "source": [
    "# 2.12 groupement par année et par département\n",
    "sales_df_per_year = sales_info_per_department.groupby([\"department_name\", \"year\"])[[\"sales_amount\", \"surface\"]].agg({\"sales_amount\": \"sum\", \"surface\": \"sum\"})\n",
    "sales_df_per_year"
   ]
  },
  {
   "cell_type": "code",
   "execution_count": null,
   "metadata": {},
   "outputs": [],
   "source": [
    "# 2.13 calcul du prix moyen au m2\n",
    "sales_df_per_year[\"average_price_m2\"]=sales_df_per_year[\"sales_amount\"]/sales_df_per_year[\"surface\"]\n",
    "sales_df_per_year\n",
    "sales_df_per_year.head(50)"
   ]
  },
  {
   "cell_type": "code",
   "execution_count": null,
   "metadata": {},
   "outputs": [],
   "source": [
    "# 2.14 calcul de l'évolution entre 2018 et 2021\n",
    "sales_df_per_year['price_m2_growth'] = sales_df_per_year.groupby('department_name')['average_price_m2'].pct_change()\n",
    "sales_df_per_year"
   ]
  },
  {
   "cell_type": "code",
   "execution_count": null,
   "metadata": {},
   "outputs": [],
   "source": [
    "# 2.15 calcul final de l'évolution\n",
    "sales_df_per_year = sales_df_per_year.dropna()\n",
    "sales_df_per_year.drop (columns=[\"sales_amount\", \"surface\"])\n",
    "sales_df_per_year.sort_values (\"price_m2_growth\", ascending=False)"
   ]
  },
  {
   "cell_type": "code",
   "execution_count": null,
   "metadata": {},
   "outputs": [],
   "source": [
    "# 2.16 calcul du nb de maisons vacantes en 2019\n",
    "stock_df_2018 = stock_df[stock_df['year'].isin([2018])]\n",
    "stock_df_2018\n",
    "stock_df_2018 = stock_df_2018.merge (georef_df, on=[\"municipality_code\"])\n",
    "vacants_housing_per_department = stock_df_2018.groupby(\"department_name\")[\"nb_vacants_housing\"].sum()\n",
    "vacants_housing_per_department = pd.DataFrame(vacants_housing_per_department)\n",
    "# Réinitialiser l'index pour que department_name devienne une colonne\n",
    "vacants_housing_per_department.reset_index(inplace=True)\n",
    "vacants_housing_per_department"
   ]
  },
  {
   "cell_type": "code",
   "execution_count": null,
   "metadata": {},
   "outputs": [],
   "source": [
    "stock_df_2018"
   ]
  },
  {
   "cell_type": "code",
   "execution_count": null,
   "metadata": {},
   "outputs": [],
   "source": [
    "# 2.17 taxe d'habitation sur les maisons secondaires par département\n",
    "\n",
    "TAX_FILENAME = 'taxe_habitation.xlsx'\n",
    "tax_df = pd.read_excel(os.path.join(DATA_PATH, TAX_FILENAME))\n",
    "\n",
    "# Renommer les colonnes\n",
    "tax_df.rename(columns={\n",
    "    'RÉGIONS': 'department_name',\n",
    "    'Taxe d\\'habitation moyenne en 2023': 'taxe_habitation_2023',\n",
    "    'Nombre d\\'avis d\\'impôt': 'nb_avis_impot'\n",
    "}, inplace=True)\n",
    "\n",
    "tax_df.head()"
   ]
  },
  {
   "cell_type": "markdown",
   "metadata": {
    "id": "XYnKDVU0sb0S",
    "jp-MarkdownHeadingCollapsed": true
   },
   "source": [
    "##### 3. SECONDARY HOME MIKE"
   ]
  },
  {
   "cell_type": "code",
   "execution_count": 118,
   "metadata": {},
   "outputs": [
    {
     "data": {
      "text/html": [
       "<div>\n",
       "<style scoped>\n",
       "    .dataframe tbody tr th:only-of-type {\n",
       "        vertical-align: middle;\n",
       "    }\n",
       "\n",
       "    .dataframe tbody tr th {\n",
       "        vertical-align: top;\n",
       "    }\n",
       "\n",
       "    .dataframe thead th {\n",
       "        text-align: right;\n",
       "    }\n",
       "</style>\n",
       "<table border=\"1\" class=\"dataframe\">\n",
       "  <thead>\n",
       "    <tr style=\"text-align: right;\">\n",
       "      <th></th>\n",
       "      <th>department_code</th>\n",
       "      <th>department_name</th>\n",
       "      <th>avg_surface</th>\n",
       "    </tr>\n",
       "  </thead>\n",
       "  <tbody>\n",
       "    <tr>\n",
       "      <th>0</th>\n",
       "      <td>01</td>\n",
       "      <td>Ain</td>\n",
       "      <td>95.491503</td>\n",
       "    </tr>\n",
       "    <tr>\n",
       "      <th>1</th>\n",
       "      <td>02</td>\n",
       "      <td>Aisne</td>\n",
       "      <td>91.956053</td>\n",
       "    </tr>\n",
       "    <tr>\n",
       "      <th>2</th>\n",
       "      <td>03</td>\n",
       "      <td>Allier</td>\n",
       "      <td>85.308972</td>\n",
       "    </tr>\n",
       "    <tr>\n",
       "      <th>3</th>\n",
       "      <td>04</td>\n",
       "      <td>Alpes-de-Haute-Provence</td>\n",
       "      <td>73.283742</td>\n",
       "    </tr>\n",
       "    <tr>\n",
       "      <th>4</th>\n",
       "      <td>05</td>\n",
       "      <td>Hautes-Alpes</td>\n",
       "      <td>63.986778</td>\n",
       "    </tr>\n",
       "    <tr>\n",
       "      <th>...</th>\n",
       "      <td>...</td>\n",
       "      <td>...</td>\n",
       "      <td>...</td>\n",
       "    </tr>\n",
       "    <tr>\n",
       "      <th>92</th>\n",
       "      <td>95</td>\n",
       "      <td>Val-d'Oise</td>\n",
       "      <td>79.078816</td>\n",
       "    </tr>\n",
       "    <tr>\n",
       "      <th>93</th>\n",
       "      <td>971</td>\n",
       "      <td>Guadeloupe</td>\n",
       "      <td>76.678240</td>\n",
       "    </tr>\n",
       "    <tr>\n",
       "      <th>94</th>\n",
       "      <td>972</td>\n",
       "      <td>Martinique</td>\n",
       "      <td>74.256095</td>\n",
       "    </tr>\n",
       "    <tr>\n",
       "      <th>95</th>\n",
       "      <td>973</td>\n",
       "      <td>Guyane</td>\n",
       "      <td>78.392100</td>\n",
       "    </tr>\n",
       "    <tr>\n",
       "      <th>96</th>\n",
       "      <td>974</td>\n",
       "      <td>La Réunion</td>\n",
       "      <td>74.954887</td>\n",
       "    </tr>\n",
       "  </tbody>\n",
       "</table>\n",
       "<p>97 rows × 3 columns</p>\n",
       "</div>"
      ],
      "text/plain": [
       "   department_code          department_name  avg_surface\n",
       "0               01                      Ain    95.491503\n",
       "1               02                    Aisne    91.956053\n",
       "2               03                   Allier    85.308972\n",
       "3               04  Alpes-de-Haute-Provence    73.283742\n",
       "4               05             Hautes-Alpes    63.986778\n",
       "..             ...                      ...          ...\n",
       "92              95               Val-d'Oise    79.078816\n",
       "93             971               Guadeloupe    76.678240\n",
       "94             972               Martinique    74.256095\n",
       "95             973                   Guyane    78.392100\n",
       "96             974               La Réunion    74.954887\n",
       "\n",
       "[97 rows x 3 columns]"
      ]
     },
     "execution_count": 118,
     "metadata": {},
     "output_type": "execute_result"
    }
   ],
   "source": [
    "# 3.1 Superficie moyenne des logements vendus par départements\n",
    "# Joindre les informations de géolocalisation pour obtenir les départements\n",
    "real_estate_sales_dep = sales_df.merge(\n",
    "    georef_df[['municipality_code', 'department_code', 'department_name']],\n",
    "    on='municipality_code'\n",
    ")\n",
    "\n",
    "# Calculer la surface moyenne des logements vendus par département\n",
    "average_surface_per_department = real_estate_sales_dep.groupby(\n",
    "    ['department_code', 'department_name']\n",
    ")['surface'].mean().reset_index()\n",
    "\n",
    "# Renommer la colonne résultante\n",
    "average_surface_per_department.rename(columns={'surface': 'avg_surface'}, inplace=True)\n",
    "average_surface_per_department"
   ]
  },
  {
   "cell_type": "code",
   "execution_count": null,
   "metadata": {},
   "outputs": [],
   "source": [
    "# Filtre sur un departement en particulier (exemple paris 75)\n",
    "print(average_surface_per_department[average_surface_per_department['department_code'] == '75'])"
   ]
  },
  {
   "cell_type": "code",
   "execution_count": null,
   "metadata": {},
   "outputs": [],
   "source": [
    "# 3.2 Évolution du % des maisons secondaires par département\n",
    "\n",
    "# Filtrer les données pour les années 2008 et 2018\n",
    "housing_2008 = stock_df[stock_df['year'] == 2008]\n",
    "housing_2018 = stock_df[stock_df['year'] == 2018]\n",
    "\n",
    "# Renommer les colonnes pour les années spécifiques\n",
    "housing_2008 = housing_2008[['municipality_code', 'secondary_home_rate']].rename(columns={'secondary_home_rate': 'secondary_home_rate_2008'})\n",
    "housing_2018 = housing_2018[['municipality_code', 'secondary_home_rate']].rename(columns={'secondary_home_rate': 'secondary_home_rate_2018'})\n",
    "\n",
    "# Joindre les données pour les années 2008 et 2018 sur le code de municipalité\n",
    "secondary_home_rate_comparison = housing_2008.merge(housing_2018, on='municipality_code')\n",
    "\n",
    "# Remplacer les valeurs 0 de 2008 pour éviter la division par zéro\n",
    "secondary_home_rate_comparison = secondary_home_rate_comparison.replace({'secondary_home_rate_2008': {0: np.nan}})\n",
    "\n",
    "# Calculer l'évolution du pourcentage de maisons secondaires par municipalité\n",
    "secondary_home_rate_comparison['secondary_home_rate_evolution'] = (\n",
    "    (secondary_home_rate_comparison['secondary_home_rate_2018'] - secondary_home_rate_comparison['secondary_home_rate_2008']) / \n",
    "    secondary_home_rate_comparison['secondary_home_rate_2008']\n",
    ") * 100\n",
    "\n",
    "# Remplacer les valeurs infinies et NaN par 0\n",
    "secondary_home_rate_comparison = secondary_home_rate_comparison.replace({'secondary_home_rate_evolution': {np.inf: np.nan, -np.inf: np.nan}})\n",
    "secondary_home_rate_comparison['secondary_home_rate_evolution'] = secondary_home_rate_comparison['secondary_home_rate_evolution'].fillna(0)\n",
    "\n",
    "# Joindre les informations de géolocalisation pour obtenir les départements\n",
    "secondary_home_rate_comparison = secondary_home_rate_comparison.merge(\n",
    "    georef_df[['municipality_code', 'department_code', 'department_name']],\n",
    "    on='municipality_code'\n",
    ")\n",
    "\n",
    "# Calculer l'évolution moyenne du pourcentage de maisons secondaires par département\n",
    "secondary_home_rate_evolution_department = secondary_home_rate_comparison.groupby(['department_code', 'department_name'])['secondary_home_rate_evolution'].mean().reset_index()\n",
    "secondary_home_rate_evolution_department.rename(columns={'secondary_home_rate_evolution': 'secondary_home_rate_evolution'}, inplace=True)\n",
    "\n",
    "secondary_home_rate_evolution_department.head(10)"
   ]
  },
  {
   "cell_type": "code",
   "execution_count": null,
   "metadata": {},
   "outputs": [],
   "source": [
    "# Calculer le taux moyen de maisons secondaires par département\n",
    "secondary_home_rate_per_department = stock_dep_df.groupby('department_code')['secondary_home_rate'].mean().reset_index()\n",
    "secondary_home_rate_per_department.rename(columns={'secondary_home_rate': 'avg_secondary_home_rate'}, inplace=True)\n",
    "\n",
    "# Fusionner avec georef_df pour ajouter le nom des départements\n",
    "secondary_home_rate_per_department = secondary_home_rate_per_department.merge(\n",
    "    georef_df[['department_code', 'department_name']].drop_duplicates(),\n",
    "    on='department_code',\n",
    "    how='left'\n",
    ")\n",
    "\n",
    "# Afficher les résultats\n",
    "secondary_home_rate_per_department.head()"
   ]
  },
  {
   "cell_type": "markdown",
   "metadata": {
    "id": "XYnKDVU0sb0S",
    "jp-MarkdownHeadingCollapsed": true
   },
   "source": [
    "##### 4. LIFE QUALITY MIKE"
   ]
  },
  {
   "cell_type": "code",
   "execution_count": null,
   "metadata": {},
   "outputs": [],
   "source": [
    "# 4.1 Professionnels de santé pour 100 000 habitants par départements en 2023\n",
    "DATA_PATH = '../data/cleaned'\n",
    "HEALTH_FILENAME = 'health_df_cleaned.csv'\n",
    "\n",
    "health_df = pd.read_csv(os.path.join(DATA_PATH, HEALTH_FILENAME))\n",
    "health_df"
   ]
  },
  {
   "cell_type": "code",
   "execution_count": null,
   "metadata": {},
   "outputs": [],
   "source": [
    "# 4.2 Taux de criminalité pour 1000 habitants par départements en 2020\n",
    "\n",
    "CRIMINALITY_FILENAME = 'criminality_df_cleaned.csv'\n",
    "\n",
    "criminality_df = pd.read_csv(os.path.join(DATA_PATH, CRIMINALITY_FILENAME))\n",
    "\n",
    "# Convertir criminality_per_1000 en type numérique (si nécessaire)\n",
    "criminality_df['criminality_per_1000'] = pd.to_numeric(criminality_df['criminality_per_1000'].str.replace(',', '.'))\n",
    "\n",
    "# Agréger georef_df par département_name pour obtenir une seule ligne par département\n",
    "georef_aggregated = georef_df.groupby('department_name').first().reset_index()\n",
    "\n",
    "# Effectuer une fusion (merge) pour ajouter department_code à criminality_aggregated en utilisant department_name comme clé\n",
    "criminality_aggregated = criminality_df.groupby('department_name')['criminality_per_1000'].mean().reset_index()\n",
    "criminality_per_department = criminality_aggregated.merge(georef_aggregated[['department_name', 'department_code']], on='department_name')\n",
    "\n",
    "# Afficher les premières lignes du dataframe mis à jour\n",
    "criminality_per_department"
   ]
  },
  {
   "cell_type": "code",
   "execution_count": null,
   "metadata": {},
   "outputs": [],
   "source": [
    "# 4.3 Nombre de jours de soleil par an par départements - ATTENTION: IL MANQUE 10 DEPARTEMENT\n",
    "\n",
    "SUNNY_FILENAME = 'sunny_df_cleaned.csv'\n",
    "sunny_df = pd.read_csv(os.path.join(DATA_PATH, SUNNY_FILENAME))\n",
    "\n",
    "# Agréger georef_df par department_name pour obtenir une seule ligne par département\n",
    "georef_agg = georef_df.groupby('department_name').first().reset_index()\n",
    "\n",
    "# Remplacer les espaces par des tirets dans georef_agg\n",
    "georef_agg['department_name'] = georef_agg['department_name'].str.replace(' ', '-')\n",
    "\n",
    "# Fusionner sunny_df avec georef_agg pour ajouter department_code\n",
    "sunny_df_per_department = sunny_df.merge(georef_agg[['department_name', 'department_code']], on='department_name')\n",
    "\n",
    "# Afficher le DataFrame mis à jour\n",
    "sunny_df_per_department"
   ]
  },
  {
   "cell_type": "code",
   "execution_count": null,
   "metadata": {},
   "outputs": [],
   "source": [
    "# MERGE DES 3 DF CI-DESSUS\n",
    "life_quality_df = sunny_df_per_department.merge(criminality_per_department, on='department_name', how='inner')\n",
    "life_quality_df = life_quality_df.merge(health_df, on='department_name', how='outer')\n",
    "\n",
    "\n",
    "# Remplacer les NaN par des valeurs nulles\n",
    "life_quality_df = life_quality_df.fillna(0)  # Vous pouvez remplacer 0 par d'autres valeurs par défaut si nécessaire\n",
    "\n",
    "# Supprimer les colonnes redondantes department_code_x et department_code_y\n",
    "life_quality_df.drop(columns=['department_code_x', 'department_code_y'], inplace=True)\n",
    "\n",
    "# Réorganiser les colonnes pour mettre 'department_code' en deuxième position\n",
    "columns_ordered = ['department_name', 'department_code', 'sunny_days_per_year', 'criminality_per_1000',\n",
    "                   'ensemble des médecins', 'ensemble des médecins.1', 'dont généralistes', \n",
    "                   'dont spécialistes', 'chirurg. dentistes', 'pharm.']\n",
    "life_quality_df = life_quality_df.reindex(columns=columns_ordered)\n",
    "\n",
    "# Afficher le DataFrame final\n",
    "life_quality_df.head()"
   ]
  },
  {
   "cell_type": "code",
   "execution_count": null,
   "metadata": {},
   "outputs": [],
   "source": [
    "# Tri du DataFrame life_quality_df par sunny_days_per_year croissant\n",
    "life_quality_df_sorted = life_quality_df.sort_values(by='sunny_days_per_year')\n",
    "life_quality_df_sorted.head(50)"
   ]
  },
  {
   "cell_type": "markdown",
   "metadata": {
    "id": "XYnKDVU0sb0S"
   },
   "source": [
    "# 🚀 ENRICHED EXPORT"
   ]
  },
  {
   "cell_type": "code",
   "execution_count": null,
   "metadata": {},
   "outputs": [],
   "source": [
    "# Chemin du dossier où les fichiers seront enregistrés\n",
    "output_folder = \"../data/enriched\"\n",
    "\n",
    "# Assurez-vous que le dossier existe\n",
    "os.makedirs(output_folder, exist_ok=True)"
   ]
  },
  {
   "cell_type": "code",
   "execution_count": null,
   "metadata": {},
   "outputs": [],
   "source": [
    "###____TOURISM (2 KPIS)____###\n",
    "# Nombre de sites touristiques par départements : num_sites_per_department\n",
    "# Répartition des catégories touristiques par départements :tourism_category_per_department\n",
    "\n",
    "\n",
    "###____REAL ESTATE & SECONDARY HOME (5 KPIS)____###\n",
    "# Prix moyen du m2 par département : average_price_per_m2\n",
    "# Stock de biens par départements : total_stock_per_department\n",
    "# Superficie moyenne des logements vendus par départements :average_surface_per_department\n",
    "# Taux de répartition des maisons secondaires par départements : secondary_home_rate_per_department\n",
    "# Évolution du % des maisons secondaires par département (entre 2008 et 2018) : secondary_home_rate_evolution_department\n",
    "# Nombre de maisons vacantes (en 2019) : vacants_housing_per_department\n",
    "# Taxe d'habitation (valeur et nombre) en 2023 par département : tax_df\n",
    "\n",
    "\n",
    "###___LIFE QUALITY (4 KPIS)____###\n",
    "# Salaire moyen par département : avg_salary_per_department\n",
    "# Nombre de professionnels de santé pour 100 000 habitants par départements (en 2023) : health_df\n",
    "# Taux de criminalité pour 1000 habitants par départements (en 2020) : criminality_per_department\n",
    "# Nombre de jours de soleil par an par départements : sunny_df_per_department\n",
    "# Fusion de tous DF Life Quality  par départements (POUR NORMALISATIN AU SCORING) : life_quality_df"
   ]
  },
  {
   "cell_type": "code",
   "execution_count": 130,
   "metadata": {},
   "outputs": [
    {
     "name": "stdout",
     "output_type": "stream",
     "text": [
      "DataFrame average_price_per_m2_per_department exporté vers ../data/enriched/average_price_per_m2_per_department_enriched.csv\n"
     ]
    }
   ],
   "source": [
    "# Liste des DataFrames et leurs noms\n",
    "dataframes = {\n",
    "    \"num_sites_per_department\": num_sites_per_department,\n",
    "    \"tourism_category_per_department\": tourism_category_per_department,    \n",
    "    \"average_price_per_m2_per_department\": avg_price_per_m2_per_department,\n",
    "    \"total_stock_per_department\": total_stock_per_department,    \n",
    "    \"average_surface_per_department\": average_surface_per_department,\n",
    "    \"secondary_home_rate_per_department\": secondary_home_rate_per_department,\n",
    "    \"secondary_home_rate_evolution_department\": secondary_home_rate_evolution_department,\n",
    "    \"vacants_housing_per_department\": vacants_housing_per_department,\n",
    "    \"avg_salary_per_department\": avg_salary_per_department,\n",
    "    \"health_df_per_derpartment\": health_df,\n",
    "    \"criminality_per_department\": criminality_per_department,\n",
    "    \"sunny_df_per_department\": sunny_df_per_department,\n",
    "    \"life_quality_df\": life_quality_df\n",
    "    \"taxe_habitation_per_department\": tax_df,\n",
    "}\n",
    "\n",
    "# Exportation des DataFrames en CSV\n",
    "for name, df in dataframes.items():\n",
    "    output_path = os.path.join(output_folder, f\"{name}_enriched.csv\")\n",
    "    df.to_csv(output_path, index=False)\n",
    "    print(f\"DataFrame {name} exporté vers {output_path}\")"
   ]
  },
  {
   "cell_type": "markdown",
   "metadata": {
    "id": "XYnKDVU0sb0S"
   },
   "source": [
    "# SCORING"
   ]
  },
  {
   "cell_type": "markdown",
   "metadata": {
    "id": "XYnKDVU0sb0S"
   },
   "source": [
    "##### TOURISM"
   ]
  }
 ],
 "metadata": {
  "colab": {
   "collapsed_sections": [
    "MtiYSUHHSCws",
    "qzPmsWEUq5zk",
    "Qhf-qyfBrBrU",
    "WUbRvCbWrC-g",
    "IaW8clyJrE7k",
    "gHemM-SqrGyN",
    "wDh1nf-1rIgb",
    "DEROdiJirK6M",
    "-pWIMamvrMgo",
    "i0j9hJqlFaEc",
    "FZ-ON4l9sVwu",
    "XYnKDVU0sb0S",
    "sNX4qmi1Gdyx"
   ],
   "provenance": []
  },
  "kernelspec": {
   "display_name": "Python 3 (ipykernel)",
   "language": "python",
   "name": "python3"
  },
  "language_info": {
   "codemirror_mode": {
    "name": "ipython",
    "version": 3
   },
   "file_extension": ".py",
   "mimetype": "text/x-python",
   "name": "python",
   "nbconvert_exporter": "python",
   "pygments_lexer": "ipython3",
   "version": "3.12.4"
  }
 },
 "nbformat": 4,
 "nbformat_minor": 4
}
