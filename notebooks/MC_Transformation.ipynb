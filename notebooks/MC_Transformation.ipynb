{
 "cells": [
  {
   "cell_type": "markdown",
   "metadata": {
    "id": "i0j9hJqlFaEc",
    "jp-MarkdownHeadingCollapsed": true
   },
   "source": [
    "# ⚙️ **CLEANED DATA IMPORT**"
   ]
  },
  {
   "cell_type": "code",
   "execution_count": 1,
   "metadata": {},
   "outputs": [],
   "source": [
    "import pandas as pd\n",
    "import numpy as np\n",
    "import os\n",
    "\n",
    "DATA_PATH = '../data/cleaned'\n",
    "\n",
    "POI_FILENAME = 'poi_df_cleaned.csv'\n",
    "SITE_FILENAME = 'site_df_cleaned.csv'\n",
    "SALARY_FILENAME = 'salary_df_cleaned.csv'\n",
    "GEOREF_FILENAME = 'georef_df_cleaned.csv'\n",
    "STOCK_FILENAME = 'stock_df_cleaned.csv'\n",
    "SALES_FILENAME = 'sales_df_cleaned.csv'\n",
    "POPULATION_FILENAME = 'population_df_cleaned.csv'\n",
    "POVERTY_FILENAME = 'poverty_df_cleaned.csv'\n",
    "REAL_ESTATE_FILENAME = 'real_estate_df_cleaned.csv'\n",
    "\n",
    "poi_df = pd.read_csv(os.path.join(DATA_PATH, POI_FILENAME))\n",
    "site_df = pd.read_csv(os.path.join(DATA_PATH, SITE_FILENAME))\n",
    "salary_df = pd.read_csv(os.path.join(DATA_PATH, SALARY_FILENAME))\n",
    "georef_df = pd.read_csv(os.path.join(DATA_PATH, GEOREF_FILENAME))\n",
    "stock_df = pd.read_csv(os.path.join(DATA_PATH, STOCK_FILENAME))\n",
    "sales_df = pd.read_csv(os.path.join(DATA_PATH, SALES_FILENAME))\n",
    "population_df = pd.read_csv(os.path.join(DATA_PATH, POPULATION_FILENAME))\n",
    "poverty_df = pd.read_csv(os.path.join(DATA_PATH, POVERTY_FILENAME))\n",
    "real_estate_df = pd.read_csv(os.path.join(DATA_PATH, REAL_ESTATE_FILENAME))"
   ]
  },
  {
   "cell_type": "markdown",
   "metadata": {
    "id": "FZ-ON4l9sVwu",
    "jp-MarkdownHeadingCollapsed": true
   },
   "source": [
    "### CLEANING"
   ]
  },
  {
   "cell_type": "markdown",
   "metadata": {
    "id": "FZ-ON4l9sVwu",
    "jp-MarkdownHeadingCollapsed": true
   },
   "source": [
    "##### DF_SALES CLEANING"
   ]
  },
  {
   "cell_type": "code",
   "execution_count": 2,
   "metadata": {
    "id": "FclUrSzCGdSX"
   },
   "outputs": [
    {
     "data": {
      "text/plain": [
       "(3448398, 13)"
      ]
     },
     "execution_count": 2,
     "metadata": {},
     "output_type": "execute_result"
    }
   ],
   "source": [
    "# SALES_DF: Suppression des doublons > nous passons de 4,3M de lignes à 3,821M\n",
    "sales_df = sales_df.drop_duplicates()\n",
    "sales_df.shape"
   ]
  },
  {
   "cell_type": "code",
   "execution_count": 3,
   "metadata": {},
   "outputs": [
    {
     "data": {
      "text/plain": [
       "np.int64(0)"
      ]
     },
     "execution_count": 3,
     "metadata": {},
     "output_type": "execute_result"
    }
   ],
   "source": [
    "# SALES_DF: Check si les doublons on été enlevés : OK\n",
    "sales_df.duplicated().sum()"
   ]
  },
  {
   "cell_type": "code",
   "execution_count": 4,
   "metadata": {},
   "outputs": [
    {
     "data": {
      "text/plain": [
       "(3448398, 13)"
      ]
     },
     "execution_count": 4,
     "metadata": {},
     "output_type": "execute_result"
    }
   ],
   "source": [
    "# SALES_DF: Suppression des prix au m2 supérieur à 30K€ et inférieur à 1K€ > nous passons à 3,3399M de lignes\n",
    "sales_df = sales_df[(sales_df['sales_price_m2'] <= 30000) & (sales_df['sales_price_m2'] >= 1000)]\n",
    "sales_df.shape"
   ]
  },
  {
   "cell_type": "code",
   "execution_count": 5,
   "metadata": {},
   "outputs": [],
   "source": [
    "# SALES_DF:\n",
    "s2 = (sales_df['sales_amount']\n",
    "             .value_counts()\n",
    "             .loc[sales_df['sales_amount'].value_counts() > 10])"
   ]
  },
  {
   "cell_type": "code",
   "execution_count": 6,
   "metadata": {},
   "outputs": [
    {
     "data": {
      "text/plain": [
       "(3448398, 13)"
      ]
     },
     "execution_count": 6,
     "metadata": {},
     "output_type": "execute_result"
    }
   ],
   "source": [
    "# SALES_DF:\n",
    "sales_df = sales_df[sales_df['sales_amount'] > 1] # on enlève les 166 fois ou sales_amount = 1€\n",
    "sales_df.shape"
   ]
  },
  {
   "cell_type": "code",
   "execution_count": 7,
   "metadata": {},
   "outputs": [
    {
     "name": "stdout",
     "output_type": "stream",
     "text": [
      "<class 'pandas.core.frame.DataFrame'>\n",
      "RangeIndex: 3448398 entries, 0 to 3448397\n",
      "Data columns (total 13 columns):\n",
      " #   Column                     Dtype         \n",
      "---  ------                     -----         \n",
      " 0   sales_date                 datetime64[ns]\n",
      " 1   sales_amount               float64       \n",
      " 2   street_number              float64       \n",
      " 3   street_code                object        \n",
      " 4   street_name                object        \n",
      " 5   nom_commune                object        \n",
      " 6   municipality_code          object        \n",
      " 7   premise_type               object        \n",
      " 8   surface                    float64       \n",
      " 9   number_of_principal_rooms  int64         \n",
      " 10  sales_price_m2             float64       \n",
      " 11  latitude                   float64       \n",
      " 12  longitude                  float64       \n",
      "dtypes: datetime64[ns](1), float64(6), int64(1), object(5)\n",
      "memory usage: 342.0+ MB\n"
     ]
    }
   ],
   "source": [
    "# SALES_DF: changement du type sales_date en datetime\n",
    "sales_df['sales_date'] = pd.to_datetime(sales_df['sales_date'])\n",
    "sales_df.info()"
   ]
  },
  {
   "cell_type": "markdown",
   "metadata": {
    "id": "XYnKDVU0sb0S",
    "jp-MarkdownHeadingCollapsed": true
   },
   "source": [
    "##### DF_SALARY CLEANING"
   ]
  },
  {
   "cell_type": "code",
   "execution_count": 8,
   "metadata": {},
   "outputs": [
    {
     "data": {
      "text/html": [
       "<div>\n",
       "<style scoped>\n",
       "    .dataframe tbody tr th:only-of-type {\n",
       "        vertical-align: middle;\n",
       "    }\n",
       "\n",
       "    .dataframe tbody tr th {\n",
       "        vertical-align: top;\n",
       "    }\n",
       "\n",
       "    .dataframe thead th {\n",
       "        text-align: right;\n",
       "    }\n",
       "</style>\n",
       "<table border=\"1\" class=\"dataframe\">\n",
       "  <thead>\n",
       "    <tr style=\"text-align: right;\">\n",
       "      <th></th>\n",
       "      <th>municipality_code</th>\n",
       "      <th>avg_net_salary</th>\n",
       "      <th>year</th>\n",
       "    </tr>\n",
       "  </thead>\n",
       "  <tbody>\n",
       "    <tr>\n",
       "      <th>0</th>\n",
       "      <td>01004</td>\n",
       "      <td>26471.0</td>\n",
       "      <td>2019</td>\n",
       "    </tr>\n",
       "    <tr>\n",
       "      <th>1</th>\n",
       "      <td>01007</td>\n",
       "      <td>26341.0</td>\n",
       "      <td>2019</td>\n",
       "    </tr>\n",
       "    <tr>\n",
       "      <th>2</th>\n",
       "      <td>01014</td>\n",
       "      <td>25897.0</td>\n",
       "      <td>2019</td>\n",
       "    </tr>\n",
       "    <tr>\n",
       "      <th>3</th>\n",
       "      <td>01024</td>\n",
       "      <td>25695.0</td>\n",
       "      <td>2019</td>\n",
       "    </tr>\n",
       "    <tr>\n",
       "      <th>4</th>\n",
       "      <td>01025</td>\n",
       "      <td>26055.0</td>\n",
       "      <td>2019</td>\n",
       "    </tr>\n",
       "  </tbody>\n",
       "</table>\n",
       "</div>"
      ],
      "text/plain": [
       "  municipality_code  avg_net_salary  year\n",
       "0             01004         26471.0  2019\n",
       "1             01007         26341.0  2019\n",
       "2             01014         25897.0  2019\n",
       "3             01024         25695.0  2019\n",
       "4             01025         26055.0  2019"
      ]
     },
     "execution_count": 8,
     "metadata": {},
     "output_type": "execute_result"
    }
   ],
   "source": [
    "# DF_SALARY: ROUND avg_net_salary\n",
    "salary_df['avg_net_salary'] = salary_df['avg_net_salary'].round()\n",
    "salary_df.head()"
   ]
  },
  {
   "cell_type": "markdown",
   "metadata": {
    "id": "XYnKDVU0sb0S",
    "jp-MarkdownHeadingCollapsed": true
   },
   "source": [
    "##### DF_REAL_ESTATE CLEANING"
   ]
  },
  {
   "cell_type": "code",
   "execution_count": 9,
   "metadata": {},
   "outputs": [
    {
     "data": {
      "text/plain": [
       "municipality_code         0\n",
       "intensite_tension_immo    0\n",
       "rental_max_apartment      0\n",
       "rental_min_apartment      0\n",
       "rental_med_all            0\n",
       "rental_max_all            0\n",
       "rental_min_all            0\n",
       "dtype: int64"
      ]
     },
     "execution_count": 9,
     "metadata": {},
     "output_type": "execute_result"
    }
   ],
   "source": [
    "# DF_REAL_ESTATE: suppression des nulls\n",
    "real_estate_df = real_estate_df.dropna(axis=1)\n",
    "real_estate_df.isnull().sum()"
   ]
  },
  {
   "cell_type": "markdown",
   "metadata": {
    "id": "XYnKDVU0sb0S",
    "jp-MarkdownHeadingCollapsed": true
   },
   "source": [
    "##### DF_SITE CLEANING"
   ]
  },
  {
   "cell_type": "code",
   "execution_count": 10,
   "metadata": {},
   "outputs": [
    {
     "name": "stdout",
     "output_type": "stream",
     "text": [
      "poi\n",
      "castle            5611\n",
      "2                 5207\n",
      "water             4500\n",
      "museum            3400\n",
      "theatre           2439\n",
      "forest            2233\n",
      "beach             1010\n",
      "protected_area     927\n",
      "wetland            784\n",
      "cinema             667\n",
      "vineyard           641\n",
      "golf_course        612\n",
      "theme_park         358\n",
      "cliff              337\n",
      "marina             255\n",
      "water_park         239\n",
      "1                  236\n",
      "zoo                234\n",
      "valley             223\n",
      "ridge              213\n",
      "islet              163\n",
      "casino             158\n",
      "volcano            145\n",
      "park               132\n",
      "meadow              78\n",
      "monument            76\n",
      "sand                35\n",
      "heritage            32\n",
      "viewpoint           21\n",
      "cave_entrance       15\n",
      "wreck               12\n",
      "rock                11\n",
      "waterfall           10\n",
      "attraction           8\n",
      "dune                 5\n",
      "national_park        4\n",
      "allotments           2\n",
      "geyser               1\n",
      "Name: count, dtype: int64\n",
      "data_inside_parenthesis\n",
      "                       9899\n",
      "Monument historique    5090\n",
      "Eau                    4102\n",
      "Musée                  1518\n",
      "Forêt                  1498\n",
      "Théâtre                1374\n",
      "Château                1278\n",
      "Zone protégée           910\n",
      "Zone humide             759\n",
      "Vignoble                620\n",
      "Terrain de golf         608\n",
      "Cinéma                  463\n",
      "Parc à thème            355\n",
      "Falaise                 276\n",
      "Patrimoine mondial      232\n",
      "Parc aquatique          231\n",
      "Port de plaisance       229\n",
      "Plage                   200\n",
      "Vallée                  200\n",
      "Zoo                     191\n",
      "Îlot                    151\n",
      "Volcan                  142\n",
      "Monument                 96\n",
      "Crête                    93\n",
      "Bocage                   73\n",
      "Parc                     61\n",
      "Sable                    30\n",
      "ancien                   27\n",
      "Point de vue             21\n",
      "Casino                   21\n",
      "ancienne                 19\n",
      "Entrée de grotte         15\n",
      "Épave                    10\n",
      "Chute d'eau              10\n",
      "ruines                    9\n",
      "Attraction                8\n",
      "A                         7\n",
      "Roche                     7\n",
      "B                         6\n",
      "aire d'adhésion           5\n",
      "vestiges                  5\n",
      "cœur                      3\n",
      "zone centrale             3\n",
      "privé                     3\n",
      "Lacanau                   3\n",
      "1er Cru                   2\n",
      "herbe                     2\n",
      "Parc national             2\n",
      "s                         2\n",
      "restes                    2\n",
      "Name: count, dtype: int64\n"
     ]
    }
   ],
   "source": [
    "# SITE_DF: tri avec les données entre parenthèses de la colonne \"name\" inclues\n",
    "\n",
    "import re\n",
    "\n",
    "site_df['data_inside_parenthesis'] = site_df['name'].apply(lambda x: re.search(r'\\((.*?)\\)', x).group(1) if re.search(r'\\((.*?)\\)', x) else '')\n",
    "site_df\n",
    "\n",
    "#suppression de la colonne \"name\" dans un second temps\n",
    "\n",
    "site_df.drop(columns=[\"name\"])\n",
    "\n",
    "#check pour savoir les informations présentes dans la colonne \"poi\", et si elles correspondent aux valeurs présentes dans la colonne \"type\"\n",
    "print (site_df[\"poi\"].value_counts())\n",
    "print (site_df[\"data_inside_parenthesis\"].value_counts().head(50))\n",
    "\n",
    "#faire un mapping des colonnes poi, qui sont en fait plus pertinentes que celles de la colonne \"type\""
   ]
  },
  {
   "cell_type": "code",
   "execution_count": null,
   "metadata": {},
   "outputs": [],
   "source": [
    "# SITE_DF: création d'un dictionnaire intégrant toutes les différentes valeurs inclues dans la colonne \"poi\"\n",
    "s = site_df[\"poi\"].value_counts()[site_df[\"poi\"]]\n",
    "{k: \"toto\" for k in s.index}"
   ]
  },
  {
   "cell_type": "code",
   "execution_count": 11,
   "metadata": {},
   "outputs": [],
   "source": [
    "# SITE_DF: création d'un dictionnaire avec les catégories associées aux valeurs de la colonne POI\n",
    "\n",
    "category_dict = {'1': 'Patrimoine',\n",
    " '2': 'Patrimoine',\n",
    " 'zoo': 'Entertainment',\n",
    " 'dune': 'Nature',\n",
    " 'park': 'Nature',\n",
    " 'rock': 'Nature',\n",
    " 'sand': 'Nature',\n",
    " 'beach': 'Nature',\n",
    " 'cliff': 'Nature',\n",
    " 'islet': 'Nature',\n",
    " 'ridge': 'Nature',\n",
    " 'water': 'Nature',\n",
    " 'wreck': 'Patrimoine',\n",
    " 'casino': 'Entertainment',\n",
    " 'castle': 'Patrimoine',\n",
    " 'cinema': 'Culture',\n",
    " 'forest': 'Nature',\n",
    " 'geyser': 'Nature',\n",
    " 'marina': 'Nature',\n",
    " 'meadow': 'Nature',\n",
    " 'museum': 'Culture',\n",
    " 'valley': 'Nature',\n",
    " 'theatre': 'Culture',\n",
    " 'volcano': 'Nature',\n",
    " 'wetland': 'Nature',\n",
    " 'heritage': 'Patrimoine',\n",
    " 'monument': 'Patrimoine',\n",
    " 'vineyard': 'Nature',\n",
    " 'viewpoint': 'Nature',\n",
    " 'waterfall': 'Nature',\n",
    " 'allotments': 'Patrimoine',\n",
    " 'attraction': 'Entertainment',\n",
    " 'theme_park': 'Entertainment',\n",
    " 'water_park': 'Entertainment',\n",
    " 'golf_course': 'Entertainment',\n",
    " 'cave_entrance': 'Culture',\n",
    " 'national_park': 'Nature',\n",
    " 'protected_area': 'Nature'}"
   ]
  },
  {
   "cell_type": "code",
   "execution_count": 12,
   "metadata": {},
   "outputs": [
    {
     "data": {
      "text/html": [
       "<div>\n",
       "<style scoped>\n",
       "    .dataframe tbody tr th:only-of-type {\n",
       "        vertical-align: middle;\n",
       "    }\n",
       "\n",
       "    .dataframe tbody tr th {\n",
       "        vertical-align: top;\n",
       "    }\n",
       "\n",
       "    .dataframe thead th {\n",
       "        text-align: right;\n",
       "    }\n",
       "</style>\n",
       "<table border=\"1\" class=\"dataframe\">\n",
       "  <thead>\n",
       "    <tr style=\"text-align: right;\">\n",
       "      <th></th>\n",
       "      <th>poi</th>\n",
       "      <th>name</th>\n",
       "      <th>latitude</th>\n",
       "      <th>longitude</th>\n",
       "      <th>municipality_code</th>\n",
       "      <th>importance</th>\n",
       "      <th>name_reprocessed</th>\n",
       "      <th>data_inside_parenthesis</th>\n",
       "      <th>Category</th>\n",
       "    </tr>\n",
       "  </thead>\n",
       "  <tbody>\n",
       "    <tr>\n",
       "      <th>0</th>\n",
       "      <td>1</td>\n",
       "      <td>Fortifications de Vauban (Patrimoine mondial)</td>\n",
       "      <td>46.396160</td>\n",
       "      <td>1.472600</td>\n",
       "      <td>36134</td>\n",
       "      <td>0.139527</td>\n",
       "      <td>Fortifications de Vauban</td>\n",
       "      <td>Patrimoine mondial</td>\n",
       "      <td>Patrimoine</td>\n",
       "    </tr>\n",
       "    <tr>\n",
       "      <th>1</th>\n",
       "      <td>1</td>\n",
       "      <td>Chemins de Saint-Jacques-de-Compostelle en Fra...</td>\n",
       "      <td>46.313695</td>\n",
       "      <td>1.478772</td>\n",
       "      <td>23258</td>\n",
       "      <td>0.137821</td>\n",
       "      <td>Chemins de Saint-Jacques-de-Compostelle en Fra...</td>\n",
       "      <td>Patrimoine mondial</td>\n",
       "      <td>Patrimoine</td>\n",
       "    </tr>\n",
       "    <tr>\n",
       "      <th>2</th>\n",
       "      <td>1</td>\n",
       "      <td>Canal du Midi (Patrimoine mondial)</td>\n",
       "      <td>43.332709</td>\n",
       "      <td>3.219890</td>\n",
       "      <td>34032</td>\n",
       "      <td>0.129531</td>\n",
       "      <td>Canal du Midi</td>\n",
       "      <td>Patrimoine mondial</td>\n",
       "      <td>Patrimoine</td>\n",
       "    </tr>\n",
       "    <tr>\n",
       "      <th>3</th>\n",
       "      <td>1</td>\n",
       "      <td>Bassin minier du Nord-Pas de Calais (Patrimoin...</td>\n",
       "      <td>50.455895</td>\n",
       "      <td>2.965034</td>\n",
       "      <td>62427</td>\n",
       "      <td>0.127170</td>\n",
       "      <td>Bassin minier du Nord-Pas de Calais</td>\n",
       "      <td>Patrimoine mondial</td>\n",
       "      <td>Patrimoine</td>\n",
       "    </tr>\n",
       "    <tr>\n",
       "      <th>4</th>\n",
       "      <td>1</td>\n",
       "      <td>Les Causses et les Cévennes, paysage culturel ...</td>\n",
       "      <td>44.346210</td>\n",
       "      <td>3.613406</td>\n",
       "      <td>48050</td>\n",
       "      <td>0.124981</td>\n",
       "      <td>Les Causses et les Cévennes, paysage culturel ...</td>\n",
       "      <td>Patrimoine mondial</td>\n",
       "      <td>Patrimoine</td>\n",
       "    </tr>\n",
       "    <tr>\n",
       "      <th>...</th>\n",
       "      <td>...</td>\n",
       "      <td>...</td>\n",
       "      <td>...</td>\n",
       "      <td>...</td>\n",
       "      <td>...</td>\n",
       "      <td>...</td>\n",
       "      <td>...</td>\n",
       "      <td>...</td>\n",
       "      <td>...</td>\n",
       "    </tr>\n",
       "    <tr>\n",
       "      <th>31029</th>\n",
       "      <td>viewpoint</td>\n",
       "      <td>Tour Eiffel 3e étage (Point de vue)</td>\n",
       "      <td>48.858262</td>\n",
       "      <td>2.294497</td>\n",
       "      <td>75056</td>\n",
       "      <td>0.053782</td>\n",
       "      <td>Tour Eiffel 3e étage</td>\n",
       "      <td>Point de vue</td>\n",
       "      <td>Nature</td>\n",
       "    </tr>\n",
       "    <tr>\n",
       "      <th>31030</th>\n",
       "      <td>theme_park</td>\n",
       "      <td>Jardin d'Acclimatation (Parc à thème)</td>\n",
       "      <td>48.878145</td>\n",
       "      <td>2.264686</td>\n",
       "      <td>75056</td>\n",
       "      <td>0.087097</td>\n",
       "      <td>Jardin d'Acclimatation</td>\n",
       "      <td>Parc à thème</td>\n",
       "      <td>Entertainment</td>\n",
       "    </tr>\n",
       "    <tr>\n",
       "      <th>31031</th>\n",
       "      <td>theme_park</td>\n",
       "      <td>Foire du Trône (Parc à thème)</td>\n",
       "      <td>48.832003</td>\n",
       "      <td>2.404337</td>\n",
       "      <td>75056</td>\n",
       "      <td>0.060000</td>\n",
       "      <td>Foire du Trône</td>\n",
       "      <td>Parc à thème</td>\n",
       "      <td>Entertainment</td>\n",
       "    </tr>\n",
       "    <tr>\n",
       "      <th>31032</th>\n",
       "      <td>golf_course</td>\n",
       "      <td>Golf du Bois de Boulogne (Terrain de golf)</td>\n",
       "      <td>48.857776</td>\n",
       "      <td>2.232651</td>\n",
       "      <td>75056</td>\n",
       "      <td>0.060073</td>\n",
       "      <td>Golf du Bois de Boulogne</td>\n",
       "      <td>Terrain de golf</td>\n",
       "      <td>Entertainment</td>\n",
       "    </tr>\n",
       "    <tr>\n",
       "      <th>31033</th>\n",
       "      <td>protected_area</td>\n",
       "      <td>Paris, rives de la Seine (Zone protégée)</td>\n",
       "      <td>48.860054</td>\n",
       "      <td>2.324448</td>\n",
       "      <td>75056</td>\n",
       "      <td>0.095638</td>\n",
       "      <td>Paris, rives de la Seine</td>\n",
       "      <td>Zone protégée</td>\n",
       "      <td>Nature</td>\n",
       "    </tr>\n",
       "  </tbody>\n",
       "</table>\n",
       "<p>31034 rows × 9 columns</p>\n",
       "</div>"
      ],
      "text/plain": [
       "                  poi                                               name  \\\n",
       "0                   1      Fortifications de Vauban (Patrimoine mondial)   \n",
       "1                   1  Chemins de Saint-Jacques-de-Compostelle en Fra...   \n",
       "2                   1                 Canal du Midi (Patrimoine mondial)   \n",
       "3                   1  Bassin minier du Nord-Pas de Calais (Patrimoin...   \n",
       "4                   1  Les Causses et les Cévennes, paysage culturel ...   \n",
       "...               ...                                                ...   \n",
       "31029       viewpoint                Tour Eiffel 3e étage (Point de vue)   \n",
       "31030      theme_park              Jardin d'Acclimatation (Parc à thème)   \n",
       "31031      theme_park                      Foire du Trône (Parc à thème)   \n",
       "31032     golf_course         Golf du Bois de Boulogne (Terrain de golf)   \n",
       "31033  protected_area           Paris, rives de la Seine (Zone protégée)   \n",
       "\n",
       "        latitude  longitude municipality_code  importance  \\\n",
       "0      46.396160   1.472600             36134    0.139527   \n",
       "1      46.313695   1.478772             23258    0.137821   \n",
       "2      43.332709   3.219890             34032    0.129531   \n",
       "3      50.455895   2.965034             62427    0.127170   \n",
       "4      44.346210   3.613406             48050    0.124981   \n",
       "...          ...        ...               ...         ...   \n",
       "31029  48.858262   2.294497             75056    0.053782   \n",
       "31030  48.878145   2.264686             75056    0.087097   \n",
       "31031  48.832003   2.404337             75056    0.060000   \n",
       "31032  48.857776   2.232651             75056    0.060073   \n",
       "31033  48.860054   2.324448             75056    0.095638   \n",
       "\n",
       "                                        name_reprocessed  \\\n",
       "0                              Fortifications de Vauban    \n",
       "1      Chemins de Saint-Jacques-de-Compostelle en Fra...   \n",
       "2                                         Canal du Midi    \n",
       "3                   Bassin minier du Nord-Pas de Calais    \n",
       "4      Les Causses et les Cévennes, paysage culturel ...   \n",
       "...                                                  ...   \n",
       "31029                              Tour Eiffel 3e étage    \n",
       "31030                            Jardin d'Acclimatation    \n",
       "31031                                    Foire du Trône    \n",
       "31032                          Golf du Bois de Boulogne    \n",
       "31033                          Paris, rives de la Seine    \n",
       "\n",
       "      data_inside_parenthesis       Category  \n",
       "0          Patrimoine mondial     Patrimoine  \n",
       "1          Patrimoine mondial     Patrimoine  \n",
       "2          Patrimoine mondial     Patrimoine  \n",
       "3          Patrimoine mondial     Patrimoine  \n",
       "4          Patrimoine mondial     Patrimoine  \n",
       "...                       ...            ...  \n",
       "31029            Point de vue         Nature  \n",
       "31030            Parc à thème  Entertainment  \n",
       "31031            Parc à thème  Entertainment  \n",
       "31032         Terrain de golf  Entertainment  \n",
       "31033           Zone protégée         Nature  \n",
       "\n",
       "[31034 rows x 9 columns]"
      ]
     },
     "execution_count": 12,
     "metadata": {},
     "output_type": "execute_result"
    }
   ],
   "source": [
    "# SITE_DF: création de la colonne \"catégorie\"\n",
    "site_df[\"Category\"] = site_df[\"poi\"].map(category_dict)\n",
    "site_df"
   ]
  },
  {
   "cell_type": "code",
   "execution_count": 13,
   "metadata": {},
   "outputs": [
    {
     "name": "stdout",
     "output_type": "stream",
     "text": [
      "<class 'pandas.core.frame.DataFrame'>\n",
      "RangeIndex: 26216 entries, 0 to 26215\n",
      "Data columns (total 6 columns):\n",
      " #   Column             Non-Null Count  Dtype  \n",
      "---  ------             --------------  -----  \n",
      " 0   poi                26216 non-null  object \n",
      " 1   latitude           26216 non-null  float64\n",
      " 2   longitude          26216 non-null  float64\n",
      " 3   municipality_code  26216 non-null  object \n",
      " 4   importance         26216 non-null  float64\n",
      " 5   name_reprocessed   26216 non-null  object \n",
      "dtypes: float64(3), object(3)\n",
      "memory usage: 1.2+ MB\n",
      "<class 'pandas.core.frame.DataFrame'>\n",
      "RangeIndex: 31034 entries, 0 to 31033\n",
      "Data columns (total 9 columns):\n",
      " #   Column                   Non-Null Count  Dtype  \n",
      "---  ------                   --------------  -----  \n",
      " 0   poi                      31034 non-null  object \n",
      " 1   name                     31034 non-null  object \n",
      " 2   latitude                 31034 non-null  float64\n",
      " 3   longitude                31034 non-null  float64\n",
      " 4   municipality_code        31034 non-null  object \n",
      " 5   importance               31034 non-null  float64\n",
      " 6   name_reprocessed         31034 non-null  object \n",
      " 7   data_inside_parenthesis  31034 non-null  object \n",
      " 8   Category                 31034 non-null  object \n",
      "dtypes: float64(3), object(6)\n",
      "memory usage: 2.1+ MB\n",
      "<class 'pandas.core.frame.DataFrame'>\n",
      "RangeIndex: 26675 entries, 0 to 26674\n",
      "Data columns (total 3 columns):\n",
      " #   Column             Non-Null Count  Dtype  \n",
      "---  ------             --------------  -----  \n",
      " 0   municipality_code  26675 non-null  object \n",
      " 1   avg_net_salary     26675 non-null  float64\n",
      " 2   year               26675 non-null  int64  \n",
      "dtypes: float64(1), int64(1), object(1)\n",
      "memory usage: 625.3+ KB\n",
      "<class 'pandas.core.frame.DataFrame'>\n",
      "RangeIndex: 34997 entries, 0 to 34996\n",
      "Data columns (total 9 columns):\n",
      " #   Column                Non-Null Count  Dtype  \n",
      "---  ------                --------------  -----  \n",
      " 0   municipality_code     34997 non-null  object \n",
      " 1   city_name             34997 non-null  object \n",
      " 2   city_name_normalized  34997 non-null  object \n",
      " 3   municipality_type     34997 non-null  object \n",
      " 4   latitude              34997 non-null  float64\n",
      " 5   longitude             34997 non-null  float64\n",
      " 6   department_code       34997 non-null  object \n",
      " 7   epci_code             34945 non-null  float64\n",
      " 8   department_name       34997 non-null  object \n",
      "dtypes: float64(3), object(6)\n",
      "memory usage: 2.4+ MB\n",
      "<class 'pandas.core.frame.DataFrame'>\n",
      "RangeIndex: 279584 entries, 0 to 279583\n",
      "Data columns (total 9 columns):\n",
      " #   Column                Non-Null Count   Dtype  \n",
      "---  ------                --------------   -----  \n",
      " 0   municipality_code     279584 non-null  object \n",
      " 1   year                  279584 non-null  int64  \n",
      " 2   nb_principal_home     279584 non-null  int64  \n",
      " 3   nb_second_home        279584 non-null  int64  \n",
      " 4   nb_vacants_housing    279584 non-null  int64  \n",
      " 5   nb_tot_housing        279584 non-null  int64  \n",
      " 6   secondary_home_rate   279584 non-null  float64\n",
      " 7   principal_home_rate   279584 non-null  float64\n",
      " 8   vacants_housing_rate  279584 non-null  float64\n",
      "dtypes: float64(3), int64(5), object(1)\n",
      "memory usage: 19.2+ MB\n",
      "<class 'pandas.core.frame.DataFrame'>\n",
      "RangeIndex: 3448398 entries, 0 to 3448397\n",
      "Data columns (total 13 columns):\n",
      " #   Column                     Dtype         \n",
      "---  ------                     -----         \n",
      " 0   sales_date                 datetime64[ns]\n",
      " 1   sales_amount               float64       \n",
      " 2   street_number              float64       \n",
      " 3   street_code                object        \n",
      " 4   street_name                object        \n",
      " 5   nom_commune                object        \n",
      " 6   municipality_code          object        \n",
      " 7   premise_type               object        \n",
      " 8   surface                    float64       \n",
      " 9   number_of_principal_rooms  int64         \n",
      " 10  sales_price_m2             float64       \n",
      " 11  latitude                   float64       \n",
      " 12  longitude                  float64       \n",
      "dtypes: datetime64[ns](1), float64(6), int64(1), object(5)\n",
      "memory usage: 342.0+ MB\n",
      "<class 'pandas.core.frame.DataFrame'>\n",
      "RangeIndex: 689495 entries, 0 to 689494\n",
      "Data columns (total 3 columns):\n",
      " #   Column             Non-Null Count   Dtype  \n",
      "---  ------             --------------   -----  \n",
      " 0   municipality_code  689495 non-null  object \n",
      " 1   year               689495 non-null  int64  \n",
      " 2   population         689495 non-null  float64\n",
      "dtypes: float64(1), int64(1), object(1)\n",
      "memory usage: 15.8+ MB\n",
      "<class 'pandas.core.frame.DataFrame'>\n",
      "RangeIndex: 689495 entries, 0 to 689494\n",
      "Data columns (total 3 columns):\n",
      " #   Column             Non-Null Count   Dtype  \n",
      "---  ------             --------------   -----  \n",
      " 0   municipality_code  689495 non-null  object \n",
      " 1   year               689495 non-null  int64  \n",
      " 2   population         689495 non-null  float64\n",
      "dtypes: float64(1), int64(1), object(1)\n",
      "memory usage: 15.8+ MB\n",
      "<class 'pandas.core.frame.DataFrame'>\n",
      "RangeIndex: 34441 entries, 0 to 34440\n",
      "Data columns (total 7 columns):\n",
      " #   Column                  Non-Null Count  Dtype  \n",
      "---  ------                  --------------  -----  \n",
      " 0   municipality_code       34441 non-null  object \n",
      " 1   intensite_tension_immo  34441 non-null  int64  \n",
      " 2   rental_max_apartment    34441 non-null  float64\n",
      " 3   rental_min_apartment    34441 non-null  float64\n",
      " 4   rental_med_all          34441 non-null  float64\n",
      " 5   rental_max_all          34441 non-null  float64\n",
      " 6   rental_min_all          34441 non-null  float64\n",
      "dtypes: float64(5), int64(1), object(1)\n",
      "memory usage: 1.8+ MB\n"
     ]
    }
   ],
   "source": [
    "poi_df.info()\n",
    "site_df.info()\n",
    "salary_df.info()\n",
    "georef_df.info() \n",
    "stock_df.info() \n",
    "sales_df.info()\n",
    "population_df.info() \n",
    "poverty_df.info()\n",
    "real_estate_df.info()"
   ]
  },
  {
   "cell_type": "code",
   "execution_count": null,
   "metadata": {},
   "outputs": [],
   "source": [
    "poi_df.head(1)"
   ]
  },
  {
   "cell_type": "code",
   "execution_count": null,
   "metadata": {},
   "outputs": [],
   "source": [
    "site_df.head(1) "
   ]
  },
  {
   "cell_type": "code",
   "execution_count": null,
   "metadata": {},
   "outputs": [],
   "source": [
    "salary_df.head(1)"
   ]
  },
  {
   "cell_type": "code",
   "execution_count": null,
   "metadata": {},
   "outputs": [],
   "source": [
    "georef_df.head(1) "
   ]
  },
  {
   "cell_type": "code",
   "execution_count": null,
   "metadata": {},
   "outputs": [],
   "source": [
    "stock_df.head(1) "
   ]
  },
  {
   "cell_type": "code",
   "execution_count": null,
   "metadata": {},
   "outputs": [],
   "source": [
    "sales_df.head(1)"
   ]
  },
  {
   "cell_type": "code",
   "execution_count": null,
   "metadata": {},
   "outputs": [],
   "source": [
    "population_df.head(1) "
   ]
  },
  {
   "cell_type": "code",
   "execution_count": null,
   "metadata": {},
   "outputs": [],
   "source": [
    "poverty_df.head(1)"
   ]
  },
  {
   "cell_type": "code",
   "execution_count": null,
   "metadata": {},
   "outputs": [],
   "source": [
    "real_estate_df.head(1)"
   ]
  },
  {
   "cell_type": "markdown",
   "metadata": {
    "id": "i0j9hJqlFaEc"
   },
   "source": [
    "# 🧪 **DATA TRANSFORMATION**"
   ]
  },
  {
   "cell_type": "markdown",
   "metadata": {
    "id": "XYnKDVU0sb0S"
   },
   "source": [
    "### KPIS AGGREGATION BY DEPARTMENT"
   ]
  },
  {
   "cell_type": "markdown",
   "metadata": {
    "id": "XYnKDVU0sb0S",
    "jp-MarkdownHeadingCollapsed": true
   },
   "source": [
    "##### 1. TOURISM"
   ]
  },
  {
   "cell_type": "code",
   "execution_count": null,
   "metadata": {},
   "outputs": [],
   "source": []
  },
  {
   "cell_type": "markdown",
   "metadata": {
    "id": "XYnKDVU0sb0S",
    "jp-MarkdownHeadingCollapsed": true
   },
   "source": [
    "##### 2. REAL ESTATE"
   ]
  },
  {
   "cell_type": "code",
   "execution_count": null,
   "metadata": {},
   "outputs": [],
   "source": [
    "# 3.2 Tension immobilière par département\n",
    "# Calculer la tension immobilière par département\n",
    "housing_tension_per_department = real_estate_dep_df.groupby(['department_code', 'department_name'])['intensite_tension_immo'].mean().reset_index()\n",
    "housing_tension_per_department.rename(columns={'intensite_tension_immo': 'avg_housing_tension'}, inplace=True)\n",
    "housing_tension_per_department"
   ]
  },
  {
   "cell_type": "code",
   "execution_count": null,
   "metadata": {},
   "outputs": [],
   "source": [
    "# 3.3 Part de maisons secondaires par département\n",
    "# Calculer la part de maisons secondaires par département\n",
    "secondary_home_rate_per_department = stock_dep_df.groupby(['department_code', 'department_name'])['secondary_home_rate'].mean().reset_index()\n",
    "secondary_home_rate_per_department.rename(columns={'secondary_home_rate': 'avg_secondary_home_rate'}, inplace=True)\n",
    "secondary_home_rate_per_department"
   ]
  },
  {
   "cell_type": "code",
   "execution_count": null,
   "metadata": {},
   "outputs": [],
   "source": [
    "# 3.4 Évolution du prix au m² par département\n",
    "# Joindre les informations de géolocalisation pour obtenir les départements\n",
    "sales_dep_df = sales_df.merge(georef_df[['municipality_code', 'department_code', 'department_name']], on='municipality_code')\n",
    "\n",
    "# Calculer l'évolution du prix au m² par département\n",
    "price_evolution = sales_dep_df.groupby(['department_code', 'department_name', 'sales_date'])['sales_price_m2'].mean().unstack().reset_index()\n",
    "price_evolution['price_evolution'] = (price_evolution[price_evolution.columns[-1]] - price_evolution[price_evolution.columns[-2]]) / price_evolution[price_evolution.columns[-2]] * 100\n",
    "price_evolution = price_evolution[['department_code', 'department_name', 'price_evolution']]\n",
    "price_evolution.head()\n"
   ]
  },
  {
   "cell_type": "code",
   "execution_count": null,
   "metadata": {},
   "outputs": [],
   "source": [
    "# Calculer le prix moyen au m² des ventes immobilières par département\n",
    "avg_price_per_m2_per_department = sales_dep_df.groupby(['department_code', 'department_name'])['sales_price_m2'].mean().reset_index()\n",
    "avg_price_per_m2_per_department.rename(columns={'sales_price_m2': 'avg_sales_price_m2'}, inplace=True)\n",
    "avg_price_per_m2_per_department.head()"
   ]
  },
  {
   "cell_type": "markdown",
   "metadata": {},
   "source": [
    "Population\n",
    "1.1 Salaire moyen par département\n",
    "1.2 Évolution de la population par département\n",
    "1.3 Taux de pauvreté par département\n",
    "\n",
    "Tourisme\n",
    "2.1 Nombre de sites touristiques par département\n",
    "2.2 Importance moyenne des sites par département\n",
    "2.3 Stock de logement par département\n",
    "\n",
    "Immobilier\n",
    "3.1 Rentabilité locative au m² par département\n",
    "3.2 Tension immobilière par département\n",
    "3.3 Part de maisons secondaires par département\n",
    "3.4 Évolution du prix au m² par département\n",
    "3.5 Prix moyen au m² des ventes immobilières par département\n",
    "creer moi un système de scoring (avec pondération) pour avoir :\n",
    "\n",
    "un score Population\n",
    "un score Tourisme\n",
    "un score Immobilier\n",
    "puis un Score Global grâce aux 3 précédents scores"
   ]
  },
  {
   "cell_type": "code",
   "execution_count": null,
   "metadata": {},
   "outputs": [],
   "source": [
    "# Supposons que vous avez déjà calculé les données nécessaires pour les scores Population, Tourisme et Immobilier\n",
    "\n",
    "# 1. Définition des poids pour chaque sous-score dans chaque catégorie\n",
    "weights_population = {\n",
    "    'average_salary': 0.4,\n",
    "    'population_growth': 0.3,\n",
    "    'poverty_rate': 0.3\n",
    "}\n",
    "\n",
    "weights_tourism = {\n",
    "    'num_tourism_sites': 0.4,\n",
    "    'average_importance': 0.3,\n",
    "    'stock_housing': 0.3\n",
    "}\n",
    "\n",
    "weights_real_estate = {\n",
    "    'rental_yield_per_m2': 0.2,\n",
    "    'real_estate_tension': 0.2,\n",
    "    'secondary_home_rate': 0.1,\n",
    "    'price_growth': 0.2,\n",
    "    'average_price_per_m2': 0.3\n",
    "}\n",
    "\n",
    "# 2. Calcul des scores pour chaque catégorie\n",
    "\n",
    "# POPULATION\n",
    "# Supposons que vous avez déjà les dataframes suivants : average_salary_by_department, population_evolution_by_department, average_poverty_rate_by_department\n",
    "\n",
    "population_scores = (\n",
    "    avg_salary_per_department['avg_salary'] * weights_population['average_salary'] +\n",
    "    pop_evolution['evolution'] * weights_population['population_growth'] +\n",
    "    (100 - average_poverty_rate_by_department['poverty_rate']) * weights_population['poverty_rate']\n",
    ")\n",
    "\n",
    "# TOURISM\n",
    "# Supposons que vous avez déjà les dataframes suivants : tourism_sites_by_department, average_importance_by_department, stock_housing_by_department\n",
    "\n",
    "tourism_scores = (\n",
    "    tourism_sites_by_department['num_tourism_sites'] * weights_tourism['num_tourism_sites'] +\n",
    "    average_importance_by_department['importance'] * weights_tourism['average_importance'] +\n",
    "    stock_housing_by_department['stock_housing'] * weights_tourism['stock_housing']\n",
    ")\n",
    "\n",
    "# REAL ESTATE\n",
    "# Supposons que vous avez déjà les dataframes suivants : rental_yield_per_m2_by_department, real_estate_tension_by_department, second_home_rate_by_department, price_growth_by_department, average_price_per_m2_by_department\n",
    "\n",
    "real_estate_scores = (\n",
    "    rental_yield_per_m2_by_department['rental_yield_per_m2'] * weights_real_estate['rental_yield_per_m2'] +\n",
    "    (100 - real_estate_tension_by_department['intensite_tension_immo']) * weights_real_estate['real_estate_tension'] +\n",
    "    (100 - second_home_rate_by_department['secondary_home_rate']) * weights_real_estate['secondary_home_rate'] +\n",
    "    price_growth_by_department['price_growth'] * weights_real_estate['price_growth'] +\n",
    "    average_price_per_m2_by_department['average_price_per_m2'] * weights_real_estate['average_price_per_m2']\n",
    ")\n",
    "\n",
    "# 3. Calcul du score global\n",
    "# Supposons que les scores sont déjà calculés pour chaque catégorie\n",
    "\n",
    "global_score = (\n",
    "    population_scores +\n",
    "    tourism_scores +\n",
    "    real_estate_scores\n",
    ")\n",
    "\n",
    "# Afficher ou utiliser les résultats\n",
    "print(\"Scores Population :\\n\", population_scores.head())\n",
    "print(\"\\nScores Tourisme :\\n\", tourism_scores.head())\n",
    "print(\"\\nScores Immobilier :\\n\", real_estate_scores.head())\n",
    "print(\"\\nScore Global :\\n\", global_score.head())\n"
   ]
  },
  {
   "cell_type": "code",
   "execution_count": null,
   "metadata": {},
   "outputs": [],
   "source": [
    "# POPULATION SCORE\n",
    "from sklearn.preprocessing import MinMaxScaler\n",
    "\n",
    "# Supposons que vous avez déjà calculé les sous-scores pour la catégorie Population : average_salary_by_department, population_evolution_by_department, average_poverty_rate_by_department\n",
    "\n",
    "# Initialisation du MinMaxScaler\n",
    "scaler_population = MinMaxScaler()\n",
    "\n",
    "# Normalisation des données\n",
    "population_scores_scaled = scaler_population.fit_transform(\n",
    "    population_scores[['avg_net_salary', 'population_growth', 'poverty_rate']]\n",
    ")\n",
    "\n",
    "# Calcul des scores normalisés\n",
    "population_scores_normalized = (\n",
    "    population_scores_scaled[:, 0] * weights_population['average_salary'] +\n",
    "    population_scores_scaled[:, 1] * weights_population['population_growth'] +\n",
    "    population_scores_scaled[:, 2] * weights_population['poverty_rate']\n",
    ")\n",
    "\n",
    "# Afficher ou utiliser les résultats des scores normalisés\n",
    "print(\"Scores Population normalisés :\\n\", population_scores_normalized.head())\n"
   ]
  },
  {
   "cell_type": "code",
   "execution_count": null,
   "metadata": {},
   "outputs": [],
   "source": [
    "# TOURISM SCORE\n",
    "# Supposons que vous avez déjà calculé les sous-scores pour la catégorie Tourisme : tourism_sites_by_department, average_importance_by_department, stock_housing_by_department\n",
    "\n",
    "# Initialisation du MinMaxScaler\n",
    "scaler_tourism = MinMaxScaler()\n",
    "\n",
    "# Normalisation des données\n",
    "tourism_scores_scaled = scaler_tourism.fit_transform(\n",
    "    tourism_scores[['num_tourism_sites', 'average_importance', 'stock_housing']]\n",
    ")\n",
    "\n",
    "# Calcul des scores normalisés\n",
    "tourism_scores_normalized = (\n",
    "    tourism_scores_scaled[:, 0] * weights_tourism['num_tourism_sites'] +\n",
    "    tourism_scores_scaled[:, 1] * weights_tourism['average_importance'] +\n",
    "    tourism_scores_scaled[:, 2] * weights_tourism['stock_housing']\n",
    ")\n",
    "\n",
    "# Afficher ou utiliser les résultats des scores normalisés\n",
    "print(\"Scores Tourisme normalisés :\\n\", tourism_scores_normalized.head())\n"
   ]
  },
  {
   "cell_type": "code",
   "execution_count": null,
   "metadata": {},
   "outputs": [],
   "source": [
    "# 1 REAL ESTATE SCORE\n",
    "# Supposons que vous avez déjà calculé les sous-scores pour la catégorie Immobilier : rental_yield_per_m2_by_department, real_estate_tension_by_department, second_home_rate_by_department, price_growth_by_department, average_price_per_m2_by_department\n",
    "\n",
    "# Initialisation du MinMaxScaler\n",
    "scaler_real_estate = MinMaxScaler()\n",
    "\n",
    "# Normalisation des données\n",
    "real_estate_scores_scaled = scaler_real_estate.fit_transform(\n",
    "    real_estate_scores[['rental_yield_per_m2', 'real_estate_tension', 'secondary_home_rate', 'price_growth', 'average_price_per_m2']]\n",
    ")\n",
    "\n",
    "# Calcul des scores normalisés\n",
    "real_estate_scores_normalized = (\n",
    "    real_estate_scores_scaled[:, 0] * weights_real_estate['rental_yield_per_m2'] +\n",
    "    real_estate_scores_scaled[:, 1] * weights_real_estate['real_estate_tension'] +\n",
    "    real_estate_scores_scaled[:, 2] * weights_real_estate['secondary_home_rate'] +\n",
    "    real_estate_scores_scaled[:, 3] * weights_real_estate['price_growth'] +\n",
    "    real_estate_scores_scaled[:, 4] * weights_real_estate['average_price_per_m2']\n",
    ")\n",
    "\n",
    "# Afficher ou utiliser les résultats des scores normalisés\n",
    "print(\"Scores Immobilier normalisés :\\n\", real_estate_scores_normalized.head())\n"
   ]
  },
  {
   "cell_type": "code",
   "execution_count": null,
   "metadata": {},
   "outputs": [],
   "source": [
    "1 GLOBAL SCORE\n",
    "# Supposons que vous avez déjà les scores normalisés pour chaque catégorie\n",
    "# population_scores_normalized, tourism_scores_normalized, real_estate_scores_normalized\n",
    "\n",
    "# Définition des poids pour chaque catégorie\n",
    "weights = {\n",
    "    'population': 0.4,\n",
    "    'tourism': 0.3,\n",
    "    'real_estate': 0.3\n",
    "}\n",
    "\n",
    "# Calcul du score global pondéré\n",
    "global_score = (\n",
    "    population_scores_normalized * weights['population'] +\n",
    "    tourism_scores_normalized * weights['tourism'] +\n",
    "    real_estate_scores_normalized * weights['real_estate']\n",
    ")\n",
    "\n",
    "# Afficher ou utiliser le score global\n",
    "print(\"Score Global :\\n\", global_score.head())\n"
   ]
  },
  {
   "cell_type": "code",
   "execution_count": null,
   "metadata": {},
   "outputs": [],
   "source": [
    "# 3.1 Rentabilité locative au m² par département\n",
    "# Joindre les informations de géolocalisation pour obtenir les départements\n",
    "real_estate_dep_df = real_estate_df.merge(georef_df[['municipality_code', 'department_code', 'department_name']], on='municipality_code')\n",
    "\n",
    "# Calculer la rentabilité locative moyenne au m² par département\n",
    "real_estate_dep_df['avg_rental_yield'] = (real_estate_dep_df['rental_max_all'] + real_estate_dep_df['rental_min_all']) / 2\n",
    "rental_yield_per_department = real_estate_dep_df.groupby(['department_code', 'department_name'])['avg_rental_yield'].mean().reset_index()\n",
    "rental_yield_per_department.rename(columns={'avg_rental_yield': 'avg_rental_yield'}, inplace=True)\n",
    "rental_yield_per_department"
   ]
  },
  {
   "cell_type": "markdown",
   "metadata": {
    "id": "XYnKDVU0sb0S"
   },
   "source": [
    "##### 3. SECONDARY HOME"
   ]
  },
  {
   "cell_type": "code",
   "execution_count": 33,
   "metadata": {},
   "outputs": [
    {
     "data": {
      "text/html": [
       "<div>\n",
       "<style scoped>\n",
       "    .dataframe tbody tr th:only-of-type {\n",
       "        vertical-align: middle;\n",
       "    }\n",
       "\n",
       "    .dataframe tbody tr th {\n",
       "        vertical-align: top;\n",
       "    }\n",
       "\n",
       "    .dataframe thead th {\n",
       "        text-align: right;\n",
       "    }\n",
       "</style>\n",
       "<table border=\"1\" class=\"dataframe\">\n",
       "  <thead>\n",
       "    <tr style=\"text-align: right;\">\n",
       "      <th></th>\n",
       "      <th>department_code</th>\n",
       "      <th>department_name</th>\n",
       "      <th>avg_house_surface</th>\n",
       "    </tr>\n",
       "  </thead>\n",
       "  <tbody>\n",
       "    <tr>\n",
       "      <th>0</th>\n",
       "      <td>01</td>\n",
       "      <td>Ain</td>\n",
       "      <td>103.252328</td>\n",
       "    </tr>\n",
       "    <tr>\n",
       "      <th>1</th>\n",
       "      <td>02</td>\n",
       "      <td>Aisne</td>\n",
       "      <td>101.221864</td>\n",
       "    </tr>\n",
       "    <tr>\n",
       "      <th>2</th>\n",
       "      <td>03</td>\n",
       "      <td>Allier</td>\n",
       "      <td>95.459944</td>\n",
       "    </tr>\n",
       "    <tr>\n",
       "      <th>3</th>\n",
       "      <td>04</td>\n",
       "      <td>Alpes-de-Haute-Provence</td>\n",
       "      <td>84.560073</td>\n",
       "    </tr>\n",
       "    <tr>\n",
       "      <th>4</th>\n",
       "      <td>05</td>\n",
       "      <td>Hautes-Alpes</td>\n",
       "      <td>80.168163</td>\n",
       "    </tr>\n",
       "  </tbody>\n",
       "</table>\n",
       "</div>"
      ],
      "text/plain": [
       "  department_code          department_name  avg_house_surface\n",
       "0              01                      Ain         103.252328\n",
       "1              02                    Aisne         101.221864\n",
       "2              03                   Allier          95.459944\n",
       "3              04  Alpes-de-Haute-Provence          84.560073\n",
       "4              05             Hautes-Alpes          80.168163"
      ]
     },
     "execution_count": 33,
     "metadata": {},
     "output_type": "execute_result"
    }
   ],
   "source": [
    "# 3.1 Taille moyenne des maisons vendues en superficie\n",
    "\n",
    "# Joindre les informations de géolocalisation pour obtenir les départements\n",
    "real_estate_sales_dep = sales_df.merge(\n",
    "    georef_df[['municipality_code', 'department_code', 'department_name']],\n",
    "    on='municipality_code'\n",
    ")\n",
    "\n",
    "# Calculer la surface moyenne des logements vendus par municipalité\n",
    "average_surface_municipality = real_estate_sales_dep.groupby('municipality_code')['surface'].mean().reset_index()\n",
    "average_surface_municipality.rename(columns={'surface': 'average_surface'}, inplace=True)\n",
    "\n",
    "# Joindre les informations de géolocalisation pour obtenir les départements\n",
    "average_surface_municipality = average_surface_municipality.merge(\n",
    "    georef_df[['municipality_code', 'department_code', 'department_name']],\n",
    "    on='municipality_code'\n",
    ")\n",
    "\n",
    "# Calculer la surface moyenne des logements vendus par département\n",
    "average_surface_department = average_surface_municipality.groupby(['department_code', 'department_name'])['average_surface'].mean().reset_index()\n",
    "average_surface_department.rename(columns={'average_surface': 'avg_house_surface'}, inplace=True)\n",
    "\n",
    "average_surface_department.head()"
   ]
  },
  {
   "cell_type": "code",
   "execution_count": 35,
   "metadata": {},
   "outputs": [
    {
     "name": "stdout",
     "output_type": "stream",
     "text": [
      "   department_code department_name  avg_house_surface\n",
      "72              75           Paris           55.11202\n"
     ]
    }
   ],
   "source": [
    "# Filtre sur un departement en particulier (exemple paris 75)\n",
    "print(average_surface_department[average_surface_department['department_code'] == '75'])"
   ]
  },
  {
   "cell_type": "code",
   "execution_count": 50,
   "metadata": {},
   "outputs": [
    {
     "name": "stdout",
     "output_type": "stream",
     "text": [
      "   department_code          department_name  secondary_home_rate_evolution\n",
      "0               01                      Ain                            inf\n",
      "1               02                    Aisne                            inf\n",
      "2               03                   Allier                            inf\n",
      "3               04  Alpes-de-Haute-Provence                       3.350143\n",
      "4               05             Hautes-Alpes                      -4.386948\n",
      "5               06          Alpes-Maritimes                      -1.166718\n",
      "6               07                  Ardèche                      -7.774843\n",
      "7               08                 Ardennes                            inf\n",
      "8               09                   Ariège                            inf\n",
      "9               10                     Aube                            inf\n",
      "10              11                     Aude                            inf\n",
      "11              12                  Aveyron                      -0.210740\n",
      "12              13         Bouches-du-Rhône                      36.192407\n",
      "13              14                 Calvados                            inf\n",
      "14              15                   Cantal                       2.519021\n"
     ]
    }
   ],
   "source": [
    "# 3.2 Évolution du % des maisons secondaires\n",
    "\n",
    "# Filtrer les données pour les années 2008 et 2018\n",
    "housing_2008 = stock_df[stock_df['year'] == 2008]\n",
    "housing_2018 = stock_df[stock_df['year'] == 2018]\n",
    "\n",
    "# Renommer les colonnes pour les années spécifiques\n",
    "housing_2008 = housing_2008[['municipality_code', 'secondary_home_rate']].rename(columns={'secondary_home_rate': 'secondary_home_rate_2008'})\n",
    "housing_2018 = housing_2018[['municipality_code', 'secondary_home_rate']].rename(columns={'secondary_home_rate': 'secondary_home_rate_2018'})\n",
    "\n",
    "# Joindre les données pour les années 2008 et 2018 sur le code de municipalité\n",
    "secondary_home_rate_comparison = housing_2008.merge(housing_2018, on='municipality_code')\n",
    "\n",
    "# Remplacer les valeurs 0 de 2008 pour éviter la division par zéro\n",
    "secondary_home_rate_comparison['secondary_home_rate_2008'].replace(0, np.nan, inplace=True)\n",
    "\n",
    "# Calculer l'évolution du pourcentage de maisons secondaires par municipalité\n",
    "secondary_home_rate_comparison['secondary_home_rate_evolution'] = (\n",
    "    (secondary_home_rate_comparison['secondary_home_rate_2018'] - secondary_home_rate_comparison['secondary_home_rate_2008']) / \n",
    "    secondary_home_rate_comparison['secondary_home_rate_2008']\n",
    ") * 100\n",
    "\n",
    "# Remplacer les valeurs infinies et NaN par 0\n",
    "secondary_home_rate_comparison['secondary_home_rate_evolution'].replace([np.inf, -np.inf], np.nan, inplace=True)\n",
    "secondary_home_rate_comparison['secondary_home_rate_evolution'].fillna(0, inplace=True)\n",
    "\n",
    "# Joindre les informations de géolocalisation pour obtenir les départements\n",
    "secondary_home_rate_comparison = secondary_home_rate_comparison.merge(\n",
    "    georef_df[['municipality_code', 'department_code', 'department_name']],\n",
    "    on='municipality_code'\n",
    ")\n",
    "\n",
    "# Calculer l'évolution moyenne du pourcentage de maisons secondaires par département\n",
    "secondary_home_rate_evolution_department = secondary_home_rate_comparison.groupby(['department_code', 'department_name'])['secondary_home_rate_evolution'].mean().reset_index()\n",
    "secondary_home_rate_evolution_department.rename(columns={'secondary_home_rate_evolution': 'secondary_home_rate_evolution'}, inplace=True)\n",
    "\n",
    "print(secondary_home_rate_evolution_department.head())"
   ]
  },
  {
   "cell_type": "markdown",
   "metadata": {
    "id": "XYnKDVU0sb0S",
    "jp-MarkdownHeadingCollapsed": true
   },
   "source": [
    "##### 4. LIFE QUALITY"
   ]
  },
  {
   "cell_type": "code",
   "execution_count": null,
   "metadata": {},
   "outputs": [],
   "source": []
  },
  {
   "cell_type": "markdown",
   "metadata": {
    "id": "XYnKDVU0sb0S",
    "jp-MarkdownHeadingCollapsed": true
   },
   "source": [
    "##### POPULATION"
   ]
  },
  {
   "cell_type": "code",
   "execution_count": null,
   "metadata": {},
   "outputs": [],
   "source": [
    "# 1.1 Salaire moyen par département\n",
    "# Joindre les informations de géolocalisation pour obtenir les départements\n",
    "salary_dep_df = salary_df.merge(georef_df[['municipality_code', 'department_code', 'department_name']], on='municipality_code')\n",
    "\n",
    "# Calculer le salaire moyen par département\n",
    "avg_salary_per_department = salary_dep_df.groupby(['department_code', 'department_name'])['avg_net_salary'].mean().reset_index().round()\n",
    "avg_salary_per_department.rename(columns={'avg_net_salary': 'avg_salary'}, inplace=True)\n",
    "avg_salary_per_department.head()"
   ]
  },
  {
   "cell_type": "code",
   "execution_count": null,
   "metadata": {},
   "outputs": [],
   "source": [
    "# 1.2 Évolution de la population par département\n",
    "# Joindre les informations de géolocalisation pour obtenir les départements\n",
    "population_dep_df = population_df.merge(georef_df[['municipality_code', 'department_code', 'department_name']], on='municipality_code')\n",
    "\n",
    "# Calculer l'évolution de la population par département (différence entre les années)\n",
    "pop_evolution = population_dep_df.groupby(['department_code', 'department_name', 'year'])['population'].sum().unstack().reset_index()\n",
    "pop_evolution['evolution'] = (pop_evolution[pop_evolution.columns[-1]] - pop_evolution[pop_evolution.columns[-2]]) / pop_evolution[pop_evolution.columns[-2]] * 100\n",
    "pop_evolution = pop_evolution[['department_code', 'department_name', 'evolution']]\n",
    "\n",
    "pop_evolution.head()"
   ]
  },
  {
   "cell_type": "code",
   "execution_count": null,
   "metadata": {},
   "outputs": [],
   "source": [
    "# 1.3 Taux de pauvreté par département\n",
    "# Joindre les données de population\n",
    "poverty_df = poverty_df.merge(population_df[['municipality_code', 'population']], on='municipality_code', suffixes=('_poverty', '_population'))\n",
    "\n",
    "# Merge avec georef pour avoir le department_name\n",
    "poverty_df = poverty_df.merge(georef_df[['municipality_code', 'department_name']], on='municipality_code', how='left')\n",
    "\n",
    "# Groupe par department_name pour calculer le taux de pauvreté par département\n",
    "poverty_by_department = poverty_df.groupby('department_name').agg({\n",
    "    'population_poverty': 'sum',\n",
    "    'population_population': 'sum'\n",
    "}).reset_index()\n",
    "\n",
    "# Calculer le poverty_rate pour chaque département\n",
    "poverty_by_department['poverty_rate'] = (poverty_by_department['population_poverty'] / poverty_by_department['population']) * 100\n",
    "\n",
    "# Afficher le résultat\n",
    "poverty_by_department.head()\n",
    "\n",
    "# calcul = poverty_rate = poverty_population / total_population * 100\n",
    "# il faut ensuite le DF qui a poverty_rate à georef pour récupérer le department_name"
   ]
  },
  {
   "cell_type": "code",
   "execution_count": null,
   "metadata": {},
   "outputs": [],
   "source": [
    "# 2.1 Nombre de sites touristiques par département\n",
    "# Joindre les informations de géolocalisation pour obtenir les départements\n",
    "site_dep_df = site_df.merge(georef_df[['municipality_code', 'department_code', 'department_name']], on='municipality_code')\n",
    "\n",
    "# Calculer le nombre de sites touristiques par département\n",
    "num_sites_per_department = site_dep_df.groupby(['department_code', 'department_name'])['poi'].count().reset_index()\n",
    "num_sites_per_department.rename(columns={'poi': 'nb_sites'}, inplace=True)\n",
    "num_sites_per_department.head()"
   ]
  },
  {
   "cell_type": "code",
   "execution_count": null,
   "metadata": {},
   "outputs": [],
   "source": [
    "# 2.2 Importance moyenne des sites par département\n",
    "# Calculer l'importance moyenne des sites touristiques par département\n",
    "avg_site_importance_per_department = site_dep_df.groupby(['department_code', 'department_name'])['importance'].mean().reset_index()\n",
    "avg_site_importance_per_department.rename(columns={'importance': 'avg_site_importance'}, inplace=True)\n",
    "avg_site_importance_per_department.head()"
   ]
  },
  {
   "cell_type": "code",
   "execution_count": null,
   "metadata": {},
   "outputs": [],
   "source": [
    "# 2.3 Stock de logement par département\n",
    "# Joindre les informations de géolocalisation pour obtenir les départements\n",
    "stock_dep_df = stock_df.merge(georef_df[['municipality_code', 'department_code', 'department_name']], on='municipality_code')\n",
    "\n",
    "# Calculer le stock de logement par département (nombre total de logements)\n",
    "total_stock_per_department = stock_dep_df.groupby(['department_code', 'department_name'])['nb_tot_housing'].sum().reset_index()\n",
    "total_stock_per_department.rename(columns={'nb_tot_housing': 'total_stock'}, inplace=True)\n",
    "total_stock_per_department.head()"
   ]
  },
  {
   "cell_type": "markdown",
   "metadata": {
    "id": "XYnKDVU0sb0S",
    "jp-MarkdownHeadingCollapsed": true
   },
   "source": [
    "# 🚀 ENRICHED EXPORT"
   ]
  },
  {
   "cell_type": "code",
   "execution_count": null,
   "metadata": {},
   "outputs": [],
   "source": []
  }
 ],
 "metadata": {
  "colab": {
   "collapsed_sections": [
    "MtiYSUHHSCws",
    "qzPmsWEUq5zk",
    "Qhf-qyfBrBrU",
    "WUbRvCbWrC-g",
    "IaW8clyJrE7k",
    "gHemM-SqrGyN",
    "wDh1nf-1rIgb",
    "DEROdiJirK6M",
    "-pWIMamvrMgo",
    "i0j9hJqlFaEc",
    "FZ-ON4l9sVwu",
    "XYnKDVU0sb0S",
    "sNX4qmi1Gdyx"
   ],
   "provenance": []
  },
  "kernelspec": {
   "display_name": "Python 3 (ipykernel)",
   "language": "python",
   "name": "python3"
  },
  "language_info": {
   "codemirror_mode": {
    "name": "ipython",
    "version": 3
   },
   "file_extension": ".py",
   "mimetype": "text/x-python",
   "name": "python",
   "nbconvert_exporter": "python",
   "pygments_lexer": "ipython3",
   "version": "3.12.3"
  }
 },
 "nbformat": 4,
 "nbformat_minor": 4
}
