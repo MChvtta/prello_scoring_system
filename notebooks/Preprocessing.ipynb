{
 "cells": [
  {
   "cell_type": "markdown",
   "metadata": {
    "id": "MtiYSUHHSCws"
   },
   "source": [
    "# ⚙️ **DATA IMPORT**"
   ]
  },
  {
   "cell_type": "code",
   "execution_count": 1,
   "metadata": {
    "id": "JmHBpzSNQyBu"
   },
   "outputs": [],
   "source": [
    "import pandas as pd\n",
    "import numpy as np\n",
    "import os\n",
    "\n",
    "DATA_PATH = '../data/raw'\n",
    "\n",
    "POI_FILENAME = 'POI_tourist_establishments.csv'\n",
    "SITE_FILENAME = 'POI_touristic_sites_by_municipality.csv'\n",
    "SALARY_FILENAME = 'average_salary_by_municipality.csv'\n",
    "GEOREF_FILENAME = 'geographical_referential.csv'\n",
    "STOCK_FILENAME = 'housing_stock.csv'\n",
    "SALES_FILENAME = 'notary_real_estate_sales.csv'\n",
    "POPULATION_FILENAME = 'population_by_municipality.csv'\n",
    "POVERTY_FILENAME = 'poverty_population_by_municipality.csv'\n",
    "REAL_ESTATE_FILENAME = 'real_estate_info_by_municipality.csv'\n",
    "\n",
    "poi_df = pd.read_csv(os.path.join(DATA_PATH, POI_FILENAME),usecols=lambda column: column != 'name')\n",
    "site_df = pd.read_csv(os.path.join(DATA_PATH, SITE_FILENAME))\n",
    "salary_df = pd.read_csv(os.path.join(DATA_PATH, SALARY_FILENAME),usecols=lambda column: column != 'country_code')\n",
    "georef_df = pd.read_csv(os.path.join(DATA_PATH, GEOREF_FILENAME),usecols=lambda column: column != 'country_code')\n",
    "stock_df = pd.read_csv(os.path.join(DATA_PATH, STOCK_FILENAME),usecols=lambda column: column not in ['int64_field_0', 'country_code'])\n",
    "sales_df = pd.read_csv(os.path.join(DATA_PATH, SALES_FILENAME))\n",
    "population_df = pd.read_csv(os.path.join(DATA_PATH, POPULATION_FILENAME),usecols=lambda column: column != 'country_code')\n",
    "poverty_df = pd.read_csv(os.path.join(DATA_PATH, POVERTY_FILENAME),usecols=lambda column: column != 'country_code')\n",
    "real_estate_df = pd.read_csv(os.path.join(DATA_PATH, REAL_ESTATE_FILENAME))"
   ]
  },
  {
   "cell_type": "markdown",
   "metadata": {
    "id": "_dsdbtLaFVvf"
   },
   "source": [
    "# 🔭 **DATA EXPLORATION**\n",
    "\n",
    "\n"
   ]
  },
  {
   "cell_type": "markdown",
   "metadata": {
    "id": "qzPmsWEUq5zk",
    "jp-MarkdownHeadingCollapsed": true
   },
   "source": [
    "#### DF POI"
   ]
  },
  {
   "cell_type": "code",
   "execution_count": null,
   "metadata": {
    "colab": {
     "base_uri": "https://localhost:8080/",
     "height": 206
    },
    "id": "2jlBgmvTq1FC",
    "outputId": "7e88d8c6-387a-4347-9bac-584b54d21802"
   },
   "outputs": [],
   "source": [
    "poi_df.head() #DATA CLEAN\n",
    "# importance : poids interne pour évaluer l'importance"
   ]
  },
  {
   "cell_type": "code",
   "execution_count": null,
   "metadata": {},
   "outputs": [],
   "source": [
    "# Création de la carte avec Plotly Express\n",
    "#fig = px.scatter_mapbox(poi_df, lat='latitude', lon='longitude', hover_name='name_reprocessed',\n",
    "                        #color='poi', size='importance', zoom=5, height=990)\n",
    "\n",
    "# Personnalisation du titre et du style de la carte\n",
    "#fig.update_layout(\n",
    "    #title='Répartition des points d\\'intérêt',\n",
    "    #mapbox_style='open-street-map'  # Vous pouvez choisir parmi d'autres styles de carte, par exemple 'carto-positron'\n",
    "#)\n",
    "\n",
    "# Réduction de la taille des points\n",
    "#fig.update_traces(marker=dict(size=4))\n",
    "\n",
    "# Affichage du graphique\n",
    "#fig.show()"
   ]
  },
  {
   "cell_type": "code",
   "execution_count": null,
   "metadata": {},
   "outputs": [],
   "source": [
    "#poi_count = poi_df['poi'].value_counts()\n",
    "\n",
    "# Création du diagramme circulaire avec Plotly Express\n",
    "#fig = px.pie(names=poi_count.index, values=poi_count.values, title='Répartition des points d\\'intérêt (POI)')\n",
    "\n",
    "# Affichage du graphique\n",
    "#fig.show()"
   ]
  },
  {
   "cell_type": "code",
   "execution_count": null,
   "metadata": {
    "colab": {
     "base_uri": "https://localhost:8080/"
    },
    "id": "JwMXJOH3t22N",
    "outputId": "5265bdc2-4c20-468f-cdb0-e3ddfcc191f4"
   },
   "outputs": [],
   "source": [
    "# 0 DOUBLONS !\n",
    "poi_df.duplicated().sum()#.drop_duplicates()"
   ]
  },
  {
   "cell_type": "code",
   "execution_count": null,
   "metadata": {
    "colab": {
     "base_uri": "https://localhost:8080/"
    },
    "id": "en4Krf81uzWC",
    "outputId": "1f057e30-8fde-468b-b97e-178acb96b871"
   },
   "outputs": [],
   "source": [
    "poi_df.info()\n",
    "poi_df.isnull().sum()"
   ]
  },
  {
   "cell_type": "markdown",
   "metadata": {
    "id": "0eBByRxTq_5z",
    "jp-MarkdownHeadingCollapsed": true
   },
   "source": [
    "#### DF SITE"
   ]
  },
  {
   "cell_type": "code",
   "execution_count": null,
   "metadata": {
    "colab": {
     "base_uri": "https://localhost:8080/",
     "height": 206
    },
    "id": "fMYRW5xNr6i2",
    "outputId": "dedf1d5d-bb91-475c-ae8c-e11e19d7187b"
   },
   "outputs": [],
   "source": [
    "site_df.head() # DATA CLEAN\n",
    "# importance : poids interne pour évaluer l'importance"
   ]
  },
  {
   "cell_type": "code",
   "execution_count": null,
   "metadata": {},
   "outputs": [],
   "source": [
    "# Création de la carte avec Plotly Express\n",
    "#fig = px.scatter_mapbox(site_df, lat='latitude', lon='longitude', hover_name='name_reprocessed',\n",
    "                        #color='poi', size='importance', zoom=5, height=990)\n",
    "\n",
    "# Personnalisation du titre et du style de la carte\n",
    "#fig.update_layout(\n",
    "    #title='Répartition des site touristiques',\n",
    "    #mapbox_style='open-street-map'  # Vous pouvez choisir parmi d'autres styles de carte, par exemple 'carto-positron'\n",
    "#)\n",
    "\n",
    "# Réduction de la taille des points\n",
    "#fig.update_traces(marker=dict(size=4))\n",
    "\n",
    "# Affichage du graphique\n",
    "#fig.show()"
   ]
  },
  {
   "cell_type": "code",
   "execution_count": null,
   "metadata": {},
   "outputs": [],
   "source": [
    "#poi_count = site_df['poi'].value_counts()\n",
    "\n",
    "# Création du diagramme circulaire avec Plotly Express\n",
    "#fig = px.pie(names=poi_count.index, values=poi_count.values, title='Répartition des site touristiques')\n",
    "\n",
    "# Affichage du graphique\n",
    "#fig.show()"
   ]
  },
  {
   "cell_type": "code",
   "execution_count": null,
   "metadata": {
    "colab": {
     "base_uri": "https://localhost:8080/"
    },
    "id": "1J6b1cMhuHNH",
    "outputId": "baf5f204-8959-4f45-bc8b-3c1a8d9517a2"
   },
   "outputs": [],
   "source": [
    "# 0 DOUBLONS !\n",
    "site_df.duplicated().sum()#.drop_duplicates()"
   ]
  },
  {
   "cell_type": "code",
   "execution_count": null,
   "metadata": {
    "colab": {
     "base_uri": "https://localhost:8080/"
    },
    "id": "-kyoewgemu1T",
    "outputId": "8781661e-898b-4a49-ca48-bee10b427668"
   },
   "outputs": [],
   "source": [
    "site_df.info()\n",
    "site_df.isnull().sum()"
   ]
  },
  {
   "cell_type": "markdown",
   "metadata": {
    "id": "Qhf-qyfBrBrU",
    "jp-MarkdownHeadingCollapsed": true
   },
   "source": [
    "#### DF SALARY"
   ]
  },
  {
   "cell_type": "code",
   "execution_count": null,
   "metadata": {
    "colab": {
     "base_uri": "https://localhost:8080/",
     "height": 206
    },
    "id": "FEYaHGx1sEtE",
    "outputId": "8f67eeb8-ad26-44d0-8a42-d407d3b95a44"
   },
   "outputs": [],
   "source": [
    "salary_df.head() # DATA CLEAN"
   ]
  },
  {
   "cell_type": "code",
   "execution_count": null,
   "metadata": {},
   "outputs": [],
   "source": [
    "salary_df[\"year\"].unique()"
   ]
  },
  {
   "cell_type": "code",
   "execution_count": null,
   "metadata": {
    "colab": {
     "base_uri": "https://localhost:8080/"
    },
    "id": "64kWCKLQubiU",
    "outputId": "eb52c6be-4cd2-4081-af9c-be283d421f54"
   },
   "outputs": [],
   "source": [
    "# 0 DOUBLONS !\n",
    "salary_df.duplicated().sum()#.drop_duplicates()"
   ]
  },
  {
   "cell_type": "code",
   "execution_count": null,
   "metadata": {
    "colab": {
     "base_uri": "https://localhost:8080/"
    },
    "id": "qM_4-Zu0mw9p",
    "outputId": "44cfb15e-adec-441a-cd94-67eb1350ba76"
   },
   "outputs": [],
   "source": [
    "salary_df.info()\n",
    "salary_df.isnull().sum()"
   ]
  },
  {
   "cell_type": "markdown",
   "metadata": {
    "id": "WUbRvCbWrC-g"
   },
   "source": [
    "#### DF GEO REF"
   ]
  },
  {
   "cell_type": "code",
   "execution_count": null,
   "metadata": {
    "colab": {
     "base_uri": "https://localhost:8080/",
     "height": 223
    },
    "id": "_2p7_rZ8uj47",
    "outputId": "9cea2377-d9d3-4cba-e756-c7f2f82d907e"
   },
   "outputs": [],
   "source": [
    "georef_df.head()"
   ]
  },
  {
   "cell_type": "code",
   "execution_count": null,
   "metadata": {},
   "outputs": [],
   "source": [
    "georef_df[\"municipality_type\"].unique()"
   ]
  },
  {
   "cell_type": "code",
   "execution_count": null,
   "metadata": {
    "colab": {
     "base_uri": "https://localhost:8080/"
    },
    "id": "M78cdijhugSa",
    "outputId": "4c42ce6f-92dd-46e6-c540-ab684d67e3f0"
   },
   "outputs": [],
   "source": [
    "# 0 DOUBLONS !\n",
    "georef_df.duplicated().sum()#.drop_duplicates()"
   ]
  },
  {
   "cell_type": "code",
   "execution_count": null,
   "metadata": {
    "colab": {
     "base_uri": "https://localhost:8080/"
    },
    "id": "FMV4GpB6mzN5",
    "outputId": "04e1bbc5-7ffe-489a-cdcf-0bdb37892b6f"
   },
   "outputs": [],
   "source": [
    "georef_df.info()\n",
    "georef_df.isnull().sum()"
   ]
  },
  {
   "cell_type": "markdown",
   "metadata": {
    "id": "IaW8clyJrE7k"
   },
   "source": [
    "#### DF STOCK"
   ]
  },
  {
   "cell_type": "code",
   "execution_count": 3,
   "metadata": {
    "colab": {
     "base_uri": "https://localhost:8080/",
     "height": 226
    },
    "id": "njys3auJup3t",
    "outputId": "ae3875b7-ea44-43f8-9ada-ecc1357b03e7"
   },
   "outputs": [
    {
     "data": {
      "text/html": [
       "<div>\n",
       "<style scoped>\n",
       "    .dataframe tbody tr th:only-of-type {\n",
       "        vertical-align: middle;\n",
       "    }\n",
       "\n",
       "    .dataframe tbody tr th {\n",
       "        vertical-align: top;\n",
       "    }\n",
       "\n",
       "    .dataframe thead th {\n",
       "        text-align: right;\n",
       "    }\n",
       "</style>\n",
       "<table border=\"1\" class=\"dataframe\">\n",
       "  <thead>\n",
       "    <tr style=\"text-align: right;\">\n",
       "      <th></th>\n",
       "      <th>municipality_code</th>\n",
       "      <th>year</th>\n",
       "      <th>nb_principal_home</th>\n",
       "      <th>nb_second_home</th>\n",
       "      <th>nb_vacants_housing</th>\n",
       "      <th>nb_tot_housing</th>\n",
       "      <th>secondary_home_rate</th>\n",
       "      <th>principal_home_rate</th>\n",
       "      <th>vacants_housing_rate</th>\n",
       "    </tr>\n",
       "  </thead>\n",
       "  <tbody>\n",
       "    <tr>\n",
       "      <th>0</th>\n",
       "      <td>01339</td>\n",
       "      <td>1968</td>\n",
       "      <td>109</td>\n",
       "      <td>155</td>\n",
       "      <td>0</td>\n",
       "      <td>264</td>\n",
       "      <td>0.587121</td>\n",
       "      <td>0.412879</td>\n",
       "      <td>0.0</td>\n",
       "    </tr>\n",
       "    <tr>\n",
       "      <th>1</th>\n",
       "      <td>02368</td>\n",
       "      <td>1968</td>\n",
       "      <td>132</td>\n",
       "      <td>56</td>\n",
       "      <td>0</td>\n",
       "      <td>188</td>\n",
       "      <td>0.297872</td>\n",
       "      <td>0.702128</td>\n",
       "      <td>0.0</td>\n",
       "    </tr>\n",
       "    <tr>\n",
       "      <th>2</th>\n",
       "      <td>04073</td>\n",
       "      <td>1968</td>\n",
       "      <td>134</td>\n",
       "      <td>93</td>\n",
       "      <td>0</td>\n",
       "      <td>227</td>\n",
       "      <td>0.409692</td>\n",
       "      <td>0.590308</td>\n",
       "      <td>0.0</td>\n",
       "    </tr>\n",
       "    <tr>\n",
       "      <th>3</th>\n",
       "      <td>04148</td>\n",
       "      <td>1968</td>\n",
       "      <td>42</td>\n",
       "      <td>93</td>\n",
       "      <td>0</td>\n",
       "      <td>135</td>\n",
       "      <td>0.688889</td>\n",
       "      <td>0.311111</td>\n",
       "      <td>0.0</td>\n",
       "    </tr>\n",
       "    <tr>\n",
       "      <th>4</th>\n",
       "      <td>05012</td>\n",
       "      <td>1968</td>\n",
       "      <td>70</td>\n",
       "      <td>53</td>\n",
       "      <td>0</td>\n",
       "      <td>123</td>\n",
       "      <td>0.430894</td>\n",
       "      <td>0.569106</td>\n",
       "      <td>0.0</td>\n",
       "    </tr>\n",
       "  </tbody>\n",
       "</table>\n",
       "</div>"
      ],
      "text/plain": [
       "  municipality_code  year  nb_principal_home  nb_second_home  \\\n",
       "0             01339  1968                109             155   \n",
       "1             02368  1968                132              56   \n",
       "2             04073  1968                134              93   \n",
       "3             04148  1968                 42              93   \n",
       "4             05012  1968                 70              53   \n",
       "\n",
       "   nb_vacants_housing  nb_tot_housing  secondary_home_rate  \\\n",
       "0                   0             264             0.587121   \n",
       "1                   0             188             0.297872   \n",
       "2                   0             227             0.409692   \n",
       "3                   0             135             0.688889   \n",
       "4                   0             123             0.430894   \n",
       "\n",
       "   principal_home_rate  vacants_housing_rate  \n",
       "0             0.412879                   0.0  \n",
       "1             0.702128                   0.0  \n",
       "2             0.590308                   0.0  \n",
       "3             0.311111                   0.0  \n",
       "4             0.569106                   0.0  "
      ]
     },
     "execution_count": 3,
     "metadata": {},
     "output_type": "execute_result"
    }
   ],
   "source": [
    "stock_df.head() #drop de int64_field_0"
   ]
  },
  {
   "cell_type": "code",
   "execution_count": 2,
   "metadata": {},
   "outputs": [
    {
     "data": {
      "text/plain": [
       "array([1968, 1975, 1982, 1990, 1999, 2008, 2013, 2018])"
      ]
     },
     "execution_count": 2,
     "metadata": {},
     "output_type": "execute_result"
    }
   ],
   "source": [
    "stock_df[\"year\"].unique()"
   ]
  },
  {
   "cell_type": "code",
   "execution_count": null,
   "metadata": {
    "colab": {
     "base_uri": "https://localhost:8080/"
    },
    "id": "0-yVCE8tutUF",
    "outputId": "5bac2a26-b519-4cde-fc52-7a1de62a0a78"
   },
   "outputs": [],
   "source": [
    "# 0 DOUBLONS !\n",
    "stock_df.duplicated().sum()#.drop_duplicates()"
   ]
  },
  {
   "cell_type": "code",
   "execution_count": null,
   "metadata": {
    "colab": {
     "base_uri": "https://localhost:8080/"
    },
    "id": "tkk4UPmPm09S",
    "outputId": "a1e7ca86-7c93-4dc7-c720-06136566d318"
   },
   "outputs": [],
   "source": [
    "stock_df.info() # supprimer la colonne int64_field-0\n",
    "stock_df.isnull().sum()"
   ]
  },
  {
   "cell_type": "markdown",
   "metadata": {
    "id": "gHemM-SqrGyN",
    "jp-MarkdownHeadingCollapsed": true
   },
   "source": [
    "#### DF SALES"
   ]
  },
  {
   "cell_type": "code",
   "execution_count": null,
   "metadata": {
    "colab": {
     "base_uri": "https://localhost:8080/",
     "height": 347
    },
    "id": "9XvrqhEJ5sDJ",
    "outputId": "e16a5afe-a12d-418b-de39-aae038d4e482"
   },
   "outputs": [],
   "source": [
    "sales_df.head()"
   ]
  },
  {
   "cell_type": "code",
   "execution_count": null,
   "metadata": {
    "colab": {
     "base_uri": "https://localhost:8080/"
    },
    "id": "76YsgU_RppM_",
    "outputId": "c5700ce8-b9f1-4a50-c27c-f5052aff0661"
   },
   "outputs": [],
   "source": [
    "# 510 211 DOUBLONS !\n",
    "sales_df.duplicated().sum()#.drop_duplicates()"
   ]
  },
  {
   "cell_type": "code",
   "execution_count": null,
   "metadata": {},
   "outputs": [],
   "source": [
    "s = (sales_df['sales_amount']\n",
    "             .value_counts()\n",
    "             .loc[sales_df['sales_amount'].value_counts() > 10])"
   ]
  },
  {
   "cell_type": "code",
   "execution_count": null,
   "metadata": {},
   "outputs": [],
   "source": [
    "s.index = s.index.astype(int)\n",
    "s.loc[(s.index % 10) != 0]"
   ]
  },
  {
   "cell_type": "code",
   "execution_count": null,
   "metadata": {},
   "outputs": [],
   "source": [
    "s.plot"
   ]
  },
  {
   "cell_type": "code",
   "execution_count": null,
   "metadata": {},
   "outputs": [],
   "source": [
    "sales_df['sales_amount'].value_counts().loc[sales_df['sales_amount'].value_counts() > 10] #[220623264]#sort_values(ascending=True).astype(int)"
   ]
  },
  {
   "cell_type": "code",
   "execution_count": null,
   "metadata": {
    "colab": {
     "base_uri": "https://localhost:8080/"
    },
    "id": "5fKz0xVWm3kr",
    "outputId": "af8268e0-25da-417e-cd6f-bcb2fe81a95b"
   },
   "outputs": [],
   "source": [
    "sales_df.info(), #il manque des latitude et longitude\n",
    "sales_df.isnull().sum()"
   ]
  },
  {
   "cell_type": "markdown",
   "metadata": {
    "id": "wDh1nf-1rIgb",
    "jp-MarkdownHeadingCollapsed": true
   },
   "source": [
    "#### DF POPULATION"
   ]
  },
  {
   "cell_type": "code",
   "execution_count": null,
   "metadata": {
    "colab": {
     "base_uri": "https://localhost:8080/",
     "height": 206
    },
    "id": "bY14TYfkvQlg",
    "outputId": "39a20308-1ae5-4f01-9325-09cb1fd63427"
   },
   "outputs": [],
   "source": [
    "population_df.head()"
   ]
  },
  {
   "cell_type": "code",
   "execution_count": null,
   "metadata": {},
   "outputs": [],
   "source": [
    "population_df[\"year\"].unique()"
   ]
  },
  {
   "cell_type": "code",
   "execution_count": null,
   "metadata": {
    "colab": {
     "base_uri": "https://localhost:8080/",
     "height": 203
    },
    "id": "I-pMVeWxvYwq",
    "outputId": "03fafca2-5cc8-4599-bc15-ba6378f2ce82"
   },
   "outputs": [],
   "source": [
    "# ??? DOUBLONS !\n",
    "population_df.duplicated().sum"
   ]
  },
  {
   "cell_type": "code",
   "execution_count": null,
   "metadata": {
    "colab": {
     "base_uri": "https://localhost:8080/"
    },
    "id": "QuhJaqpqpwYZ",
    "outputId": "41ff04cd-5e69-4e4f-a496-dea697524b58"
   },
   "outputs": [],
   "source": [
    "population_df.info() #colonne YEAR en format INT64\n",
    "population_df.isnull().sum()"
   ]
  },
  {
   "cell_type": "markdown",
   "metadata": {
    "id": "DEROdiJirK6M",
    "jp-MarkdownHeadingCollapsed": true
   },
   "source": [
    "#### DF POVERTY"
   ]
  },
  {
   "cell_type": "code",
   "execution_count": null,
   "metadata": {
    "colab": {
     "base_uri": "https://localhost:8080/",
     "height": 206
    },
    "id": "ysfKTf87vxlT",
    "outputId": "e80b23d1-1167-4868-df83-7c2d278f823b"
   },
   "outputs": [],
   "source": [
    "poverty_df.head()"
   ]
  },
  {
   "cell_type": "code",
   "execution_count": null,
   "metadata": {},
   "outputs": [],
   "source": [
    "poverty_df[\"year\"].unique()"
   ]
  },
  {
   "cell_type": "code",
   "execution_count": null,
   "metadata": {
    "colab": {
     "base_uri": "https://localhost:8080/"
    },
    "id": "H568HRtBv0YC",
    "outputId": "00e3d08f-98bc-4dec-a905-06b945af9c94"
   },
   "outputs": [],
   "source": [
    "# 0 DOUBLONS !\n",
    "poverty_df.duplicated().sum()"
   ]
  },
  {
   "cell_type": "code",
   "execution_count": null,
   "metadata": {
    "colab": {
     "base_uri": "https://localhost:8080/"
    },
    "id": "DPtRin_Rp-SY",
    "outputId": "90b33d08-6cc5-4442-eeed-2d1153dc9158"
   },
   "outputs": [],
   "source": [
    "poverty_df.info() # YEAR est en type INT64 et non DATE\n",
    "poverty_df.isnull().sum()"
   ]
  },
  {
   "cell_type": "markdown",
   "metadata": {
    "id": "-pWIMamvrMgo",
    "jp-MarkdownHeadingCollapsed": true
   },
   "source": [
    "#### DF REAL ESTATE"
   ]
  },
  {
   "cell_type": "code",
   "execution_count": 2,
   "metadata": {
    "colab": {
     "base_uri": "https://localhost:8080/",
     "height": 226
    },
    "id": "Y-1qNGC0wj4k",
    "outputId": "1aa9db77-4da4-4e12-c2ec-180e2b39ce46"
   },
   "outputs": [
    {
     "data": {
      "text/html": [
       "<div>\n",
       "<style scoped>\n",
       "    .dataframe tbody tr th:only-of-type {\n",
       "        vertical-align: middle;\n",
       "    }\n",
       "\n",
       "    .dataframe tbody tr th {\n",
       "        vertical-align: top;\n",
       "    }\n",
       "\n",
       "    .dataframe thead th {\n",
       "        text-align: right;\n",
       "    }\n",
       "</style>\n",
       "<table border=\"1\" class=\"dataframe\">\n",
       "  <thead>\n",
       "    <tr style=\"text-align: right;\">\n",
       "      <th></th>\n",
       "      <th>municipality_code</th>\n",
       "      <th>intensite_tension_immo</th>\n",
       "      <th>rental_max_apartment</th>\n",
       "      <th>rental_min_apartment</th>\n",
       "      <th>rental_med_house</th>\n",
       "      <th>rental_max_house</th>\n",
       "      <th>rental_min_house</th>\n",
       "      <th>rental_med_all</th>\n",
       "      <th>rental_max_all</th>\n",
       "      <th>rental_min_all</th>\n",
       "    </tr>\n",
       "  </thead>\n",
       "  <tbody>\n",
       "    <tr>\n",
       "      <th>0</th>\n",
       "      <td>57133</td>\n",
       "      <td>8</td>\n",
       "      <td>12.27</td>\n",
       "      <td>9.07</td>\n",
       "      <td>9.19</td>\n",
       "      <td>14.45</td>\n",
       "      <td>6.64</td>\n",
       "      <td>9.53</td>\n",
       "      <td>13.77</td>\n",
       "      <td>7.25</td>\n",
       "    </tr>\n",
       "    <tr>\n",
       "      <th>1</th>\n",
       "      <td>57446</td>\n",
       "      <td>8</td>\n",
       "      <td>18.22</td>\n",
       "      <td>7.69</td>\n",
       "      <td>10.92</td>\n",
       "      <td>14.16</td>\n",
       "      <td>7.77</td>\n",
       "      <td>11.09</td>\n",
       "      <td>15.97</td>\n",
       "      <td>7.73</td>\n",
       "    </tr>\n",
       "    <tr>\n",
       "      <th>2</th>\n",
       "      <td>77013</td>\n",
       "      <td>9</td>\n",
       "      <td>18.30</td>\n",
       "      <td>8.39</td>\n",
       "      <td>12.20</td>\n",
       "      <td>16.71</td>\n",
       "      <td>9.21</td>\n",
       "      <td>12.26</td>\n",
       "      <td>16.75</td>\n",
       "      <td>9.19</td>\n",
       "    </tr>\n",
       "    <tr>\n",
       "      <th>3</th>\n",
       "      <td>77026</td>\n",
       "      <td>9</td>\n",
       "      <td>15.76</td>\n",
       "      <td>6.28</td>\n",
       "      <td>9.51</td>\n",
       "      <td>13.20</td>\n",
       "      <td>7.04</td>\n",
       "      <td>9.53</td>\n",
       "      <td>13.23</td>\n",
       "      <td>7.03</td>\n",
       "    </tr>\n",
       "    <tr>\n",
       "      <th>4</th>\n",
       "      <td>77072</td>\n",
       "      <td>9</td>\n",
       "      <td>17.50</td>\n",
       "      <td>7.69</td>\n",
       "      <td>11.47</td>\n",
       "      <td>15.75</td>\n",
       "      <td>8.21</td>\n",
       "      <td>11.47</td>\n",
       "      <td>15.75</td>\n",
       "      <td>8.21</td>\n",
       "    </tr>\n",
       "  </tbody>\n",
       "</table>\n",
       "</div>"
      ],
      "text/plain": [
       "  municipality_code  intensite_tension_immo  rental_max_apartment  \\\n",
       "0             57133                       8                 12.27   \n",
       "1             57446                       8                 18.22   \n",
       "2             77013                       9                 18.30   \n",
       "3             77026                       9                 15.76   \n",
       "4             77072                       9                 17.50   \n",
       "\n",
       "   rental_min_apartment  rental_med_house  rental_max_house  rental_min_house  \\\n",
       "0                  9.07              9.19             14.45              6.64   \n",
       "1                  7.69             10.92             14.16              7.77   \n",
       "2                  8.39             12.20             16.71              9.21   \n",
       "3                  6.28              9.51             13.20              7.04   \n",
       "4                  7.69             11.47             15.75              8.21   \n",
       "\n",
       "   rental_med_all  rental_max_all  rental_min_all  \n",
       "0            9.53           13.77            7.25  \n",
       "1           11.09           15.97            7.73  \n",
       "2           12.26           16.75            9.19  \n",
       "3            9.53           13.23            7.03  \n",
       "4           11.47           15.75            8.21  "
      ]
     },
     "execution_count": 2,
     "metadata": {},
     "output_type": "execute_result"
    }
   ],
   "source": [
    "real_estate_df.head()"
   ]
  },
  {
   "cell_type": "code",
   "execution_count": null,
   "metadata": {
    "colab": {
     "base_uri": "https://localhost:8080/"
    },
    "id": "hdA8Zaqzw033",
    "outputId": "35e8873a-e995-4d99-ae66-6d4c7c87e0d0"
   },
   "outputs": [],
   "source": [
    "# 0 DOUBLONS !\n",
    "real_estate_df.duplicated().sum()"
   ]
  },
  {
   "cell_type": "code",
   "execution_count": null,
   "metadata": {
    "colab": {
     "base_uri": "https://localhost:8080/"
    },
    "id": "NQ4oOzPMqQ8Y",
    "outputId": "d7e1ec7d-0343-4727-be4b-0ba17a623226"
   },
   "outputs": [],
   "source": [
    "real_estate_df.info()\n",
    "real_estate_df.isnull().sum()"
   ]
  },
  {
   "cell_type": "markdown",
   "metadata": {
    "id": "i0j9hJqlFaEc"
   },
   "source": [
    "# 🧹 **DATA CLEANING**"
   ]
  },
  {
   "cell_type": "markdown",
   "metadata": {
    "id": "FZ-ON4l9sVwu"
   },
   "source": [
    "### CLEANING"
   ]
  },
  {
   "cell_type": "markdown",
   "metadata": {
    "id": "FZ-ON4l9sVwu"
   },
   "source": [
    "##### DF_SALES CLEANING"
   ]
  },
  {
   "cell_type": "code",
   "execution_count": null,
   "metadata": {
    "id": "FclUrSzCGdSX"
   },
   "outputs": [],
   "source": [
    "# SALES_DF: Suppression des doublons > nous passons de 4,3M de lignes à 3,821M\n",
    "sales_df = sales_df.drop_duplicates()\n",
    "sales_df.shape"
   ]
  },
  {
   "cell_type": "code",
   "execution_count": null,
   "metadata": {},
   "outputs": [],
   "source": [
    "# SALES_DF: Check si les doublons on été enlevés : OK\n",
    "sales_df.duplicated().sum()"
   ]
  },
  {
   "cell_type": "code",
   "execution_count": null,
   "metadata": {},
   "outputs": [],
   "source": [
    "# SALES_DF: Suppression des prix au m2 supérieur à 30K€ et inférieur à 1K€ > nous passons à 3,3399M de lignes\n",
    "sales_df = sales_df[(sales_df['sales_price_m2'] <= 30000) & (sales_df['sales_price_m2'] >= 1000)]\n",
    "sales_df.shape"
   ]
  },
  {
   "cell_type": "code",
   "execution_count": null,
   "metadata": {},
   "outputs": [],
   "source": [
    "# SALES_DF:\n",
    "s2 = (sales_df['sales_amount']\n",
    "             .value_counts()\n",
    "             .loc[sales_df['sales_amount'].value_counts() > 10])"
   ]
  },
  {
   "cell_type": "code",
   "execution_count": null,
   "metadata": {
    "scrolled": true
   },
   "outputs": [],
   "source": [
    "# SALES_DF:\n",
    "s2.index = s2.index.astype(int)\n",
    "s2.loc[(s2.index % 10) != 0]"
   ]
  },
  {
   "cell_type": "code",
   "execution_count": null,
   "metadata": {},
   "outputs": [],
   "source": [
    "# SALES_DF:\n",
    "sales_df = sales_df[sales_df['sales_amount'] > 1] # on enlève les 166 fois ou sales_amount = 1€\n",
    "sales_df.shape"
   ]
  },
  {
   "cell_type": "code",
   "execution_count": null,
   "metadata": {},
   "outputs": [],
   "source": [
    "# SALES_DF: changement du type sales_date en datetime\n",
    "sales_df['sales_date'] = pd.to_datetime(sales_df['sales_date'])\n",
    "sales_df.info()"
   ]
  },
  {
   "cell_type": "code",
   "execution_count": null,
   "metadata": {},
   "outputs": [],
   "source": [
    "# SALES_DF: Création de l'histogramme avec Plotly Express\n",
    "#fig = px.histogram(sales_df, x='sales_price_m2', nbins=700, title='Distribution de sales_price_m2')\n",
    "\n",
    "# SALES_DF: Affichage du graphique\n",
    "#fig.show()"
   ]
  },
  {
   "cell_type": "code",
   "execution_count": null,
   "metadata": {},
   "outputs": [],
   "source": [
    "# SALES_DF: Création de l'histogramme avec Plotly Express\n",
    "#fig = px.histogram(sales_df, x='sales_amount', nbins=400, title='Distribution de sales')\n",
    "\n",
    "# SALES_DF: Affichage du graphique\n",
    "#fig.show()"
   ]
  },
  {
   "cell_type": "markdown",
   "metadata": {
    "id": "XYnKDVU0sb0S",
    "jp-MarkdownHeadingCollapsed": true
   },
   "source": [
    "##### DF_SALARY CLEANING"
   ]
  },
  {
   "cell_type": "code",
   "execution_count": null,
   "metadata": {},
   "outputs": [],
   "source": [
    "# DF_SALARY: ROUND avg_net_salary\n",
    "salary_df['avg_net_salary'] = salary_df['avg_net_salary'].round()\n",
    "salary_df.head()"
   ]
  },
  {
   "cell_type": "markdown",
   "metadata": {
    "id": "XYnKDVU0sb0S",
    "jp-MarkdownHeadingCollapsed": true
   },
   "source": [
    "##### DF_REAL_ESTATE CLEANING"
   ]
  },
  {
   "cell_type": "code",
   "execution_count": null,
   "metadata": {},
   "outputs": [],
   "source": [
    "# DF_REAL_ESTATE: suppression des nulls\n",
    "real_estate_df = real_estate_df.dropna(axis=1)\n",
    "real_estate_df.isnull().sum()"
   ]
  },
  {
   "cell_type": "markdown",
   "metadata": {
    "id": "XYnKDVU0sb0S",
    "jp-MarkdownHeadingCollapsed": true
   },
   "source": [
    "##### DF_SITE CLEANING"
   ]
  },
  {
   "cell_type": "code",
   "execution_count": null,
   "metadata": {},
   "outputs": [],
   "source": [
    "# SITE_DF: tri avec les données entre parenthèses de la colonne \"name\" inclues\n",
    "\n",
    "import re\n",
    "\n",
    "site_df['data_inside_parenthesis'] = site_df['name'].apply(lambda x: re.search(r'\\((.*?)\\)', x).group(1) if re.search(r'\\((.*?)\\)', x) else '')\n",
    "site_df\n",
    "\n",
    "#suppression de la colonne \"name\" dans un second temps\n",
    "\n",
    "site_df.drop(columns=[\"name\"])\n",
    "\n",
    "#check pour savoir les informations présentes dans la colonne \"poi\", et si elles correspondent aux valeurs présentes dans la colonne \"type\"\n",
    "print (site_df[\"poi\"].value_counts())\n",
    "print (site_df[\"data_inside_parenthesis\"].value_counts().head(50))\n",
    "\n",
    "#faire un mapping des colonnes poi, qui sont en fait plus pertinentes que celles de la colonne \"type\""
   ]
  },
  {
   "cell_type": "code",
   "execution_count": null,
   "metadata": {},
   "outputs": [],
   "source": [
    "# SITE_DF: création d'un dictionnaire intégrant toutes les différentes valeurs inclues dans la colonne \"poi\"\n",
    "s = site_df[\"poi\"].value_counts()[site_df[\"poi\"]]\n",
    "{k: \"toto\" for k in s.index}"
   ]
  },
  {
   "cell_type": "code",
   "execution_count": null,
   "metadata": {},
   "outputs": [],
   "source": [
    "# SITE_DF: création d'un dictionnaire avec les catégories associées aux valeurs de la colonne POI\n",
    "\n",
    "category_dict = {'1': 'Patrimoine',\n",
    " '2': 'Patrimoine',\n",
    " 'zoo': 'Entertainment',\n",
    " 'dune': 'Nature',\n",
    " 'park': 'Nature',\n",
    " 'rock': 'Nature',\n",
    " 'sand': 'Nature',\n",
    " 'beach': 'Nature',\n",
    " 'cliff': 'Nature',\n",
    " 'islet': 'Nature',\n",
    " 'ridge': 'Nature',\n",
    " 'water': 'Nature',\n",
    " 'wreck': 'Patrimoine',\n",
    " 'casino': 'Entertainment',\n",
    " 'castle': 'Patrimoine',\n",
    " 'cinema': 'Culture',\n",
    " 'forest': 'Nature',\n",
    " 'geyser': 'Nature',\n",
    " 'marina': 'Nature',\n",
    " 'meadow': 'Nature',\n",
    " 'museum': 'Culture',\n",
    " 'valley': 'Nature',\n",
    " 'theatre': 'Culture',\n",
    " 'volcano': 'Nature',\n",
    " 'wetland': 'Nature',\n",
    " 'heritage': 'Patrimoine',\n",
    " 'monument': 'Patrimoine',\n",
    " 'vineyard': 'Nature',\n",
    " 'viewpoint': 'Nature',\n",
    " 'waterfall': 'Nature',\n",
    " 'allotments': 'Patrimoine',\n",
    " 'attraction': 'Entertainment',\n",
    " 'theme_park': 'Entertainment',\n",
    " 'water_park': 'Entertainment',\n",
    " 'golf_course': 'Entertainment',\n",
    " 'cave_entrance': 'Culture',\n",
    " 'national_park': 'Nature',\n",
    " 'protected_area': 'Nature'}"
   ]
  },
  {
   "cell_type": "code",
   "execution_count": null,
   "metadata": {},
   "outputs": [],
   "source": [
    "# SITE_DF: création de la colonne \"catégorie\"\n",
    "site_df[\"Category\"] = site_df[\"poi\"].map(category_dict)\n",
    "site_df"
   ]
  },
  {
   "cell_type": "markdown",
   "metadata": {
    "id": "XYnKDVU0sb0S",
    "jp-MarkdownHeadingCollapsed": true
   },
   "source": [
    "### CLEANED DF CHECK"
   ]
  },
  {
   "cell_type": "code",
   "execution_count": null,
   "metadata": {},
   "outputs": [],
   "source": [
    "poi_df.info()\n",
    "site_df.info()\n",
    "salary_df.info()\n",
    "georef_df.info() \n",
    "stock_df.info() \n",
    "sales_df.info()\n",
    "population_df.info() \n",
    "poverty_df.info()\n",
    "real_estate_df.info()"
   ]
  },
  {
   "cell_type": "code",
   "execution_count": null,
   "metadata": {},
   "outputs": [],
   "source": [
    "poi_df.head(1)"
   ]
  },
  {
   "cell_type": "code",
   "execution_count": null,
   "metadata": {},
   "outputs": [],
   "source": [
    "site_df.head(1) "
   ]
  },
  {
   "cell_type": "code",
   "execution_count": null,
   "metadata": {},
   "outputs": [],
   "source": [
    "salary_df.head(1)"
   ]
  },
  {
   "cell_type": "code",
   "execution_count": null,
   "metadata": {},
   "outputs": [],
   "source": [
    "georef_df.head(1) "
   ]
  },
  {
   "cell_type": "code",
   "execution_count": null,
   "metadata": {},
   "outputs": [],
   "source": [
    "stock_df.head(1) "
   ]
  },
  {
   "cell_type": "code",
   "execution_count": null,
   "metadata": {},
   "outputs": [],
   "source": [
    "sales_df.dtypes"
   ]
  },
  {
   "cell_type": "code",
   "execution_count": null,
   "metadata": {},
   "outputs": [],
   "source": [
    "population_df.head(1) "
   ]
  },
  {
   "cell_type": "code",
   "execution_count": null,
   "metadata": {},
   "outputs": [],
   "source": [
    "poverty_df.head(1)"
   ]
  },
  {
   "cell_type": "code",
   "execution_count": null,
   "metadata": {},
   "outputs": [],
   "source": [
    "real_estate_df.head(1)"
   ]
  },
  {
   "cell_type": "markdown",
   "metadata": {
    "id": "XYnKDVU0sb0S"
   },
   "source": [
    "# 🚀 **EXPORT**"
   ]
  },
  {
   "cell_type": "code",
   "execution_count": null,
   "metadata": {},
   "outputs": [],
   "source": [
    "# Chemin du dossier où les fichiers seront enregistrés\n",
    "output_folder = \"../data/cleaned\"\n",
    "\n",
    "# Assurez-vous que le dossier existe\n",
    "os.makedirs(output_folder, exist_ok=True)\n",
    "\n",
    "# Liste des DataFrames et leurs noms\n",
    "dataframes = {\n",
    "    \"poi_df\": poi_df,\n",
    "    \"site_df\": site_df,\n",
    "    \"salary_df\": salary_df,\n",
    "    \"georef_df\": georef_df,\n",
    "    \"stock_df\": stock_df,\n",
    "    \"sales_df\": sales_df,\n",
    "    \"population_df\": population_df,\n",
    "    \"poverty_df\": poverty_df,\n",
    "    \"real_estate_df\": real_estate_df\n",
    "}\n",
    "\n",
    "# Exportation des DataFrames en CSV\n",
    "for name, df in dataframes.items():\n",
    "    output_path = os.path.join(output_folder, f\"{name}_cleaned.csv\")\n",
    "    df.to_csv(output_path, index=False)\n",
    "    print(f\"DataFrame {name} exporté vers {output_path}\")"
   ]
  }
 ],
 "metadata": {
  "colab": {
   "collapsed_sections": [
    "MtiYSUHHSCws",
    "qzPmsWEUq5zk",
    "Qhf-qyfBrBrU",
    "WUbRvCbWrC-g",
    "IaW8clyJrE7k",
    "gHemM-SqrGyN",
    "wDh1nf-1rIgb",
    "DEROdiJirK6M",
    "-pWIMamvrMgo",
    "i0j9hJqlFaEc",
    "FZ-ON4l9sVwu",
    "XYnKDVU0sb0S",
    "sNX4qmi1Gdyx"
   ],
   "provenance": []
  },
  "kernelspec": {
   "display_name": "Python 3 (ipykernel)",
   "language": "python",
   "name": "python3"
  },
  "language_info": {
   "codemirror_mode": {
    "name": "ipython",
    "version": 3
   },
   "file_extension": ".py",
   "mimetype": "text/x-python",
   "name": "python",
   "nbconvert_exporter": "python",
   "pygments_lexer": "ipython3",
   "version": "3.12.4"
  }
 },
 "nbformat": 4,
 "nbformat_minor": 4
}
